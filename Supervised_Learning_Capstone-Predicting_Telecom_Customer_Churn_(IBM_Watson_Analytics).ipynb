{
  "nbformat": 4,
  "nbformat_minor": 0,
  "metadata": {
    "colab": {
      "name": "Supervised Learning Capstone: Telecom Churn Dataset (IBM Watson Analytics).ipynb",
      "provenance": [],
      "collapsed_sections": [
        "AvZ5XaDJIWzg",
        "zs275zB7uEOf",
        "WtDVBYQkpzDD",
        "bJOpe607uWCa",
        "7EBJrmXWnNTs",
        "Wa3z5Ac8XzLO",
        "rdvxYkuoZE3j",
        "VYB1UOsBUT09",
        "BBd5wGo1hIyq",
        "_3eU4hPJGPg_",
        "Xgf7OPBHse-g",
        "q_wNVn1XuQN6",
        "E3D63tSFu3hv",
        "ttFXYdW8c6GA",
        "XtknzVWL1gZA",
        "0zD9bSymkFgx",
        "SYY082d0zKTI",
        "gmfxVesj0J5D"
      ]
    },
    "kernelspec": {
      "name": "python3",
      "display_name": "Python 3"
    }
  },
  "cells": [
    {
      "cell_type": "markdown",
      "metadata": {
        "id": "AvZ5XaDJIWzg"
      },
      "source": [
        "# Introduction: Telecom Churn Dataset (IBM Watson Analytics)"
      ]
    },
    {
      "cell_type": "markdown",
      "metadata": {
        "id": "TlnprX56Idwb"
      },
      "source": [
        "Customer churn, also known as customer attrition or customer turnover, is the loss of a client or customer. Customer churn is a key business metric for many different industries; in this case telecommunications technologies. Predicting customer churn has many advantages in solidfying and maximizing customer base. This is because holding onto an existing long-term client is less costly than acquring a new client. Our predictive model could then be used to better help the customer service department select which clients are at greater risk of attrition and respond accordingly to reduce the risk of losing valued clientele.\r\n",
        "\r\n",
        "The Telecom Churn Dataset from IBM Watson Analytics is comprised of customer data and customer attrition status gained from IBM customers. Customers who have stopped doing business with IBM are listed in our target variable 'Churn' and assigned a 'Yes' value indicating customer attrition. Our goal is to create a machine learning model that will predict the target variable customer churn and test which machine learning model performs best with our data using various classification metrics."
      ]
    },
    {
      "cell_type": "code",
      "metadata": {
        "id": "bCa7zckipQ4z",
        "colab": {
          "resources": {
            "http://localhost:8080/nbextensions/google.colab/files.js": {
              "data": "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",
              "ok": true,
              "headers": [
                [
                  "content-type",
                  "application/javascript"
                ]
              ],
              "status": 200,
              "status_text": ""
            }
          },
          "base_uri": "https://localhost:8080/",
          "height": 160
        },
        "outputId": "fa41838b-a5d2-4a8e-f9df-0e3e943bb0ab"
      },
      "source": [
        "# Import necessary packages.\n",
        "%matplotlib inline\n",
        "import pandas as pd\n",
        "import numpy as np\n",
        "import seaborn as sns\n",
        "import io\n",
        "from matplotlib import pyplot as plt\n",
        "from scipy import stats\n",
        "from google.colab import files\n",
        "from sklearn.model_selection import train_test_split\n",
        "from sklearn.utils import resample\n",
        "from imblearn.over_sampling import SMOTE\n",
        "from sklearn.linear_model import LogisticRegression\n",
        "import time\n",
        "from sklearn.model_selection import cross_val_score\n",
        "from sklearn.metrics import accuracy_score, confusion_matrix, classification_report\n",
        "from sklearn.ensemble import GradientBoostingClassifier\n",
        "from sklearn.neighbors import KNeighborsClassifier\n",
        "from sklearn import svm\n",
        "from sklearn import tree\n",
        "from sklearn import ensemble\n",
        "from sklearn.feature_selection import SelectKBest, f_classif\n",
        "from sklearn.preprocessing import StandardScaler\n",
        "from sklearn.decomposition import PCA\n",
        "from sklearn.model_selection import GridSearchCV\n",
        "import warnings\n",
        "\n",
        "# Suppress warnings.\n",
        "warnings.filterwarnings(\"ignore\")\n",
        "\n",
        "# Upload and import our Excel data.\n",
        "uploaded = files.upload()"
      ],
      "execution_count": 1,
      "outputs": [
        {
          "output_type": "stream",
          "text": [
            "/usr/local/lib/python3.6/dist-packages/sklearn/externals/six.py:31: FutureWarning: The module is deprecated in version 0.21 and will be removed in version 0.23 since we've dropped support for Python 2.7. Please rely on the official version of six (https://pypi.org/project/six/).\n",
            "  \"(https://pypi.org/project/six/).\", FutureWarning)\n",
            "/usr/local/lib/python3.6/dist-packages/sklearn/utils/deprecation.py:144: FutureWarning: The sklearn.neighbors.base module is  deprecated in version 0.22 and will be removed in version 0.24. The corresponding classes / functions should instead be imported from sklearn.neighbors. Anything that cannot be imported from sklearn.neighbors is now part of the private API.\n",
            "  warnings.warn(message, FutureWarning)\n"
          ],
          "name": "stderr"
        },
        {
          "output_type": "display_data",
          "data": {
            "text/html": [
              "\n",
              "     <input type=\"file\" id=\"files-c0bbcfc3-1aec-4e86-8b44-869717239938\" name=\"files[]\" multiple disabled\n",
              "        style=\"border:none\" />\n",
              "     <output id=\"result-c0bbcfc3-1aec-4e86-8b44-869717239938\">\n",
              "      Upload widget is only available when the cell has been executed in the\n",
              "      current browser session. Please rerun this cell to enable.\n",
              "      </output>\n",
              "      <script src=\"/nbextensions/google.colab/files.js\"></script> "
            ],
            "text/plain": [
              "<IPython.core.display.HTML object>"
            ]
          },
          "metadata": {
            "tags": []
          }
        },
        {
          "output_type": "stream",
          "text": [
            "Saving WA_Fn-UseC_-Telco-Customer-Churn.xlsx to WA_Fn-UseC_-Telco-Customer-Churn.xlsx\n"
          ],
          "name": "stdout"
        }
      ]
    },
    {
      "cell_type": "code",
      "metadata": {
        "id": "TpLZTWKNqOux",
        "colab": {
          "base_uri": "https://localhost:8080/",
          "height": 592
        },
        "outputId": "7b7f0cfd-9499-4b51-bcd6-ee58424c5505"
      },
      "source": [
        "# Dataset is now stored in a Pandas Dataframe by using Pandas read_excel input function.\n",
        "df = pd.read_excel(io.BytesIO(uploaded['WA_Fn-UseC_-Telco-Customer-Churn.xlsx']))\n",
        "\n",
        "pd.read_excel('WA_Fn-UseC_-Telco-Customer-Churn.xlsx')"
      ],
      "execution_count": 2,
      "outputs": [
        {
          "output_type": "execute_result",
          "data": {
            "text/html": [
              "<div>\n",
              "<style scoped>\n",
              "    .dataframe tbody tr th:only-of-type {\n",
              "        vertical-align: middle;\n",
              "    }\n",
              "\n",
              "    .dataframe tbody tr th {\n",
              "        vertical-align: top;\n",
              "    }\n",
              "\n",
              "    .dataframe thead th {\n",
              "        text-align: right;\n",
              "    }\n",
              "</style>\n",
              "<table border=\"1\" class=\"dataframe\">\n",
              "  <thead>\n",
              "    <tr style=\"text-align: right;\">\n",
              "      <th></th>\n",
              "      <th>customerID</th>\n",
              "      <th>gender</th>\n",
              "      <th>SeniorCitizen</th>\n",
              "      <th>Partner</th>\n",
              "      <th>Dependents</th>\n",
              "      <th>tenure</th>\n",
              "      <th>PhoneService</th>\n",
              "      <th>MultipleLines</th>\n",
              "      <th>InternetService</th>\n",
              "      <th>OnlineSecurity</th>\n",
              "      <th>OnlineBackup</th>\n",
              "      <th>DeviceProtection</th>\n",
              "      <th>TechSupport</th>\n",
              "      <th>StreamingTV</th>\n",
              "      <th>StreamingMovies</th>\n",
              "      <th>Contract</th>\n",
              "      <th>PaperlessBilling</th>\n",
              "      <th>PaymentMethod</th>\n",
              "      <th>MonthlyCharges</th>\n",
              "      <th>TotalCharges</th>\n",
              "      <th>Churn</th>\n",
              "    </tr>\n",
              "  </thead>\n",
              "  <tbody>\n",
              "    <tr>\n",
              "      <th>0</th>\n",
              "      <td>7590-VHVEG</td>\n",
              "      <td>Female</td>\n",
              "      <td>0</td>\n",
              "      <td>Yes</td>\n",
              "      <td>No</td>\n",
              "      <td>1</td>\n",
              "      <td>No</td>\n",
              "      <td>No phone service</td>\n",
              "      <td>DSL</td>\n",
              "      <td>No</td>\n",
              "      <td>Yes</td>\n",
              "      <td>No</td>\n",
              "      <td>No</td>\n",
              "      <td>No</td>\n",
              "      <td>No</td>\n",
              "      <td>Month-to-month</td>\n",
              "      <td>Yes</td>\n",
              "      <td>Electronic check</td>\n",
              "      <td>29.85</td>\n",
              "      <td>29.85</td>\n",
              "      <td>No</td>\n",
              "    </tr>\n",
              "    <tr>\n",
              "      <th>1</th>\n",
              "      <td>5575-GNVDE</td>\n",
              "      <td>Male</td>\n",
              "      <td>0</td>\n",
              "      <td>No</td>\n",
              "      <td>No</td>\n",
              "      <td>34</td>\n",
              "      <td>Yes</td>\n",
              "      <td>No</td>\n",
              "      <td>DSL</td>\n",
              "      <td>Yes</td>\n",
              "      <td>No</td>\n",
              "      <td>Yes</td>\n",
              "      <td>No</td>\n",
              "      <td>No</td>\n",
              "      <td>No</td>\n",
              "      <td>One year</td>\n",
              "      <td>No</td>\n",
              "      <td>Mailed check</td>\n",
              "      <td>56.95</td>\n",
              "      <td>1889.5</td>\n",
              "      <td>No</td>\n",
              "    </tr>\n",
              "    <tr>\n",
              "      <th>2</th>\n",
              "      <td>3668-QPYBK</td>\n",
              "      <td>Male</td>\n",
              "      <td>0</td>\n",
              "      <td>No</td>\n",
              "      <td>No</td>\n",
              "      <td>2</td>\n",
              "      <td>Yes</td>\n",
              "      <td>No</td>\n",
              "      <td>DSL</td>\n",
              "      <td>Yes</td>\n",
              "      <td>Yes</td>\n",
              "      <td>No</td>\n",
              "      <td>No</td>\n",
              "      <td>No</td>\n",
              "      <td>No</td>\n",
              "      <td>Month-to-month</td>\n",
              "      <td>Yes</td>\n",
              "      <td>Mailed check</td>\n",
              "      <td>53.85</td>\n",
              "      <td>108.15</td>\n",
              "      <td>Yes</td>\n",
              "    </tr>\n",
              "    <tr>\n",
              "      <th>3</th>\n",
              "      <td>7795-CFOCW</td>\n",
              "      <td>Male</td>\n",
              "      <td>0</td>\n",
              "      <td>No</td>\n",
              "      <td>No</td>\n",
              "      <td>45</td>\n",
              "      <td>No</td>\n",
              "      <td>No phone service</td>\n",
              "      <td>DSL</td>\n",
              "      <td>Yes</td>\n",
              "      <td>No</td>\n",
              "      <td>Yes</td>\n",
              "      <td>Yes</td>\n",
              "      <td>No</td>\n",
              "      <td>No</td>\n",
              "      <td>One year</td>\n",
              "      <td>No</td>\n",
              "      <td>Bank transfer (automatic)</td>\n",
              "      <td>42.30</td>\n",
              "      <td>1840.75</td>\n",
              "      <td>No</td>\n",
              "    </tr>\n",
              "    <tr>\n",
              "      <th>4</th>\n",
              "      <td>9237-HQITU</td>\n",
              "      <td>Female</td>\n",
              "      <td>0</td>\n",
              "      <td>No</td>\n",
              "      <td>No</td>\n",
              "      <td>2</td>\n",
              "      <td>Yes</td>\n",
              "      <td>No</td>\n",
              "      <td>Fiber optic</td>\n",
              "      <td>No</td>\n",
              "      <td>No</td>\n",
              "      <td>No</td>\n",
              "      <td>No</td>\n",
              "      <td>No</td>\n",
              "      <td>No</td>\n",
              "      <td>Month-to-month</td>\n",
              "      <td>Yes</td>\n",
              "      <td>Electronic check</td>\n",
              "      <td>70.70</td>\n",
              "      <td>151.65</td>\n",
              "      <td>Yes</td>\n",
              "    </tr>\n",
              "    <tr>\n",
              "      <th>...</th>\n",
              "      <td>...</td>\n",
              "      <td>...</td>\n",
              "      <td>...</td>\n",
              "      <td>...</td>\n",
              "      <td>...</td>\n",
              "      <td>...</td>\n",
              "      <td>...</td>\n",
              "      <td>...</td>\n",
              "      <td>...</td>\n",
              "      <td>...</td>\n",
              "      <td>...</td>\n",
              "      <td>...</td>\n",
              "      <td>...</td>\n",
              "      <td>...</td>\n",
              "      <td>...</td>\n",
              "      <td>...</td>\n",
              "      <td>...</td>\n",
              "      <td>...</td>\n",
              "      <td>...</td>\n",
              "      <td>...</td>\n",
              "      <td>...</td>\n",
              "    </tr>\n",
              "    <tr>\n",
              "      <th>7038</th>\n",
              "      <td>6840-RESVB</td>\n",
              "      <td>Male</td>\n",
              "      <td>0</td>\n",
              "      <td>Yes</td>\n",
              "      <td>Yes</td>\n",
              "      <td>24</td>\n",
              "      <td>Yes</td>\n",
              "      <td>Yes</td>\n",
              "      <td>DSL</td>\n",
              "      <td>Yes</td>\n",
              "      <td>No</td>\n",
              "      <td>Yes</td>\n",
              "      <td>Yes</td>\n",
              "      <td>Yes</td>\n",
              "      <td>Yes</td>\n",
              "      <td>One year</td>\n",
              "      <td>Yes</td>\n",
              "      <td>Mailed check</td>\n",
              "      <td>84.80</td>\n",
              "      <td>1990.5</td>\n",
              "      <td>No</td>\n",
              "    </tr>\n",
              "    <tr>\n",
              "      <th>7039</th>\n",
              "      <td>2234-XADUH</td>\n",
              "      <td>Female</td>\n",
              "      <td>0</td>\n",
              "      <td>Yes</td>\n",
              "      <td>Yes</td>\n",
              "      <td>72</td>\n",
              "      <td>Yes</td>\n",
              "      <td>Yes</td>\n",
              "      <td>Fiber optic</td>\n",
              "      <td>No</td>\n",
              "      <td>Yes</td>\n",
              "      <td>Yes</td>\n",
              "      <td>No</td>\n",
              "      <td>Yes</td>\n",
              "      <td>Yes</td>\n",
              "      <td>One year</td>\n",
              "      <td>Yes</td>\n",
              "      <td>Credit card (automatic)</td>\n",
              "      <td>103.20</td>\n",
              "      <td>7362.9</td>\n",
              "      <td>No</td>\n",
              "    </tr>\n",
              "    <tr>\n",
              "      <th>7040</th>\n",
              "      <td>4801-JZAZL</td>\n",
              "      <td>Female</td>\n",
              "      <td>0</td>\n",
              "      <td>Yes</td>\n",
              "      <td>Yes</td>\n",
              "      <td>11</td>\n",
              "      <td>No</td>\n",
              "      <td>No phone service</td>\n",
              "      <td>DSL</td>\n",
              "      <td>Yes</td>\n",
              "      <td>No</td>\n",
              "      <td>No</td>\n",
              "      <td>No</td>\n",
              "      <td>No</td>\n",
              "      <td>No</td>\n",
              "      <td>Month-to-month</td>\n",
              "      <td>Yes</td>\n",
              "      <td>Electronic check</td>\n",
              "      <td>29.60</td>\n",
              "      <td>346.45</td>\n",
              "      <td>No</td>\n",
              "    </tr>\n",
              "    <tr>\n",
              "      <th>7041</th>\n",
              "      <td>8361-LTMKD</td>\n",
              "      <td>Male</td>\n",
              "      <td>1</td>\n",
              "      <td>Yes</td>\n",
              "      <td>No</td>\n",
              "      <td>4</td>\n",
              "      <td>Yes</td>\n",
              "      <td>Yes</td>\n",
              "      <td>Fiber optic</td>\n",
              "      <td>No</td>\n",
              "      <td>No</td>\n",
              "      <td>No</td>\n",
              "      <td>No</td>\n",
              "      <td>No</td>\n",
              "      <td>No</td>\n",
              "      <td>Month-to-month</td>\n",
              "      <td>Yes</td>\n",
              "      <td>Mailed check</td>\n",
              "      <td>74.40</td>\n",
              "      <td>306.6</td>\n",
              "      <td>Yes</td>\n",
              "    </tr>\n",
              "    <tr>\n",
              "      <th>7042</th>\n",
              "      <td>3186-AJIEK</td>\n",
              "      <td>Male</td>\n",
              "      <td>0</td>\n",
              "      <td>No</td>\n",
              "      <td>No</td>\n",
              "      <td>66</td>\n",
              "      <td>Yes</td>\n",
              "      <td>No</td>\n",
              "      <td>Fiber optic</td>\n",
              "      <td>Yes</td>\n",
              "      <td>No</td>\n",
              "      <td>Yes</td>\n",
              "      <td>Yes</td>\n",
              "      <td>Yes</td>\n",
              "      <td>Yes</td>\n",
              "      <td>Two year</td>\n",
              "      <td>Yes</td>\n",
              "      <td>Bank transfer (automatic)</td>\n",
              "      <td>105.65</td>\n",
              "      <td>6844.5</td>\n",
              "      <td>No</td>\n",
              "    </tr>\n",
              "  </tbody>\n",
              "</table>\n",
              "<p>7043 rows × 21 columns</p>\n",
              "</div>"
            ],
            "text/plain": [
              "      customerID  gender  SeniorCitizen  ... MonthlyCharges TotalCharges  Churn\n",
              "0     7590-VHVEG  Female              0  ...          29.85        29.85     No\n",
              "1     5575-GNVDE    Male              0  ...          56.95       1889.5     No\n",
              "2     3668-QPYBK    Male              0  ...          53.85       108.15    Yes\n",
              "3     7795-CFOCW    Male              0  ...          42.30      1840.75     No\n",
              "4     9237-HQITU  Female              0  ...          70.70       151.65    Yes\n",
              "...          ...     ...            ...  ...            ...          ...    ...\n",
              "7038  6840-RESVB    Male              0  ...          84.80       1990.5     No\n",
              "7039  2234-XADUH  Female              0  ...         103.20       7362.9     No\n",
              "7040  4801-JZAZL  Female              0  ...          29.60       346.45     No\n",
              "7041  8361-LTMKD    Male              1  ...          74.40        306.6    Yes\n",
              "7042  3186-AJIEK    Male              0  ...         105.65       6844.5     No\n",
              "\n",
              "[7043 rows x 21 columns]"
            ]
          },
          "metadata": {
            "tags": []
          },
          "execution_count": 2
        }
      ]
    },
    {
      "cell_type": "markdown",
      "metadata": {
        "id": "__IAVBnllGu3"
      },
      "source": [
        "We have now stored our data in a Pandas DataFrame for further analysis. We can get a feel for the dataset before processing by taking a look at the features above. Some features will need to be cleaned as they do not contribute to our data like individual customer ID contained in the customerID feature. Other features will need to be converted from categorical inputs to numerical inputs for machine learning."
      ]
    },
    {
      "cell_type": "markdown",
      "metadata": {
        "id": "zs275zB7uEOf"
      },
      "source": [
        "# Exploratory Data Analysis and Visualization"
      ]
    },
    {
      "cell_type": "code",
      "metadata": {
        "colab": {
          "base_uri": "https://localhost:8080/"
        },
        "id": "CKMlMZO3mEZ_",
        "outputId": "24d2f66b-023a-4604-9b96-de399df2fdbc"
      },
      "source": [
        "# Looking at our DataFrames info we see a majority of our data type is categorical, with a few integer and float columns.\n",
        "df.info()"
      ],
      "execution_count": 3,
      "outputs": [
        {
          "output_type": "stream",
          "text": [
            "<class 'pandas.core.frame.DataFrame'>\n",
            "RangeIndex: 7043 entries, 0 to 7042\n",
            "Data columns (total 21 columns):\n",
            " #   Column            Non-Null Count  Dtype  \n",
            "---  ------            --------------  -----  \n",
            " 0   customerID        7043 non-null   object \n",
            " 1   gender            7043 non-null   object \n",
            " 2   SeniorCitizen     7043 non-null   int64  \n",
            " 3   Partner           7043 non-null   object \n",
            " 4   Dependents        7043 non-null   object \n",
            " 5   tenure            7043 non-null   int64  \n",
            " 6   PhoneService      7043 non-null   object \n",
            " 7   MultipleLines     7043 non-null   object \n",
            " 8   InternetService   7043 non-null   object \n",
            " 9   OnlineSecurity    7043 non-null   object \n",
            " 10  OnlineBackup      7043 non-null   object \n",
            " 11  DeviceProtection  7043 non-null   object \n",
            " 12  TechSupport       7043 non-null   object \n",
            " 13  StreamingTV       7043 non-null   object \n",
            " 14  StreamingMovies   7043 non-null   object \n",
            " 15  Contract          7043 non-null   object \n",
            " 16  PaperlessBilling  7043 non-null   object \n",
            " 17  PaymentMethod     7043 non-null   object \n",
            " 18  MonthlyCharges    7043 non-null   float64\n",
            " 19  TotalCharges      7043 non-null   object \n",
            " 20  Churn             7043 non-null   object \n",
            "dtypes: float64(1), int64(2), object(18)\n",
            "memory usage: 1.1+ MB\n"
          ],
          "name": "stdout"
        }
      ]
    },
    {
      "cell_type": "code",
      "metadata": {
        "id": "0g-xsLnpd0r_",
        "colab": {
          "base_uri": "https://localhost:8080/"
        },
        "outputId": "10427bf2-9db9-4265-d1b8-11b6b4b825da"
      },
      "source": [
        "# We have no missing values which makes our data a little easier to work with.\n",
        "df.isnull().mean() * 100"
      ],
      "execution_count": 4,
      "outputs": [
        {
          "output_type": "execute_result",
          "data": {
            "text/plain": [
              "customerID          0.0\n",
              "gender              0.0\n",
              "SeniorCitizen       0.0\n",
              "Partner             0.0\n",
              "Dependents          0.0\n",
              "tenure              0.0\n",
              "PhoneService        0.0\n",
              "MultipleLines       0.0\n",
              "InternetService     0.0\n",
              "OnlineSecurity      0.0\n",
              "OnlineBackup        0.0\n",
              "DeviceProtection    0.0\n",
              "TechSupport         0.0\n",
              "StreamingTV         0.0\n",
              "StreamingMovies     0.0\n",
              "Contract            0.0\n",
              "PaperlessBilling    0.0\n",
              "PaymentMethod       0.0\n",
              "MonthlyCharges      0.0\n",
              "TotalCharges        0.0\n",
              "Churn               0.0\n",
              "dtype: float64"
            ]
          },
          "metadata": {
            "tags": []
          },
          "execution_count": 4
        }
      ]
    },
    {
      "cell_type": "code",
      "metadata": {
        "id": "pNNRHvIW0rEo"
      },
      "source": [
        "# We can drop our customer ID column as it is not relevant to our target variable. TotalCharges will also be dropped as it only consists of a few values.\n",
        "df = df.drop(columns = ['customerID', 'TotalCharges'])"
      ],
      "execution_count": 5,
      "outputs": []
    },
    {
      "cell_type": "code",
      "metadata": {
        "id": "ul-kjKEkx7uN",
        "colab": {
          "base_uri": "https://localhost:8080/",
          "height": 0
        },
        "outputId": "f85072b9-0260-4d60-bae1-151b77d88997"
      },
      "source": [
        "# Plotting a countplot of our target variable, customer churn using Seaborn.\n",
        "# We can see some class imbalance occuring with our non-attrited customer base outnumbering our attrited customer base.\n",
        "sns.countplot(x ='Churn', data = df)"
      ],
      "execution_count": 6,
      "outputs": [
        {
          "output_type": "execute_result",
          "data": {
            "text/plain": [
              "<matplotlib.axes._subplots.AxesSubplot at 0x7fc4de25f2e8>"
            ]
          },
          "metadata": {
            "tags": []
          },
          "execution_count": 6
        },
        {
          "output_type": "display_data",
          "data": {
            "image/png": "[encoded data removed]",
            "text/plain": [
              "<Figure size 432x288 with 1 Axes>"
            ]
          },
          "metadata": {
            "tags": [],
            "needs_background": "light"
          }
        }
      ]
    },
    {
      "cell_type": "code",
      "metadata": {
        "id": "3nBv2H-Svx4Y",
        "colab": {
          "base_uri": "https://localhost:8080/",
          "height": 0
        },
        "outputId": "a1e34475-cf16-4790-b59b-e15d89e1000e"
      },
      "source": [
        "# Plotting a correlation heatmap to give us a visual representation of our correlation matrix. \n",
        "plt.figure(figsize=(12, 6))\n",
        "corr = df.apply(lambda x: pd.factorize(x)[0]).corr()\n",
        "ax = sns.heatmap(corr, xticklabels=corr.columns, yticklabels=corr.columns, \n",
        "                 linewidths=.2, cmap=\"YlGnBu\")"
      ],
      "execution_count": 7,
      "outputs": [
        {
          "output_type": "display_data",
          "data": {
            "image/png": "[encoded data removed]",
            "text/plain": [
              "<Figure size 864x432 with 2 Axes>"
            ]
          },
          "metadata": {
            "tags": [],
            "needs_background": "light"
          }
        }
      ]
    },
    {
      "cell_type": "markdown",
      "metadata": {
        "id": "AUfUMkFE059a"
      },
      "source": [
        "We can see some features of interest showing a higher correlation value like 'SeniorCitizen' and 'MultipleLines' in regards to our target variable 'Churn' on the far-right column and bottom row. "
      ]
    },
    {
      "cell_type": "markdown",
      "metadata": {
        "id": "IInt0GRnVFLM"
      },
      "source": [
        "### Outlier Detection"
      ]
    },
    {
      "cell_type": "markdown",
      "metadata": {
        "id": "-Kvgl-Py8l5Q"
      },
      "source": [
        "Visually analyzing continuous variables for any outliers that may affect our prediction with a boxplot.\r\n"
      ]
    },
    {
      "cell_type": "code",
      "metadata": {
        "id": "OBxbCZ84wdql",
        "colab": {
          "base_uri": "https://localhost:8080/",
          "height": 0
        },
        "outputId": "6bbba5bb-0172-4da7-f074-94a0fc663415"
      },
      "source": [
        "# Using pyplot to generate a simple boxplot of our continuous variable 'tenure'.\r\n",
        "plt.boxplot(df[\"tenure\"])"
      ],
      "execution_count": 8,
      "outputs": [
        {
          "output_type": "execute_result",
          "data": {
            "text/plain": [
              "{'boxes': [<matplotlib.lines.Line2D at 0x7fc4de017048>],\n",
              " 'caps': [<matplotlib.lines.Line2D at 0x7fc4de017a58>,\n",
              "  <matplotlib.lines.Line2D at 0x7fc4de017dd8>],\n",
              " 'fliers': [<matplotlib.lines.Line2D at 0x7fc4ddfed518>],\n",
              " 'means': [],\n",
              " 'medians': [<matplotlib.lines.Line2D at 0x7fc4ddfed198>],\n",
              " 'whiskers': [<matplotlib.lines.Line2D at 0x7fc4de017358>,\n",
              "  <matplotlib.lines.Line2D at 0x7fc4de0176d8>]}"
            ]
          },
          "metadata": {
            "tags": []
          },
          "execution_count": 8
        },
        {
          "output_type": "display_data",
          "data": {
            "image/png": "[encoded data removed]",
            "text/plain": [
              "<Figure size 432x288 with 1 Axes>"
            ]
          },
          "metadata": {
            "tags": [],
            "needs_background": "light"
          }
        }
      ]
    },
    {
      "cell_type": "markdown",
      "metadata": {
        "id": "CGlw4AeTVL2z"
      },
      "source": [
        "Tenure has no visible outliers as seen on the boxplot. These would have been visible as dots along the outer whiskers of the boxplot if there were outliers detected outside of the interquartile range."
      ]
    },
    {
      "cell_type": "code",
      "metadata": {
        "id": "fbSe5LZCwppN",
        "colab": {
          "base_uri": "https://localhost:8080/",
          "height": 0
        },
        "outputId": "21c3db2e-3f14-424a-a470-d47baa10030f"
      },
      "source": [
        "# Using pyplot to generate a simple boxplot of our continuous variable 'MonthlyCharges'.\r\n",
        "plt.boxplot(df[\"MonthlyCharges\"])"
      ],
      "execution_count": 9,
      "outputs": [
        {
          "output_type": "execute_result",
          "data": {
            "text/plain": [
              "{'boxes': [<matplotlib.lines.Line2D at 0x7fc4dcd73a20>],\n",
              " 'caps': [<matplotlib.lines.Line2D at 0x7fc4dcd80470>,\n",
              "  <matplotlib.lines.Line2D at 0x7fc4dcd807f0>],\n",
              " 'fliers': [<matplotlib.lines.Line2D at 0x7fc4dcd80ef0>],\n",
              " 'means': [],\n",
              " 'medians': [<matplotlib.lines.Line2D at 0x7fc4dcd80b70>],\n",
              " 'whiskers': [<matplotlib.lines.Line2D at 0x7fc4dcd73d30>,\n",
              "  <matplotlib.lines.Line2D at 0x7fc4dcd800f0>]}"
            ]
          },
          "metadata": {
            "tags": []
          },
          "execution_count": 9
        },
        {
          "output_type": "display_data",
          "data": {
            "image/png": "[encoded data removed]",
            "text/plain": [
              "<Figure size 432x288 with 1 Axes>"
            ]
          },
          "metadata": {
            "tags": [],
            "needs_background": "light"
          }
        }
      ]
    },
    {
      "cell_type": "markdown",
      "metadata": {
        "id": "LWM7N-NK84ld"
      },
      "source": [
        "The MonthlyCharges feature is also not showing any signs of outliers visually as there are no data points being generated outside of our boxplot's whiskers. We will next confirm this statistically with NumPy's percentile function to generate an interquartile range and test accordingly for any values that are outside of our IQR. It is best practice to confirm any visual clues with a statistical test instead of making assumptions based on visuals."
      ]
    },
    {
      "cell_type": "code",
      "metadata": {
        "id": "2QlzruXSw8J-",
        "colab": {
          "base_uri": "https://localhost:8080/"
        },
        "outputId": "ce64f669-3878-406c-eb0a-bc3413bf6fa3"
      },
      "source": [
        "# Calculating the IQR using NumPy's percentile function, which returns the q-th percentile(s) of the array elements.\n",
        "q75, q25 = np.percentile(df[\"MonthlyCharges\"], [75 ,25])\n",
        "iqr = q75 - q25\n",
        "\n",
        "# Creating a range of threshold values to test using NumPy in intervals of 0.5.\n",
        "for threshold in np.arange(1,5,0.5):\n",
        "# Creating minimum outlier threshold value.\n",
        "    min_val = q25 - (iqr*threshold)\n",
        "# Creating maximum outlier threshold value.\n",
        "    max_val = q75 + (iqr*threshold)\n",
        "# Printing score threshold and resulting number of outliers detected.\n",
        "    print(\"The score threshold is: {}\".format(threshold))\n",
        "    print(\"Number of outliers is: {}\".format(\n",
        "        len((np.where((df[\"MonthlyCharges\"] > max_val) \n",
        "                      | (df[\"MonthlyCharges\"] < min_val))[0]))\n",
        "    ))"
      ],
      "execution_count": 10,
      "outputs": [
        {
          "output_type": "stream",
          "text": [
            "The score threshold is: 1.0\n",
            "Number of outliers is: 0\n",
            "The score threshold is: 1.5\n",
            "Number of outliers is: 0\n",
            "The score threshold is: 2.0\n",
            "Number of outliers is: 0\n",
            "The score threshold is: 2.5\n",
            "Number of outliers is: 0\n",
            "The score threshold is: 3.0\n",
            "Number of outliers is: 0\n",
            "The score threshold is: 3.5\n",
            "Number of outliers is: 0\n",
            "The score threshold is: 4.0\n",
            "Number of outliers is: 0\n",
            "The score threshold is: 4.5\n",
            "Number of outliers is: 0\n"
          ],
          "name": "stdout"
        }
      ]
    },
    {
      "cell_type": "markdown",
      "metadata": {
        "id": "cgXhQBmU9SiT"
      },
      "source": [
        "We found no outliers using various outlier thresholds and IQR to establish  thresholds statistically. The IQR is calculated as the difference between the 75th and the 25th percentiles of the data and defines the box in a box and whisker plot."
      ]
    },
    {
      "cell_type": "markdown",
      "metadata": {
        "id": "WtDVBYQkpzDD"
      },
      "source": [
        "# Class Balancing"
      ]
    },
    {
      "cell_type": "markdown",
      "metadata": {
        "id": "iF8sN6oNp5iB"
      },
      "source": [
        "The target variable Churn consists of more data for non-churned employees and is therefore class imbalanced. While this may be good for our organizations performance, it is not going to help our machine learning models perform any better. This will effect our model outcome and create bias towards the highest numbered class, which in this case is our non-attrited customer base. We will apply SMOTE (Synthetic Minority Over-sampling Technique) to increase our minority class synthetically before splitting our data since we do not have enough data to perform undersampling techniques in this situation."
      ]
    },
    {
      "cell_type": "markdown",
      "metadata": {
        "id": "bJOpe607uWCa"
      },
      "source": [
        "# Split our DataSet."
      ]
    },
    {
      "cell_type": "code",
      "metadata": {
        "id": "drPss_nkuhA4"
      },
      "source": [
        "# y is our target variable employee churn. We drop our target from X.\n",
        "y = df['Churn']\n",
        "X = df.drop(columns=['Churn'])\n",
        "\n",
        "# Use pandas get_dummies function to create dummy variables necessary for statistical interpretation during machine learning.\n",
        "X = pd.get_dummies(X)\n",
        "\n",
        "# Class balancing the target using SMOTE, we will use the minority sampling class strategy since we want to oversample our smaller target variable class.\n",
        "sm = SMOTE(sampling_strategy='minority', random_state=42)\n",
        "\n",
        "# Fit SMOTE to our X and y variables.\n",
        "X, y = sm.fit_resample(X, y)\n",
        "\n",
        "# Splitting dataset into a training set and test set using a test size of 20%.\n",
        "X_train, X_test, y_train, y_test = train_test_split(X, y, test_size=0.20, random_state=42)"
      ],
      "execution_count": 11,
      "outputs": []
    },
    {
      "cell_type": "markdown",
      "metadata": {
        "id": "rH7kCPdRC5Zs"
      },
      "source": [
        "Now that we have cleaned our data, and created our target variable while fixing class imbalance, our data is now ready for machine learning."
      ]
    },
    {
      "cell_type": "markdown",
      "metadata": {
        "id": "7EBJrmXWnNTs"
      },
      "source": [
        "# Logistic Regression Classifier"
      ]
    },
    {
      "cell_type": "code",
      "metadata": {
        "id": "ntl-Xt4_nQpE",
        "colab": {
          "base_uri": "https://localhost:8080/",
          "height": 34
        },
        "outputId": "dd4d252a-9c2b-44f4-fb10-bc738d504568"
      },
      "source": [
        "# Timing our model.\n",
        "start_time = time.time()\n",
        "\n",
        "# Adjust our max iteration value, 100 is too low and gives errors.\n",
        "clf = LogisticRegression(max_iter=400).fit(X_train, y_train)\n",
        "\n",
        "print(\"--- %s seconds ---\" % round(time.time() - start_time, 3))"
      ],
      "execution_count": null,
      "outputs": [
        {
          "output_type": "stream",
          "text": [
            "--- 0.865 seconds ---\n"
          ],
          "name": "stdout"
        }
      ]
    },
    {
      "cell_type": "markdown",
      "metadata": {
        "id": "jBA2VrR0W5e9"
      },
      "source": [
        "Our logistic regression classifier model ran rather fast without any feature selection or decompostion in about only 0.8 seconds. Logistic regression classification is well-suited for this task as our target variable has a binary output."
      ]
    },
    {
      "cell_type": "code",
      "metadata": {
        "id": "yAqMZ8AHob9R",
        "colab": {
          "base_uri": "https://localhost:8080/",
          "height": 51
        },
        "outputId": "31846022-c384-46b3-e8da-3f968c052d5a"
      },
      "source": [
        "# Cross validation score for Logistic Regression Classifier.\n",
        "cross_val_score(clf, X_train, y_train, cv=10)"
      ],
      "execution_count": null,
      "outputs": [
        {
          "output_type": "execute_result",
          "data": {
            "text/plain": [
              "array([0.77294686, 0.77777778, 0.74637681, 0.75362319, 0.75483092,\n",
              "       0.78623188, 0.78019324, 0.77415459, 0.75453446, 0.79443773])"
            ]
          },
          "metadata": {
            "tags": []
          },
          "execution_count": 13
        }
      ]
    },
    {
      "cell_type": "markdown",
      "metadata": {
        "id": "jKNqthtIW9fQ"
      },
      "source": [
        "We are only seeing some minor variance in cross-validation scores which is a good sign. This means our model is expected to generalize new data. We are also not seeing any signs of over-fitting in our cross-validation scoring which would appear as sporadic over-fitting."
      ]
    },
    {
      "cell_type": "code",
      "metadata": {
        "id": "oJ0LGpK7n8n7",
        "colab": {
          "base_uri": "https://localhost:8080/",
          "height": 255
        },
        "outputId": "a483b5de-be4a-4608-86d9-5d1a879cfd3e"
      },
      "source": [
        "# Building classification report for our logistic regression classifier.\n",
        "y_pred = clf.predict(X_test)\n",
        "accuracy = accuracy_score(y_test,y_pred)\n",
        "report = classification_report(y_test, y_pred)\n",
        "cm = confusion_matrix(y_test, y_pred)\n",
        "\n",
        "print(\"Accuracy: \", accuracy)\n",
        "print(\"Classification report:\")\n",
        "print(report)\n",
        "print(\"Confusion matrix:\")\n",
        "print(cm)"
      ],
      "execution_count": null,
      "outputs": [
        {
          "output_type": "stream",
          "text": [
            "Accuracy:  0.7840579710144927\n",
            "Classification report:\n",
            "              precision    recall  f1-score   support\n",
            "\n",
            "          No       0.80      0.75      0.77      1021\n",
            "         Yes       0.77      0.82      0.79      1049\n",
            "\n",
            "    accuracy                           0.78      2070\n",
            "   macro avg       0.79      0.78      0.78      2070\n",
            "weighted avg       0.79      0.78      0.78      2070\n",
            "\n",
            "Confusion matrix:\n",
            "[[765 256]\n",
            " [191 858]]\n"
          ],
          "name": "stdout"
        }
      ]
    },
    {
      "cell_type": "markdown",
      "metadata": {
        "id": "QEBm9Mn-XD27"
      },
      "source": [
        "Our model is working moderately well in our classification report above. Our classification report metrics do leave room for improvement however with only somewhat above average scoring in precision, accuracy, recall, and f1-score metrics. We are seeing a slight tradeoff in precision and recall values for the two classes. Our confusion matrix also shows a more than desirable number of false positives and false negatives. "
      ]
    },
    {
      "cell_type": "markdown",
      "metadata": {
        "id": "5iv9UBg9nRJG"
      },
      "source": [
        "# Gradient Boosting Classifier"
      ]
    },
    {
      "cell_type": "code",
      "metadata": {
        "id": "KLr9CvppqKC1",
        "colab": {
          "base_uri": "https://localhost:8080/",
          "height": 34
        },
        "outputId": "7abe9626-8830-4f35-a08a-d04bde69a779"
      },
      "source": [
        "# Timing our model.\n",
        "start_time = time.time()\n",
        "\n",
        "# Creating gradient boost classifier.\n",
        "clf = GradientBoostingClassifier()\n",
        "\n",
        "# Fitting model to our data.\n",
        "clf.fit(X_train, y_train)\n",
        "\n",
        "# Print model time. \n",
        "print(\"--- %s seconds ---\" % round(time.time() - start_time, 3))"
      ],
      "execution_count": null,
      "outputs": [
        {
          "output_type": "stream",
          "text": [
            "--- 2.205 seconds ---\n"
          ],
          "name": "stdout"
        }
      ]
    },
    {
      "cell_type": "markdown",
      "metadata": {
        "id": "Mn-5U8gGXPmB"
      },
      "source": [
        "We have a slightly longer runtime than our logistic regression classifier above with over 2 seconds runtime for gradient boosting classification. Although this could be interpreted as only 1 second longer runtime, it could also be interpreted as double the runtime. This means that we may see double runtimes with larger datasets. This is something to keep in mind when evaluating model performance and adapting it to larger datasets."
      ]
    },
    {
      "cell_type": "code",
      "metadata": {
        "id": "9O76az4Jqqyg",
        "colab": {
          "base_uri": "https://localhost:8080/",
          "height": 51
        },
        "outputId": "53106bdb-f6ec-4e9c-c79f-89cd72183a73"
      },
      "source": [
        "# Cross validation score for Gradient Boosting Classifier.\n",
        "cross_val_score(clf, X_train, y_train, cv=10)"
      ],
      "execution_count": null,
      "outputs": [
        {
          "output_type": "execute_result",
          "data": {
            "text/plain": [
              "array([0.86231884, 0.85024155, 0.85024155, 0.83091787, 0.88405797,\n",
              "       0.87198068, 0.85024155, 0.87077295, 0.83192261, 0.87061669])"
            ]
          },
          "metadata": {
            "tags": []
          },
          "execution_count": 16
        }
      ]
    },
    {
      "cell_type": "markdown",
      "metadata": {
        "id": "AgrjuyAKXUvy"
      },
      "source": [
        "Our gradient boosting model is giving us minimal cross-validation variance of about 5%. Cross-validation scoring is also about 9-10% higher than the logistic regression classifier. Cross-validation scoring for gradient boosting classification is not indicative of any overfitting or underfitting with consistent scoring across the ten cross-validations."
      ]
    },
    {
      "cell_type": "code",
      "metadata": {
        "id": "egSBiHK8qxrM",
        "colab": {
          "base_uri": "https://localhost:8080/",
          "height": 255
        },
        "outputId": "d36890b2-d7e3-42cd-dfe4-d5027c9eab38"
      },
      "source": [
        "# Classification report for our Gradient Boosting classifier.\n",
        "y_pred = clf.predict(X_test)\n",
        "accuracy = accuracy_score(y_test,y_pred)\n",
        "report = classification_report(y_test, y_pred)\n",
        "cm = confusion_matrix(y_test, y_pred)\n",
        "\n",
        "print(\"Accuracy: \", accuracy)\n",
        "print(\"Classification report:\")\n",
        "print(report)\n",
        "print(\"Confusion matrix:\")\n",
        "print(cm)"
      ],
      "execution_count": null,
      "outputs": [
        {
          "output_type": "stream",
          "text": [
            "Accuracy:  0.8628019323671497\n",
            "Classification report:\n",
            "              precision    recall  f1-score   support\n",
            "\n",
            "          No       0.86      0.86      0.86      1021\n",
            "         Yes       0.86      0.87      0.86      1049\n",
            "\n",
            "    accuracy                           0.86      2070\n",
            "   macro avg       0.86      0.86      0.86      2070\n",
            "weighted avg       0.86      0.86      0.86      2070\n",
            "\n",
            "Confusion matrix:\n",
            "[[878 143]\n",
            " [141 908]]\n"
          ],
          "name": "stdout"
        }
      ]
    },
    {
      "cell_type": "markdown",
      "metadata": {
        "id": "efigNcRBXa4K"
      },
      "source": [
        "Precision, recall, accuracy, and f1-score metrics are all showing better model performance for the gradient boosting classification report compared to logistic regression classification. Precision and recall tradeoff is minor. Our confusion matrix is also showing less false positive and less false negative values.\r\n",
        "\r\n",
        "Accuracy is surpassing that of logistic regression by around 8%. However, this model took some additional time to run with over double the runtime so we have a tradeoff in scoring and runtime compared to the logistic regression classification model. "
      ]
    },
    {
      "cell_type": "markdown",
      "metadata": {
        "id": "Wa3z5Ac8XzLO"
      },
      "source": [
        "# KNN Classifier"
      ]
    },
    {
      "cell_type": "code",
      "metadata": {
        "id": "W4mtAKbwX1lG",
        "colab": {
          "base_uri": "https://localhost:8080/",
          "height": 34
        },
        "outputId": "f44ea4a1-952d-4ff6-8c34-fff724bdc35e"
      },
      "source": [
        "# Timing our model.\n",
        "start_time = time.time()\n",
        "\n",
        "#Create the KNN Classifier.\n",
        "knn = KNeighborsClassifier(n_neighbors=7)\n",
        "\n",
        "#Train our model.\n",
        "knn.fit(X_train, y_train)\n",
        "\n",
        "# Print model time. \n",
        "print(\"--- %s seconds ---\" % round(time.time() - start_time, 3))"
      ],
      "execution_count": null,
      "outputs": [
        {
          "output_type": "stream",
          "text": [
            "--- 0.052 seconds ---\n"
          ],
          "name": "stdout"
        }
      ]
    },
    {
      "cell_type": "markdown",
      "metadata": {
        "id": "ECS4yOGZZXlG"
      },
      "source": [
        "Very fast run time with KNN classifier clocking in at 0.052 seconds using no feature selection or feature decomposition. "
      ]
    },
    {
      "cell_type": "code",
      "metadata": {
        "id": "UQHjIcHFYele",
        "colab": {
          "base_uri": "https://localhost:8080/",
          "height": 51
        },
        "outputId": "10494e92-158e-40ac-c432-9497c1c16661"
      },
      "source": [
        "# Cross validation score for KNN.\n",
        "cross_val_score(knn, X_train, y_train, cv=10)"
      ],
      "execution_count": null,
      "outputs": [
        {
          "output_type": "execute_result",
          "data": {
            "text/plain": [
              "array([0.79227053, 0.77898551, 0.76690821, 0.78140097, 0.77415459,\n",
              "       0.80193237, 0.76086957, 0.78381643, 0.77025393, 0.81620314])"
            ]
          },
          "metadata": {
            "tags": []
          },
          "execution_count": 19
        }
      ]
    },
    {
      "cell_type": "markdown",
      "metadata": {
        "id": "60iuuIeVZm5a"
      },
      "source": [
        "There is some cross variance of about 5% as seen in the previous classification models. We are also seeing similar but slightly higher cross-validation scoring in comparison to our logistic regression classifier however at a fraction of the runtime. \n",
        "\n"
      ]
    },
    {
      "cell_type": "code",
      "metadata": {
        "id": "fYEaVZ2aYsIb",
        "colab": {
          "base_uri": "https://localhost:8080/",
          "height": 255
        },
        "outputId": "266990d2-97bf-4724-a72f-b575b42c5326"
      },
      "source": [
        "# Classification report for our KNN classifier.\n",
        "y_pred = knn.predict(X_test)\n",
        "accuracy = accuracy_score(y_test,y_pred)\n",
        "report = classification_report(y_test, y_pred)\n",
        "cm = confusion_matrix(y_test, y_pred)\n",
        "\n",
        "print(\"Accuracy: \", accuracy)\n",
        "print(\"Classification report:\")\n",
        "print(report)\n",
        "print(\"Confusion matrix:\")\n",
        "print(cm)"
      ],
      "execution_count": null,
      "outputs": [
        {
          "output_type": "stream",
          "text": [
            "Accuracy:  0.7913043478260869\n",
            "Classification report:\n",
            "              precision    recall  f1-score   support\n",
            "\n",
            "          No       0.89      0.66      0.76      1021\n",
            "         Yes       0.73      0.92      0.82      1049\n",
            "\n",
            "    accuracy                           0.79      2070\n",
            "   macro avg       0.81      0.79      0.79      2070\n",
            "weighted avg       0.81      0.79      0.79      2070\n",
            "\n",
            "Confusion matrix:\n",
            "[[673 348]\n",
            " [ 84 965]]\n"
          ],
          "name": "stdout"
        }
      ]
    },
    {
      "cell_type": "markdown",
      "metadata": {
        "id": "epO6EB-JZsX7"
      },
      "source": [
        "We are seeing a major tradeoff between precision and recall metrics in both classes of our target variable. This is also shown in the imbalanced confusion matrix, although accuracy scoring is remaining consistent. So although we have reduced our runtime we are also seeing reduced performance in key performance metrics."
      ]
    },
    {
      "cell_type": "markdown",
      "metadata": {
        "id": "rdvxYkuoZE3j"
      },
      "source": [
        "# SVM Classifier"
      ]
    },
    {
      "cell_type": "code",
      "metadata": {
        "id": "nNnNqqjhZWn_",
        "colab": {
          "base_uri": "https://localhost:8080/",
          "height": 34
        },
        "outputId": "dcabb6cd-8f93-46be-d5d2-6c18d156c22d"
      },
      "source": [
        "# Timing our model.\n",
        "start_time = time.time()\n",
        "\n",
        "#Create svm Classifier\n",
        "clf = svm.SVC(kernel='linear') # Linear Kernel\n",
        "\n",
        "#Train our model\n",
        "clf.fit(X_train, y_train)\n",
        "\n",
        "# Print model time. \n",
        "print(\"--- %s seconds ---\" % round(time.time() - start_time, 3))"
      ],
      "execution_count": null,
      "outputs": [
        {
          "output_type": "stream",
          "text": [
            "--- 68.297 seconds ---\n"
          ],
          "name": "stdout"
        }
      ]
    },
    {
      "cell_type": "markdown",
      "metadata": {
        "id": "jqtiNLB6bz8o"
      },
      "source": [
        "Our SVM model has significantly longer run time than that of our previous models. This is because SVM is a very memory intensive model, and runtime can grow exponentially with increased data size. SVM must make many exhaustive calculations to create the parameters needed for machine learning."
      ]
    },
    {
      "cell_type": "code",
      "metadata": {
        "id": "mtgwoUYiZaH7",
        "colab": {
          "base_uri": "https://localhost:8080/",
          "height": 51
        },
        "outputId": "f5471d8d-f2a9-4824-dfa7-1c7d7c57b15b"
      },
      "source": [
        "# Cross validation score for SVM.\n",
        "cross_val_score(clf, X_train, y_train, cv=10)"
      ],
      "execution_count": null,
      "outputs": [
        {
          "output_type": "execute_result",
          "data": {
            "text/plain": [
              "array([0.75845411, 0.75603865, 0.71014493, 0.71014493, 0.72705314,\n",
              "       0.76328502, 0.76328502, 0.73550725, 0.74607013, 0.78839178])"
            ]
          },
          "metadata": {
            "tags": []
          },
          "execution_count": 22
        }
      ]
    },
    {
      "cell_type": "markdown",
      "metadata": {
        "id": "PvryX9bKb79j"
      },
      "source": [
        "We are seeing some cross-validation score variance of about 7%. This is somewhat higher than previous models. The cross-validation scoring does not show any fitment issues and should be expected to generalize new data however."
      ]
    },
    {
      "cell_type": "code",
      "metadata": {
        "id": "LyobX15TZ3uh",
        "colab": {
          "base_uri": "https://localhost:8080/",
          "height": 255
        },
        "outputId": "e4817e04-a910-4fd8-aa66-428425624e11"
      },
      "source": [
        "# Classification report for our SVM classifier.\n",
        "y_pred = clf.predict(X_test)\n",
        "accuracy = accuracy_score(y_test,y_pred)\n",
        "svm_report = classification_report(y_test, y_pred)\n",
        "cm = confusion_matrix(y_test, y_pred)\n",
        "\n",
        "print(\"Accuracy: \", accuracy)\n",
        "print(\"Classification report:\")\n",
        "print(svm_report)\n",
        "print(\"Confusion matrix:\")\n",
        "print(cm)"
      ],
      "execution_count": null,
      "outputs": [
        {
          "output_type": "stream",
          "text": [
            "Accuracy:  0.7541062801932367\n",
            "Classification report:\n",
            "              precision    recall  f1-score   support\n",
            "\n",
            "          No       0.81      0.65      0.72      1021\n",
            "         Yes       0.72      0.85      0.78      1049\n",
            "\n",
            "    accuracy                           0.75      2070\n",
            "   macro avg       0.76      0.75      0.75      2070\n",
            "weighted avg       0.76      0.75      0.75      2070\n",
            "\n",
            "Confusion matrix:\n",
            "[[668 353]\n",
            " [156 893]]\n"
          ],
          "name": "stdout"
        }
      ]
    },
    {
      "cell_type": "markdown",
      "metadata": {
        "id": "vO_LR_FMCIvy"
      },
      "source": [
        "This does not seem like a good model to use for this dataset with such a long run time and no advantages in cross-validation scoring, variance or classification report metrics."
      ]
    },
    {
      "cell_type": "markdown",
      "metadata": {
        "id": "VYB1UOsBUT09"
      },
      "source": [
        "# Decision Tree Classifier"
      ]
    },
    {
      "cell_type": "code",
      "metadata": {
        "id": "raXvqYyzUTXQ",
        "colab": {
          "base_uri": "https://localhost:8080/",
          "height": 1000
        },
        "outputId": "7cba6f8b-d225-4f44-b012-ceb92a77c840"
      },
      "source": [
        "# Creating initial tree for GridSearchCV to run.\n",
        "decision_tree = tree.DecisionTreeClassifier()\n",
        "\n",
        "# We are looking at a few parameters to see what works best with our model.\n",
        "tree_para = {'criterion':['gini','entropy'],\n",
        "             'max_depth':[5,10,20,50,100,150],\n",
        "             'max_features':[10,20,30,44]}\n",
        "clf = GridSearchCV(decision_tree, tree_para, cv=5)\n",
        "clf.fit(X_train, y_train)\n",
        "\n",
        "# Putting our results into a Pandas DataFrame for easier interpretation.\n",
        "gscv_df = pd.DataFrame(clf.cv_results_)\n",
        "gscv_df.sort_values('rank_test_score')"
      ],
      "execution_count": 19,
      "outputs": [
        {
          "output_type": "execute_result",
          "data": {
            "text/html": [
              "<div>\n",
              "<style scoped>\n",
              "    .dataframe tbody tr th:only-of-type {\n",
              "        vertical-align: middle;\n",
              "    }\n",
              "\n",
              "    .dataframe tbody tr th {\n",
              "        vertical-align: top;\n",
              "    }\n",
              "\n",
              "    .dataframe thead th {\n",
              "        text-align: right;\n",
              "    }\n",
              "</style>\n",
              "<table border=\"1\" class=\"dataframe\">\n",
              "  <thead>\n",
              "    <tr style=\"text-align: right;\">\n",
              "      <th></th>\n",
              "      <th>mean_fit_time</th>\n",
              "      <th>std_fit_time</th>\n",
              "      <th>mean_score_time</th>\n",
              "      <th>std_score_time</th>\n",
              "      <th>param_criterion</th>\n",
              "      <th>param_max_depth</th>\n",
              "      <th>param_max_features</th>\n",
              "      <th>params</th>\n",
              "      <th>split0_test_score</th>\n",
              "      <th>split1_test_score</th>\n",
              "      <th>split2_test_score</th>\n",
              "      <th>split3_test_score</th>\n",
              "      <th>split4_test_score</th>\n",
              "      <th>mean_test_score</th>\n",
              "      <th>std_test_score</th>\n",
              "      <th>rank_test_score</th>\n",
              "    </tr>\n",
              "  </thead>\n",
              "  <tbody>\n",
              "    <tr>\n",
              "      <th>4</th>\n",
              "      <td>0.019310</td>\n",
              "      <td>0.002065</td>\n",
              "      <td>0.003709</td>\n",
              "      <td>0.000378</td>\n",
              "      <td>gini</td>\n",
              "      <td>10</td>\n",
              "      <td>10</td>\n",
              "      <td>{'criterion': 'gini', 'max_depth': 10, 'max_fe...</td>\n",
              "      <td>0.818841</td>\n",
              "      <td>0.798913</td>\n",
              "      <td>0.832729</td>\n",
              "      <td>0.819335</td>\n",
              "      <td>0.822961</td>\n",
              "      <td>0.818556</td>\n",
              "      <td>0.011017</td>\n",
              "      <td>1</td>\n",
              "    </tr>\n",
              "    <tr>\n",
              "      <th>29</th>\n",
              "      <td>0.034552</td>\n",
              "      <td>0.001213</td>\n",
              "      <td>0.003404</td>\n",
              "      <td>0.000051</td>\n",
              "      <td>entropy</td>\n",
              "      <td>10</td>\n",
              "      <td>20</td>\n",
              "      <td>{'criterion': 'entropy', 'max_depth': 10, 'max...</td>\n",
              "      <td>0.834541</td>\n",
              "      <td>0.795290</td>\n",
              "      <td>0.831522</td>\n",
              "      <td>0.805438</td>\n",
              "      <td>0.825378</td>\n",
              "      <td>0.818434</td>\n",
              "      <td>0.015385</td>\n",
              "      <td>2</td>\n",
              "    </tr>\n",
              "    <tr>\n",
              "      <th>6</th>\n",
              "      <td>0.034809</td>\n",
              "      <td>0.000669</td>\n",
              "      <td>0.003401</td>\n",
              "      <td>0.000066</td>\n",
              "      <td>gini</td>\n",
              "      <td>10</td>\n",
              "      <td>30</td>\n",
              "      <td>{'criterion': 'gini', 'max_depth': 10, 'max_fe...</td>\n",
              "      <td>0.828502</td>\n",
              "      <td>0.797705</td>\n",
              "      <td>0.833937</td>\n",
              "      <td>0.801813</td>\n",
              "      <td>0.825378</td>\n",
              "      <td>0.817467</td>\n",
              "      <td>0.014773</td>\n",
              "      <td>3</td>\n",
              "    </tr>\n",
              "    <tr>\n",
              "      <th>30</th>\n",
              "      <td>0.045750</td>\n",
              "      <td>0.002278</td>\n",
              "      <td>0.003374</td>\n",
              "      <td>0.000082</td>\n",
              "      <td>entropy</td>\n",
              "      <td>10</td>\n",
              "      <td>30</td>\n",
              "      <td>{'criterion': 'entropy', 'max_depth': 10, 'max...</td>\n",
              "      <td>0.816425</td>\n",
              "      <td>0.798913</td>\n",
              "      <td>0.832126</td>\n",
              "      <td>0.821148</td>\n",
              "      <td>0.817523</td>\n",
              "      <td>0.817227</td>\n",
              "      <td>0.010710</td>\n",
              "      <td>4</td>\n",
              "    </tr>\n",
              "    <tr>\n",
              "      <th>31</th>\n",
              "      <td>0.061669</td>\n",
              "      <td>0.000852</td>\n",
              "      <td>0.003378</td>\n",
              "      <td>0.000045</td>\n",
              "      <td>entropy</td>\n",
              "      <td>10</td>\n",
              "      <td>44</td>\n",
              "      <td>{'criterion': 'entropy', 'max_depth': 10, 'max...</td>\n",
              "      <td>0.820652</td>\n",
              "      <td>0.804952</td>\n",
              "      <td>0.821860</td>\n",
              "      <td>0.810876</td>\n",
              "      <td>0.827190</td>\n",
              "      <td>0.817106</td>\n",
              "      <td>0.008042</td>\n",
              "      <td>5</td>\n",
              "    </tr>\n",
              "    <tr>\n",
              "      <th>5</th>\n",
              "      <td>0.026212</td>\n",
              "      <td>0.001154</td>\n",
              "      <td>0.003349</td>\n",
              "      <td>0.000028</td>\n",
              "      <td>gini</td>\n",
              "      <td>10</td>\n",
              "      <td>20</td>\n",
              "      <td>{'criterion': 'gini', 'max_depth': 10, 'max_fe...</td>\n",
              "      <td>0.821860</td>\n",
              "      <td>0.791667</td>\n",
              "      <td>0.824879</td>\n",
              "      <td>0.816314</td>\n",
              "      <td>0.824773</td>\n",
              "      <td>0.815899</td>\n",
              "      <td>0.012508</td>\n",
              "      <td>6</td>\n",
              "    </tr>\n",
              "    <tr>\n",
              "      <th>7</th>\n",
              "      <td>0.047074</td>\n",
              "      <td>0.000561</td>\n",
              "      <td>0.003379</td>\n",
              "      <td>0.000036</td>\n",
              "      <td>gini</td>\n",
              "      <td>10</td>\n",
              "      <td>44</td>\n",
              "      <td>{'criterion': 'gini', 'max_depth': 10, 'max_fe...</td>\n",
              "      <td>0.819444</td>\n",
              "      <td>0.798309</td>\n",
              "      <td>0.826691</td>\n",
              "      <td>0.813897</td>\n",
              "      <td>0.812085</td>\n",
              "      <td>0.814085</td>\n",
              "      <td>0.009387</td>\n",
              "      <td>7</td>\n",
              "    </tr>\n",
              "    <tr>\n",
              "      <th>28</th>\n",
              "      <td>0.021932</td>\n",
              "      <td>0.001544</td>\n",
              "      <td>0.003849</td>\n",
              "      <td>0.000562</td>\n",
              "      <td>entropy</td>\n",
              "      <td>10</td>\n",
              "      <td>10</td>\n",
              "      <td>{'criterion': 'entropy', 'max_depth': 10, 'max...</td>\n",
              "      <td>0.817633</td>\n",
              "      <td>0.775966</td>\n",
              "      <td>0.823068</td>\n",
              "      <td>0.810876</td>\n",
              "      <td>0.809668</td>\n",
              "      <td>0.807442</td>\n",
              "      <td>0.016465</td>\n",
              "      <td>8</td>\n",
              "    </tr>\n",
              "    <tr>\n",
              "      <th>46</th>\n",
              "      <td>0.058782</td>\n",
              "      <td>0.001765</td>\n",
              "      <td>0.003480</td>\n",
              "      <td>0.000064</td>\n",
              "      <td>entropy</td>\n",
              "      <td>150</td>\n",
              "      <td>30</td>\n",
              "      <td>{'criterion': 'entropy', 'max_depth': 150, 'ma...</td>\n",
              "      <td>0.814010</td>\n",
              "      <td>0.786232</td>\n",
              "      <td>0.810990</td>\n",
              "      <td>0.790937</td>\n",
              "      <td>0.829003</td>\n",
              "      <td>0.806234</td>\n",
              "      <td>0.015720</td>\n",
              "      <td>9</td>\n",
              "    </tr>\n",
              "    <tr>\n",
              "      <th>3</th>\n",
              "      <td>0.032609</td>\n",
              "      <td>0.001549</td>\n",
              "      <td>0.003471</td>\n",
              "      <td>0.000376</td>\n",
              "      <td>gini</td>\n",
              "      <td>5</td>\n",
              "      <td>44</td>\n",
              "      <td>{'criterion': 'gini', 'max_depth': 5, 'max_fea...</td>\n",
              "      <td>0.817029</td>\n",
              "      <td>0.772947</td>\n",
              "      <td>0.814614</td>\n",
              "      <td>0.809668</td>\n",
              "      <td>0.813293</td>\n",
              "      <td>0.805510</td>\n",
              "      <td>0.016455</td>\n",
              "      <td>10</td>\n",
              "    </tr>\n",
              "    <tr>\n",
              "      <th>32</th>\n",
              "      <td>0.027163</td>\n",
              "      <td>0.001203</td>\n",
              "      <td>0.003469</td>\n",
              "      <td>0.000030</td>\n",
              "      <td>entropy</td>\n",
              "      <td>20</td>\n",
              "      <td>10</td>\n",
              "      <td>{'criterion': 'entropy', 'max_depth': 20, 'max...</td>\n",
              "      <td>0.818237</td>\n",
              "      <td>0.786836</td>\n",
              "      <td>0.814010</td>\n",
              "      <td>0.789728</td>\n",
              "      <td>0.818731</td>\n",
              "      <td>0.805508</td>\n",
              "      <td>0.014190</td>\n",
              "      <td>11</td>\n",
              "    </tr>\n",
              "    <tr>\n",
              "      <th>36</th>\n",
              "      <td>0.028887</td>\n",
              "      <td>0.002306</td>\n",
              "      <td>0.003468</td>\n",
              "      <td>0.000039</td>\n",
              "      <td>entropy</td>\n",
              "      <td>50</td>\n",
              "      <td>10</td>\n",
              "      <td>{'criterion': 'entropy', 'max_depth': 50, 'max...</td>\n",
              "      <td>0.800725</td>\n",
              "      <td>0.787440</td>\n",
              "      <td>0.819444</td>\n",
              "      <td>0.797583</td>\n",
              "      <td>0.815710</td>\n",
              "      <td>0.804180</td>\n",
              "      <td>0.011846</td>\n",
              "      <td>12</td>\n",
              "    </tr>\n",
              "    <tr>\n",
              "      <th>33</th>\n",
              "      <td>0.042419</td>\n",
              "      <td>0.004660</td>\n",
              "      <td>0.003956</td>\n",
              "      <td>0.001000</td>\n",
              "      <td>entropy</td>\n",
              "      <td>20</td>\n",
              "      <td>20</td>\n",
              "      <td>{'criterion': 'entropy', 'max_depth': 20, 'max...</td>\n",
              "      <td>0.804348</td>\n",
              "      <td>0.790459</td>\n",
              "      <td>0.812198</td>\n",
              "      <td>0.800000</td>\n",
              "      <td>0.812689</td>\n",
              "      <td>0.803939</td>\n",
              "      <td>0.008272</td>\n",
              "      <td>13</td>\n",
              "    </tr>\n",
              "    <tr>\n",
              "      <th>37</th>\n",
              "      <td>0.043958</td>\n",
              "      <td>0.005766</td>\n",
              "      <td>0.003467</td>\n",
              "      <td>0.000109</td>\n",
              "      <td>entropy</td>\n",
              "      <td>50</td>\n",
              "      <td>20</td>\n",
              "      <td>{'criterion': 'entropy', 'max_depth': 50, 'max...</td>\n",
              "      <td>0.800121</td>\n",
              "      <td>0.789251</td>\n",
              "      <td>0.808575</td>\n",
              "      <td>0.804230</td>\n",
              "      <td>0.816314</td>\n",
              "      <td>0.803698</td>\n",
              "      <td>0.008997</td>\n",
              "      <td>14</td>\n",
              "    </tr>\n",
              "    <tr>\n",
              "      <th>14</th>\n",
              "      <td>0.043283</td>\n",
              "      <td>0.001495</td>\n",
              "      <td>0.003452</td>\n",
              "      <td>0.000041</td>\n",
              "      <td>gini</td>\n",
              "      <td>50</td>\n",
              "      <td>30</td>\n",
              "      <td>{'criterion': 'gini', 'max_depth': 50, 'max_fe...</td>\n",
              "      <td>0.797101</td>\n",
              "      <td>0.787440</td>\n",
              "      <td>0.806763</td>\n",
              "      <td>0.803625</td>\n",
              "      <td>0.819335</td>\n",
              "      <td>0.802853</td>\n",
              "      <td>0.010566</td>\n",
              "      <td>15</td>\n",
              "    </tr>\n",
              "    <tr>\n",
              "      <th>45</th>\n",
              "      <td>0.042464</td>\n",
              "      <td>0.001836</td>\n",
              "      <td>0.003456</td>\n",
              "      <td>0.000072</td>\n",
              "      <td>entropy</td>\n",
              "      <td>150</td>\n",
              "      <td>20</td>\n",
              "      <td>{'criterion': 'entropy', 'max_depth': 150, 'ma...</td>\n",
              "      <td>0.803140</td>\n",
              "      <td>0.782005</td>\n",
              "      <td>0.808575</td>\n",
              "      <td>0.807855</td>\n",
              "      <td>0.812689</td>\n",
              "      <td>0.802853</td>\n",
              "      <td>0.010856</td>\n",
              "      <td>16</td>\n",
              "    </tr>\n",
              "    <tr>\n",
              "      <th>12</th>\n",
              "      <td>0.021994</td>\n",
              "      <td>0.001193</td>\n",
              "      <td>0.003457</td>\n",
              "      <td>0.000027</td>\n",
              "      <td>gini</td>\n",
              "      <td>50</td>\n",
              "      <td>10</td>\n",
              "      <td>{'criterion': 'gini', 'max_depth': 50, 'max_fe...</td>\n",
              "      <td>0.802536</td>\n",
              "      <td>0.785628</td>\n",
              "      <td>0.807367</td>\n",
              "      <td>0.805438</td>\n",
              "      <td>0.812689</td>\n",
              "      <td>0.802732</td>\n",
              "      <td>0.009171</td>\n",
              "      <td>17</td>\n",
              "    </tr>\n",
              "    <tr>\n",
              "      <th>2</th>\n",
              "      <td>0.026239</td>\n",
              "      <td>0.002617</td>\n",
              "      <td>0.003399</td>\n",
              "      <td>0.000146</td>\n",
              "      <td>gini</td>\n",
              "      <td>5</td>\n",
              "      <td>30</td>\n",
              "      <td>{'criterion': 'gini', 'max_depth': 5, 'max_fea...</td>\n",
              "      <td>0.810990</td>\n",
              "      <td>0.768720</td>\n",
              "      <td>0.806159</td>\n",
              "      <td>0.818127</td>\n",
              "      <td>0.806042</td>\n",
              "      <td>0.802008</td>\n",
              "      <td>0.017217</td>\n",
              "      <td>18</td>\n",
              "    </tr>\n",
              "    <tr>\n",
              "      <th>17</th>\n",
              "      <td>0.033420</td>\n",
              "      <td>0.000750</td>\n",
              "      <td>0.003493</td>\n",
              "      <td>0.000096</td>\n",
              "      <td>gini</td>\n",
              "      <td>100</td>\n",
              "      <td>20</td>\n",
              "      <td>{'criterion': 'gini', 'max_depth': 100, 'max_f...</td>\n",
              "      <td>0.799517</td>\n",
              "      <td>0.782609</td>\n",
              "      <td>0.807367</td>\n",
              "      <td>0.803021</td>\n",
              "      <td>0.816918</td>\n",
              "      <td>0.801886</td>\n",
              "      <td>0.011265</td>\n",
              "      <td>19</td>\n",
              "    </tr>\n",
              "    <tr>\n",
              "      <th>42</th>\n",
              "      <td>0.056856</td>\n",
              "      <td>0.001196</td>\n",
              "      <td>0.003615</td>\n",
              "      <td>0.000286</td>\n",
              "      <td>entropy</td>\n",
              "      <td>100</td>\n",
              "      <td>30</td>\n",
              "      <td>{'criterion': 'entropy', 'max_depth': 100, 'ma...</td>\n",
              "      <td>0.803140</td>\n",
              "      <td>0.779589</td>\n",
              "      <td>0.808575</td>\n",
              "      <td>0.800604</td>\n",
              "      <td>0.815710</td>\n",
              "      <td>0.801524</td>\n",
              "      <td>0.012129</td>\n",
              "      <td>20</td>\n",
              "    </tr>\n",
              "    <tr>\n",
              "      <th>34</th>\n",
              "      <td>0.057098</td>\n",
              "      <td>0.000852</td>\n",
              "      <td>0.003395</td>\n",
              "      <td>0.000023</td>\n",
              "      <td>entropy</td>\n",
              "      <td>20</td>\n",
              "      <td>30</td>\n",
              "      <td>{'criterion': 'entropy', 'max_depth': 20, 'max...</td>\n",
              "      <td>0.794082</td>\n",
              "      <td>0.796498</td>\n",
              "      <td>0.812802</td>\n",
              "      <td>0.790937</td>\n",
              "      <td>0.812085</td>\n",
              "      <td>0.801281</td>\n",
              "      <td>0.009286</td>\n",
              "      <td>21</td>\n",
              "    </tr>\n",
              "    <tr>\n",
              "      <th>38</th>\n",
              "      <td>0.058942</td>\n",
              "      <td>0.001290</td>\n",
              "      <td>0.003434</td>\n",
              "      <td>0.000043</td>\n",
              "      <td>entropy</td>\n",
              "      <td>50</td>\n",
              "      <td>30</td>\n",
              "      <td>{'criterion': 'entropy', 'max_depth': 50, 'max...</td>\n",
              "      <td>0.795894</td>\n",
              "      <td>0.789855</td>\n",
              "      <td>0.812802</td>\n",
              "      <td>0.794562</td>\n",
              "      <td>0.812689</td>\n",
              "      <td>0.801160</td>\n",
              "      <td>0.009670</td>\n",
              "      <td>22</td>\n",
              "    </tr>\n",
              "    <tr>\n",
              "      <th>26</th>\n",
              "      <td>0.030946</td>\n",
              "      <td>0.001846</td>\n",
              "      <td>0.003276</td>\n",
              "      <td>0.000053</td>\n",
              "      <td>entropy</td>\n",
              "      <td>5</td>\n",
              "      <td>30</td>\n",
              "      <td>{'criterion': 'entropy', 'max_depth': 5, 'max_...</td>\n",
              "      <td>0.792874</td>\n",
              "      <td>0.776570</td>\n",
              "      <td>0.814614</td>\n",
              "      <td>0.800604</td>\n",
              "      <td>0.819940</td>\n",
              "      <td>0.800920</td>\n",
              "      <td>0.015537</td>\n",
              "      <td>23</td>\n",
              "    </tr>\n",
              "    <tr>\n",
              "      <th>41</th>\n",
              "      <td>0.043310</td>\n",
              "      <td>0.001121</td>\n",
              "      <td>0.003441</td>\n",
              "      <td>0.000021</td>\n",
              "      <td>entropy</td>\n",
              "      <td>100</td>\n",
              "      <td>20</td>\n",
              "      <td>{'criterion': 'entropy', 'max_depth': 100, 'ma...</td>\n",
              "      <td>0.802536</td>\n",
              "      <td>0.791063</td>\n",
              "      <td>0.809179</td>\n",
              "      <td>0.792145</td>\n",
              "      <td>0.809668</td>\n",
              "      <td>0.800918</td>\n",
              "      <td>0.008019</td>\n",
              "      <td>24</td>\n",
              "    </tr>\n",
              "    <tr>\n",
              "      <th>8</th>\n",
              "      <td>0.023191</td>\n",
              "      <td>0.001740</td>\n",
              "      <td>0.003588</td>\n",
              "      <td>0.000104</td>\n",
              "      <td>gini</td>\n",
              "      <td>20</td>\n",
              "      <td>10</td>\n",
              "      <td>{'criterion': 'gini', 'max_depth': 20, 'max_fe...</td>\n",
              "      <td>0.813406</td>\n",
              "      <td>0.780193</td>\n",
              "      <td>0.798309</td>\n",
              "      <td>0.799396</td>\n",
              "      <td>0.810876</td>\n",
              "      <td>0.800436</td>\n",
              "      <td>0.011769</td>\n",
              "      <td>25</td>\n",
              "    </tr>\n",
              "    <tr>\n",
              "      <th>20</th>\n",
              "      <td>0.022817</td>\n",
              "      <td>0.001046</td>\n",
              "      <td>0.003548</td>\n",
              "      <td>0.000101</td>\n",
              "      <td>gini</td>\n",
              "      <td>150</td>\n",
              "      <td>10</td>\n",
              "      <td>{'criterion': 'gini', 'max_depth': 150, 'max_f...</td>\n",
              "      <td>0.805556</td>\n",
              "      <td>0.769928</td>\n",
              "      <td>0.818237</td>\n",
              "      <td>0.795770</td>\n",
              "      <td>0.812689</td>\n",
              "      <td>0.800436</td>\n",
              "      <td>0.017004</td>\n",
              "      <td>26</td>\n",
              "    </tr>\n",
              "    <tr>\n",
              "      <th>35</th>\n",
              "      <td>0.077188</td>\n",
              "      <td>0.000926</td>\n",
              "      <td>0.003496</td>\n",
              "      <td>0.000164</td>\n",
              "      <td>entropy</td>\n",
              "      <td>20</td>\n",
              "      <td>44</td>\n",
              "      <td>{'criterion': 'entropy', 'max_depth': 20, 'max...</td>\n",
              "      <td>0.803744</td>\n",
              "      <td>0.786232</td>\n",
              "      <td>0.811594</td>\n",
              "      <td>0.788520</td>\n",
              "      <td>0.809063</td>\n",
              "      <td>0.799831</td>\n",
              "      <td>0.010505</td>\n",
              "      <td>27</td>\n",
              "    </tr>\n",
              "    <tr>\n",
              "      <th>27</th>\n",
              "      <td>0.040383</td>\n",
              "      <td>0.000894</td>\n",
              "      <td>0.003292</td>\n",
              "      <td>0.000021</td>\n",
              "      <td>entropy</td>\n",
              "      <td>5</td>\n",
              "      <td>44</td>\n",
              "      <td>{'criterion': 'entropy', 'max_depth': 5, 'max_...</td>\n",
              "      <td>0.792271</td>\n",
              "      <td>0.777174</td>\n",
              "      <td>0.814614</td>\n",
              "      <td>0.804230</td>\n",
              "      <td>0.810272</td>\n",
              "      <td>0.799712</td>\n",
              "      <td>0.013545</td>\n",
              "      <td>28</td>\n",
              "    </tr>\n",
              "    <tr>\n",
              "      <th>10</th>\n",
              "      <td>0.042034</td>\n",
              "      <td>0.001007</td>\n",
              "      <td>0.003450</td>\n",
              "      <td>0.000054</td>\n",
              "      <td>gini</td>\n",
              "      <td>20</td>\n",
              "      <td>30</td>\n",
              "      <td>{'criterion': 'gini', 'max_depth': 20, 'max_fe...</td>\n",
              "      <td>0.810990</td>\n",
              "      <td>0.792271</td>\n",
              "      <td>0.798913</td>\n",
              "      <td>0.787311</td>\n",
              "      <td>0.809063</td>\n",
              "      <td>0.799710</td>\n",
              "      <td>0.009214</td>\n",
              "      <td>29</td>\n",
              "    </tr>\n",
              "    <tr>\n",
              "      <th>39</th>\n",
              "      <td>0.077949</td>\n",
              "      <td>0.000603</td>\n",
              "      <td>0.003493</td>\n",
              "      <td>0.000087</td>\n",
              "      <td>entropy</td>\n",
              "      <td>50</td>\n",
              "      <td>44</td>\n",
              "      <td>{'criterion': 'entropy', 'max_depth': 50, 'max...</td>\n",
              "      <td>0.798309</td>\n",
              "      <td>0.787440</td>\n",
              "      <td>0.803140</td>\n",
              "      <td>0.795770</td>\n",
              "      <td>0.813293</td>\n",
              "      <td>0.799590</td>\n",
              "      <td>0.008535</td>\n",
              "      <td>30</td>\n",
              "    </tr>\n",
              "    <tr>\n",
              "      <th>21</th>\n",
              "      <td>0.032588</td>\n",
              "      <td>0.001705</td>\n",
              "      <td>0.003549</td>\n",
              "      <td>0.000149</td>\n",
              "      <td>gini</td>\n",
              "      <td>150</td>\n",
              "      <td>20</td>\n",
              "      <td>{'criterion': 'gini', 'max_depth': 150, 'max_f...</td>\n",
              "      <td>0.791063</td>\n",
              "      <td>0.785628</td>\n",
              "      <td>0.803140</td>\n",
              "      <td>0.795166</td>\n",
              "      <td>0.822356</td>\n",
              "      <td>0.799471</td>\n",
              "      <td>0.012791</td>\n",
              "      <td>31</td>\n",
              "    </tr>\n",
              "    <tr>\n",
              "      <th>13</th>\n",
              "      <td>0.033294</td>\n",
              "      <td>0.002173</td>\n",
              "      <td>0.003575</td>\n",
              "      <td>0.000102</td>\n",
              "      <td>gini</td>\n",
              "      <td>50</td>\n",
              "      <td>20</td>\n",
              "      <td>{'criterion': 'gini', 'max_depth': 50, 'max_fe...</td>\n",
              "      <td>0.807367</td>\n",
              "      <td>0.778986</td>\n",
              "      <td>0.801932</td>\n",
              "      <td>0.792749</td>\n",
              "      <td>0.815710</td>\n",
              "      <td>0.799349</td>\n",
              "      <td>0.012624</td>\n",
              "      <td>32</td>\n",
              "    </tr>\n",
              "    <tr>\n",
              "      <th>43</th>\n",
              "      <td>0.078765</td>\n",
              "      <td>0.002874</td>\n",
              "      <td>0.003653</td>\n",
              "      <td>0.000512</td>\n",
              "      <td>entropy</td>\n",
              "      <td>100</td>\n",
              "      <td>44</td>\n",
              "      <td>{'criterion': 'entropy', 'max_depth': 100, 'ma...</td>\n",
              "      <td>0.800725</td>\n",
              "      <td>0.785024</td>\n",
              "      <td>0.801329</td>\n",
              "      <td>0.789728</td>\n",
              "      <td>0.816314</td>\n",
              "      <td>0.798624</td>\n",
              "      <td>0.010851</td>\n",
              "      <td>33</td>\n",
              "    </tr>\n",
              "    <tr>\n",
              "      <th>1</th>\n",
              "      <td>0.018946</td>\n",
              "      <td>0.000536</td>\n",
              "      <td>0.003349</td>\n",
              "      <td>0.000085</td>\n",
              "      <td>gini</td>\n",
              "      <td>5</td>\n",
              "      <td>20</td>\n",
              "      <td>{'criterion': 'gini', 'max_depth': 5, 'max_fea...</td>\n",
              "      <td>0.804348</td>\n",
              "      <td>0.772947</td>\n",
              "      <td>0.810386</td>\n",
              "      <td>0.805438</td>\n",
              "      <td>0.799396</td>\n",
              "      <td>0.798503</td>\n",
              "      <td>0.013247</td>\n",
              "      <td>34</td>\n",
              "    </tr>\n",
              "    <tr>\n",
              "      <th>9</th>\n",
              "      <td>0.032630</td>\n",
              "      <td>0.000937</td>\n",
              "      <td>0.003445</td>\n",
              "      <td>0.000073</td>\n",
              "      <td>gini</td>\n",
              "      <td>20</td>\n",
              "      <td>20</td>\n",
              "      <td>{'criterion': 'gini', 'max_depth': 20, 'max_fe...</td>\n",
              "      <td>0.803744</td>\n",
              "      <td>0.769324</td>\n",
              "      <td>0.812198</td>\n",
              "      <td>0.798792</td>\n",
              "      <td>0.807251</td>\n",
              "      <td>0.798262</td>\n",
              "      <td>0.015118</td>\n",
              "      <td>35</td>\n",
              "    </tr>\n",
              "    <tr>\n",
              "      <th>23</th>\n",
              "      <td>0.057804</td>\n",
              "      <td>0.001754</td>\n",
              "      <td>0.003459</td>\n",
              "      <td>0.000051</td>\n",
              "      <td>gini</td>\n",
              "      <td>150</td>\n",
              "      <td>44</td>\n",
              "      <td>{'criterion': 'gini', 'max_depth': 150, 'max_f...</td>\n",
              "      <td>0.802536</td>\n",
              "      <td>0.797705</td>\n",
              "      <td>0.801329</td>\n",
              "      <td>0.780060</td>\n",
              "      <td>0.806647</td>\n",
              "      <td>0.797655</td>\n",
              "      <td>0.009249</td>\n",
              "      <td>36</td>\n",
              "    </tr>\n",
              "    <tr>\n",
              "      <th>16</th>\n",
              "      <td>0.021718</td>\n",
              "      <td>0.000725</td>\n",
              "      <td>0.003592</td>\n",
              "      <td>0.000176</td>\n",
              "      <td>gini</td>\n",
              "      <td>100</td>\n",
              "      <td>10</td>\n",
              "      <td>{'criterion': 'gini', 'max_depth': 100, 'max_f...</td>\n",
              "      <td>0.797705</td>\n",
              "      <td>0.786232</td>\n",
              "      <td>0.802536</td>\n",
              "      <td>0.798792</td>\n",
              "      <td>0.802417</td>\n",
              "      <td>0.797536</td>\n",
              "      <td>0.005970</td>\n",
              "      <td>37</td>\n",
              "    </tr>\n",
              "    <tr>\n",
              "      <th>44</th>\n",
              "      <td>0.028913</td>\n",
              "      <td>0.001087</td>\n",
              "      <td>0.003578</td>\n",
              "      <td>0.000029</td>\n",
              "      <td>entropy</td>\n",
              "      <td>150</td>\n",
              "      <td>10</td>\n",
              "      <td>{'criterion': 'entropy', 'max_depth': 150, 'ma...</td>\n",
              "      <td>0.802536</td>\n",
              "      <td>0.775362</td>\n",
              "      <td>0.816425</td>\n",
              "      <td>0.789728</td>\n",
              "      <td>0.801813</td>\n",
              "      <td>0.797173</td>\n",
              "      <td>0.013799</td>\n",
              "      <td>38</td>\n",
              "    </tr>\n",
              "    <tr>\n",
              "      <th>40</th>\n",
              "      <td>0.028566</td>\n",
              "      <td>0.002190</td>\n",
              "      <td>0.003476</td>\n",
              "      <td>0.000038</td>\n",
              "      <td>entropy</td>\n",
              "      <td>100</td>\n",
              "      <td>10</td>\n",
              "      <td>{'criterion': 'entropy', 'max_depth': 100, 'ma...</td>\n",
              "      <td>0.805556</td>\n",
              "      <td>0.788043</td>\n",
              "      <td>0.803140</td>\n",
              "      <td>0.781873</td>\n",
              "      <td>0.807251</td>\n",
              "      <td>0.797173</td>\n",
              "      <td>0.010246</td>\n",
              "      <td>39</td>\n",
              "    </tr>\n",
              "    <tr>\n",
              "      <th>19</th>\n",
              "      <td>0.056456</td>\n",
              "      <td>0.000707</td>\n",
              "      <td>0.003524</td>\n",
              "      <td>0.000135</td>\n",
              "      <td>gini</td>\n",
              "      <td>100</td>\n",
              "      <td>44</td>\n",
              "      <td>{'criterion': 'gini', 'max_depth': 100, 'max_f...</td>\n",
              "      <td>0.802536</td>\n",
              "      <td>0.792874</td>\n",
              "      <td>0.803140</td>\n",
              "      <td>0.784894</td>\n",
              "      <td>0.801208</td>\n",
              "      <td>0.796931</td>\n",
              "      <td>0.007066</td>\n",
              "      <td>40</td>\n",
              "    </tr>\n",
              "    <tr>\n",
              "      <th>15</th>\n",
              "      <td>0.056198</td>\n",
              "      <td>0.000613</td>\n",
              "      <td>0.003437</td>\n",
              "      <td>0.000039</td>\n",
              "      <td>gini</td>\n",
              "      <td>50</td>\n",
              "      <td>44</td>\n",
              "      <td>{'criterion': 'gini', 'max_depth': 50, 'max_fe...</td>\n",
              "      <td>0.803140</td>\n",
              "      <td>0.788647</td>\n",
              "      <td>0.809179</td>\n",
              "      <td>0.781873</td>\n",
              "      <td>0.801813</td>\n",
              "      <td>0.796930</td>\n",
              "      <td>0.010077</td>\n",
              "      <td>41</td>\n",
              "    </tr>\n",
              "    <tr>\n",
              "      <th>11</th>\n",
              "      <td>0.057021</td>\n",
              "      <td>0.002600</td>\n",
              "      <td>0.003410</td>\n",
              "      <td>0.000038</td>\n",
              "      <td>gini</td>\n",
              "      <td>20</td>\n",
              "      <td>44</td>\n",
              "      <td>{'criterion': 'gini', 'max_depth': 20, 'max_fe...</td>\n",
              "      <td>0.797705</td>\n",
              "      <td>0.795290</td>\n",
              "      <td>0.806159</td>\n",
              "      <td>0.778248</td>\n",
              "      <td>0.800000</td>\n",
              "      <td>0.795480</td>\n",
              "      <td>0.009343</td>\n",
              "      <td>42</td>\n",
              "    </tr>\n",
              "    <tr>\n",
              "      <th>47</th>\n",
              "      <td>0.078629</td>\n",
              "      <td>0.001174</td>\n",
              "      <td>0.003473</td>\n",
              "      <td>0.000109</td>\n",
              "      <td>entropy</td>\n",
              "      <td>150</td>\n",
              "      <td>44</td>\n",
              "      <td>{'criterion': 'entropy', 'max_depth': 150, 'ma...</td>\n",
              "      <td>0.795894</td>\n",
              "      <td>0.779589</td>\n",
              "      <td>0.805556</td>\n",
              "      <td>0.787311</td>\n",
              "      <td>0.806042</td>\n",
              "      <td>0.794878</td>\n",
              "      <td>0.010302</td>\n",
              "      <td>43</td>\n",
              "    </tr>\n",
              "    <tr>\n",
              "      <th>22</th>\n",
              "      <td>0.042712</td>\n",
              "      <td>0.000454</td>\n",
              "      <td>0.003503</td>\n",
              "      <td>0.000092</td>\n",
              "      <td>gini</td>\n",
              "      <td>150</td>\n",
              "      <td>30</td>\n",
              "      <td>{'criterion': 'gini', 'max_depth': 150, 'max_f...</td>\n",
              "      <td>0.797705</td>\n",
              "      <td>0.778382</td>\n",
              "      <td>0.801329</td>\n",
              "      <td>0.787915</td>\n",
              "      <td>0.805438</td>\n",
              "      <td>0.794154</td>\n",
              "      <td>0.009789</td>\n",
              "      <td>44</td>\n",
              "    </tr>\n",
              "    <tr>\n",
              "      <th>24</th>\n",
              "      <td>0.015868</td>\n",
              "      <td>0.000782</td>\n",
              "      <td>0.003376</td>\n",
              "      <td>0.000057</td>\n",
              "      <td>entropy</td>\n",
              "      <td>5</td>\n",
              "      <td>10</td>\n",
              "      <td>{'criterion': 'entropy', 'max_depth': 5, 'max_...</td>\n",
              "      <td>0.807367</td>\n",
              "      <td>0.763285</td>\n",
              "      <td>0.790459</td>\n",
              "      <td>0.801813</td>\n",
              "      <td>0.806042</td>\n",
              "      <td>0.793793</td>\n",
              "      <td>0.016374</td>\n",
              "      <td>45</td>\n",
              "    </tr>\n",
              "    <tr>\n",
              "      <th>0</th>\n",
              "      <td>0.014948</td>\n",
              "      <td>0.002209</td>\n",
              "      <td>0.003308</td>\n",
              "      <td>0.000058</td>\n",
              "      <td>gini</td>\n",
              "      <td>5</td>\n",
              "      <td>10</td>\n",
              "      <td>{'criterion': 'gini', 'max_depth': 5, 'max_fea...</td>\n",
              "      <td>0.795894</td>\n",
              "      <td>0.780797</td>\n",
              "      <td>0.796498</td>\n",
              "      <td>0.790937</td>\n",
              "      <td>0.801813</td>\n",
              "      <td>0.793188</td>\n",
              "      <td>0.007089</td>\n",
              "      <td>46</td>\n",
              "    </tr>\n",
              "    <tr>\n",
              "      <th>25</th>\n",
              "      <td>0.023222</td>\n",
              "      <td>0.000829</td>\n",
              "      <td>0.003318</td>\n",
              "      <td>0.000065</td>\n",
              "      <td>entropy</td>\n",
              "      <td>5</td>\n",
              "      <td>20</td>\n",
              "      <td>{'criterion': 'entropy', 'max_depth': 5, 'max_...</td>\n",
              "      <td>0.805556</td>\n",
              "      <td>0.753623</td>\n",
              "      <td>0.792271</td>\n",
              "      <td>0.803625</td>\n",
              "      <td>0.807251</td>\n",
              "      <td>0.792465</td>\n",
              "      <td>0.020116</td>\n",
              "      <td>47</td>\n",
              "    </tr>\n",
              "    <tr>\n",
              "      <th>18</th>\n",
              "      <td>0.042932</td>\n",
              "      <td>0.002489</td>\n",
              "      <td>0.003483</td>\n",
              "      <td>0.000127</td>\n",
              "      <td>gini</td>\n",
              "      <td>100</td>\n",
              "      <td>30</td>\n",
              "      <td>{'criterion': 'gini', 'max_depth': 100, 'max_f...</td>\n",
              "      <td>0.797705</td>\n",
              "      <td>0.772947</td>\n",
              "      <td>0.800725</td>\n",
              "      <td>0.770997</td>\n",
              "      <td>0.806042</td>\n",
              "      <td>0.789683</td>\n",
              "      <td>0.014718</td>\n",
              "      <td>48</td>\n",
              "    </tr>\n",
              "  </tbody>\n",
              "</table>\n",
              "</div>"
            ],
            "text/plain": [
              "    mean_fit_time  std_fit_time  ...  std_test_score  rank_test_score\n",
              "4        0.019310      0.002065  ...        0.011017                1\n",
              "29       0.034552      0.001213  ...        0.015385                2\n",
              "6        0.034809      0.000669  ...        0.014773                3\n",
              "30       0.045750      0.002278  ...        0.010710                4\n",
              "31       0.061669      0.000852  ...        0.008042                5\n",
              "5        0.026212      0.001154  ...        0.012508                6\n",
              "7        0.047074      0.000561  ...        0.009387                7\n",
              "28       0.021932      0.001544  ...        0.016465                8\n",
              "46       0.058782      0.001765  ...        0.015720                9\n",
              "3        0.032609      0.001549  ...        0.016455               10\n",
              "32       0.027163      0.001203  ...        0.014190               11\n",
              "36       0.028887      0.002306  ...        0.011846               12\n",
              "33       0.042419      0.004660  ...        0.008272               13\n",
              "37       0.043958      0.005766  ...        0.008997               14\n",
              "14       0.043283      0.001495  ...        0.010566               15\n",
              "45       0.042464      0.001836  ...        0.010856               16\n",
              "12       0.021994      0.001193  ...        0.009171               17\n",
              "2        0.026239      0.002617  ...        0.017217               18\n",
              "17       0.033420      0.000750  ...        0.011265               19\n",
              "42       0.056856      0.001196  ...        0.012129               20\n",
              "34       0.057098      0.000852  ...        0.009286               21\n",
              "38       0.058942      0.001290  ...        0.009670               22\n",
              "26       0.030946      0.001846  ...        0.015537               23\n",
              "41       0.043310      0.001121  ...        0.008019               24\n",
              "8        0.023191      0.001740  ...        0.011769               25\n",
              "20       0.022817      0.001046  ...        0.017004               26\n",
              "35       0.077188      0.000926  ...        0.010505               27\n",
              "27       0.040383      0.000894  ...        0.013545               28\n",
              "10       0.042034      0.001007  ...        0.009214               29\n",
              "39       0.077949      0.000603  ...        0.008535               30\n",
              "21       0.032588      0.001705  ...        0.012791               31\n",
              "13       0.033294      0.002173  ...        0.012624               32\n",
              "43       0.078765      0.002874  ...        0.010851               33\n",
              "1        0.018946      0.000536  ...        0.013247               34\n",
              "9        0.032630      0.000937  ...        0.015118               35\n",
              "23       0.057804      0.001754  ...        0.009249               36\n",
              "16       0.021718      0.000725  ...        0.005970               37\n",
              "44       0.028913      0.001087  ...        0.013799               38\n",
              "40       0.028566      0.002190  ...        0.010246               39\n",
              "19       0.056456      0.000707  ...        0.007066               40\n",
              "15       0.056198      0.000613  ...        0.010077               41\n",
              "11       0.057021      0.002600  ...        0.009343               42\n",
              "47       0.078629      0.001174  ...        0.010302               43\n",
              "22       0.042712      0.000454  ...        0.009789               44\n",
              "24       0.015868      0.000782  ...        0.016374               45\n",
              "0        0.014948      0.002209  ...        0.007089               46\n",
              "25       0.023222      0.000829  ...        0.020116               47\n",
              "18       0.042932      0.002489  ...        0.014718               48\n",
              "\n",
              "[48 rows x 16 columns]"
            ]
          },
          "metadata": {
            "tags": []
          },
          "execution_count": 19
        }
      ]
    },
    {
      "cell_type": "code",
      "metadata": {
        "colab": {
          "base_uri": "https://localhost:8080/"
        },
        "id": "o9y_9Dh742W6",
        "outputId": "470972fc-5d2c-447a-cdb3-f904dcb1305c"
      },
      "source": [
        "# Timing our model.\n",
        "start_time = time.time()\n",
        "\n",
        "# Initialize and train our tree using best parameters from GridSearchCV.\n",
        "decision_tree = tree.DecisionTreeClassifier(\n",
        "    criterion='gini',\n",
        "    max_depth=10,\n",
        "    max_features=10,\n",
        ")\n",
        "decision_tree.fit(X_train, y_train)\n",
        "\n",
        "# Print model runtime. \n",
        "print(\"--- %s seconds ---\" % round(time.time() - start_time, 3))"
      ],
      "execution_count": 20,
      "outputs": [
        {
          "output_type": "stream",
          "text": [
            "--- 0.028 seconds ---\n"
          ],
          "name": "stdout"
        }
      ]
    },
    {
      "cell_type": "markdown",
      "metadata": {
        "id": "JxqxbsTVR6c-"
      },
      "source": [
        "Decision tree classification is displaying a faster runtime than our KNN classifier, almost half the runtime."
      ]
    },
    {
      "cell_type": "code",
      "metadata": {
        "id": "BDUyMCwPk15r",
        "colab": {
          "base_uri": "https://localhost:8080/"
        },
        "outputId": "b9fe068c-2f6b-4412-a353-ede5db4dd6fd"
      },
      "source": [
        "cross_val_score(decision_tree, X_train, y_train, cv=10)"
      ],
      "execution_count": 21,
      "outputs": [
        {
          "output_type": "execute_result",
          "data": {
            "text/plain": [
              "array([0.82125604, 0.82608696, 0.79347826, 0.78140097, 0.83695652,\n",
              "       0.83695652, 0.8236715 , 0.8321256 , 0.80411125, 0.83675937])"
            ]
          },
          "metadata": {
            "tags": []
          },
          "execution_count": 21
        }
      ]
    },
    {
      "cell_type": "markdown",
      "metadata": {
        "id": "YVspYVLRNgv6"
      },
      "source": [
        "Examining cross validation score for our decision tree we are seeing some variance of about 5%, our model is showing no signs of overfitting or underfitting to new data at different cross-validation points."
      ]
    },
    {
      "cell_type": "code",
      "metadata": {
        "id": "LO6tBMTGlPOj",
        "colab": {
          "base_uri": "https://localhost:8080/"
        },
        "outputId": "1f43bcab-7f7e-4309-8923-053c81fa3681"
      },
      "source": [
        "# Print accuracy score, confusion matrix, and classification report metrics for our Decision Tree.\n",
        "y_pred = decision_tree.predict(X_test)\n",
        "dt_accuracy = accuracy_score(y_test,y_pred)\n",
        "decision_tree_report = classification_report(y_test, y_pred)\n",
        "cm = confusion_matrix(y_test, y_pred)\n",
        "\n",
        "print(\"Accuracy: \", dt_accuracy)\n",
        "print(\"Classification report:\")\n",
        "print(decision_tree_report)\n",
        "print(\"Confusion matrix:\")\n",
        "print(cm)"
      ],
      "execution_count": 22,
      "outputs": [
        {
          "output_type": "stream",
          "text": [
            "Accuracy:  0.8227053140096618\n",
            "Classification report:\n",
            "              precision    recall  f1-score   support\n",
            "\n",
            "          No       0.82      0.83      0.82      1021\n",
            "         Yes       0.83      0.82      0.82      1049\n",
            "\n",
            "    accuracy                           0.82      2070\n",
            "   macro avg       0.82      0.82      0.82      2070\n",
            "weighted avg       0.82      0.82      0.82      2070\n",
            "\n",
            "Confusion matrix:\n",
            "[[846 175]\n",
            " [192 857]]\n"
          ],
          "name": "stdout"
        }
      ]
    },
    {
      "cell_type": "markdown",
      "metadata": {
        "id": "9DWlwc5mbtVy"
      },
      "source": [
        "Weighted average metrics are displaying a similar level of performance as previous models. Accuracy score is desirable considering the runtime reduction. Decision tree classifier is showing the fastest performance so far without features selection or decomposition."
      ]
    },
    {
      "cell_type": "markdown",
      "metadata": {
        "id": "BBd5wGo1hIyq"
      },
      "source": [
        "# Random Forest Classifier"
      ]
    },
    {
      "cell_type": "code",
      "metadata": {
        "id": "lTpRMDGNhNSy",
        "colab": {
          "base_uri": "https://localhost:8080/"
        },
        "outputId": "f757809d-b6cd-4f19-d698-30eb2d5b0b88"
      },
      "source": [
        "# Creating a Random Forest Classifier to use with GridSearchCV.\n",
        "rfc = ensemble.RandomForestClassifier()\n",
        "\n",
        "# Creating a parameter grid to find best combination of hyperparameters. \n",
        "param_grid = { \n",
        "    'n_estimators': [200, 500],\n",
        "    'max_features': ['auto', 'sqrt', 'log2'],\n",
        "    'max_depth' : [10,20,30,44],\n",
        "    'criterion' :['gini', 'entropy']\n",
        "}\n",
        "\n",
        "# Using GridSearchCV to find best hyperparamater combination.\n",
        "CV_rfc = GridSearchCV(estimator=rfc, param_grid=param_grid, cv= 5)\n",
        "\n",
        "# Fitting GridSearchCV to our newly decomposed data.\n",
        "CV_rfc.fit(X_train, y_train)"
      ],
      "execution_count": 13,
      "outputs": [
        {
          "output_type": "execute_result",
          "data": {
            "text/plain": [
              "GridSearchCV(cv=5, error_score=nan,\n",
              "             estimator=RandomForestClassifier(bootstrap=True, ccp_alpha=0.0,\n",
              "                                              class_weight=None,\n",
              "                                              criterion='gini', max_depth=None,\n",
              "                                              max_features='auto',\n",
              "                                              max_leaf_nodes=None,\n",
              "                                              max_samples=None,\n",
              "                                              min_impurity_decrease=0.0,\n",
              "                                              min_impurity_split=None,\n",
              "                                              min_samples_leaf=1,\n",
              "                                              min_samples_split=2,\n",
              "                                              min_weight_fraction_leaf=0.0,\n",
              "                                              n_estimators=100, n_jobs=None,\n",
              "                                              oob_score=False,\n",
              "                                              random_state=None, verbose=0,\n",
              "                                              warm_start=False),\n",
              "             iid='deprecated', n_jobs=None,\n",
              "             param_grid={'criterion': ['gini', 'entropy'],\n",
              "                         'max_depth': [10, 20, 30, 44],\n",
              "                         'max_features': ['auto', 'sqrt', 'log2'],\n",
              "                         'n_estimators': [200, 500]},\n",
              "             pre_dispatch='2*n_jobs', refit=True, return_train_score=False,\n",
              "             scoring=None, verbose=0)"
            ]
          },
          "metadata": {
            "tags": []
          },
          "execution_count": 13
        }
      ]
    },
    {
      "cell_type": "code",
      "metadata": {
        "colab": {
          "base_uri": "https://localhost:8080/"
        },
        "id": "uhtWQ3Xj4Vks",
        "outputId": "e09ef64d-a606-4033-a640-f0236103c876"
      },
      "source": [
        "# Calling best_params_ to find best parameters from GridSearchCV.\n",
        "CV_rfc.best_params_"
      ],
      "execution_count": 14,
      "outputs": [
        {
          "output_type": "execute_result",
          "data": {
            "text/plain": [
              "{'criterion': 'entropy',\n",
              " 'max_depth': 20,\n",
              " 'max_features': 'auto',\n",
              " 'n_estimators': 200}"
            ]
          },
          "metadata": {
            "tags": []
          },
          "execution_count": 14
        }
      ]
    },
    {
      "cell_type": "code",
      "metadata": {
        "colab": {
          "base_uri": "https://localhost:8080/"
        },
        "id": "idQq9yxQ4cvs",
        "outputId": "487ded94-a686-4cb1-90a5-97d8c064abc0"
      },
      "source": [
        "# Timing our model.\n",
        "start_time = time.time()\n",
        "\n",
        "# Creating our model using optimized hyperparameters from GridSearchCV.\n",
        "rfc = ensemble.RandomForestClassifier(criterion='entropy', \n",
        "                                      max_depth=20,\n",
        "                                      max_features='auto',\n",
        "                                      n_estimators=200, random_state=42)\n",
        "\n",
        "# Fit our newly decomposed data to our model.\n",
        "rfc.fit(X_train, y_train)\n",
        "\n",
        "# Print model time. \n",
        "print(\"--- %s seconds ---\" % round(time.time() - start_time, 3))"
      ],
      "execution_count": 15,
      "outputs": [
        {
          "output_type": "stream",
          "text": [
            "--- 2.713 seconds ---\n"
          ],
          "name": "stdout"
        }
      ]
    },
    {
      "cell_type": "markdown",
      "metadata": {
        "id": "Fv8vooclb386"
      },
      "source": [
        "Random forest classification is running very fast at a time of 2.7 seconds. This indicates that random forest classification is performing moderately well with a manageable runtime in comparison to our faster models. "
      ]
    },
    {
      "cell_type": "code",
      "metadata": {
        "id": "4HzDqjfXI75f",
        "colab": {
          "base_uri": "https://localhost:8080/"
        },
        "outputId": "3cbfe7ee-de5c-4646-d37b-4d0a54a1ec92"
      },
      "source": [
        "# Cross-valdiation score for our Random Forest Classifier.\n",
        "cross_val_score(rfc, X_train, y_train, cv=10)"
      ],
      "execution_count": 16,
      "outputs": [
        {
          "output_type": "execute_result",
          "data": {
            "text/plain": [
              "array([0.85990338, 0.85386473, 0.84299517, 0.82608696, 0.87318841,\n",
              "       0.87077295, 0.83333333, 0.85628019, 0.85126965, 0.87424426])"
            ]
          },
          "metadata": {
            "tags": []
          },
          "execution_count": 16
        }
      ]
    },
    {
      "cell_type": "markdown",
      "metadata": {
        "id": "WDDmymSOqx5M"
      },
      "source": [
        "We are seeing cross-validation variance of around 4% meaning our model is performing consistently and can be expected to handle new data without huge differences in cross-variance scores. We see no signs of overfit or underfit."
      ]
    },
    {
      "cell_type": "code",
      "metadata": {
        "id": "UeQot1oTlKvv",
        "colab": {
          "base_uri": "https://localhost:8080/"
        },
        "outputId": "8271b6f5-86f9-4814-b150-d1479cc5abcb"
      },
      "source": [
        "# Print classification report for Random Forest Classifier.\n",
        "y_pred = rfc.predict(X_test) \n",
        "rfc_accuracy = accuracy_score(y_test,y_pred)\n",
        "rfc_report = classification_report(y_test, y_pred)\n",
        "rfc_cm = confusion_matrix(y_test, y_pred)\n",
        "\n",
        "print(\"Classification report:\")\n",
        "print(\"Accuracy: \", rfc_accuracy)\n",
        "print(rfc_report)\n",
        "print(\"Confusion matrix:\")\n",
        "print(rfc_cm)"
      ],
      "execution_count": 17,
      "outputs": [
        {
          "output_type": "stream",
          "text": [
            "Classification report:\n",
            "Accuracy:  0.8685990338164251\n",
            "              precision    recall  f1-score   support\n",
            "\n",
            "          No       0.85      0.89      0.87      1021\n",
            "         Yes       0.89      0.85      0.87      1049\n",
            "\n",
            "    accuracy                           0.87      2070\n",
            "   macro avg       0.87      0.87      0.87      2070\n",
            "weighted avg       0.87      0.87      0.87      2070\n",
            "\n",
            "Confusion matrix:\n",
            "[[905 116]\n",
            " [156 893]]\n"
          ],
          "name": "stdout"
        }
      ]
    },
    {
      "cell_type": "markdown",
      "metadata": {
        "id": "NRrA-Eiqjp0g"
      },
      "source": [
        "We see some minor tradeoff in our crossvalidation report between precision and recall but to a much smaller degree than the previous machine learning models. Our ensemble model is performing much better than our decision tree model and all other models above. We will research further by looking at feature selection and decomposition methods combined with hyperparameter optimization to fine tune our model performance and get the best results."
      ]
    },
    {
      "cell_type": "markdown",
      "metadata": {
        "id": "_3eU4hPJGPg_"
      },
      "source": [
        "# Select K Best Feature Selection\n",
        "\n",
        "We can reduce our feature dimensions and choose the most relevant features based on K value with sklearn's SelectKBest function. Let's see if feature selection can improve our runtime or classification report metrics where we had problems with tradeoff between recall and precision earlier."
      ]
    },
    {
      "cell_type": "code",
      "metadata": {
        "id": "ZmhRlKg10bWn"
      },
      "source": [
        "# Creating target variable.\n",
        "y = df['Churn']\n",
        "\n",
        "# Creating X values by dropping our target.\n",
        "X = df.drop(columns=['Churn'])\n",
        "\n",
        "# Use pandas get_dummies function to create dummy variables necessary for statistical interpretation (One Hot Encoding).\n",
        "X = pd.get_dummies(X)\n",
        "\n",
        "# Run our selector using f_classif for our classification task.\n",
        "selector = SelectKBest(f_classif).fit(X, y)\n",
        "\n",
        "# Create boolean values to select features from original feature set using get_support.\n",
        "boolean = selector.get_support()\n",
        "\n",
        "# Our new X variable now consists of our selected best features based on K value.\n",
        "X_new = X[X.columns[boolean]]\n",
        "\n",
        "# Class balancing using SMOTE.\n",
        "sm = SMOTE(sampling_strategy='minority', random_state=42)\n",
        "\n",
        "# Fitting SMOTE to resample our target class.\n",
        "X_new, y = sm.fit_resample(X_new, y)"
      ],
      "execution_count": 15,
      "outputs": []
    },
    {
      "cell_type": "code",
      "metadata": {
        "id": "YQGaUpq9JD_b"
      },
      "source": [
        "# Let's split our data, this time using our newly selected features.\n",
        "X_train, X_test, y_train, y_test = train_test_split(X_new, y, test_size=0.20, random_state=42)"
      ],
      "execution_count": 16,
      "outputs": []
    },
    {
      "cell_type": "code",
      "metadata": {
        "id": "bAVUMzDeVVUm",
        "colab": {
          "base_uri": "https://localhost:8080/"
        },
        "outputId": "eba0041a-e3ff-4361-8a0c-b8389775ab4e"
      },
      "source": [
        "# Shape of X before selectkbest is applied.\n",
        "X.shape"
      ],
      "execution_count": 17,
      "outputs": [
        {
          "output_type": "execute_result",
          "data": {
            "text/plain": [
              "(7043, 44)"
            ]
          },
          "metadata": {
            "tags": []
          },
          "execution_count": 17
        }
      ]
    },
    {
      "cell_type": "code",
      "metadata": {
        "id": "iQmLtWWFSg4w",
        "colab": {
          "base_uri": "https://localhost:8080/"
        },
        "outputId": "14bed0f3-49a5-45f0-cb0d-16c41c4b5391"
      },
      "source": [
        "# Select K best has successfully reduced our number of features from 44 to 10.\n",
        "# We've also synthetically increased our minority class as seen here in the final shape.\n",
        "X_new.shape"
      ],
      "execution_count": 18,
      "outputs": [
        {
          "output_type": "execute_result",
          "data": {
            "text/plain": [
              "(10348, 10)"
            ]
          },
          "metadata": {
            "tags": []
          },
          "execution_count": 18
        }
      ]
    },
    {
      "cell_type": "markdown",
      "metadata": {
        "id": "Xgf7OPBHse-g"
      },
      "source": [
        "# Logistic Regression Classifier with SelectKBest Feature Selection\n",
        "\n"
      ]
    },
    {
      "cell_type": "code",
      "metadata": {
        "id": "h2aNUXJ_sf6n",
        "colab": {
          "base_uri": "https://localhost:8080/",
          "height": 34
        },
        "outputId": "16ef334c-aa0e-4c18-b5b7-6ee33a84906e"
      },
      "source": [
        "# Timing our model.\n",
        "start_time = time.time()\n",
        "\n",
        "#Adjust our max iteration value, 100 is too low and gives errors.\n",
        "clf = LogisticRegression(max_iter=400).fit(X_train, y_train)\n",
        "\n",
        "# Print model runtime. \n",
        "print(\"--- %s seconds ---\" % round(time.time() - start_time, 3))"
      ],
      "execution_count": null,
      "outputs": [
        {
          "output_type": "stream",
          "text": [
            "--- 0.202 seconds ---\n"
          ],
          "name": "stdout"
        }
      ]
    },
    {
      "cell_type": "markdown",
      "metadata": {
        "id": "19XQnLtRUuP-"
      },
      "source": [
        "Our run time is much better than before we performed feature selection. We have successfully reduced our run time by about 75% using SelectKBest. This is due to the decreased dimensionality of our new feature set. "
      ]
    },
    {
      "cell_type": "code",
      "metadata": {
        "id": "ODqSe4UFtX9K",
        "colab": {
          "base_uri": "https://localhost:8080/",
          "height": 51
        },
        "outputId": "eec57421-a190-4151-836f-51ead790007f"
      },
      "source": [
        "# Print cross validation score.\n",
        "cross_val_score(clf, X_train, y_train, cv=10)"
      ],
      "execution_count": null,
      "outputs": [
        {
          "output_type": "execute_result",
          "data": {
            "text/plain": [
              "array([0.76811594, 0.76086957, 0.73429952, 0.72101449, 0.72705314,\n",
              "       0.77173913, 0.73913043, 0.74516908, 0.74727932, 0.7859734 ])"
            ]
          },
          "metadata": {
            "tags": []
          },
          "execution_count": 35
        }
      ]
    },
    {
      "cell_type": "markdown",
      "metadata": {
        "id": "JWr21I1gVEWf"
      },
      "source": [
        "Logistic regression classification cross-validation scoring is displaying the same attributes before feature selection with no signs of overfitting or underfitting and variance in scoring of about 5%."
      ]
    },
    {
      "cell_type": "code",
      "metadata": {
        "id": "Wg2eQmEZteFf",
        "colab": {
          "base_uri": "https://localhost:8080/",
          "height": 255
        },
        "outputId": "223f1cbf-ed69-42bd-e16e-859ae4cca498"
      },
      "source": [
        "# Classification report for our Logistic Regression Classifier.\n",
        "y_pred = clf.predict(X_test)\n",
        "accuracy = accuracy_score(y_test,y_pred)\n",
        "report = classification_report(y_test, y_pred)\n",
        "cm = confusion_matrix(y_test, y_pred)\n",
        "\n",
        "print(\"Accuracy: \", accuracy)\n",
        "print(\"Classification report:\")\n",
        "print(report)\n",
        "print(\"Confusion matrix:\")\n",
        "print(cm)"
      ],
      "execution_count": null,
      "outputs": [
        {
          "output_type": "stream",
          "text": [
            "Accuracy:  0.7608695652173914\n",
            "Classification report:\n",
            "              precision    recall  f1-score   support\n",
            "\n",
            "          No       0.79      0.71      0.74      1021\n",
            "         Yes       0.74      0.81      0.78      1049\n",
            "\n",
            "    accuracy                           0.76      2070\n",
            "   macro avg       0.76      0.76      0.76      2070\n",
            "weighted avg       0.76      0.76      0.76      2070\n",
            "\n",
            "Confusion matrix:\n",
            "[[722 299]\n",
            " [196 853]]\n"
          ],
          "name": "stdout"
        }
      ]
    },
    {
      "cell_type": "markdown",
      "metadata": {
        "id": "KKzHShXQtlON"
      },
      "source": [
        "Our models accuracy was reduced by about 2% but this is not a bad trade-off considering the reduction in run-time. This is due to losing some information during feature selection with selectkbest. Precision and recall tradeoff seen here is slightly increased in comparison to our logistic regression classifier before feature selection."
      ]
    },
    {
      "cell_type": "markdown",
      "metadata": {
        "id": "wxy6p3jbttrD"
      },
      "source": [
        "# Gradient Boosting Classifier with SelectKbest Feature Selection"
      ]
    },
    {
      "cell_type": "code",
      "metadata": {
        "id": "2zRoQhbatuol",
        "colab": {
          "base_uri": "https://localhost:8080/",
          "height": 34
        },
        "outputId": "2138a12e-6873-4819-dfc9-ce89aa0fdbbe"
      },
      "source": [
        "# Timing our model.\n",
        "start_time = time.time()\n",
        "\n",
        "# Creating gradient boosting classifier.\n",
        "clf = GradientBoostingClassifier()\n",
        "\n",
        "# Fit classifier to training data.\n",
        "clf.fit(X_train, y_train)\n",
        "\n",
        "# Print model runtime. \n",
        "print(\"--- %s seconds ---\" % round(time.time() - start_time, 3))"
      ],
      "execution_count": null,
      "outputs": [
        {
          "output_type": "stream",
          "text": [
            "--- 0.536 seconds ---\n"
          ],
          "name": "stdout"
        }
      ]
    },
    {
      "cell_type": "markdown",
      "metadata": {
        "id": "q-Qrf7-hXk-U"
      },
      "source": [
        "SelectKBest feature selection greatly reduced our run time again by about 75%."
      ]
    },
    {
      "cell_type": "code",
      "metadata": {
        "id": "yKomHbHpt1yJ",
        "colab": {
          "base_uri": "https://localhost:8080/",
          "height": 51
        },
        "outputId": "0ebd6dad-2db9-459e-ad92-573976035cf3"
      },
      "source": [
        "cross_val_score(clf, X_train, y_train, cv=10)"
      ],
      "execution_count": null,
      "outputs": [
        {
          "output_type": "execute_result",
          "data": {
            "text/plain": [
              "array([0.79468599, 0.76690821, 0.73913043, 0.73792271, 0.75603865,\n",
              "       0.77898551, 0.75603865, 0.75724638, 0.75211608, 0.80169287])"
            ]
          },
          "metadata": {
            "tags": []
          },
          "execution_count": 38
        }
      ]
    },
    {
      "cell_type": "markdown",
      "metadata": {
        "id": "f2SwhpSYXqjh"
      },
      "source": [
        "We are seeing more cross-validation score variance here than our initial gradient boosting classifier without feature selection. "
      ]
    },
    {
      "cell_type": "code",
      "metadata": {
        "id": "urXWI0llt8_D",
        "colab": {
          "base_uri": "https://localhost:8080/",
          "height": 255
        },
        "outputId": "e26983c1-f7c2-41d3-e4de-1ab75ee214e9"
      },
      "source": [
        "# Classification report for our Gradient Boosting classifier.\n",
        "y_pred = clf.predict(X_test)\n",
        "accuracy = accuracy_score(y_test,y_pred)\n",
        "report = classification_report(y_test, y_pred)\n",
        "cm = confusion_matrix(y_test, y_pred)\n",
        "\n",
        "print(\"Accuracy: \", accuracy)\n",
        "print(\"Classification report:\")\n",
        "print(report)\n",
        "print(\"Confusion matrix:\")\n",
        "print(cm)"
      ],
      "execution_count": null,
      "outputs": [
        {
          "output_type": "stream",
          "text": [
            "Accuracy:  0.7729468599033816\n",
            "Classification report:\n",
            "              precision    recall  f1-score   support\n",
            "\n",
            "          No       0.80      0.72      0.76      1021\n",
            "         Yes       0.75      0.83      0.79      1049\n",
            "\n",
            "    accuracy                           0.77      2070\n",
            "   macro avg       0.78      0.77      0.77      2070\n",
            "weighted avg       0.78      0.77      0.77      2070\n",
            "\n",
            "Confusion matrix:\n",
            "[[731 290]\n",
            " [180 869]]\n"
          ],
          "name": "stdout"
        }
      ]
    },
    {
      "cell_type": "markdown",
      "metadata": {
        "id": "309LHYMgX06k"
      },
      "source": [
        "Reduction in accuracy and other classification report metrics shows our model performance is lowered due to loss of information during feature selection."
      ]
    },
    {
      "cell_type": "markdown",
      "metadata": {
        "id": "q_wNVn1XuQN6"
      },
      "source": [
        "# KNN Classifier with SelectKBest Feature Selection"
      ]
    },
    {
      "cell_type": "code",
      "metadata": {
        "id": "0Nc1sn3zuW6j",
        "colab": {
          "base_uri": "https://localhost:8080/",
          "height": 34
        },
        "outputId": "9d7481fb-192b-4408-d72a-924e6426952f"
      },
      "source": [
        "# Timing our model.\n",
        "start_time = time.time()\n",
        "\n",
        "#Create the KNN Classifier.\n",
        "knn = KNeighborsClassifier(n_neighbors=7)\n",
        "\n",
        "#Train our model.\n",
        "knn.fit(X_train, y_train)\n",
        "\n",
        "# Print model time. \n",
        "print(\"--- %s seconds ---\" % round(time.time() - start_time, 3))"
      ],
      "execution_count": null,
      "outputs": [
        {
          "output_type": "stream",
          "text": [
            "--- 0.021 seconds ---\n"
          ],
          "name": "stdout"
        }
      ]
    },
    {
      "cell_type": "markdown",
      "metadata": {
        "id": "Taqr5lpnaA4K"
      },
      "source": [
        "We further reduced our run time by more than half using selectkbest feature selection. This is due to decreased dimensionality therefore decreased computation time. "
      ]
    },
    {
      "cell_type": "code",
      "metadata": {
        "id": "xWwTE8WTudnA",
        "colab": {
          "base_uri": "https://localhost:8080/",
          "height": 51
        },
        "outputId": "d5eedc13-ca3a-4a17-82a5-7a3c9a0667c6"
      },
      "source": [
        "cross_val_score(knn, X_train, y_train, cv=10)"
      ],
      "execution_count": null,
      "outputs": [
        {
          "output_type": "execute_result",
          "data": {
            "text/plain": [
              "array([0.79951691, 0.76207729, 0.76690821, 0.73188406, 0.75241546,\n",
              "       0.77777778, 0.76932367, 0.77173913, 0.75211608, 0.7980653 ])"
            ]
          },
          "metadata": {
            "tags": []
          },
          "execution_count": 41
        }
      ]
    },
    {
      "cell_type": "markdown",
      "metadata": {
        "id": "97jjBfOYa5n2"
      },
      "source": [
        "Our KNN classifer model with feature selection is displaying similar variance before selection of 6% in our cross-validation score. Cross-validation score is not showing any signs of overfitting or underfitting."
      ]
    },
    {
      "cell_type": "code",
      "metadata": {
        "id": "TQjVW1Q3uiqe",
        "colab": {
          "base_uri": "https://localhost:8080/",
          "height": 255
        },
        "outputId": "954fbb6a-e413-41fa-b1a0-c0f75b2bd2e8"
      },
      "source": [
        "# Classification report for our KNN classifier.\n",
        "y_pred = knn.predict(X_test)\n",
        "accuracy = accuracy_score(y_test,y_pred)\n",
        "report = classification_report(y_test, y_pred)\n",
        "cm = confusion_matrix(y_test, y_pred)\n",
        "\n",
        "print(\"Accuracy: \", accuracy)\n",
        "print(\"Classification report:\")\n",
        "print(report)\n",
        "print(\"Confusion matrix:\")\n",
        "print(cm)"
      ],
      "execution_count": null,
      "outputs": [
        {
          "output_type": "stream",
          "text": [
            "Accuracy:  0.7830917874396135\n",
            "Classification report:\n",
            "              precision    recall  f1-score   support\n",
            "\n",
            "          No       0.85      0.68      0.75      1021\n",
            "         Yes       0.74      0.89      0.81      1049\n",
            "\n",
            "    accuracy                           0.78      2070\n",
            "   macro avg       0.80      0.78      0.78      2070\n",
            "weighted avg       0.79      0.78      0.78      2070\n",
            "\n",
            "Confusion matrix:\n",
            "[[691 330]\n",
            " [119 930]]\n"
          ],
          "name": "stdout"
        }
      ]
    },
    {
      "cell_type": "markdown",
      "metadata": {
        "id": "LRf7kVoo7hj_"
      },
      "source": [
        "We are seeing very similar performance with this model to the KNN classification model before feature selection. Weighted average scoring for precision, recall, and f1-score are reduced by a couple of points. This seems to be worth the tradeoff of redcing model runtime by half."
      ]
    },
    {
      "cell_type": "markdown",
      "metadata": {
        "id": "E3D63tSFu3hv"
      },
      "source": [
        "# SVM Classifier with SelectKBest Feature Selection"
      ]
    },
    {
      "cell_type": "code",
      "metadata": {
        "id": "OYk68KH8u8-H",
        "colab": {
          "base_uri": "https://localhost:8080/",
          "height": 34
        },
        "outputId": "2e6cae01-bb94-4738-ac74-c8ff71062ffd"
      },
      "source": [
        "# Timing our model.\n",
        "start_time = time.time()\n",
        "\n",
        "#Create SVM Classifier\n",
        "clf = svm.SVC(kernel='linear') # Linear Kernel\n",
        "\n",
        "#Train our model\n",
        "clf.fit(X_train, y_train)\n",
        "\n",
        "# Print model time. \n",
        "print(\"--- %s seconds ---\" % round(time.time() - start_time, 3))"
      ],
      "execution_count": null,
      "outputs": [
        {
          "output_type": "stream",
          "text": [
            "--- 3.097 seconds ---\n"
          ],
          "name": "stdout"
        }
      ]
    },
    {
      "cell_type": "markdown",
      "metadata": {
        "id": "DDU-TNM0cc1A"
      },
      "source": [
        "We have a much better run time than that of our initial model of around 60 seconds, reducing runtime by a minute woth selectkbest feature selection."
      ]
    },
    {
      "cell_type": "code",
      "metadata": {
        "id": "YUi_iG1vvCIa",
        "colab": {
          "base_uri": "https://localhost:8080/",
          "height": 51
        },
        "outputId": "f95d4d9a-0de2-40e2-8dc4-9449b853e182"
      },
      "source": [
        "cross_val_score(clf, X_train, y_train, cv=10)"
      ],
      "execution_count": null,
      "outputs": [
        {
          "output_type": "execute_result",
          "data": {
            "text/plain": [
              "array([0.75966184, 0.75362319, 0.7089372 , 0.70289855, 0.71980676,\n",
              "       0.75603865, 0.75      , 0.72705314, 0.73518742, 0.77750907])"
            ]
          },
          "metadata": {
            "tags": []
          },
          "execution_count": 44
        }
      ]
    },
    {
      "cell_type": "markdown",
      "metadata": {
        "id": "hjwV_tL9cjXh"
      },
      "source": [
        "Cross-validation score variance is about the same around 7%. Cross-validation scoring shows no signs of overfitting or underfitting."
      ]
    },
    {
      "cell_type": "code",
      "metadata": {
        "id": "xrA69cFNvIPY",
        "colab": {
          "base_uri": "https://localhost:8080/",
          "height": 255
        },
        "outputId": "11d15611-f760-4581-f1da-4aa512ac2c1b"
      },
      "source": [
        "# Classification report for our SVM classifier.\n",
        "y_pred = clf.predict(X_test)\n",
        "accuracy = accuracy_score(y_test,y_pred)\n",
        "svm_report = classification_report(y_test, y_pred)\n",
        "cm = confusion_matrix(y_test, y_pred)\n",
        "\n",
        "print(\"Accuracy: \", accuracy)\n",
        "print(\"Classification report:\")\n",
        "print(svm_report)\n",
        "print(\"Confusion matrix:\")\n",
        "print(cm)"
      ],
      "execution_count": null,
      "outputs": [
        {
          "output_type": "stream",
          "text": [
            "Accuracy:  0.7463768115942029\n",
            "Classification report:\n",
            "              precision    recall  f1-score   support\n",
            "\n",
            "          No       0.80      0.65      0.72      1021\n",
            "         Yes       0.71      0.84      0.77      1049\n",
            "\n",
            "    accuracy                           0.75      2070\n",
            "   macro avg       0.75      0.75      0.74      2070\n",
            "weighted avg       0.75      0.75      0.74      2070\n",
            "\n",
            "Confusion matrix:\n",
            "[[668 353]\n",
            " [172 877]]\n"
          ],
          "name": "stdout"
        }
      ]
    },
    {
      "cell_type": "markdown",
      "metadata": {
        "id": "E9LMg3locuW2"
      },
      "source": [
        "We have a minor loss in accuracy of about 1% compared to before feature selection with selectkbest. This is a great tradeoff for such a dramatic reduction in runtime and shows how effective feature selection is in some use cases."
      ]
    },
    {
      "cell_type": "markdown",
      "metadata": {
        "id": "ttFXYdW8c6GA"
      },
      "source": [
        "# Decision Tree Classifier with SelectKBest Selected Features and Optimized Hyperparameters"
      ]
    },
    {
      "cell_type": "code",
      "metadata": {
        "id": "45j1oRToKKCp",
        "colab": {
          "base_uri": "https://localhost:8080/",
          "height": 1000
        },
        "outputId": "eaa0f0ae-71d9-4f19-dcda-ff11e37c6f3b"
      },
      "source": [
        "# We are looking at a few parameters to see what works best with our model.\n",
        "tree_para = {'criterion':['gini','entropy'],\n",
        "             'max_depth':[5,10,20,50,100,150],\n",
        "             'max_features':[3,4,5,10]}\n",
        "clf = GridSearchCV(decision_tree, tree_para, cv=5)\n",
        "clf.fit(X_train, y_train)\n",
        "\n",
        "# Putting our results into a Pandas DataFrame for easier interpretation.\n",
        "gscv_df = pd.DataFrame(clf.cv_results_)\n",
        "gscv_df.sort_values('rank_test_score')"
      ],
      "execution_count": 85,
      "outputs": [
        {
          "output_type": "execute_result",
          "data": {
            "text/html": [
              "<div>\n",
              "<style scoped>\n",
              "    .dataframe tbody tr th:only-of-type {\n",
              "        vertical-align: middle;\n",
              "    }\n",
              "\n",
              "    .dataframe tbody tr th {\n",
              "        vertical-align: top;\n",
              "    }\n",
              "\n",
              "    .dataframe thead th {\n",
              "        text-align: right;\n",
              "    }\n",
              "</style>\n",
              "<table border=\"1\" class=\"dataframe\">\n",
              "  <thead>\n",
              "    <tr style=\"text-align: right;\">\n",
              "      <th></th>\n",
              "      <th>mean_fit_time</th>\n",
              "      <th>std_fit_time</th>\n",
              "      <th>mean_score_time</th>\n",
              "      <th>std_score_time</th>\n",
              "      <th>param_criterion</th>\n",
              "      <th>param_max_depth</th>\n",
              "      <th>param_max_features</th>\n",
              "      <th>params</th>\n",
              "      <th>split0_test_score</th>\n",
              "      <th>split1_test_score</th>\n",
              "      <th>split2_test_score</th>\n",
              "      <th>split3_test_score</th>\n",
              "      <th>split4_test_score</th>\n",
              "      <th>mean_test_score</th>\n",
              "      <th>std_test_score</th>\n",
              "      <th>rank_test_score</th>\n",
              "    </tr>\n",
              "  </thead>\n",
              "  <tbody>\n",
              "    <tr>\n",
              "      <th>31</th>\n",
              "      <td>0.020605</td>\n",
              "      <td>0.000654</td>\n",
              "      <td>0.003343</td>\n",
              "      <td>0.000060</td>\n",
              "      <td>entropy</td>\n",
              "      <td>10</td>\n",
              "      <td>10</td>\n",
              "      <td>{'criterion': 'entropy', 'max_depth': 10, 'max...</td>\n",
              "      <td>0.834541</td>\n",
              "      <td>0.787440</td>\n",
              "      <td>0.833333</td>\n",
              "      <td>0.813293</td>\n",
              "      <td>0.825378</td>\n",
              "      <td>0.818797</td>\n",
              "      <td>0.017413</td>\n",
              "      <td>1</td>\n",
              "    </tr>\n",
              "    <tr>\n",
              "      <th>7</th>\n",
              "      <td>0.019417</td>\n",
              "      <td>0.002210</td>\n",
              "      <td>0.003316</td>\n",
              "      <td>0.000033</td>\n",
              "      <td>gini</td>\n",
              "      <td>10</td>\n",
              "      <td>10</td>\n",
              "      <td>{'criterion': 'gini', 'max_depth': 10, 'max_fe...</td>\n",
              "      <td>0.814010</td>\n",
              "      <td>0.791667</td>\n",
              "      <td>0.816425</td>\n",
              "      <td>0.823565</td>\n",
              "      <td>0.815710</td>\n",
              "      <td>0.812275</td>\n",
              "      <td>0.010809</td>\n",
              "      <td>2</td>\n",
              "    </tr>\n",
              "    <tr>\n",
              "      <th>6</th>\n",
              "      <td>0.013329</td>\n",
              "      <td>0.000474</td>\n",
              "      <td>0.003262</td>\n",
              "      <td>0.000051</td>\n",
              "      <td>gini</td>\n",
              "      <td>10</td>\n",
              "      <td>5</td>\n",
              "      <td>{'criterion': 'gini', 'max_depth': 10, 'max_fe...</td>\n",
              "      <td>0.815217</td>\n",
              "      <td>0.783816</td>\n",
              "      <td>0.826691</td>\n",
              "      <td>0.801813</td>\n",
              "      <td>0.822961</td>\n",
              "      <td>0.810100</td>\n",
              "      <td>0.015661</td>\n",
              "      <td>3</td>\n",
              "    </tr>\n",
              "    <tr>\n",
              "      <th>10</th>\n",
              "      <td>0.015925</td>\n",
              "      <td>0.000396</td>\n",
              "      <td>0.003470</td>\n",
              "      <td>0.000088</td>\n",
              "      <td>gini</td>\n",
              "      <td>20</td>\n",
              "      <td>5</td>\n",
              "      <td>{'criterion': 'gini', 'max_depth': 20, 'max_fe...</td>\n",
              "      <td>0.816425</td>\n",
              "      <td>0.777778</td>\n",
              "      <td>0.808575</td>\n",
              "      <td>0.810272</td>\n",
              "      <td>0.804834</td>\n",
              "      <td>0.803577</td>\n",
              "      <td>0.013432</td>\n",
              "      <td>4</td>\n",
              "    </tr>\n",
              "    <tr>\n",
              "      <th>32</th>\n",
              "      <td>0.016222</td>\n",
              "      <td>0.000835</td>\n",
              "      <td>0.003416</td>\n",
              "      <td>0.000020</td>\n",
              "      <td>entropy</td>\n",
              "      <td>20</td>\n",
              "      <td>3</td>\n",
              "      <td>{'criterion': 'entropy', 'max_depth': 20, 'max...</td>\n",
              "      <td>0.801932</td>\n",
              "      <td>0.783213</td>\n",
              "      <td>0.823068</td>\n",
              "      <td>0.795770</td>\n",
              "      <td>0.810272</td>\n",
              "      <td>0.802851</td>\n",
              "      <td>0.013420</td>\n",
              "      <td>5</td>\n",
              "    </tr>\n",
              "    <tr>\n",
              "      <th>29</th>\n",
              "      <td>0.014075</td>\n",
              "      <td>0.000556</td>\n",
              "      <td>0.003298</td>\n",
              "      <td>0.000038</td>\n",
              "      <td>entropy</td>\n",
              "      <td>10</td>\n",
              "      <td>4</td>\n",
              "      <td>{'criterion': 'entropy', 'max_depth': 10, 'max...</td>\n",
              "      <td>0.810386</td>\n",
              "      <td>0.781401</td>\n",
              "      <td>0.824879</td>\n",
              "      <td>0.788520</td>\n",
              "      <td>0.809063</td>\n",
              "      <td>0.802850</td>\n",
              "      <td>0.015787</td>\n",
              "      <td>6</td>\n",
              "    </tr>\n",
              "    <tr>\n",
              "      <th>30</th>\n",
              "      <td>0.016497</td>\n",
              "      <td>0.001058</td>\n",
              "      <td>0.003357</td>\n",
              "      <td>0.000049</td>\n",
              "      <td>entropy</td>\n",
              "      <td>10</td>\n",
              "      <td>5</td>\n",
              "      <td>{'criterion': 'entropy', 'max_depth': 10, 'max...</td>\n",
              "      <td>0.807367</td>\n",
              "      <td>0.771135</td>\n",
              "      <td>0.814010</td>\n",
              "      <td>0.804834</td>\n",
              "      <td>0.815710</td>\n",
              "      <td>0.802611</td>\n",
              "      <td>0.016247</td>\n",
              "      <td>7</td>\n",
              "    </tr>\n",
              "    <tr>\n",
              "      <th>39</th>\n",
              "      <td>0.026972</td>\n",
              "      <td>0.000811</td>\n",
              "      <td>0.003483</td>\n",
              "      <td>0.000058</td>\n",
              "      <td>entropy</td>\n",
              "      <td>50</td>\n",
              "      <td>10</td>\n",
              "      <td>{'criterion': 'entropy', 'max_depth': 50, 'max...</td>\n",
              "      <td>0.798309</td>\n",
              "      <td>0.783213</td>\n",
              "      <td>0.806763</td>\n",
              "      <td>0.804834</td>\n",
              "      <td>0.819335</td>\n",
              "      <td>0.802491</td>\n",
              "      <td>0.011804</td>\n",
              "      <td>8</td>\n",
              "    </tr>\n",
              "    <tr>\n",
              "      <th>4</th>\n",
              "      <td>0.011328</td>\n",
              "      <td>0.000208</td>\n",
              "      <td>0.003281</td>\n",
              "      <td>0.000111</td>\n",
              "      <td>gini</td>\n",
              "      <td>10</td>\n",
              "      <td>3</td>\n",
              "      <td>{'criterion': 'gini', 'max_depth': 10, 'max_fe...</td>\n",
              "      <td>0.820048</td>\n",
              "      <td>0.777174</td>\n",
              "      <td>0.794082</td>\n",
              "      <td>0.811480</td>\n",
              "      <td>0.809668</td>\n",
              "      <td>0.802490</td>\n",
              "      <td>0.015180</td>\n",
              "      <td>9</td>\n",
              "    </tr>\n",
              "    <tr>\n",
              "      <th>23</th>\n",
              "      <td>0.022232</td>\n",
              "      <td>0.000967</td>\n",
              "      <td>0.003469</td>\n",
              "      <td>0.000034</td>\n",
              "      <td>gini</td>\n",
              "      <td>150</td>\n",
              "      <td>10</td>\n",
              "      <td>{'criterion': 'gini', 'max_depth': 150, 'max_f...</td>\n",
              "      <td>0.793478</td>\n",
              "      <td>0.792874</td>\n",
              "      <td>0.815821</td>\n",
              "      <td>0.785498</td>\n",
              "      <td>0.821148</td>\n",
              "      <td>0.801764</td>\n",
              "      <td>0.014040</td>\n",
              "      <td>10</td>\n",
              "    </tr>\n",
              "    <tr>\n",
              "      <th>35</th>\n",
              "      <td>0.027536</td>\n",
              "      <td>0.001183</td>\n",
              "      <td>0.003453</td>\n",
              "      <td>0.000018</td>\n",
              "      <td>entropy</td>\n",
              "      <td>20</td>\n",
              "      <td>10</td>\n",
              "      <td>{'criterion': 'entropy', 'max_depth': 20, 'max...</td>\n",
              "      <td>0.791667</td>\n",
              "      <td>0.789855</td>\n",
              "      <td>0.815821</td>\n",
              "      <td>0.798187</td>\n",
              "      <td>0.812689</td>\n",
              "      <td>0.801644</td>\n",
              "      <td>0.010709</td>\n",
              "      <td>11</td>\n",
              "    </tr>\n",
              "    <tr>\n",
              "      <th>43</th>\n",
              "      <td>0.028528</td>\n",
              "      <td>0.000514</td>\n",
              "      <td>0.003434</td>\n",
              "      <td>0.000038</td>\n",
              "      <td>entropy</td>\n",
              "      <td>100</td>\n",
              "      <td>10</td>\n",
              "      <td>{'criterion': 'entropy', 'max_depth': 100, 'ma...</td>\n",
              "      <td>0.796498</td>\n",
              "      <td>0.787440</td>\n",
              "      <td>0.803744</td>\n",
              "      <td>0.794562</td>\n",
              "      <td>0.822356</td>\n",
              "      <td>0.800920</td>\n",
              "      <td>0.011910</td>\n",
              "      <td>12</td>\n",
              "    </tr>\n",
              "    <tr>\n",
              "      <th>5</th>\n",
              "      <td>0.012118</td>\n",
              "      <td>0.000202</td>\n",
              "      <td>0.003294</td>\n",
              "      <td>0.000086</td>\n",
              "      <td>gini</td>\n",
              "      <td>10</td>\n",
              "      <td>4</td>\n",
              "      <td>{'criterion': 'gini', 'max_depth': 10, 'max_fe...</td>\n",
              "      <td>0.795894</td>\n",
              "      <td>0.785024</td>\n",
              "      <td>0.820652</td>\n",
              "      <td>0.803625</td>\n",
              "      <td>0.795770</td>\n",
              "      <td>0.800193</td>\n",
              "      <td>0.011819</td>\n",
              "      <td>13</td>\n",
              "    </tr>\n",
              "    <tr>\n",
              "      <th>28</th>\n",
              "      <td>0.013015</td>\n",
              "      <td>0.000322</td>\n",
              "      <td>0.003300</td>\n",
              "      <td>0.000078</td>\n",
              "      <td>entropy</td>\n",
              "      <td>10</td>\n",
              "      <td>3</td>\n",
              "      <td>{'criterion': 'entropy', 'max_depth': 10, 'max...</td>\n",
              "      <td>0.801329</td>\n",
              "      <td>0.782609</td>\n",
              "      <td>0.816425</td>\n",
              "      <td>0.793958</td>\n",
              "      <td>0.806042</td>\n",
              "      <td>0.800072</td>\n",
              "      <td>0.011375</td>\n",
              "      <td>14</td>\n",
              "    </tr>\n",
              "    <tr>\n",
              "      <th>36</th>\n",
              "      <td>0.017168</td>\n",
              "      <td>0.000819</td>\n",
              "      <td>0.003516</td>\n",
              "      <td>0.000167</td>\n",
              "      <td>entropy</td>\n",
              "      <td>50</td>\n",
              "      <td>3</td>\n",
              "      <td>{'criterion': 'entropy', 'max_depth': 50, 'max...</td>\n",
              "      <td>0.804952</td>\n",
              "      <td>0.783816</td>\n",
              "      <td>0.802536</td>\n",
              "      <td>0.802417</td>\n",
              "      <td>0.804834</td>\n",
              "      <td>0.799711</td>\n",
              "      <td>0.008021</td>\n",
              "      <td>15</td>\n",
              "    </tr>\n",
              "    <tr>\n",
              "      <th>11</th>\n",
              "      <td>0.021257</td>\n",
              "      <td>0.000599</td>\n",
              "      <td>0.003627</td>\n",
              "      <td>0.000282</td>\n",
              "      <td>gini</td>\n",
              "      <td>20</td>\n",
              "      <td>10</td>\n",
              "      <td>{'criterion': 'gini', 'max_depth': 20, 'max_fe...</td>\n",
              "      <td>0.795894</td>\n",
              "      <td>0.789251</td>\n",
              "      <td>0.795290</td>\n",
              "      <td>0.807251</td>\n",
              "      <td>0.800000</td>\n",
              "      <td>0.797537</td>\n",
              "      <td>0.005947</td>\n",
              "      <td>16</td>\n",
              "    </tr>\n",
              "    <tr>\n",
              "      <th>18</th>\n",
              "      <td>0.016280</td>\n",
              "      <td>0.000507</td>\n",
              "      <td>0.003411</td>\n",
              "      <td>0.000028</td>\n",
              "      <td>gini</td>\n",
              "      <td>100</td>\n",
              "      <td>5</td>\n",
              "      <td>{'criterion': 'gini', 'max_depth': 100, 'max_f...</td>\n",
              "      <td>0.805556</td>\n",
              "      <td>0.777778</td>\n",
              "      <td>0.803744</td>\n",
              "      <td>0.802417</td>\n",
              "      <td>0.796375</td>\n",
              "      <td>0.797174</td>\n",
              "      <td>0.010176</td>\n",
              "      <td>17</td>\n",
              "    </tr>\n",
              "    <tr>\n",
              "      <th>47</th>\n",
              "      <td>0.029423</td>\n",
              "      <td>0.004131</td>\n",
              "      <td>0.003612</td>\n",
              "      <td>0.000352</td>\n",
              "      <td>entropy</td>\n",
              "      <td>150</td>\n",
              "      <td>10</td>\n",
              "      <td>{'criterion': 'entropy', 'max_depth': 150, 'ma...</td>\n",
              "      <td>0.801329</td>\n",
              "      <td>0.787440</td>\n",
              "      <td>0.800725</td>\n",
              "      <td>0.796979</td>\n",
              "      <td>0.799396</td>\n",
              "      <td>0.797173</td>\n",
              "      <td>0.005091</td>\n",
              "      <td>18</td>\n",
              "    </tr>\n",
              "    <tr>\n",
              "      <th>14</th>\n",
              "      <td>0.015763</td>\n",
              "      <td>0.000687</td>\n",
              "      <td>0.003466</td>\n",
              "      <td>0.000066</td>\n",
              "      <td>gini</td>\n",
              "      <td>50</td>\n",
              "      <td>5</td>\n",
              "      <td>{'criterion': 'gini', 'max_depth': 50, 'max_fe...</td>\n",
              "      <td>0.807367</td>\n",
              "      <td>0.782005</td>\n",
              "      <td>0.818841</td>\n",
              "      <td>0.790937</td>\n",
              "      <td>0.786103</td>\n",
              "      <td>0.797050</td>\n",
              "      <td>0.013891</td>\n",
              "      <td>19</td>\n",
              "    </tr>\n",
              "    <tr>\n",
              "      <th>37</th>\n",
              "      <td>0.019401</td>\n",
              "      <td>0.001554</td>\n",
              "      <td>0.003492</td>\n",
              "      <td>0.000077</td>\n",
              "      <td>entropy</td>\n",
              "      <td>50</td>\n",
              "      <td>4</td>\n",
              "      <td>{'criterion': 'entropy', 'max_depth': 50, 'max...</td>\n",
              "      <td>0.801932</td>\n",
              "      <td>0.786232</td>\n",
              "      <td>0.810386</td>\n",
              "      <td>0.796375</td>\n",
              "      <td>0.786707</td>\n",
              "      <td>0.796326</td>\n",
              "      <td>0.009204</td>\n",
              "      <td>20</td>\n",
              "    </tr>\n",
              "    <tr>\n",
              "      <th>34</th>\n",
              "      <td>0.018918</td>\n",
              "      <td>0.000412</td>\n",
              "      <td>0.003457</td>\n",
              "      <td>0.000052</td>\n",
              "      <td>entropy</td>\n",
              "      <td>20</td>\n",
              "      <td>5</td>\n",
              "      <td>{'criterion': 'entropy', 'max_depth': 20, 'max...</td>\n",
              "      <td>0.797705</td>\n",
              "      <td>0.777174</td>\n",
              "      <td>0.788647</td>\n",
              "      <td>0.793353</td>\n",
              "      <td>0.817523</td>\n",
              "      <td>0.794881</td>\n",
              "      <td>0.013231</td>\n",
              "      <td>21</td>\n",
              "    </tr>\n",
              "    <tr>\n",
              "      <th>42</th>\n",
              "      <td>0.019247</td>\n",
              "      <td>0.000352</td>\n",
              "      <td>0.003430</td>\n",
              "      <td>0.000036</td>\n",
              "      <td>entropy</td>\n",
              "      <td>100</td>\n",
              "      <td>5</td>\n",
              "      <td>{'criterion': 'entropy', 'max_depth': 100, 'ma...</td>\n",
              "      <td>0.800121</td>\n",
              "      <td>0.791667</td>\n",
              "      <td>0.791063</td>\n",
              "      <td>0.793958</td>\n",
              "      <td>0.797583</td>\n",
              "      <td>0.794878</td>\n",
              "      <td>0.003479</td>\n",
              "      <td>22</td>\n",
              "    </tr>\n",
              "    <tr>\n",
              "      <th>46</th>\n",
              "      <td>0.020414</td>\n",
              "      <td>0.001032</td>\n",
              "      <td>0.003510</td>\n",
              "      <td>0.000048</td>\n",
              "      <td>entropy</td>\n",
              "      <td>150</td>\n",
              "      <td>5</td>\n",
              "      <td>{'criterion': 'entropy', 'max_depth': 150, 'ma...</td>\n",
              "      <td>0.795290</td>\n",
              "      <td>0.779589</td>\n",
              "      <td>0.802536</td>\n",
              "      <td>0.784894</td>\n",
              "      <td>0.810272</td>\n",
              "      <td>0.794516</td>\n",
              "      <td>0.011212</td>\n",
              "      <td>23</td>\n",
              "    </tr>\n",
              "    <tr>\n",
              "      <th>41</th>\n",
              "      <td>0.018013</td>\n",
              "      <td>0.000208</td>\n",
              "      <td>0.003454</td>\n",
              "      <td>0.000046</td>\n",
              "      <td>entropy</td>\n",
              "      <td>100</td>\n",
              "      <td>4</td>\n",
              "      <td>{'criterion': 'entropy', 'max_depth': 100, 'ma...</td>\n",
              "      <td>0.792271</td>\n",
              "      <td>0.778382</td>\n",
              "      <td>0.810990</td>\n",
              "      <td>0.796375</td>\n",
              "      <td>0.790937</td>\n",
              "      <td>0.793791</td>\n",
              "      <td>0.010492</td>\n",
              "      <td>24</td>\n",
              "    </tr>\n",
              "    <tr>\n",
              "      <th>16</th>\n",
              "      <td>0.013942</td>\n",
              "      <td>0.000392</td>\n",
              "      <td>0.003587</td>\n",
              "      <td>0.000236</td>\n",
              "      <td>gini</td>\n",
              "      <td>100</td>\n",
              "      <td>3</td>\n",
              "      <td>{'criterion': 'gini', 'max_depth': 100, 'max_f...</td>\n",
              "      <td>0.803744</td>\n",
              "      <td>0.786232</td>\n",
              "      <td>0.792271</td>\n",
              "      <td>0.792749</td>\n",
              "      <td>0.792749</td>\n",
              "      <td>0.793549</td>\n",
              "      <td>0.005664</td>\n",
              "      <td>25</td>\n",
              "    </tr>\n",
              "    <tr>\n",
              "      <th>19</th>\n",
              "      <td>0.021878</td>\n",
              "      <td>0.001087</td>\n",
              "      <td>0.003502</td>\n",
              "      <td>0.000070</td>\n",
              "      <td>gini</td>\n",
              "      <td>100</td>\n",
              "      <td>10</td>\n",
              "      <td>{'criterion': 'gini', 'max_depth': 100, 'max_f...</td>\n",
              "      <td>0.800121</td>\n",
              "      <td>0.771135</td>\n",
              "      <td>0.794686</td>\n",
              "      <td>0.801208</td>\n",
              "      <td>0.800000</td>\n",
              "      <td>0.793430</td>\n",
              "      <td>0.011376</td>\n",
              "      <td>26</td>\n",
              "    </tr>\n",
              "    <tr>\n",
              "      <th>22</th>\n",
              "      <td>0.016478</td>\n",
              "      <td>0.000312</td>\n",
              "      <td>0.003441</td>\n",
              "      <td>0.000078</td>\n",
              "      <td>gini</td>\n",
              "      <td>150</td>\n",
              "      <td>5</td>\n",
              "      <td>{'criterion': 'gini', 'max_depth': 150, 'max_f...</td>\n",
              "      <td>0.807971</td>\n",
              "      <td>0.780797</td>\n",
              "      <td>0.786232</td>\n",
              "      <td>0.802417</td>\n",
              "      <td>0.789728</td>\n",
              "      <td>0.793429</td>\n",
              "      <td>0.010172</td>\n",
              "      <td>27</td>\n",
              "    </tr>\n",
              "    <tr>\n",
              "      <th>21</th>\n",
              "      <td>0.015154</td>\n",
              "      <td>0.000292</td>\n",
              "      <td>0.003502</td>\n",
              "      <td>0.000077</td>\n",
              "      <td>gini</td>\n",
              "      <td>150</td>\n",
              "      <td>4</td>\n",
              "      <td>{'criterion': 'gini', 'max_depth': 150, 'max_f...</td>\n",
              "      <td>0.798309</td>\n",
              "      <td>0.784420</td>\n",
              "      <td>0.797101</td>\n",
              "      <td>0.796375</td>\n",
              "      <td>0.790332</td>\n",
              "      <td>0.793308</td>\n",
              "      <td>0.005228</td>\n",
              "      <td>28</td>\n",
              "    </tr>\n",
              "    <tr>\n",
              "      <th>3</th>\n",
              "      <td>0.015048</td>\n",
              "      <td>0.001714</td>\n",
              "      <td>0.003658</td>\n",
              "      <td>0.000366</td>\n",
              "      <td>gini</td>\n",
              "      <td>5</td>\n",
              "      <td>10</td>\n",
              "      <td>{'criterion': 'gini', 'max_depth': 5, 'max_fea...</td>\n",
              "      <td>0.800725</td>\n",
              "      <td>0.748188</td>\n",
              "      <td>0.815217</td>\n",
              "      <td>0.804230</td>\n",
              "      <td>0.794562</td>\n",
              "      <td>0.792584</td>\n",
              "      <td>0.023191</td>\n",
              "      <td>29</td>\n",
              "    </tr>\n",
              "    <tr>\n",
              "      <th>20</th>\n",
              "      <td>0.014001</td>\n",
              "      <td>0.000390</td>\n",
              "      <td>0.003402</td>\n",
              "      <td>0.000034</td>\n",
              "      <td>gini</td>\n",
              "      <td>150</td>\n",
              "      <td>3</td>\n",
              "      <td>{'criterion': 'gini', 'max_depth': 150, 'max_f...</td>\n",
              "      <td>0.800121</td>\n",
              "      <td>0.786836</td>\n",
              "      <td>0.799517</td>\n",
              "      <td>0.793353</td>\n",
              "      <td>0.783082</td>\n",
              "      <td>0.792582</td>\n",
              "      <td>0.006765</td>\n",
              "      <td>30</td>\n",
              "    </tr>\n",
              "    <tr>\n",
              "      <th>44</th>\n",
              "      <td>0.017376</td>\n",
              "      <td>0.000728</td>\n",
              "      <td>0.003430</td>\n",
              "      <td>0.000032</td>\n",
              "      <td>entropy</td>\n",
              "      <td>150</td>\n",
              "      <td>3</td>\n",
              "      <td>{'criterion': 'entropy', 'max_depth': 150, 'ma...</td>\n",
              "      <td>0.792271</td>\n",
              "      <td>0.773551</td>\n",
              "      <td>0.804952</td>\n",
              "      <td>0.801813</td>\n",
              "      <td>0.784894</td>\n",
              "      <td>0.791496</td>\n",
              "      <td>0.011434</td>\n",
              "      <td>31</td>\n",
              "    </tr>\n",
              "    <tr>\n",
              "      <th>9</th>\n",
              "      <td>0.015245</td>\n",
              "      <td>0.000526</td>\n",
              "      <td>0.003461</td>\n",
              "      <td>0.000039</td>\n",
              "      <td>gini</td>\n",
              "      <td>20</td>\n",
              "      <td>4</td>\n",
              "      <td>{'criterion': 'gini', 'max_depth': 20, 'max_fe...</td>\n",
              "      <td>0.788647</td>\n",
              "      <td>0.762077</td>\n",
              "      <td>0.811594</td>\n",
              "      <td>0.789124</td>\n",
              "      <td>0.804230</td>\n",
              "      <td>0.791134</td>\n",
              "      <td>0.016998</td>\n",
              "      <td>32</td>\n",
              "    </tr>\n",
              "    <tr>\n",
              "      <th>33</th>\n",
              "      <td>0.017511</td>\n",
              "      <td>0.000564</td>\n",
              "      <td>0.003455</td>\n",
              "      <td>0.000059</td>\n",
              "      <td>entropy</td>\n",
              "      <td>20</td>\n",
              "      <td>4</td>\n",
              "      <td>{'criterion': 'entropy', 'max_depth': 20, 'max...</td>\n",
              "      <td>0.785628</td>\n",
              "      <td>0.777174</td>\n",
              "      <td>0.803140</td>\n",
              "      <td>0.792749</td>\n",
              "      <td>0.794562</td>\n",
              "      <td>0.790651</td>\n",
              "      <td>0.008747</td>\n",
              "      <td>33</td>\n",
              "    </tr>\n",
              "    <tr>\n",
              "      <th>15</th>\n",
              "      <td>0.021632</td>\n",
              "      <td>0.001084</td>\n",
              "      <td>0.003490</td>\n",
              "      <td>0.000081</td>\n",
              "      <td>gini</td>\n",
              "      <td>50</td>\n",
              "      <td>10</td>\n",
              "      <td>{'criterion': 'gini', 'max_depth': 50, 'max_fe...</td>\n",
              "      <td>0.795290</td>\n",
              "      <td>0.767512</td>\n",
              "      <td>0.807367</td>\n",
              "      <td>0.786103</td>\n",
              "      <td>0.796375</td>\n",
              "      <td>0.790529</td>\n",
              "      <td>0.013340</td>\n",
              "      <td>34</td>\n",
              "    </tr>\n",
              "    <tr>\n",
              "      <th>38</th>\n",
              "      <td>0.020342</td>\n",
              "      <td>0.000569</td>\n",
              "      <td>0.003478</td>\n",
              "      <td>0.000069</td>\n",
              "      <td>entropy</td>\n",
              "      <td>50</td>\n",
              "      <td>5</td>\n",
              "      <td>{'criterion': 'entropy', 'max_depth': 50, 'max...</td>\n",
              "      <td>0.795894</td>\n",
              "      <td>0.775362</td>\n",
              "      <td>0.802536</td>\n",
              "      <td>0.785498</td>\n",
              "      <td>0.792749</td>\n",
              "      <td>0.790408</td>\n",
              "      <td>0.009307</td>\n",
              "      <td>35</td>\n",
              "    </tr>\n",
              "    <tr>\n",
              "      <th>8</th>\n",
              "      <td>0.014144</td>\n",
              "      <td>0.000424</td>\n",
              "      <td>0.003397</td>\n",
              "      <td>0.000048</td>\n",
              "      <td>gini</td>\n",
              "      <td>20</td>\n",
              "      <td>3</td>\n",
              "      <td>{'criterion': 'gini', 'max_depth': 20, 'max_fe...</td>\n",
              "      <td>0.800725</td>\n",
              "      <td>0.757850</td>\n",
              "      <td>0.801329</td>\n",
              "      <td>0.798187</td>\n",
              "      <td>0.792749</td>\n",
              "      <td>0.790168</td>\n",
              "      <td>0.016440</td>\n",
              "      <td>36</td>\n",
              "    </tr>\n",
              "    <tr>\n",
              "      <th>27</th>\n",
              "      <td>0.016535</td>\n",
              "      <td>0.002062</td>\n",
              "      <td>0.003465</td>\n",
              "      <td>0.000430</td>\n",
              "      <td>entropy</td>\n",
              "      <td>5</td>\n",
              "      <td>10</td>\n",
              "      <td>{'criterion': 'entropy', 'max_depth': 5, 'max_...</td>\n",
              "      <td>0.794082</td>\n",
              "      <td>0.766304</td>\n",
              "      <td>0.792271</td>\n",
              "      <td>0.781269</td>\n",
              "      <td>0.807251</td>\n",
              "      <td>0.788235</td>\n",
              "      <td>0.013723</td>\n",
              "      <td>37</td>\n",
              "    </tr>\n",
              "    <tr>\n",
              "      <th>12</th>\n",
              "      <td>0.014273</td>\n",
              "      <td>0.000615</td>\n",
              "      <td>0.003400</td>\n",
              "      <td>0.000029</td>\n",
              "      <td>gini</td>\n",
              "      <td>50</td>\n",
              "      <td>3</td>\n",
              "      <td>{'criterion': 'gini', 'max_depth': 50, 'max_fe...</td>\n",
              "      <td>0.796498</td>\n",
              "      <td>0.763285</td>\n",
              "      <td>0.791063</td>\n",
              "      <td>0.786103</td>\n",
              "      <td>0.803625</td>\n",
              "      <td>0.788115</td>\n",
              "      <td>0.013712</td>\n",
              "      <td>38</td>\n",
              "    </tr>\n",
              "    <tr>\n",
              "      <th>45</th>\n",
              "      <td>0.018174</td>\n",
              "      <td>0.000483</td>\n",
              "      <td>0.003886</td>\n",
              "      <td>0.000877</td>\n",
              "      <td>entropy</td>\n",
              "      <td>150</td>\n",
              "      <td>4</td>\n",
              "      <td>{'criterion': 'entropy', 'max_depth': 150, 'ma...</td>\n",
              "      <td>0.791063</td>\n",
              "      <td>0.762681</td>\n",
              "      <td>0.793478</td>\n",
              "      <td>0.795166</td>\n",
              "      <td>0.796979</td>\n",
              "      <td>0.787873</td>\n",
              "      <td>0.012746</td>\n",
              "      <td>39</td>\n",
              "    </tr>\n",
              "    <tr>\n",
              "      <th>17</th>\n",
              "      <td>0.015482</td>\n",
              "      <td>0.000775</td>\n",
              "      <td>0.003937</td>\n",
              "      <td>0.000951</td>\n",
              "      <td>gini</td>\n",
              "      <td>100</td>\n",
              "      <td>4</td>\n",
              "      <td>{'criterion': 'gini', 'max_depth': 100, 'max_f...</td>\n",
              "      <td>0.800121</td>\n",
              "      <td>0.760870</td>\n",
              "      <td>0.794686</td>\n",
              "      <td>0.793353</td>\n",
              "      <td>0.787915</td>\n",
              "      <td>0.787389</td>\n",
              "      <td>0.013816</td>\n",
              "      <td>40</td>\n",
              "    </tr>\n",
              "    <tr>\n",
              "      <th>13</th>\n",
              "      <td>0.014857</td>\n",
              "      <td>0.000411</td>\n",
              "      <td>0.003523</td>\n",
              "      <td>0.000154</td>\n",
              "      <td>gini</td>\n",
              "      <td>50</td>\n",
              "      <td>4</td>\n",
              "      <td>{'criterion': 'gini', 'max_depth': 50, 'max_fe...</td>\n",
              "      <td>0.782609</td>\n",
              "      <td>0.766304</td>\n",
              "      <td>0.798309</td>\n",
              "      <td>0.789728</td>\n",
              "      <td>0.796375</td>\n",
              "      <td>0.786665</td>\n",
              "      <td>0.011578</td>\n",
              "      <td>41</td>\n",
              "    </tr>\n",
              "    <tr>\n",
              "      <th>40</th>\n",
              "      <td>0.017140</td>\n",
              "      <td>0.000331</td>\n",
              "      <td>0.003442</td>\n",
              "      <td>0.000050</td>\n",
              "      <td>entropy</td>\n",
              "      <td>100</td>\n",
              "      <td>3</td>\n",
              "      <td>{'criterion': 'entropy', 'max_depth': 100, 'ma...</td>\n",
              "      <td>0.786836</td>\n",
              "      <td>0.752415</td>\n",
              "      <td>0.798913</td>\n",
              "      <td>0.810272</td>\n",
              "      <td>0.781873</td>\n",
              "      <td>0.786062</td>\n",
              "      <td>0.019501</td>\n",
              "      <td>42</td>\n",
              "    </tr>\n",
              "    <tr>\n",
              "      <th>2</th>\n",
              "      <td>0.010555</td>\n",
              "      <td>0.000333</td>\n",
              "      <td>0.003176</td>\n",
              "      <td>0.000038</td>\n",
              "      <td>gini</td>\n",
              "      <td>5</td>\n",
              "      <td>5</td>\n",
              "      <td>{'criterion': 'gini', 'max_depth': 5, 'max_fea...</td>\n",
              "      <td>0.790459</td>\n",
              "      <td>0.762077</td>\n",
              "      <td>0.775966</td>\n",
              "      <td>0.780060</td>\n",
              "      <td>0.789124</td>\n",
              "      <td>0.779537</td>\n",
              "      <td>0.010287</td>\n",
              "      <td>43</td>\n",
              "    </tr>\n",
              "    <tr>\n",
              "      <th>1</th>\n",
              "      <td>0.010593</td>\n",
              "      <td>0.000712</td>\n",
              "      <td>0.003334</td>\n",
              "      <td>0.000147</td>\n",
              "      <td>gini</td>\n",
              "      <td>5</td>\n",
              "      <td>4</td>\n",
              "      <td>{'criterion': 'gini', 'max_depth': 5, 'max_fea...</td>\n",
              "      <td>0.791063</td>\n",
              "      <td>0.748188</td>\n",
              "      <td>0.765097</td>\n",
              "      <td>0.784290</td>\n",
              "      <td>0.789728</td>\n",
              "      <td>0.775673</td>\n",
              "      <td>0.016589</td>\n",
              "      <td>44</td>\n",
              "    </tr>\n",
              "    <tr>\n",
              "      <th>26</th>\n",
              "      <td>0.011176</td>\n",
              "      <td>0.000234</td>\n",
              "      <td>0.003143</td>\n",
              "      <td>0.000049</td>\n",
              "      <td>entropy</td>\n",
              "      <td>5</td>\n",
              "      <td>5</td>\n",
              "      <td>{'criterion': 'entropy', 'max_depth': 5, 'max_...</td>\n",
              "      <td>0.753019</td>\n",
              "      <td>0.739734</td>\n",
              "      <td>0.798309</td>\n",
              "      <td>0.783686</td>\n",
              "      <td>0.793353</td>\n",
              "      <td>0.773620</td>\n",
              "      <td>0.023121</td>\n",
              "      <td>45</td>\n",
              "    </tr>\n",
              "    <tr>\n",
              "      <th>25</th>\n",
              "      <td>0.010507</td>\n",
              "      <td>0.000370</td>\n",
              "      <td>0.003150</td>\n",
              "      <td>0.000026</td>\n",
              "      <td>entropy</td>\n",
              "      <td>5</td>\n",
              "      <td>4</td>\n",
              "      <td>{'criterion': 'entropy', 'max_depth': 5, 'max_...</td>\n",
              "      <td>0.792874</td>\n",
              "      <td>0.739130</td>\n",
              "      <td>0.787440</td>\n",
              "      <td>0.779456</td>\n",
              "      <td>0.754683</td>\n",
              "      <td>0.770717</td>\n",
              "      <td>0.020503</td>\n",
              "      <td>46</td>\n",
              "    </tr>\n",
              "    <tr>\n",
              "      <th>24</th>\n",
              "      <td>0.010399</td>\n",
              "      <td>0.000454</td>\n",
              "      <td>0.003164</td>\n",
              "      <td>0.000048</td>\n",
              "      <td>entropy</td>\n",
              "      <td>5</td>\n",
              "      <td>3</td>\n",
              "      <td>{'criterion': 'entropy', 'max_depth': 5, 'max_...</td>\n",
              "      <td>0.787440</td>\n",
              "      <td>0.747585</td>\n",
              "      <td>0.794082</td>\n",
              "      <td>0.774622</td>\n",
              "      <td>0.747432</td>\n",
              "      <td>0.770232</td>\n",
              "      <td>0.019580</td>\n",
              "      <td>47</td>\n",
              "    </tr>\n",
              "    <tr>\n",
              "      <th>0</th>\n",
              "      <td>0.009642</td>\n",
              "      <td>0.000250</td>\n",
              "      <td>0.003236</td>\n",
              "      <td>0.000123</td>\n",
              "      <td>gini</td>\n",
              "      <td>5</td>\n",
              "      <td>3</td>\n",
              "      <td>{'criterion': 'gini', 'max_depth': 5, 'max_fea...</td>\n",
              "      <td>0.780193</td>\n",
              "      <td>0.736715</td>\n",
              "      <td>0.782005</td>\n",
              "      <td>0.783082</td>\n",
              "      <td>0.757704</td>\n",
              "      <td>0.767940</td>\n",
              "      <td>0.018204</td>\n",
              "      <td>48</td>\n",
              "    </tr>\n",
              "  </tbody>\n",
              "</table>\n",
              "</div>"
            ],
            "text/plain": [
              "    mean_fit_time  std_fit_time  ...  std_test_score  rank_test_score\n",
              "31       0.020605      0.000654  ...        0.017413                1\n",
              "7        0.019417      0.002210  ...        0.010809                2\n",
              "6        0.013329      0.000474  ...        0.015661                3\n",
              "10       0.015925      0.000396  ...        0.013432                4\n",
              "32       0.016222      0.000835  ...        0.013420                5\n",
              "29       0.014075      0.000556  ...        0.015787                6\n",
              "30       0.016497      0.001058  ...        0.016247                7\n",
              "39       0.026972      0.000811  ...        0.011804                8\n",
              "4        0.011328      0.000208  ...        0.015180                9\n",
              "23       0.022232      0.000967  ...        0.014040               10\n",
              "35       0.027536      0.001183  ...        0.010709               11\n",
              "43       0.028528      0.000514  ...        0.011910               12\n",
              "5        0.012118      0.000202  ...        0.011819               13\n",
              "28       0.013015      0.000322  ...        0.011375               14\n",
              "36       0.017168      0.000819  ...        0.008021               15\n",
              "11       0.021257      0.000599  ...        0.005947               16\n",
              "18       0.016280      0.000507  ...        0.010176               17\n",
              "47       0.029423      0.004131  ...        0.005091               18\n",
              "14       0.015763      0.000687  ...        0.013891               19\n",
              "37       0.019401      0.001554  ...        0.009204               20\n",
              "34       0.018918      0.000412  ...        0.013231               21\n",
              "42       0.019247      0.000352  ...        0.003479               22\n",
              "46       0.020414      0.001032  ...        0.011212               23\n",
              "41       0.018013      0.000208  ...        0.010492               24\n",
              "16       0.013942      0.000392  ...        0.005664               25\n",
              "19       0.021878      0.001087  ...        0.011376               26\n",
              "22       0.016478      0.000312  ...        0.010172               27\n",
              "21       0.015154      0.000292  ...        0.005228               28\n",
              "3        0.015048      0.001714  ...        0.023191               29\n",
              "20       0.014001      0.000390  ...        0.006765               30\n",
              "44       0.017376      0.000728  ...        0.011434               31\n",
              "9        0.015245      0.000526  ...        0.016998               32\n",
              "33       0.017511      0.000564  ...        0.008747               33\n",
              "15       0.021632      0.001084  ...        0.013340               34\n",
              "38       0.020342      0.000569  ...        0.009307               35\n",
              "8        0.014144      0.000424  ...        0.016440               36\n",
              "27       0.016535      0.002062  ...        0.013723               37\n",
              "12       0.014273      0.000615  ...        0.013712               38\n",
              "45       0.018174      0.000483  ...        0.012746               39\n",
              "17       0.015482      0.000775  ...        0.013816               40\n",
              "13       0.014857      0.000411  ...        0.011578               41\n",
              "40       0.017140      0.000331  ...        0.019501               42\n",
              "2        0.010555      0.000333  ...        0.010287               43\n",
              "1        0.010593      0.000712  ...        0.016589               44\n",
              "26       0.011176      0.000234  ...        0.023121               45\n",
              "25       0.010507      0.000370  ...        0.020503               46\n",
              "24       0.010399      0.000454  ...        0.019580               47\n",
              "0        0.009642      0.000250  ...        0.018204               48\n",
              "\n",
              "[48 rows x 16 columns]"
            ]
          },
          "metadata": {
            "tags": []
          },
          "execution_count": 85
        }
      ]
    },
    {
      "cell_type": "markdown",
      "metadata": {
        "id": "36xicDgkOoJ4"
      },
      "source": [
        "We've ordered the DataFrame above containing the results of our parameter grid search with GridSearchCV by test rank. We can pick the top row for our best parameters and run the model again with our new hyperparameters to see how our model performs. "
      ]
    },
    {
      "cell_type": "code",
      "metadata": {
        "id": "2Bw0GE6Yc0W4",
        "colab": {
          "base_uri": "https://localhost:8080/"
        },
        "outputId": "8515f576-bb25-4d98-f929-0d0a54e78748"
      },
      "source": [
        "# Timing our model.\n",
        "start_time = time.time()\n",
        "\n",
        "# Initialize and train our tree using best parameters from GridSearchCV.\n",
        "decision_tree = tree.DecisionTreeClassifier(\n",
        "    criterion='entropy',\n",
        "    max_depth=10,\n",
        "    max_features=10,\n",
        ")\n",
        "decision_tree.fit(X_train, y_train)\n",
        "\n",
        "# Print model time. \n",
        "print(\"--- %s seconds ---\" % round(time.time() - start_time, 3))"
      ],
      "execution_count": 86,
      "outputs": [
        {
          "output_type": "stream",
          "text": [
            "--- 0.032 seconds ---\n"
          ],
          "name": "stdout"
        }
      ]
    },
    {
      "cell_type": "markdown",
      "metadata": {
        "id": "xFKJEI3MelNs"
      },
      "source": [
        "The runtime here with selectkbest feature selection is reduced by over half compared to our initial model without feature selection and optimized hyperparameters."
      ]
    },
    {
      "cell_type": "code",
      "metadata": {
        "id": "OIjlISczexQy",
        "colab": {
          "base_uri": "https://localhost:8080/"
        },
        "outputId": "a128711a-411f-4db7-bf79-570712d51456"
      },
      "source": [
        "# Print cross-validation score.\n",
        "cross_val_score(decision_tree, X_train, y_train, cv=10)"
      ],
      "execution_count": 87,
      "outputs": [
        {
          "output_type": "execute_result",
          "data": {
            "text/plain": [
              "array([0.81642512, 0.81038647, 0.79468599, 0.79589372, 0.8236715 ,\n",
              "       0.81400966, 0.8031401 , 0.82971014, 0.80169287, 0.83192261])"
            ]
          },
          "metadata": {
            "tags": []
          },
          "execution_count": 87
        }
      ]
    },
    {
      "cell_type": "markdown",
      "metadata": {
        "id": "C1SzBjZDSRLg"
      },
      "source": [
        "Cross-validation scoring is varying around in a range of around 4%, and showing no signs of overfitting or underfitting. This is an improvement from our initial model as well as we are not seeing as much variance in cross-validation scoring."
      ]
    },
    {
      "cell_type": "code",
      "metadata": {
        "id": "_CR3_Is0yLGL",
        "colab": {
          "base_uri": "https://localhost:8080/"
        },
        "outputId": "628a9824-d65e-47b7-bbb3-2c8dd2a80209"
      },
      "source": [
        "# Creating classification report.\n",
        "y_pred = decision_tree.predict(X_test)\n",
        "dt_accuracy = accuracy_score(y_test,y_pred)\n",
        "decision_tree_report = classification_report(y_test, y_pred)\n",
        "cm = confusion_matrix(y_test, y_pred)\n",
        "\n",
        "print(\"Accuracy: \", dt_accuracy)\n",
        "print(\"Classification report:\")\n",
        "print(decision_tree_report)\n",
        "print(\"Confusion matrix:\")\n",
        "print(cm)"
      ],
      "execution_count": 88,
      "outputs": [
        {
          "output_type": "stream",
          "text": [
            "Accuracy:  0.8289855072463768\n",
            "Classification report:\n",
            "              precision    recall  f1-score   support\n",
            "\n",
            "          No       0.83      0.82      0.82      1021\n",
            "         Yes       0.83      0.84      0.83      1049\n",
            "\n",
            "    accuracy                           0.83      2070\n",
            "   macro avg       0.83      0.83      0.83      2070\n",
            "weighted avg       0.83      0.83      0.83      2070\n",
            "\n",
            "Confusion matrix:\n",
            "[[834 187]\n",
            " [167 882]]\n"
          ],
          "name": "stdout"
        }
      ]
    },
    {
      "cell_type": "markdown",
      "metadata": {
        "id": "vXgoAP-b1JvT"
      },
      "source": [
        "We were able to increase our models accuracy by 1% while also reducing our runtime by over half. This shows how selectkbest can be used to reduce runtime by decreasing feature dimensionality while maintaining model performance when feature selection is performed correctly."
      ]
    },
    {
      "cell_type": "markdown",
      "metadata": {
        "id": "XtknzVWL1gZA"
      },
      "source": [
        "# Random Forest Classifier with SelectKBest Selected Features and Optimized Hyperparameters"
      ]
    },
    {
      "cell_type": "code",
      "metadata": {
        "colab": {
          "base_uri": "https://localhost:8080/"
        },
        "id": "pVB_BgQAjcZ3",
        "outputId": "75aa5050-2709-481e-8ac2-02a4e18a828a"
      },
      "source": [
        "# Creating a Random Forest Classifier to use with GridSearchCV.\n",
        "rfc = ensemble.RandomForestClassifier()\n",
        "\n",
        "# Creating a parameter grid to find best combination of hyperparameters. \n",
        "param_grid = { \n",
        "    'n_estimators': [200, 500],\n",
        "    'max_features': ['auto', 'sqrt', 'log2'],\n",
        "    'max_depth' : [4,6,8,10],\n",
        "    'criterion' :['gini', 'entropy']\n",
        "}\n",
        "\n",
        "# Using GridSearchCV to find best hyperparamater combination.\n",
        "CV_rfc = GridSearchCV(estimator=rfc, param_grid=param_grid, cv= 5)\n",
        "\n",
        "# Fitting GridSearchCV to our newly decomposed data.\n",
        "CV_rfc.fit(X_train, y_train)"
      ],
      "execution_count": 20,
      "outputs": [
        {
          "output_type": "execute_result",
          "data": {
            "text/plain": [
              "GridSearchCV(cv=5, error_score=nan,\n",
              "             estimator=RandomForestClassifier(bootstrap=True, ccp_alpha=0.0,\n",
              "                                              class_weight=None,\n",
              "                                              criterion='gini', max_depth=None,\n",
              "                                              max_features='auto',\n",
              "                                              max_leaf_nodes=None,\n",
              "                                              max_samples=None,\n",
              "                                              min_impurity_decrease=0.0,\n",
              "                                              min_impurity_split=None,\n",
              "                                              min_samples_leaf=1,\n",
              "                                              min_samples_split=2,\n",
              "                                              min_weight_fraction_leaf=0.0,\n",
              "                                              n_estimators=100, n_jobs=None,\n",
              "                                              oob_score=False,\n",
              "                                              random_state=None, verbose=0,\n",
              "                                              warm_start=False),\n",
              "             iid='deprecated', n_jobs=None,\n",
              "             param_grid={'criterion': ['gini', 'entropy'],\n",
              "                         'max_depth': [4, 6, 8, 10],\n",
              "                         'max_features': ['auto', 'sqrt', 'log2'],\n",
              "                         'n_estimators': [200, 500]},\n",
              "             pre_dispatch='2*n_jobs', refit=True, return_train_score=False,\n",
              "             scoring=None, verbose=0)"
            ]
          },
          "metadata": {
            "tags": []
          },
          "execution_count": 20
        }
      ]
    },
    {
      "cell_type": "code",
      "metadata": {
        "colab": {
          "base_uri": "https://localhost:8080/"
        },
        "id": "SlBwRlRgjc8I",
        "outputId": "1ebde745-3745-400b-a5d9-60cace46a594"
      },
      "source": [
        "# Calling best_params_ to find best parameters from GridSearchCV.\n",
        "CV_rfc.best_params_"
      ],
      "execution_count": 22,
      "outputs": [
        {
          "output_type": "execute_result",
          "data": {
            "text/plain": [
              "{'criterion': 'gini',\n",
              " 'max_depth': 10,\n",
              " 'max_features': 'sqrt',\n",
              " 'n_estimators': 500}"
            ]
          },
          "metadata": {
            "tags": []
          },
          "execution_count": 22
        }
      ]
    },
    {
      "cell_type": "code",
      "metadata": {
        "id": "BzC67Fiy1cYq",
        "colab": {
          "base_uri": "https://localhost:8080/"
        },
        "outputId": "2654a686-87ba-4bfa-950c-58094ec3ca30"
      },
      "source": [
        "# Timing our model.\n",
        "start_time = time.time()\n",
        "\n",
        "# Creating our model using optimized hyperparameters from GridSearchCV.\n",
        "rfc = ensemble.RandomForestClassifier(criterion='gini', \n",
        "                                      max_depth=10,\n",
        "                                      max_features='sqrt',\n",
        "                                      n_estimators=500, random_state=42)\n",
        "\n",
        "# Fit our newly decomposed data to our model.\n",
        "rfc.fit(X_train, y_train)\n",
        "\n",
        "# Print model time. \n",
        "print(\"--- %s seconds ---\" % round(time.time() - start_time, 3))"
      ],
      "execution_count": 23,
      "outputs": [
        {
          "output_type": "stream",
          "text": [
            "--- 2.488 seconds ---\n"
          ],
          "name": "stdout"
        }
      ]
    },
    {
      "cell_type": "markdown",
      "metadata": {
        "id": "AMPpPsZDIf38"
      },
      "source": [
        "Using selectkbest selected features decreased runtime for the random forest classification task as expected although it may not be enough of a reduction in runtime to justify any impact on classification report scoring. "
      ]
    },
    {
      "cell_type": "code",
      "metadata": {
        "id": "pc8x3Sc-J8v7",
        "colab": {
          "base_uri": "https://localhost:8080/"
        },
        "outputId": "f9c32fc2-3738-49f9-e35b-626446aa8ad6"
      },
      "source": [
        "# Print cross-validation score.\n",
        "cross_val_score(rfc, X_train, y_train, cv=10)"
      ],
      "execution_count": 24,
      "outputs": [
        {
          "output_type": "execute_result",
          "data": {
            "text/plain": [
              "array([0.82729469, 0.79951691, 0.76932367, 0.76328502, 0.79830918,\n",
              "       0.81884058, 0.7910628 , 0.80193237, 0.79081016, 0.8210399 ])"
            ]
          },
          "metadata": {
            "tags": []
          },
          "execution_count": 24
        }
      ]
    },
    {
      "cell_type": "markdown",
      "metadata": {
        "id": "OIHf-gouqhKf"
      },
      "source": [
        "Cross-validation scoring is displaying variance of around 6% with no signs of overfitting or underfitting. "
      ]
    },
    {
      "cell_type": "code",
      "metadata": {
        "id": "eJ69YUdzAD1B",
        "colab": {
          "base_uri": "https://localhost:8080/"
        },
        "outputId": "be585bff-2387-409e-e7d2-443a3731cf2b"
      },
      "source": [
        "y_pred = rfc.predict(X_test) \n",
        "rfc_accuracy = accuracy_score(y_test,y_pred)\n",
        "rfc_report = classification_report(y_test, y_pred)\n",
        "rfc_cm = confusion_matrix(y_test, y_pred)\n",
        "\n",
        "print(\"Classification report:\")\n",
        "print(\"Accuracy: \", rfc_accuracy)\n",
        "print(rfc_report)\n",
        "print(\"Confusion matrix:\")\n",
        "print(rfc_cm)"
      ],
      "execution_count": 25,
      "outputs": [
        {
          "output_type": "stream",
          "text": [
            "Classification report:\n",
            "Accuracy:  0.8169082125603865\n",
            "              precision    recall  f1-score   support\n",
            "\n",
            "          No       0.87      0.74      0.80      1021\n",
            "         Yes       0.78      0.89      0.83      1049\n",
            "\n",
            "    accuracy                           0.82      2070\n",
            "   macro avg       0.82      0.82      0.82      2070\n",
            "weighted avg       0.82      0.82      0.82      2070\n",
            "\n",
            "Confusion matrix:\n",
            "[[759 262]\n",
            " [117 932]]\n"
          ],
          "name": "stdout"
        }
      ]
    },
    {
      "cell_type": "markdown",
      "metadata": {
        "id": "IP6X0wn8CpOl"
      },
      "source": [
        "Selectkbest didn't improve our outcome here in terms of model runtime or model performance as seen here in our classification report metrics, with weighted averages lower in precision, recall, f1-score. We will try feature decomposition instead of selection when creating a random forest ensemble model next to improve model performance. This is due to this model losing information that our random forest model can easily interpret while selecting k best features."
      ]
    },
    {
      "cell_type": "markdown",
      "metadata": {
        "id": "0zD9bSymkFgx"
      },
      "source": [
        "# PCA Feature Decomposition"
      ]
    },
    {
      "cell_type": "code",
      "metadata": {
        "id": "KB_Jrw0Do6E9"
      },
      "source": [
        "y = df['Churn']\n",
        "X = df.drop(columns=['Churn'])\n",
        "\n",
        "# Use pandas get_dummies function to create dummy variables necessary for statistical interpretation (one hot encoding).\n",
        "X = pd.get_dummies(X)\n",
        "\n",
        "# Apply SMOTE to fix class imbalance.\n",
        "sm = SMOTE(sampling_strategy='minority', random_state=42)\n",
        "\n",
        "X, y = sm.fit_resample(X, y)\n",
        "\n",
        "# First we must scale our data so that it can be fit into our PCA model.\n",
        "scaler = StandardScaler()\n",
        "scaled_data = scaler.fit_transform(X)\n",
        "\n",
        "# Apply PCA to our scaled data.\n",
        "sklearn_pca = PCA(n_components = 0.95)\n",
        "X_pca = sklearn_pca.fit_transform(scaled_data)"
      ],
      "execution_count": 26,
      "outputs": []
    },
    {
      "cell_type": "code",
      "metadata": {
        "id": "HiA4E06D7SW4",
        "colab": {
          "base_uri": "https://localhost:8080/"
        },
        "outputId": "92ea89b0-faf3-492b-bf90-b5dfd2fc922a"
      },
      "source": [
        "# Verify dimensionality reduction.\n",
        "X.shape"
      ],
      "execution_count": 27,
      "outputs": [
        {
          "output_type": "execute_result",
          "data": {
            "text/plain": [
              "(10348, 44)"
            ]
          },
          "metadata": {
            "tags": []
          },
          "execution_count": 27
        }
      ]
    },
    {
      "cell_type": "code",
      "metadata": {
        "id": "Twvyw-hY37Jp",
        "colab": {
          "base_uri": "https://localhost:8080/"
        },
        "outputId": "f1678137-bc4c-4e75-d171-c2556c6e94a0"
      },
      "source": [
        "# PCA has reduced our number of features to 18 to explain 95% of variance.\n",
        "X_pca.shape"
      ],
      "execution_count": 28,
      "outputs": [
        {
          "output_type": "execute_result",
          "data": {
            "text/plain": [
              "(10348, 18)"
            ]
          },
          "metadata": {
            "tags": []
          },
          "execution_count": 28
        }
      ]
    },
    {
      "cell_type": "code",
      "metadata": {
        "id": "FeeJ_TwTCweJ"
      },
      "source": [
        "# Split PCA data.\n",
        "\n",
        "X_train, X_test, y_train, y_test = train_test_split(X_pca, y, test_size=0.20, random_state=42)"
      ],
      "execution_count": 29,
      "outputs": []
    },
    {
      "cell_type": "markdown",
      "metadata": {
        "id": "SYY082d0zKTI"
      },
      "source": [
        "# Logistic Regression Classifier with PCA"
      ]
    },
    {
      "cell_type": "code",
      "metadata": {
        "id": "XUccnwbIzRNx",
        "colab": {
          "base_uri": "https://localhost:8080/",
          "height": 34
        },
        "outputId": "cdf3c2a3-59c7-4240-9238-ec0a40779c5a"
      },
      "source": [
        "# Timing our model.\n",
        "start_time = time.time()\n",
        "\n",
        "# Create and fit our Logistic Regression classifier.\n",
        "clf = LogisticRegression().fit(X_train, y_train)\n",
        "\n",
        "# Print model time. \n",
        "print(\"--- %s seconds ---\" % round(time.time() - start_time, 3))"
      ],
      "execution_count": null,
      "outputs": [
        {
          "output_type": "stream",
          "text": [
            "--- 0.064 seconds ---\n"
          ],
          "name": "stdout"
        }
      ]
    },
    {
      "cell_type": "markdown",
      "metadata": {
        "id": "o1EQF4puVpIP"
      },
      "source": [
        "This model has the best run time out of our earlier models with selectkbest and no feature selection. "
      ]
    },
    {
      "cell_type": "code",
      "metadata": {
        "id": "9uE5AmbwzZv5",
        "colab": {
          "base_uri": "https://localhost:8080/",
          "height": 51
        },
        "outputId": "5e7ad5c4-fbfb-48c3-de63-c989b86a4bcb"
      },
      "source": [
        "# Print cross-validation score.\n",
        "cross_val_score(clf, X_train, y_train, cv=10)"
      ],
      "execution_count": null,
      "outputs": [
        {
          "output_type": "execute_result",
          "data": {
            "text/plain": [
              "array([0.7705314 , 0.78019324, 0.73309179, 0.74396135, 0.75603865,\n",
              "       0.78743961, 0.77536232, 0.77536232, 0.74727932, 0.78839178])"
            ]
          },
          "metadata": {
            "tags": []
          },
          "execution_count": 57
        }
      ]
    },
    {
      "cell_type": "markdown",
      "metadata": {
        "id": "HvRs5arcWT2N"
      },
      "source": [
        "We see not a lot of variance here which is good. Let's compare our classification report to our first model."
      ]
    },
    {
      "cell_type": "code",
      "metadata": {
        "id": "hT--wlYjzeuP",
        "colab": {
          "base_uri": "https://localhost:8080/",
          "height": 255
        },
        "outputId": "7aac8e6a-1326-4590-ae73-ff30f9041354"
      },
      "source": [
        "# Classification report for our Logistic Regression classifier.\n",
        "y_pred = clf.predict(X_test)\n",
        "accuracy = accuracy_score(y_test,y_pred)\n",
        "report = classification_report(y_test, y_pred)\n",
        "cm = confusion_matrix(y_test, y_pred)\n",
        "\n",
        "print(\"Accuracy: \", accuracy)\n",
        "print(\"Classification report:\")\n",
        "print(report)\n",
        "print(\"Confusion matrix:\")\n",
        "print(cm)"
      ],
      "execution_count": null,
      "outputs": [
        {
          "output_type": "stream",
          "text": [
            "Accuracy:  0.7840579710144927\n",
            "Classification report:\n",
            "              precision    recall  f1-score   support\n",
            "\n",
            "          No       0.80      0.75      0.77      1021\n",
            "         Yes       0.77      0.82      0.79      1049\n",
            "\n",
            "    accuracy                           0.78      2070\n",
            "   macro avg       0.78      0.78      0.78      2070\n",
            "weighted avg       0.78      0.78      0.78      2070\n",
            "\n",
            "Confusion matrix:\n",
            "[[768 253]\n",
            " [194 855]]\n"
          ],
          "name": "stdout"
        }
      ]
    },
    {
      "cell_type": "markdown",
      "metadata": {
        "id": "lNLq-GBXWcxr"
      },
      "source": [
        "Due to our new features from PCA accounting for about 95% of variance in our dataset we are seeing the same accuracy as before feature selection at a fraction of the run-time. PCA is optimal here as it allows for the quickest run-time and no reduction in accuracy. "
      ]
    },
    {
      "cell_type": "markdown",
      "metadata": {
        "id": "gmfxVesj0J5D"
      },
      "source": [
        "# Gradient Boosting Classifier with PCA"
      ]
    },
    {
      "cell_type": "code",
      "metadata": {
        "id": "q9p3rgbe0OfV",
        "colab": {
          "base_uri": "https://localhost:8080/",
          "height": 34
        },
        "outputId": "5390ca37-20a6-4ab1-9a2b-7884dca94f4a"
      },
      "source": [
        "# Timing our model.\n",
        "start_time = time.time()\n",
        "\n",
        "# Create our Gradient Boosting Classifier.\n",
        "clf = GradientBoostingClassifier()\n",
        "\n",
        "# Fit classifier to newly decomposed data.\n",
        "clf.fit(X_train, y_train)\n",
        "\n",
        "# Print model time. \n",
        "print(\"--- %s seconds ---\" % round(time.time() - start_time, 3))"
      ],
      "execution_count": null,
      "outputs": [
        {
          "output_type": "stream",
          "text": [
            "--- 5.583 seconds ---\n"
          ],
          "name": "stdout"
        }
      ]
    },
    {
      "cell_type": "markdown",
      "metadata": {
        "id": "IqXWwJPVYBG3"
      },
      "source": [
        "Our model run time is longer than both our initial and selectkbest run times. This model performs best with raw data it seems."
      ]
    },
    {
      "cell_type": "code",
      "metadata": {
        "id": "UNV0QHe80SBC",
        "colab": {
          "base_uri": "https://localhost:8080/",
          "height": 51
        },
        "outputId": "066650a1-1fc6-41e4-bc2e-81dcef1a6f5d"
      },
      "source": [
        "# Print cross-validation score.\n",
        "cross_val_score(clf, X_train, y_train, cv=10)"
      ],
      "execution_count": null,
      "outputs": [
        {
          "output_type": "execute_result",
          "data": {
            "text/plain": [
              "array([0.81400966, 0.80917874, 0.76086957, 0.7705314 , 0.79710145,\n",
              "       0.81280193, 0.79710145, 0.79830918, 0.77509069, 0.81499395])"
            ]
          },
          "metadata": {
            "tags": []
          },
          "execution_count": 60
        }
      ]
    },
    {
      "cell_type": "code",
      "metadata": {
        "id": "Ax4f-SId0W2N",
        "colab": {
          "base_uri": "https://localhost:8080/",
          "height": 255
        },
        "outputId": "064ef9b7-4e9f-45ef-aa87-9b764f0b0ff2"
      },
      "source": [
        "# Classification report for our Gradient Boosting classifier.\n",
        "y_pred = clf.predict(X_test)\n",
        "accuracy = accuracy_score(y_test,y_pred)\n",
        "report = classification_report(y_test, y_pred)\n",
        "cm = confusion_matrix(y_test, y_pred)\n",
        "\n",
        "print(\"Accuracy: \", accuracy)\n",
        "print(\"Classification report:\")\n",
        "print(report)\n",
        "print(\"Confusion matrix:\")\n",
        "print(cm)"
      ],
      "execution_count": null,
      "outputs": [
        {
          "output_type": "stream",
          "text": [
            "Accuracy:  0.8077294685990338\n",
            "Classification report:\n",
            "              precision    recall  f1-score   support\n",
            "\n",
            "          No       0.83      0.77      0.80      1021\n",
            "         Yes       0.79      0.84      0.82      1049\n",
            "\n",
            "    accuracy                           0.81      2070\n",
            "   macro avg       0.81      0.81      0.81      2070\n",
            "weighted avg       0.81      0.81      0.81      2070\n",
            "\n",
            "Confusion matrix:\n",
            "[[790 231]\n",
            " [167 882]]\n"
          ],
          "name": "stdout"
        }
      ]
    },
    {
      "cell_type": "markdown",
      "metadata": {
        "id": "0cjVJWY50ntH"
      },
      "source": [
        "Our model is performing better than when we used selectkbest feature selection. This is due to our new features accounting for most of our datasets variance. However our model is not performing as well as our initial model and has a longer run time (about 3x)."
      ]
    },
    {
      "cell_type": "markdown",
      "metadata": {
        "id": "uQ73YKG30wRd"
      },
      "source": [
        "# KNN Classifier with PCA"
      ]
    },
    {
      "cell_type": "code",
      "metadata": {
        "id": "kmtYP2H201X9",
        "colab": {
          "base_uri": "https://localhost:8080/",
          "height": 34
        },
        "outputId": "d82a187c-c035-4288-fc36-f9796ca5a1d5"
      },
      "source": [
        "# Timing our model.\n",
        "start_time = time.time()\n",
        "\n",
        "#Create the KNN Classifier.\n",
        "knn = KNeighborsClassifier(n_neighbors=7)\n",
        "\n",
        "#Train our model.\n",
        "knn.fit(X_train, y_train)\n",
        "\n",
        "# Print model time. \n",
        "print(\"--- %s seconds ---\" % round(time.time() - start_time, 3))"
      ],
      "execution_count": null,
      "outputs": [
        {
          "output_type": "stream",
          "text": [
            "--- 0.033 seconds ---\n"
          ],
          "name": "stdout"
        }
      ]
    },
    {
      "cell_type": "markdown",
      "metadata": {
        "id": "GQpPYRuXbDhO"
      },
      "source": [
        "We have slightly longer run time than selectkbest selected features but less run time than our initial model."
      ]
    },
    {
      "cell_type": "code",
      "metadata": {
        "id": "DO9yrGhJ04YL",
        "colab": {
          "base_uri": "https://localhost:8080/",
          "height": 51
        },
        "outputId": "c11db12c-4aaa-4080-bcb6-22b6c2dbc546"
      },
      "source": [
        "cross_val_score(knn, X_train, y_train, cv=10)"
      ],
      "execution_count": null,
      "outputs": [
        {
          "output_type": "execute_result",
          "data": {
            "text/plain": [
              "array([0.77536232, 0.76328502, 0.74516908, 0.75      , 0.77898551,\n",
              "       0.7826087 , 0.7705314 , 0.77173913, 0.77629988, 0.7859734 ])"
            ]
          },
          "metadata": {
            "tags": []
          },
          "execution_count": 63
        }
      ]
    },
    {
      "cell_type": "markdown",
      "metadata": {
        "id": "RI3xVGiRbNiH"
      },
      "source": [
        "This model gives us the best cross-validation score variance out of all."
      ]
    },
    {
      "cell_type": "code",
      "metadata": {
        "id": "9MLPwcGb060z",
        "colab": {
          "base_uri": "https://localhost:8080/",
          "height": 255
        },
        "outputId": "5e2ccff6-7ede-4e2e-9e8f-22fbe0447c1f"
      },
      "source": [
        "# Classification report for our KNN classifier.\n",
        "y_pred = knn.predict(X_test)\n",
        "accuracy = accuracy_score(y_test,y_pred)\n",
        "report = classification_report(y_test, y_pred)\n",
        "cm = confusion_matrix(y_test, y_pred)\n",
        "\n",
        "print(\"Accuracy: \", accuracy)\n",
        "print(\"Classification report:\")\n",
        "print(report)\n",
        "print(\"Confusion matrix:\")\n",
        "print(cm)"
      ],
      "execution_count": null,
      "outputs": [
        {
          "output_type": "stream",
          "text": [
            "Accuracy:  0.7888888888888889\n",
            "Classification report:\n",
            "              precision    recall  f1-score   support\n",
            "\n",
            "          No       0.87      0.67      0.76      1021\n",
            "         Yes       0.74      0.90      0.81      1049\n",
            "\n",
            "    accuracy                           0.79      2070\n",
            "   macro avg       0.80      0.79      0.79      2070\n",
            "weighted avg       0.80      0.79      0.79      2070\n",
            "\n",
            "Confusion matrix:\n",
            "[[689 332]\n",
            " [105 944]]\n"
          ],
          "name": "stdout"
        }
      ]
    },
    {
      "cell_type": "markdown",
      "metadata": {
        "id": "Xa6TFo13bRxK"
      },
      "source": [
        "We have better accuracy with this model using decomposed features than selectkbest selected features."
      ]
    },
    {
      "cell_type": "markdown",
      "metadata": {
        "id": "T-jPwZYh1Fgh"
      },
      "source": [
        "# SVM Classifier with PCA"
      ]
    },
    {
      "cell_type": "code",
      "metadata": {
        "id": "AVCw_b3F1GaQ",
        "colab": {
          "base_uri": "https://localhost:8080/",
          "height": 34
        },
        "outputId": "4a39a0ef-f929-4df1-bc6b-28489bb91c8b"
      },
      "source": [
        "# Timing our model.\n",
        "start_time = time.time()\n",
        "\n",
        "#Create SVM Classifier\n",
        "clf = svm.SVC(kernel='linear') # Linear Kernel\n",
        "\n",
        "#Train our model\n",
        "clf.fit(X_train, y_train)\n",
        "\n",
        "# Print model time. \n",
        "print(\"--- %s seconds ---\" % round(time.time() - start_time, 3))"
      ],
      "execution_count": null,
      "outputs": [
        {
          "output_type": "stream",
          "text": [
            "--- 5.134 seconds ---\n"
          ],
          "name": "stdout"
        }
      ]
    },
    {
      "cell_type": "markdown",
      "metadata": {
        "id": "7EHJ-CHvc71Q"
      },
      "source": [
        "We are seeing a slightly longer runtime by a couple of seconds here than with feature selection. This is due to more information needing processed."
      ]
    },
    {
      "cell_type": "code",
      "metadata": {
        "id": "w3bjM_AU1Jms",
        "colab": {
          "base_uri": "https://localhost:8080/",
          "height": 51
        },
        "outputId": "adda35e4-a177-485c-b0f8-835625e5c029"
      },
      "source": [
        "cross_val_score(clf, X_train, y_train, cv=10)"
      ],
      "execution_count": null,
      "outputs": [
        {
          "output_type": "execute_result",
          "data": {
            "text/plain": [
              "array([0.75362319, 0.76690821, 0.72826087, 0.73671498, 0.73913043,\n",
              "       0.78623188, 0.77415459, 0.76086957, 0.7617896 , 0.80169287])"
            ]
          },
          "metadata": {
            "tags": []
          },
          "execution_count": 66
        }
      ]
    },
    {
      "cell_type": "markdown",
      "metadata": {
        "id": "b2kSwmVFc9nq"
      },
      "source": [
        "Cross-validation variance is about the same around 7%."
      ]
    },
    {
      "cell_type": "code",
      "metadata": {
        "id": "ZI0hGAzu1NwT",
        "colab": {
          "base_uri": "https://localhost:8080/",
          "height": 255
        },
        "outputId": "238ff6e9-4961-470d-82d9-379f1b2ef5fd"
      },
      "source": [
        "# Classification report for our SVM classifier.\n",
        "y_pred = clf.predict(X_test)\n",
        "accuracy = accuracy_score(y_test,y_pred)\n",
        "svm_report = classification_report(y_test, y_pred)\n",
        "cm = confusion_matrix(y_test, y_pred)\n",
        "\n",
        "print(\"Accuracy: \", accuracy)\n",
        "print(\"Classification report:\")\n",
        "print(svm_report)\n",
        "print(\"Confusion matrix:\")\n",
        "print(cm)"
      ],
      "execution_count": null,
      "outputs": [
        {
          "output_type": "stream",
          "text": [
            "Accuracy:  0.7792270531400967\n",
            "Classification report:\n",
            "              precision    recall  f1-score   support\n",
            "\n",
            "          No       0.81      0.72      0.76      1021\n",
            "         Yes       0.75      0.84      0.79      1049\n",
            "\n",
            "    accuracy                           0.78      2070\n",
            "   macro avg       0.78      0.78      0.78      2070\n",
            "weighted avg       0.78      0.78      0.78      2070\n",
            "\n",
            "Confusion matrix:\n",
            "[[732 289]\n",
            " [168 881]]\n"
          ],
          "name": "stdout"
        }
      ]
    },
    {
      "cell_type": "markdown",
      "metadata": {
        "id": "TpFnfbgEdSKs"
      },
      "source": [
        "Using PCA increased our models accuracy by about 3% compared to feature selection. We've also managed to outperform our inital model without any feature selection or decomposition."
      ]
    },
    {
      "cell_type": "markdown",
      "metadata": {
        "id": "4AqpF47nH25t"
      },
      "source": [
        "# Decision Tree Model with PCA and GridSearchCV"
      ]
    },
    {
      "cell_type": "code",
      "metadata": {
        "id": "WdBywvb_F7C-",
        "colab": {
          "base_uri": "https://localhost:8080/",
          "height": 1000
        },
        "outputId": "afb5512c-d14d-4406-b31e-30f62e336b56"
      },
      "source": [
        "# Applying GridSearchCV to find optimal hyperparameters to improve our classification report.\n",
        "# We are looking at a few parameters to see what works best with our model.\n",
        "tree_para = {'criterion':['gini','entropy'],\n",
        "             'max_depth':[3,5,10,25,50,100,200,500],\n",
        "             'max_features':[3,4,5,10,18]}\n",
        "clf = GridSearchCV(decision_tree, tree_para, cv=5)\n",
        "clf.fit(X_train, y_train)\n",
        "\n",
        "# Putting our results into a Pandas DataFrame for easier interpretation.\n",
        "gscv_df = pd.DataFrame(clf.cv_results_)\n",
        "gscv_df.sort_values('rank_test_score')"
      ],
      "execution_count": 93,
      "outputs": [
        {
          "output_type": "execute_result",
          "data": {
            "text/html": [
              "<div>\n",
              "<style scoped>\n",
              "    .dataframe tbody tr th:only-of-type {\n",
              "        vertical-align: middle;\n",
              "    }\n",
              "\n",
              "    .dataframe tbody tr th {\n",
              "        vertical-align: top;\n",
              "    }\n",
              "\n",
              "    .dataframe thead th {\n",
              "        text-align: right;\n",
              "    }\n",
              "</style>\n",
              "<table border=\"1\" class=\"dataframe\">\n",
              "  <thead>\n",
              "    <tr style=\"text-align: right;\">\n",
              "      <th></th>\n",
              "      <th>mean_fit_time</th>\n",
              "      <th>std_fit_time</th>\n",
              "      <th>mean_score_time</th>\n",
              "      <th>std_score_time</th>\n",
              "      <th>param_criterion</th>\n",
              "      <th>param_max_depth</th>\n",
              "      <th>param_max_features</th>\n",
              "      <th>params</th>\n",
              "      <th>split0_test_score</th>\n",
              "      <th>split1_test_score</th>\n",
              "      <th>split2_test_score</th>\n",
              "      <th>split3_test_score</th>\n",
              "      <th>split4_test_score</th>\n",
              "      <th>mean_test_score</th>\n",
              "      <th>std_test_score</th>\n",
              "      <th>rank_test_score</th>\n",
              "    </tr>\n",
              "  </thead>\n",
              "  <tbody>\n",
              "    <tr>\n",
              "      <th>14</th>\n",
              "      <td>0.133932</td>\n",
              "      <td>0.001346</td>\n",
              "      <td>0.003648</td>\n",
              "      <td>0.000817</td>\n",
              "      <td>gini</td>\n",
              "      <td>10</td>\n",
              "      <td>18</td>\n",
              "      <td>{'criterion': 'gini', 'max_depth': 10, 'max_fe...</td>\n",
              "      <td>0.772947</td>\n",
              "      <td>0.737319</td>\n",
              "      <td>0.764493</td>\n",
              "      <td>0.774018</td>\n",
              "      <td>0.775227</td>\n",
              "      <td>0.764801</td>\n",
              "      <td>0.014250</td>\n",
              "      <td>1</td>\n",
              "    </tr>\n",
              "    <tr>\n",
              "      <th>13</th>\n",
              "      <td>0.077481</td>\n",
              "      <td>0.000836</td>\n",
              "      <td>0.003212</td>\n",
              "      <td>0.000092</td>\n",
              "      <td>gini</td>\n",
              "      <td>10</td>\n",
              "      <td>10</td>\n",
              "      <td>{'criterion': 'gini', 'max_depth': 10, 'max_fe...</td>\n",
              "      <td>0.766908</td>\n",
              "      <td>0.732488</td>\n",
              "      <td>0.756643</td>\n",
              "      <td>0.777644</td>\n",
              "      <td>0.768580</td>\n",
              "      <td>0.760452</td>\n",
              "      <td>0.015491</td>\n",
              "      <td>2</td>\n",
              "    </tr>\n",
              "    <tr>\n",
              "      <th>54</th>\n",
              "      <td>0.246913</td>\n",
              "      <td>0.004190</td>\n",
              "      <td>0.003206</td>\n",
              "      <td>0.000107</td>\n",
              "      <td>entropy</td>\n",
              "      <td>10</td>\n",
              "      <td>18</td>\n",
              "      <td>{'criterion': 'entropy', 'max_depth': 10, 'max...</td>\n",
              "      <td>0.765097</td>\n",
              "      <td>0.727657</td>\n",
              "      <td>0.762077</td>\n",
              "      <td>0.775227</td>\n",
              "      <td>0.756495</td>\n",
              "      <td>0.757311</td>\n",
              "      <td>0.016027</td>\n",
              "      <td>3</td>\n",
              "    </tr>\n",
              "    <tr>\n",
              "      <th>9</th>\n",
              "      <td>0.077568</td>\n",
              "      <td>0.000340</td>\n",
              "      <td>0.003165</td>\n",
              "      <td>0.000080</td>\n",
              "      <td>gini</td>\n",
              "      <td>5</td>\n",
              "      <td>18</td>\n",
              "      <td>{'criterion': 'gini', 'max_depth': 5, 'max_fea...</td>\n",
              "      <td>0.768720</td>\n",
              "      <td>0.725845</td>\n",
              "      <td>0.759058</td>\n",
              "      <td>0.767976</td>\n",
              "      <td>0.757704</td>\n",
              "      <td>0.755861</td>\n",
              "      <td>0.015663</td>\n",
              "      <td>4</td>\n",
              "    </tr>\n",
              "    <tr>\n",
              "      <th>50</th>\n",
              "      <td>0.048760</td>\n",
              "      <td>0.000671</td>\n",
              "      <td>0.003199</td>\n",
              "      <td>0.000067</td>\n",
              "      <td>entropy</td>\n",
              "      <td>10</td>\n",
              "      <td>3</td>\n",
              "      <td>{'criterion': 'entropy', 'max_depth': 10, 'max...</td>\n",
              "      <td>0.768116</td>\n",
              "      <td>0.728865</td>\n",
              "      <td>0.763285</td>\n",
              "      <td>0.752266</td>\n",
              "      <td>0.766767</td>\n",
              "      <td>0.755860</td>\n",
              "      <td>0.014601</td>\n",
              "      <td>5</td>\n",
              "    </tr>\n",
              "    <tr>\n",
              "      <th>...</th>\n",
              "      <td>...</td>\n",
              "      <td>...</td>\n",
              "      <td>...</td>\n",
              "      <td>...</td>\n",
              "      <td>...</td>\n",
              "      <td>...</td>\n",
              "      <td>...</td>\n",
              "      <td>...</td>\n",
              "      <td>...</td>\n",
              "      <td>...</td>\n",
              "      <td>...</td>\n",
              "      <td>...</td>\n",
              "      <td>...</td>\n",
              "      <td>...</td>\n",
              "      <td>...</td>\n",
              "      <td>...</td>\n",
              "    </tr>\n",
              "    <tr>\n",
              "      <th>46</th>\n",
              "      <td>0.038642</td>\n",
              "      <td>0.002358</td>\n",
              "      <td>0.003186</td>\n",
              "      <td>0.000152</td>\n",
              "      <td>entropy</td>\n",
              "      <td>5</td>\n",
              "      <td>4</td>\n",
              "      <td>{'criterion': 'entropy', 'max_depth': 5, 'max_...</td>\n",
              "      <td>0.734300</td>\n",
              "      <td>0.728865</td>\n",
              "      <td>0.713768</td>\n",
              "      <td>0.650151</td>\n",
              "      <td>0.725680</td>\n",
              "      <td>0.710553</td>\n",
              "      <td>0.030941</td>\n",
              "      <td>76</td>\n",
              "    </tr>\n",
              "    <tr>\n",
              "      <th>42</th>\n",
              "      <td>0.030989</td>\n",
              "      <td>0.001562</td>\n",
              "      <td>0.003082</td>\n",
              "      <td>0.000051</td>\n",
              "      <td>entropy</td>\n",
              "      <td>3</td>\n",
              "      <td>5</td>\n",
              "      <td>{'criterion': 'entropy', 'max_depth': 3, 'max_...</td>\n",
              "      <td>0.703502</td>\n",
              "      <td>0.710145</td>\n",
              "      <td>0.641304</td>\n",
              "      <td>0.752266</td>\n",
              "      <td>0.711782</td>\n",
              "      <td>0.703800</td>\n",
              "      <td>0.035661</td>\n",
              "      <td>77</td>\n",
              "    </tr>\n",
              "    <tr>\n",
              "      <th>41</th>\n",
              "      <td>0.025350</td>\n",
              "      <td>0.000200</td>\n",
              "      <td>0.003093</td>\n",
              "      <td>0.000046</td>\n",
              "      <td>entropy</td>\n",
              "      <td>3</td>\n",
              "      <td>4</td>\n",
              "      <td>{'criterion': 'entropy', 'max_depth': 3, 'max_...</td>\n",
              "      <td>0.743357</td>\n",
              "      <td>0.702899</td>\n",
              "      <td>0.677536</td>\n",
              "      <td>0.709366</td>\n",
              "      <td>0.675529</td>\n",
              "      <td>0.701737</td>\n",
              "      <td>0.024756</td>\n",
              "      <td>78</td>\n",
              "    </tr>\n",
              "    <tr>\n",
              "      <th>1</th>\n",
              "      <td>0.017561</td>\n",
              "      <td>0.000745</td>\n",
              "      <td>0.003436</td>\n",
              "      <td>0.000433</td>\n",
              "      <td>gini</td>\n",
              "      <td>3</td>\n",
              "      <td>4</td>\n",
              "      <td>{'criterion': 'gini', 'max_depth': 3, 'max_fea...</td>\n",
              "      <td>0.695652</td>\n",
              "      <td>0.707126</td>\n",
              "      <td>0.660628</td>\n",
              "      <td>0.640483</td>\n",
              "      <td>0.753474</td>\n",
              "      <td>0.691473</td>\n",
              "      <td>0.039136</td>\n",
              "      <td>79</td>\n",
              "    </tr>\n",
              "    <tr>\n",
              "      <th>40</th>\n",
              "      <td>0.020766</td>\n",
              "      <td>0.000195</td>\n",
              "      <td>0.003282</td>\n",
              "      <td>0.000276</td>\n",
              "      <td>entropy</td>\n",
              "      <td>3</td>\n",
              "      <td>3</td>\n",
              "      <td>{'criterion': 'entropy', 'max_depth': 3, 'max_...</td>\n",
              "      <td>0.672705</td>\n",
              "      <td>0.711957</td>\n",
              "      <td>0.743357</td>\n",
              "      <td>0.613293</td>\n",
              "      <td>0.629003</td>\n",
              "      <td>0.674063</td>\n",
              "      <td>0.048914</td>\n",
              "      <td>80</td>\n",
              "    </tr>\n",
              "  </tbody>\n",
              "</table>\n",
              "<p>80 rows × 16 columns</p>\n",
              "</div>"
            ],
            "text/plain": [
              "    mean_fit_time  std_fit_time  ...  std_test_score  rank_test_score\n",
              "14       0.133932      0.001346  ...        0.014250                1\n",
              "13       0.077481      0.000836  ...        0.015491                2\n",
              "54       0.246913      0.004190  ...        0.016027                3\n",
              "9        0.077568      0.000340  ...        0.015663                4\n",
              "50       0.048760      0.000671  ...        0.014601                5\n",
              "..            ...           ...  ...             ...              ...\n",
              "46       0.038642      0.002358  ...        0.030941               76\n",
              "42       0.030989      0.001562  ...        0.035661               77\n",
              "41       0.025350      0.000200  ...        0.024756               78\n",
              "1        0.017561      0.000745  ...        0.039136               79\n",
              "40       0.020766      0.000195  ...        0.048914               80\n",
              "\n",
              "[80 rows x 16 columns]"
            ]
          },
          "metadata": {
            "tags": []
          },
          "execution_count": 93
        }
      ]
    },
    {
      "cell_type": "markdown",
      "metadata": {
        "id": "6V-VW6lyf54O"
      },
      "source": [
        "Our parameter grid search results from GridSearchCV have been put into a Pandas DataFrame for easier interpretation and ordered by test rank score. We will select the parameters with the highest test scoring."
      ]
    },
    {
      "cell_type": "code",
      "metadata": {
        "id": "8MiqBF1gAn4N",
        "colab": {
          "base_uri": "https://localhost:8080/"
        },
        "outputId": "b3200649-ba7d-48a8-8411-ef92d103ec57"
      },
      "source": [
        "# Timing our model.\n",
        "start_time = time.time()\n",
        "\n",
        "# Initialize and train our tree using parameters from GridSearchCV.\n",
        "decision_tree = tree.DecisionTreeClassifier(\n",
        "    criterion='gini',\n",
        "    max_depth=10,\n",
        "    max_features=18,\n",
        ")\n",
        "decision_tree.fit(X_train, y_train)\n",
        "\n",
        "# Print model time. \n",
        "print(\"--- %s seconds ---\" % round(time.time() - start_time, 3))"
      ],
      "execution_count": 94,
      "outputs": [
        {
          "output_type": "stream",
          "text": [
            "--- 0.178 seconds ---\n"
          ],
          "name": "stdout"
        }
      ]
    },
    {
      "cell_type": "markdown",
      "metadata": {
        "id": "_LLsdJt2gVdl"
      },
      "source": [
        "Interestingly our runtime was actually increased compared to our decision tree model before feature selection. This could be due to increased data complexity with PCA which decomposes new features instead of selecting the best features based on k value like selectkbest does. The hyperparameters involved for best performance here may cause increased runtime as well."
      ]
    },
    {
      "cell_type": "code",
      "metadata": {
        "id": "XbHMUNo-A_eo",
        "colab": {
          "base_uri": "https://localhost:8080/"
        },
        "outputId": "6c48c223-2b2d-48f8-d433-0ab792b3ead7"
      },
      "source": [
        "y_pred = decision_tree.predict(X_test)\n",
        "dt_accuracy = accuracy_score(y_test,y_pred)\n",
        "decision_tree_report = classification_report(y_test, y_pred)\n",
        "cm = confusion_matrix(y_test, y_pred)\n",
        "\n",
        "print(\"Classification report:\")\n",
        "print(\"Accuracy: \", dt_accuracy)\n",
        "print(decision_tree_report)\n",
        "print(\"Confusion matrix:\")\n",
        "print(cm)"
      ],
      "execution_count": 95,
      "outputs": [
        {
          "output_type": "stream",
          "text": [
            "Classification report:\n",
            "Accuracy:  0.7942028985507247\n",
            "              precision    recall  f1-score   support\n",
            "\n",
            "          No       0.84      0.72      0.78      1021\n",
            "         Yes       0.76      0.86      0.81      1049\n",
            "\n",
            "    accuracy                           0.79      2070\n",
            "   macro avg       0.80      0.79      0.79      2070\n",
            "weighted avg       0.80      0.79      0.79      2070\n",
            "\n",
            "Confusion matrix:\n",
            "[[739 282]\n",
            " [144 905]]\n"
          ],
          "name": "stdout"
        }
      ]
    },
    {
      "cell_type": "markdown",
      "metadata": {
        "id": "0jcsmdhZGfsZ"
      },
      "source": [
        "Our model is not performing as well as it did with selectkbest or before feature selection. PCA is not optimal for the decision tree classification task in this case."
      ]
    },
    {
      "cell_type": "markdown",
      "metadata": {
        "id": "PnPHHO3YGQNp"
      },
      "source": [
        "# Random Forest using PCA + GridSearchCV"
      ]
    },
    {
      "cell_type": "code",
      "metadata": {
        "id": "4Tq27apAEj7f"
      },
      "source": [
        "# Creating a Random Forest Classifier to use with GridSearchCV.\n",
        "rfc = ensemble.RandomForestClassifier()"
      ],
      "execution_count": 30,
      "outputs": []
    },
    {
      "cell_type": "code",
      "metadata": {
        "id": "kBm9kzj0hJt8"
      },
      "source": [
        "# Creating a parameter grid to find best combination of hyperparameters. \n",
        "param_grid = { \n",
        "    'n_estimators': [200, 500],\n",
        "    'max_features': ['auto', 'sqrt', 'log2'],\n",
        "    'max_depth' : [5,8,10,15,18],\n",
        "    'criterion' :['gini', 'entropy']\n",
        "}"
      ],
      "execution_count": 31,
      "outputs": []
    },
    {
      "cell_type": "code",
      "metadata": {
        "id": "49QOgHt4hOQ3",
        "colab": {
          "base_uri": "https://localhost:8080/"
        },
        "outputId": "ba779a2f-33fb-4ffb-9b86-fdb2078bbb13"
      },
      "source": [
        "# Using GridSearchCV to find best hyperparamater combination.\n",
        "CV_rfc = GridSearchCV(estimator=rfc, param_grid=param_grid, cv= 5)\n",
        "\n",
        "# Fitting GridSearchCV to our newly decomposed data.\n",
        "CV_rfc.fit(X_train, y_train)"
      ],
      "execution_count": 32,
      "outputs": [
        {
          "output_type": "execute_result",
          "data": {
            "text/plain": [
              "GridSearchCV(cv=5, error_score=nan,\n",
              "             estimator=RandomForestClassifier(bootstrap=True, ccp_alpha=0.0,\n",
              "                                              class_weight=None,\n",
              "                                              criterion='gini', max_depth=None,\n",
              "                                              max_features='auto',\n",
              "                                              max_leaf_nodes=None,\n",
              "                                              max_samples=None,\n",
              "                                              min_impurity_decrease=0.0,\n",
              "                                              min_impurity_split=None,\n",
              "                                              min_samples_leaf=1,\n",
              "                                              min_samples_split=2,\n",
              "                                              min_weight_fraction_leaf=0.0,\n",
              "                                              n_estimators=100, n_jobs=None,\n",
              "                                              oob_score=False,\n",
              "                                              random_state=None, verbose=0,\n",
              "                                              warm_start=False),\n",
              "             iid='deprecated', n_jobs=None,\n",
              "             param_grid={'criterion': ['gini', 'entropy'],\n",
              "                         'max_depth': [5, 8, 10, 15, 18],\n",
              "                         'max_features': ['auto', 'sqrt', 'log2'],\n",
              "                         'n_estimators': [200, 500]},\n",
              "             pre_dispatch='2*n_jobs', refit=True, return_train_score=False,\n",
              "             scoring=None, verbose=0)"
            ]
          },
          "metadata": {
            "tags": []
          },
          "execution_count": 32
        }
      ]
    },
    {
      "cell_type": "code",
      "metadata": {
        "id": "mhFAdAGbhdTb",
        "colab": {
          "base_uri": "https://localhost:8080/"
        },
        "outputId": "bfe50761-0358-4eda-e4a9-955f461a8893"
      },
      "source": [
        "# Calling best_params_ to find best parameters from GridSearchCV.\n",
        "CV_rfc.best_params_"
      ],
      "execution_count": 33,
      "outputs": [
        {
          "output_type": "execute_result",
          "data": {
            "text/plain": [
              "{'criterion': 'entropy',\n",
              " 'max_depth': 15,\n",
              " 'max_features': 'auto',\n",
              " 'n_estimators': 500}"
            ]
          },
          "metadata": {
            "tags": []
          },
          "execution_count": 33
        }
      ]
    },
    {
      "cell_type": "code",
      "metadata": {
        "id": "XvaRmkN_EVNb",
        "colab": {
          "base_uri": "https://localhost:8080/"
        },
        "outputId": "8866adee-1779-42d7-ffe3-15a3ba20778d"
      },
      "source": [
        "# Timing our model.\n",
        "start_time = time.time()\n",
        "\n",
        "# Creating our model using optimized hyperparameters from GridSearchCV.\n",
        "rfc = ensemble.RandomForestClassifier(criterion='entropy', \n",
        "                                      max_depth=8,\n",
        "                                      max_features='auto',\n",
        "                                      n_estimators=200, random_state=42)\n",
        "\n",
        "# Fit our newly decomposed data to our model.\n",
        "rfc.fit(X_train, y_train)\n",
        "\n",
        "# Print model time. \n",
        "print(\"--- %s seconds ---\" % round(time.time() - start_time, 3))"
      ],
      "execution_count": 34,
      "outputs": [
        {
          "output_type": "stream",
          "text": [
            "--- 8.035 seconds ---\n"
          ],
          "name": "stdout"
        }
      ]
    },
    {
      "cell_type": "markdown",
      "metadata": {
        "id": "6nJh0_ndmhgD"
      },
      "source": [
        "Model runtime was dramatically increased compared to our initial model without feature decomposition and our model that used selectkbest selected features. This may be due to the increased feature size of our PCA data need to achieve features that explained 95% of our targets variance compared to selectkbest. "
      ]
    },
    {
      "cell_type": "code",
      "metadata": {
        "id": "IW85mABiLPgR",
        "colab": {
          "base_uri": "https://localhost:8080/"
        },
        "outputId": "3a522b1e-0d45-453e-ddf5-0ee223249020"
      },
      "source": [
        "# Print cross-validation score.\n",
        "cross_val_score(rfc, X_train, y_train, cv=10)"
      ],
      "execution_count": 35,
      "outputs": [
        {
          "output_type": "execute_result",
          "data": {
            "text/plain": [
              "array([0.79830918, 0.80676329, 0.76086957, 0.75603865, 0.77415459,\n",
              "       0.80193237, 0.81763285, 0.78985507, 0.77267231, 0.81136638])"
            ]
          },
          "metadata": {
            "tags": []
          },
          "execution_count": 35
        }
      ]
    },
    {
      "cell_type": "code",
      "metadata": {
        "id": "J8z5MnLwGxs5",
        "colab": {
          "base_uri": "https://localhost:8080/"
        },
        "outputId": "cb3c6c74-2e6c-4df8-e85c-5dc6cd7ab147"
      },
      "source": [
        "y_pred = rfc.predict(X_test) \n",
        "rfc_accuracy = accuracy_score(y_test,y_pred)\n",
        "rfc_report = classification_report(y_test, y_pred)\n",
        "rfc_cm = confusion_matrix(y_test, y_pred)\n",
        "\n",
        "print(\"Classification report:\")\n",
        "print(\"Accuracy: \", rfc_accuracy)\n",
        "print(rfc_report)\n",
        "print(\"Confusion matrix:\")\n",
        "print(rfc_cm)"
      ],
      "execution_count": 36,
      "outputs": [
        {
          "output_type": "stream",
          "text": [
            "Classification report:\n",
            "Accuracy:  0.8057971014492754\n",
            "              precision    recall  f1-score   support\n",
            "\n",
            "          No       0.83      0.76      0.79      1021\n",
            "         Yes       0.78      0.85      0.82      1049\n",
            "\n",
            "    accuracy                           0.81      2070\n",
            "   macro avg       0.81      0.81      0.81      2070\n",
            "weighted avg       0.81      0.81      0.81      2070\n",
            "\n",
            "Confusion matrix:\n",
            "[[775 246]\n",
            " [156 893]]\n"
          ],
          "name": "stdout"
        }
      ]
    },
    {
      "cell_type": "markdown",
      "metadata": {
        "id": "Ul0YBHjiIxPa"
      },
      "source": [
        "Metrics for our classification report were also not improved after feature decomposition with PCA and performance was reduced in comparison to the smaller selectkbest feature set. One would expect PCA to outperform as it had a higher dimensional set of features but it did not indicating some features were not useful but still were integrated into the PCA data. This indicates our random forest model performs best on this dataset without feature selection or decomposition."
      ]
    },
    {
      "cell_type": "markdown",
      "metadata": {
        "id": "YnEJq16IG94x"
      },
      "source": [
        "# Conclusion"
      ]
    },
    {
      "cell_type": "markdown",
      "metadata": {
        "id": "5UPA5YVeqn-z"
      },
      "source": [
        "  In conclusion, we were able to obtain repeatable results using a wide variety of models. Some models were much better suited to this dataset than others in regards to runtime and classification report metrics. Our random forest model without any feature selection or decomposition was our best performing model and able to run moderately fast in comparison to some other models with less accuracy such as SVM. Gradient boosting was able to obtain the same results at double the runtime with even longer runtimes when combined with other feature selection and decomposition techniques. Cross-validation variance was also minimal in comparison to our other models and none of the models tested display signs of overfitting or underfitting. \n",
        "\n",
        "Using feature selection with SelectKBest we were able to significantly reduce our run time in our random forest model but at the cost of less accuracy (5%). Since our run time is not that long anyways it seems our random forest model without any feature selection is going to be our best model to predict potential customer churn with a model accuracy of 86.8% and runtime of about 1 second. Inversely, PCA increased run time with random forest to 8 seconds while impacting performance. This demonstrates that feature selection and decomposition methods do not always give the best result depending on the desired model, so it is important to thoroughly test various implementations in order to find the best fit. "
      ]
    }
  ]
}