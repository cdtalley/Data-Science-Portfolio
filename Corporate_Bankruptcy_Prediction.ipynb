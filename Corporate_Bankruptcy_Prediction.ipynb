{
  "nbformat": 4,
  "nbformat_minor": 0,
  "metadata": {
    "colab": {
      "name": "Corporate Bankruptcy Prediction.ipynb",
      "provenance": [],
      "collapsed_sections": [
        "8jgmsWFTc7Yj",
        "pnuqEVf9dlQB",
        "hxoeXC-F0_oA",
        "g5PskkIbazzD",
        "jZ46IokZs_Fs",
        "cAeYcY1itTji",
        "g7mnMzLRt1nW"
      ],
      "authorship_tag": "ABX9TyMEOCvifNDBi4AWFCguFIzR",
      "include_colab_link": true
    },
    "kernelspec": {
      "display_name": "Python 3",
      "name": "python3"
    }
  },
  "cells": [
    {
      "cell_type": "markdown",
      "metadata": {
        "id": "view-in-github",
        "colab_type": "text"
      },
      "source": [
        "<a href=\"https://colab.research.google.com/github/cdtalley/Data-Science-Portfolio/blob/main/Corporate_Bankruptcy_Prediction.ipynb\" target=\"_parent\"><img src=\"https://colab.research.google.com/assets/colab-badge.svg\" alt=\"Open In Colab\"/></a>"
      ]
    },
    {
      "cell_type": "markdown",
      "metadata": {
        "id": "0qDzp1Y9hVhn"
      },
      "source": [
        "# Corporate Bankruptcy Prediction"
      ]
    },
    {
      "cell_type": "markdown",
      "metadata": {
        "id": "znbaMiIyhZsd"
      },
      "source": [
        "Bankruptcy is a legal process through which people or corporate entities who cannot repay debts to creditors may seek relief from some or all of their debts. Bankruptcy is often initiated by the debtor, making the use of predictive modeling a major tool in the finance industry to save costs associated with bankruptcy. Early detections allow creditors to analyze their own risk and help mitigate unwanted transactions beforehand. \n",
        "\n",
        "The detection of bankruptcy benefits creditors, investors, shareholders, partners, and even buyers and suppliers as a measure of financial health, as well as impacting many facets of the financial market, making bankruptcy prediction a longstanding issue within finance, accounting, and management science. The coronavirus pandemic has placed increased stress on financial markets and businesses alike due to many different economic factors, furthering the importance of development of machine learning models in predicting financial indicators such as bankruptcy.\n",
        "\n",
        "I will explore and compare the performance of new and legacy machine learning models with a history of use in the financial industry.\n",
        "\n",
        "The data was collected from the Taiwan Economic Journal from the years 1999 to 2009. Company bankruptcy was defined based on the definition given by business regulations of the Taiwan Stock Exchange.\n",
        "\n"
      ]
    },
    {
      "cell_type": "markdown",
      "metadata": {
        "id": "V3Z_PXP5kIdR"
      },
      "source": [
        "## Feature Information\n",
        "(Y = Output/Target Feature, X = Input Features)\n",
        "\n",
        "* Y - Bankruptcy indicator: Class label; 1 for presence of bankruptcy, 0 for no bankruptcy.\n",
        "* X1 - ROA(C) before interest and depreciation before interest: Return On Total Assets(C)\n",
        "* X2 - ROA(A) before interest and % after tax: Return On Total Assets(A)\n",
        "* X3 - ROA(B) before interest and depreciation after tax: Return On Total Assets(B)\n",
        "* X4 - Operating Gross Margin: Gross Profit/Net Sales\n",
        "* X5 - Realized Sales Gross Margin: Realized Gross Profit/Net Sales\n",
        "* X6 - Operating Profit Rate: Operating Income/Net Sales\n",
        "* X7 - Pre-tax net Interest Rate: Pre-Tax Income/Net Sales\n",
        "* X8 - After-tax net Interest Rate: Net Income/Net Sales\n",
        "* X9 - Non-industry income and expenditure/revenue: Net Non-operating Income Ratio\n",
        "* X10 - Continuous interest rate (after tax): Net Income-Exclude Disposal Gain or Loss/Net Sales\n",
        "* X11 - Operating Expense Rate: Operating Expenses/Net Sales\n",
        "* X12 - Research and development expense rate: (Research and Development Expenses)/Net Sales\n",
        "* X13 - Cash flow rate: Cash Flow from Operating/Current Liabilities\n",
        "* X14 - Interest-bearing debt interest rate: Interest-bearing Debt/Equity\n",
        "* X15 - Tax rate (A): Effective Tax Rate\n",
        "* X16 - Net Value Per Share (B): Book Value Per Share(B)\n",
        "* X17 - Net Value Per Share (A): Book Value Per Share(A)\n",
        "* X18 - Net Value Per Share (C): Book Value Per Share(C)\n",
        "* X19 - Persistent EPS in the Last Four Seasons: EPS-Net Income\n",
        "* X20 - Cash Flow Per Share\n",
        "* X21 - Revenue Per Share (Yuan ¥): Sales Per Share\n",
        "* X22 - Operating Profit Per Share (Yuan ¥): Operating Income Per Share\n",
        "* X23 - Per Share Net profit before tax (Yuan ¥): Pretax Income Per Share\n",
        "* X24 - Realized Sales Gross Profit Growth Rate\n",
        "* X25 - Operating Profit Growth Rate: Operating Income Growth\n",
        "* X26 - After-tax Net Profit Growth Rate: Net Income Growth\n",
        "* X27 - Regular Net Profit Growth Rate: Continuing Operating Income after Tax Growth\n",
        "* X28 - Continuous Net Profit Growth Rate: Net Income-Excluding Disposal Gain or Loss Growth\n",
        "* X29 - Total Asset Growth Rate: Total Asset Growth\n",
        "* X30 - Net Value Growth Rate: Total Equity Growth\n",
        "* X31 - Total Asset Return Growth Rate Ratio: Return on Total Asset Growth\n",
        "* X32 - Cash Reinvestment %: Cash Reinvestment Ratio\n",
        "* X33 - Current Ratio\n",
        "* X34 - Quick Ratio: Acid Test\n",
        "* X35 - Interest Expense Ratio: Interest Expenses/Total Revenue\n",
        "* X36 - Total debt/Total net worth: Total Liability/Equity Ratio\n",
        "* X37 - Debt ratio %: Liability/Total Assets\n",
        "* X38 - Net worth/Assets: Equity/Total Assets\n",
        "* X39 - Long-term fund suitability ratio (A): (Long-term Liability+Equity)/Fixed Assets\n",
        "* X40 - Borrowing dependency: Cost of Interest-bearing Debt\n",
        "* X41 - Contingent liabilities/Net worth: Contingent Liability/Equity\n",
        "* X42 - Operating profit/Paid-in capital: Operating Income/Capital\n",
        "* X43 - Net profit before tax/Paid-in capital: Pretax Income/Capital\n",
        "* X44 - Inventory and accounts receivable/Net value: (Inventory+Accounts Receivables)/Equity\n",
        "* X45 - Total Asset Turnover\n",
        "* X46 - Accounts Receivable Turnover\n",
        "* X47 - Average Collection Days: Days Receivable Outstanding\n",
        "* X48 - Inventory Turnover Rate (times)\n",
        "* X49 - Fixed Assets Turnover Frequency\n",
        "* X50 - Net Worth Turnover Rate (times): Equity Turnover\n",
        "* X51 - Revenue per person: Sales Per Employee\n",
        "* X52 - Operating profit per person: Operation Income Per Employee\n",
        "* X53 - Allocation rate per person: Fixed Assets Per Employee\n",
        "* X54 - Working Capital to Total Assets\n",
        "* X55 - Quick Assets/Total Assets\n",
        "* X56 - Current Assets/Total Assets\n",
        "* X57 - Cash/Total Assets\n",
        "* X58 - Quick Assets/Current Liability\n",
        "* X59 - Cash/Current Liability\n",
        "* X60 - Current Liability to Assets\n",
        "* X61 - Operating Funds to Liability\n",
        "* X62 - Inventory/Working Capital\n",
        "* X63 - Inventory/Current Liability\n",
        "* X64 - Current Liabilities/Liability\n",
        "* X65 - Working Capital/Equity\n",
        "* X66 - Current Liabilities/Equity\n",
        "* X67 - Long-term Liability to Current Assets\n",
        "* X68 - Retained Earnings to Total Assets\n",
        "* X69 - Total income/Total expense\n",
        "* X70 - Total expense/Assets\n",
        "* X71 - Current Asset Turnover Rate: Current Assets to Sales\n",
        "* X72 - Quick Asset Turnover Rate: Quick Assets to Sales\n",
        "* X73 - Working capitcal Turnover Rate: Working Capital to Sales\n",
        "* X74 - Cash Turnover Rate: Cash to Sales\n",
        "* X75 - Cash Flow to Sales\n",
        "* X76 - Fixed Assets to Assets\n",
        "* X77 - Current Liability to Liability\n",
        "* X78 - Current Liability to Equity\n",
        "* X79 - Equity to Long-term Liability\n",
        "* X80 - Cash Flow to Total Assets\n",
        "* X81 - Cash Flow to Liability\n",
        "* X82 - CFO to Assets\n",
        "* X83 - Cash Flow to Equity\n",
        "* X84 - Current Liability to Current Assets\n",
        "* X85 - Liability-Assets Flag: 1 if Total Liability exceeds Total Assets, 0 otherwise\n",
        "* X86 - Net Income to Total Assets\n",
        "* X87 - Total assets to GNP price\n",
        "* X88 - No-credit Interval\n",
        "* X89 - Gross Profit to Sales\n",
        "* X90 - Net Income to Stockholder's Equity\n",
        "* X91 - Liability to Equity\n",
        "* X92 - Degree of Financial Leverage (DFL)\n",
        "* X93 - Interest Coverage Ratio (Interest expense to EBIT)\n",
        "* X94 - Net Income Flag: 1 if Net Income is Negative for the last two years, 0 otherwise\n",
        "* X95 - Equity to Liability"
      ]
    },
    {
      "cell_type": "code",
      "metadata": {
        "id": "diKRk2vIbovu",
        "colab": {
          "base_uri": "https://localhost:8080/"
        },
        "outputId": "9c7b73cf-92dc-4141-8aa5-b4a54bf69c9c"
      },
      "source": [
        "# Import necessary packages.\n",
        "%matplotlib inline\n",
        "import pandas as pd\n",
        "import numpy as np\n",
        "import seaborn as sns\n",
        "import io\n",
        "from matplotlib import pyplot as plt\n",
        "from scipy import stats\n",
        "from google.colab import files\n",
        "from sklearn.model_selection import train_test_split\n",
        "from sklearn.utils import resample\n",
        "from imblearn.over_sampling import SMOTE\n",
        "from sklearn.linear_model import LogisticRegression\n",
        "import time\n",
        "from sklearn.model_selection import cross_val_score\n",
        "from sklearn.metrics import accuracy_score, confusion_matrix, classification_report\n",
        "from sklearn.ensemble import GradientBoostingClassifier\n",
        "from sklearn.neighbors import KNeighborsClassifier\n",
        "from sklearn import svm\n",
        "from sklearn import tree\n",
        "from sklearn import ensemble\n",
        "from sklearn.feature_selection import SelectKBest, f_classif\n",
        "from sklearn.preprocessing import StandardScaler\n",
        "from sklearn.decomposition import PCA\n",
        "from sklearn.model_selection import GridSearchCV\n",
        "from sklearn.model_selection import RandomizedSearchCV\n",
        "import xgboost as xgb\n",
        "import warnings"
      ],
      "execution_count": null,
      "outputs": [
        {
          "output_type": "stream",
          "text": [
            "/usr/local/lib/python3.7/dist-packages/sklearn/externals/six.py:31: FutureWarning: The module is deprecated in version 0.21 and will be removed in version 0.23 since we've dropped support for Python 2.7. Please rely on the official version of six (https://pypi.org/project/six/).\n",
            "  \"(https://pypi.org/project/six/).\", FutureWarning)\n",
            "/usr/local/lib/python3.7/dist-packages/sklearn/utils/deprecation.py:144: FutureWarning: The sklearn.neighbors.base module is  deprecated in version 0.22 and will be removed in version 0.24. The corresponding classes / functions should instead be imported from sklearn.neighbors. Anything that cannot be imported from sklearn.neighbors is now part of the private API.\n",
            "  warnings.warn(message, FutureWarning)\n"
          ],
          "name": "stderr"
        }
      ]
    },
    {
      "cell_type": "code",
      "metadata": {
        "colab": {
          "base_uri": "https://localhost:8080/"
        },
        "id": "V7YKlPFMblWN",
        "outputId": "071c5983-c6c1-4e93-87c4-44de98a4b567"
      },
      "source": [
        "# Mounting Google drive.\n",
        "from google.colab import drive\n",
        "drive.mount('/content/drive', force_remount=False)"
      ],
      "execution_count": null,
      "outputs": [
        {
          "output_type": "stream",
          "text": [
            "Mounted at /content/drive\n"
          ],
          "name": "stdout"
        }
      ]
    },
    {
      "cell_type": "code",
      "metadata": {
        "id": "YdyVoGQib2iR"
      },
      "source": [
        "# Dataset is now stored in a Pandas Dataframe by using Pandas read_csv input function.\n",
        "df = pd.read_csv(\"/content/drive/My Drive/Data/Company Bankruptcy Prediction/data.csv\")"
      ],
      "execution_count": null,
      "outputs": []
    },
    {
      "cell_type": "markdown",
      "metadata": {
        "id": "Eu_1D26go4gG"
      },
      "source": [
        "# Exploratory Data Analysis"
      ]
    },
    {
      "cell_type": "markdown",
      "metadata": {
        "id": "roQD_SREFKP5"
      },
      "source": [
        "First, we will perform Exploratory Data Analysis by running descriptive statistics, and visualizing our data. This allows us to understand our data before we feed it into our machine learning model, and examine it closely for any outliers or potential problems such as missing values that may effect predictive accuracy. Exploratory Data Analysis is a crucial component to developing any data science project, and is considered an iterative process."
      ]
    },
    {
      "cell_type": "code",
      "metadata": {
        "colab": {
          "base_uri": "https://localhost:8080/"
        },
        "id": "SYAZY6m9hQFO",
        "outputId": "cba5dc71-c1b2-4749-91f1-c3377374719a"
      },
      "source": [
        "# Setting max columns to show all columns in the newly created Pandas DataFrame.\n",
        "pd.set_option(\"max_columns\", None)\n",
        "\n",
        "# Calling Pandas head function to take a look at the first 5 rows of our newly created DataFrame.\n",
        "df.head()"
      ],
      "execution_count": null,
      "outputs": [
        {
          "output_type": "execute_result",
          "data": {
            "text/html": [
              "<div>\n",
              "<style scoped>\n",
              "    .dataframe tbody tr th:only-of-type {\n",
              "        vertical-align: middle;\n",
              "    }\n",
              "\n",
              "    .dataframe tbody tr th {\n",
              "        vertical-align: top;\n",
              "    }\n",
              "\n",
              "    .dataframe thead th {\n",
              "        text-align: right;\n",
              "    }\n",
              "</style>\n",
              "<table border=\"1\" class=\"dataframe\">\n",
              "  <thead>\n",
              "    <tr style=\"text-align: right;\">\n",
              "      <th></th>\n",
              "      <th>Bankrupt?</th>\n",
              "      <th>ROA(C) before interest and depreciation before interest</th>\n",
              "      <th>ROA(A) before interest and % after tax</th>\n",
              "      <th>ROA(B) before interest and depreciation after tax</th>\n",
              "      <th>Operating Gross Margin</th>\n",
              "      <th>Realized Sales Gross Margin</th>\n",
              "      <th>Operating Profit Rate</th>\n",
              "      <th>Pre-tax net Interest Rate</th>\n",
              "      <th>After-tax net Interest Rate</th>\n",
              "      <th>Non-industry income and expenditure/revenue</th>\n",
              "      <th>Continuous interest rate (after tax)</th>\n",
              "      <th>Operating Expense Rate</th>\n",
              "      <th>Research and development expense rate</th>\n",
              "      <th>Cash flow rate</th>\n",
              "      <th>Interest-bearing debt interest rate</th>\n",
              "      <th>Tax rate (A)</th>\n",
              "      <th>Net Value Per Share (B)</th>\n",
              "      <th>Net Value Per Share (A)</th>\n",
              "      <th>Net Value Per Share (C)</th>\n",
              "      <th>Persistent EPS in the Last Four Seasons</th>\n",
              "      <th>Cash Flow Per Share</th>\n",
              "      <th>Revenue Per Share (Yuan ¥)</th>\n",
              "      <th>Operating Profit Per Share (Yuan ¥)</th>\n",
              "      <th>Per Share Net profit before tax (Yuan ¥)</th>\n",
              "      <th>Realized Sales Gross Profit Growth Rate</th>\n",
              "      <th>Operating Profit Growth Rate</th>\n",
              "      <th>After-tax Net Profit Growth Rate</th>\n",
              "      <th>Regular Net Profit Growth Rate</th>\n",
              "      <th>Continuous Net Profit Growth Rate</th>\n",
              "      <th>Total Asset Growth Rate</th>\n",
              "      <th>Net Value Growth Rate</th>\n",
              "      <th>Total Asset Return Growth Rate Ratio</th>\n",
              "      <th>Cash Reinvestment %</th>\n",
              "      <th>Current Ratio</th>\n",
              "      <th>Quick Ratio</th>\n",
              "      <th>Interest Expense Ratio</th>\n",
              "      <th>Total debt/Total net worth</th>\n",
              "      <th>Debt ratio %</th>\n",
              "      <th>Net worth/Assets</th>\n",
              "      <th>Long-term fund suitability ratio (A)</th>\n",
              "      <th>Borrowing dependency</th>\n",
              "      <th>Contingent liabilities/Net worth</th>\n",
              "      <th>Operating profit/Paid-in capital</th>\n",
              "      <th>Net profit before tax/Paid-in capital</th>\n",
              "      <th>Inventory and accounts receivable/Net value</th>\n",
              "      <th>Total Asset Turnover</th>\n",
              "      <th>Accounts Receivable Turnover</th>\n",
              "      <th>Average Collection Days</th>\n",
              "      <th>Inventory Turnover Rate (times)</th>\n",
              "      <th>Fixed Assets Turnover Frequency</th>\n",
              "      <th>Net Worth Turnover Rate (times)</th>\n",
              "      <th>Revenue per person</th>\n",
              "      <th>Operating profit per person</th>\n",
              "      <th>Allocation rate per person</th>\n",
              "      <th>Working Capital to Total Assets</th>\n",
              "      <th>Quick Assets/Total Assets</th>\n",
              "      <th>Current Assets/Total Assets</th>\n",
              "      <th>Cash/Total Assets</th>\n",
              "      <th>Quick Assets/Current Liability</th>\n",
              "      <th>Cash/Current Liability</th>\n",
              "      <th>Current Liability to Assets</th>\n",
              "      <th>Operating Funds to Liability</th>\n",
              "      <th>Inventory/Working Capital</th>\n",
              "      <th>Inventory/Current Liability</th>\n",
              "      <th>Current Liabilities/Liability</th>\n",
              "      <th>Working Capital/Equity</th>\n",
              "      <th>Current Liabilities/Equity</th>\n",
              "      <th>Long-term Liability to Current Assets</th>\n",
              "      <th>Retained Earnings to Total Assets</th>\n",
              "      <th>Total income/Total expense</th>\n",
              "      <th>Total expense/Assets</th>\n",
              "      <th>Current Asset Turnover Rate</th>\n",
              "      <th>Quick Asset Turnover Rate</th>\n",
              "      <th>Working capitcal Turnover Rate</th>\n",
              "      <th>Cash Turnover Rate</th>\n",
              "      <th>Cash Flow to Sales</th>\n",
              "      <th>Fixed Assets to Assets</th>\n",
              "      <th>Current Liability to Liability</th>\n",
              "      <th>Current Liability to Equity</th>\n",
              "      <th>Equity to Long-term Liability</th>\n",
              "      <th>Cash Flow to Total Assets</th>\n",
              "      <th>Cash Flow to Liability</th>\n",
              "      <th>CFO to Assets</th>\n",
              "      <th>Cash Flow to Equity</th>\n",
              "      <th>Current Liability to Current Assets</th>\n",
              "      <th>Liability-Assets Flag</th>\n",
              "      <th>Net Income to Total Assets</th>\n",
              "      <th>Total assets to GNP price</th>\n",
              "      <th>No-credit Interval</th>\n",
              "      <th>Gross Profit to Sales</th>\n",
              "      <th>Net Income to Stockholder's Equity</th>\n",
              "      <th>Liability to Equity</th>\n",
              "      <th>Degree of Financial Leverage (DFL)</th>\n",
              "      <th>Interest Coverage Ratio (Interest expense to EBIT)</th>\n",
              "      <th>Net Income Flag</th>\n",
              "      <th>Equity to Liability</th>\n",
              "    </tr>\n",
              "  </thead>\n",
              "  <tbody>\n",
              "    <tr>\n",
              "      <th>0</th>\n",
              "      <td>1</td>\n",
              "      <td>0.370594</td>\n",
              "      <td>0.424389</td>\n",
              "      <td>0.405750</td>\n",
              "      <td>0.601457</td>\n",
              "      <td>0.601457</td>\n",
              "      <td>0.998969</td>\n",
              "      <td>0.796887</td>\n",
              "      <td>0.808809</td>\n",
              "      <td>0.302646</td>\n",
              "      <td>0.780985</td>\n",
              "      <td>1.256969e-04</td>\n",
              "      <td>0.0</td>\n",
              "      <td>0.458143</td>\n",
              "      <td>0.000725</td>\n",
              "      <td>0.0</td>\n",
              "      <td>0.147950</td>\n",
              "      <td>0.147950</td>\n",
              "      <td>0.147950</td>\n",
              "      <td>0.169141</td>\n",
              "      <td>0.311664</td>\n",
              "      <td>0.017560</td>\n",
              "      <td>0.095921</td>\n",
              "      <td>0.138736</td>\n",
              "      <td>0.022102</td>\n",
              "      <td>0.848195</td>\n",
              "      <td>0.688979</td>\n",
              "      <td>0.688979</td>\n",
              "      <td>0.217535</td>\n",
              "      <td>4.980000e+09</td>\n",
              "      <td>0.000327</td>\n",
              "      <td>0.263100</td>\n",
              "      <td>0.363725</td>\n",
              "      <td>0.002259</td>\n",
              "      <td>0.001208</td>\n",
              "      <td>0.629951</td>\n",
              "      <td>0.021266</td>\n",
              "      <td>0.207576</td>\n",
              "      <td>0.792424</td>\n",
              "      <td>0.005024</td>\n",
              "      <td>0.390284</td>\n",
              "      <td>0.006479</td>\n",
              "      <td>0.095885</td>\n",
              "      <td>0.137757</td>\n",
              "      <td>0.398036</td>\n",
              "      <td>0.086957</td>\n",
              "      <td>0.001814</td>\n",
              "      <td>0.003487</td>\n",
              "      <td>1.820926e-04</td>\n",
              "      <td>1.165007e-04</td>\n",
              "      <td>0.032903</td>\n",
              "      <td>0.034164</td>\n",
              "      <td>0.392913</td>\n",
              "      <td>0.037135</td>\n",
              "      <td>0.672775</td>\n",
              "      <td>0.166673</td>\n",
              "      <td>0.190643</td>\n",
              "      <td>0.004094</td>\n",
              "      <td>0.001997</td>\n",
              "      <td>1.473360e-04</td>\n",
              "      <td>0.147308</td>\n",
              "      <td>0.334015</td>\n",
              "      <td>0.276920</td>\n",
              "      <td>0.001036</td>\n",
              "      <td>0.676269</td>\n",
              "      <td>0.721275</td>\n",
              "      <td>0.339077</td>\n",
              "      <td>0.025592</td>\n",
              "      <td>0.903225</td>\n",
              "      <td>0.002022</td>\n",
              "      <td>0.064856</td>\n",
              "      <td>7.010000e+08</td>\n",
              "      <td>6.550000e+09</td>\n",
              "      <td>0.593831</td>\n",
              "      <td>4.580000e+08</td>\n",
              "      <td>0.671568</td>\n",
              "      <td>0.424206</td>\n",
              "      <td>0.676269</td>\n",
              "      <td>0.339077</td>\n",
              "      <td>0.126549</td>\n",
              "      <td>0.637555</td>\n",
              "      <td>0.458609</td>\n",
              "      <td>0.520382</td>\n",
              "      <td>0.312905</td>\n",
              "      <td>0.118250</td>\n",
              "      <td>0</td>\n",
              "      <td>0.716845</td>\n",
              "      <td>0.009219</td>\n",
              "      <td>0.622879</td>\n",
              "      <td>0.601453</td>\n",
              "      <td>0.827890</td>\n",
              "      <td>0.290202</td>\n",
              "      <td>0.026601</td>\n",
              "      <td>0.564050</td>\n",
              "      <td>1</td>\n",
              "      <td>0.016469</td>\n",
              "    </tr>\n",
              "    <tr>\n",
              "      <th>1</th>\n",
              "      <td>1</td>\n",
              "      <td>0.464291</td>\n",
              "      <td>0.538214</td>\n",
              "      <td>0.516730</td>\n",
              "      <td>0.610235</td>\n",
              "      <td>0.610235</td>\n",
              "      <td>0.998946</td>\n",
              "      <td>0.797380</td>\n",
              "      <td>0.809301</td>\n",
              "      <td>0.303556</td>\n",
              "      <td>0.781506</td>\n",
              "      <td>2.897851e-04</td>\n",
              "      <td>0.0</td>\n",
              "      <td>0.461867</td>\n",
              "      <td>0.000647</td>\n",
              "      <td>0.0</td>\n",
              "      <td>0.182251</td>\n",
              "      <td>0.182251</td>\n",
              "      <td>0.182251</td>\n",
              "      <td>0.208944</td>\n",
              "      <td>0.318137</td>\n",
              "      <td>0.021144</td>\n",
              "      <td>0.093722</td>\n",
              "      <td>0.169918</td>\n",
              "      <td>0.022080</td>\n",
              "      <td>0.848088</td>\n",
              "      <td>0.689693</td>\n",
              "      <td>0.689702</td>\n",
              "      <td>0.217620</td>\n",
              "      <td>6.110000e+09</td>\n",
              "      <td>0.000443</td>\n",
              "      <td>0.264516</td>\n",
              "      <td>0.376709</td>\n",
              "      <td>0.006016</td>\n",
              "      <td>0.004039</td>\n",
              "      <td>0.635172</td>\n",
              "      <td>0.012502</td>\n",
              "      <td>0.171176</td>\n",
              "      <td>0.828824</td>\n",
              "      <td>0.005059</td>\n",
              "      <td>0.376760</td>\n",
              "      <td>0.005835</td>\n",
              "      <td>0.093743</td>\n",
              "      <td>0.168962</td>\n",
              "      <td>0.397725</td>\n",
              "      <td>0.064468</td>\n",
              "      <td>0.001286</td>\n",
              "      <td>0.004917</td>\n",
              "      <td>9.360000e+09</td>\n",
              "      <td>7.190000e+08</td>\n",
              "      <td>0.025484</td>\n",
              "      <td>0.006889</td>\n",
              "      <td>0.391590</td>\n",
              "      <td>0.012335</td>\n",
              "      <td>0.751111</td>\n",
              "      <td>0.127236</td>\n",
              "      <td>0.182419</td>\n",
              "      <td>0.014948</td>\n",
              "      <td>0.004136</td>\n",
              "      <td>1.383910e-03</td>\n",
              "      <td>0.056963</td>\n",
              "      <td>0.341106</td>\n",
              "      <td>0.289642</td>\n",
              "      <td>0.005210</td>\n",
              "      <td>0.308589</td>\n",
              "      <td>0.731975</td>\n",
              "      <td>0.329740</td>\n",
              "      <td>0.023947</td>\n",
              "      <td>0.931065</td>\n",
              "      <td>0.002226</td>\n",
              "      <td>0.025516</td>\n",
              "      <td>1.065198e-04</td>\n",
              "      <td>7.700000e+09</td>\n",
              "      <td>0.593916</td>\n",
              "      <td>2.490000e+09</td>\n",
              "      <td>0.671570</td>\n",
              "      <td>0.468828</td>\n",
              "      <td>0.308589</td>\n",
              "      <td>0.329740</td>\n",
              "      <td>0.120916</td>\n",
              "      <td>0.641100</td>\n",
              "      <td>0.459001</td>\n",
              "      <td>0.567101</td>\n",
              "      <td>0.314163</td>\n",
              "      <td>0.047775</td>\n",
              "      <td>0</td>\n",
              "      <td>0.795297</td>\n",
              "      <td>0.008323</td>\n",
              "      <td>0.623652</td>\n",
              "      <td>0.610237</td>\n",
              "      <td>0.839969</td>\n",
              "      <td>0.283846</td>\n",
              "      <td>0.264577</td>\n",
              "      <td>0.570175</td>\n",
              "      <td>1</td>\n",
              "      <td>0.020794</td>\n",
              "    </tr>\n",
              "    <tr>\n",
              "      <th>2</th>\n",
              "      <td>1</td>\n",
              "      <td>0.426071</td>\n",
              "      <td>0.499019</td>\n",
              "      <td>0.472295</td>\n",
              "      <td>0.601450</td>\n",
              "      <td>0.601364</td>\n",
              "      <td>0.998857</td>\n",
              "      <td>0.796403</td>\n",
              "      <td>0.808388</td>\n",
              "      <td>0.302035</td>\n",
              "      <td>0.780284</td>\n",
              "      <td>2.361297e-04</td>\n",
              "      <td>25500000.0</td>\n",
              "      <td>0.458521</td>\n",
              "      <td>0.000790</td>\n",
              "      <td>0.0</td>\n",
              "      <td>0.177911</td>\n",
              "      <td>0.177911</td>\n",
              "      <td>0.193713</td>\n",
              "      <td>0.180581</td>\n",
              "      <td>0.307102</td>\n",
              "      <td>0.005944</td>\n",
              "      <td>0.092338</td>\n",
              "      <td>0.142803</td>\n",
              "      <td>0.022760</td>\n",
              "      <td>0.848094</td>\n",
              "      <td>0.689463</td>\n",
              "      <td>0.689470</td>\n",
              "      <td>0.217601</td>\n",
              "      <td>7.280000e+09</td>\n",
              "      <td>0.000396</td>\n",
              "      <td>0.264184</td>\n",
              "      <td>0.368913</td>\n",
              "      <td>0.011543</td>\n",
              "      <td>0.005348</td>\n",
              "      <td>0.629631</td>\n",
              "      <td>0.021248</td>\n",
              "      <td>0.207516</td>\n",
              "      <td>0.792484</td>\n",
              "      <td>0.005100</td>\n",
              "      <td>0.379093</td>\n",
              "      <td>0.006562</td>\n",
              "      <td>0.092318</td>\n",
              "      <td>0.148036</td>\n",
              "      <td>0.406580</td>\n",
              "      <td>0.014993</td>\n",
              "      <td>0.001495</td>\n",
              "      <td>0.004227</td>\n",
              "      <td>6.500000e+07</td>\n",
              "      <td>2.650000e+09</td>\n",
              "      <td>0.013387</td>\n",
              "      <td>0.028997</td>\n",
              "      <td>0.381968</td>\n",
              "      <td>0.141016</td>\n",
              "      <td>0.829502</td>\n",
              "      <td>0.340201</td>\n",
              "      <td>0.602806</td>\n",
              "      <td>0.000991</td>\n",
              "      <td>0.006302</td>\n",
              "      <td>5.340000e+09</td>\n",
              "      <td>0.098162</td>\n",
              "      <td>0.336731</td>\n",
              "      <td>0.277456</td>\n",
              "      <td>0.013879</td>\n",
              "      <td>0.446027</td>\n",
              "      <td>0.742729</td>\n",
              "      <td>0.334777</td>\n",
              "      <td>0.003715</td>\n",
              "      <td>0.909903</td>\n",
              "      <td>0.002060</td>\n",
              "      <td>0.021387</td>\n",
              "      <td>1.791094e-03</td>\n",
              "      <td>1.022676e-03</td>\n",
              "      <td>0.594502</td>\n",
              "      <td>7.610000e+08</td>\n",
              "      <td>0.671571</td>\n",
              "      <td>0.276179</td>\n",
              "      <td>0.446027</td>\n",
              "      <td>0.334777</td>\n",
              "      <td>0.117922</td>\n",
              "      <td>0.642765</td>\n",
              "      <td>0.459254</td>\n",
              "      <td>0.538491</td>\n",
              "      <td>0.314515</td>\n",
              "      <td>0.025346</td>\n",
              "      <td>0</td>\n",
              "      <td>0.774670</td>\n",
              "      <td>0.040003</td>\n",
              "      <td>0.623841</td>\n",
              "      <td>0.601449</td>\n",
              "      <td>0.836774</td>\n",
              "      <td>0.290189</td>\n",
              "      <td>0.026555</td>\n",
              "      <td>0.563706</td>\n",
              "      <td>1</td>\n",
              "      <td>0.016474</td>\n",
              "    </tr>\n",
              "    <tr>\n",
              "      <th>3</th>\n",
              "      <td>1</td>\n",
              "      <td>0.399844</td>\n",
              "      <td>0.451265</td>\n",
              "      <td>0.457733</td>\n",
              "      <td>0.583541</td>\n",
              "      <td>0.583541</td>\n",
              "      <td>0.998700</td>\n",
              "      <td>0.796967</td>\n",
              "      <td>0.808966</td>\n",
              "      <td>0.303350</td>\n",
              "      <td>0.781241</td>\n",
              "      <td>1.078888e-04</td>\n",
              "      <td>0.0</td>\n",
              "      <td>0.465705</td>\n",
              "      <td>0.000449</td>\n",
              "      <td>0.0</td>\n",
              "      <td>0.154187</td>\n",
              "      <td>0.154187</td>\n",
              "      <td>0.154187</td>\n",
              "      <td>0.193722</td>\n",
              "      <td>0.321674</td>\n",
              "      <td>0.014368</td>\n",
              "      <td>0.077762</td>\n",
              "      <td>0.148603</td>\n",
              "      <td>0.022046</td>\n",
              "      <td>0.848005</td>\n",
              "      <td>0.689110</td>\n",
              "      <td>0.689110</td>\n",
              "      <td>0.217568</td>\n",
              "      <td>4.880000e+09</td>\n",
              "      <td>0.000382</td>\n",
              "      <td>0.263371</td>\n",
              "      <td>0.384077</td>\n",
              "      <td>0.004194</td>\n",
              "      <td>0.002896</td>\n",
              "      <td>0.630228</td>\n",
              "      <td>0.009572</td>\n",
              "      <td>0.151465</td>\n",
              "      <td>0.848535</td>\n",
              "      <td>0.005047</td>\n",
              "      <td>0.379743</td>\n",
              "      <td>0.005366</td>\n",
              "      <td>0.077727</td>\n",
              "      <td>0.147561</td>\n",
              "      <td>0.397925</td>\n",
              "      <td>0.089955</td>\n",
              "      <td>0.001966</td>\n",
              "      <td>0.003215</td>\n",
              "      <td>7.130000e+09</td>\n",
              "      <td>9.150000e+09</td>\n",
              "      <td>0.028065</td>\n",
              "      <td>0.015463</td>\n",
              "      <td>0.378497</td>\n",
              "      <td>0.021320</td>\n",
              "      <td>0.725754</td>\n",
              "      <td>0.161575</td>\n",
              "      <td>0.225815</td>\n",
              "      <td>0.018851</td>\n",
              "      <td>0.002961</td>\n",
              "      <td>1.010646e-03</td>\n",
              "      <td>0.098715</td>\n",
              "      <td>0.348716</td>\n",
              "      <td>0.276580</td>\n",
              "      <td>0.003540</td>\n",
              "      <td>0.615848</td>\n",
              "      <td>0.729825</td>\n",
              "      <td>0.331509</td>\n",
              "      <td>0.022165</td>\n",
              "      <td>0.906902</td>\n",
              "      <td>0.001831</td>\n",
              "      <td>0.024161</td>\n",
              "      <td>8.140000e+09</td>\n",
              "      <td>6.050000e+09</td>\n",
              "      <td>0.593889</td>\n",
              "      <td>2.030000e+09</td>\n",
              "      <td>0.671519</td>\n",
              "      <td>0.559144</td>\n",
              "      <td>0.615848</td>\n",
              "      <td>0.331509</td>\n",
              "      <td>0.120760</td>\n",
              "      <td>0.579039</td>\n",
              "      <td>0.448518</td>\n",
              "      <td>0.604105</td>\n",
              "      <td>0.302382</td>\n",
              "      <td>0.067250</td>\n",
              "      <td>0</td>\n",
              "      <td>0.739555</td>\n",
              "      <td>0.003252</td>\n",
              "      <td>0.622929</td>\n",
              "      <td>0.583538</td>\n",
              "      <td>0.834697</td>\n",
              "      <td>0.281721</td>\n",
              "      <td>0.026697</td>\n",
              "      <td>0.564663</td>\n",
              "      <td>1</td>\n",
              "      <td>0.023982</td>\n",
              "    </tr>\n",
              "    <tr>\n",
              "      <th>4</th>\n",
              "      <td>1</td>\n",
              "      <td>0.465022</td>\n",
              "      <td>0.538432</td>\n",
              "      <td>0.522298</td>\n",
              "      <td>0.598783</td>\n",
              "      <td>0.598783</td>\n",
              "      <td>0.998973</td>\n",
              "      <td>0.797366</td>\n",
              "      <td>0.809304</td>\n",
              "      <td>0.303475</td>\n",
              "      <td>0.781550</td>\n",
              "      <td>7.890000e+09</td>\n",
              "      <td>0.0</td>\n",
              "      <td>0.462746</td>\n",
              "      <td>0.000686</td>\n",
              "      <td>0.0</td>\n",
              "      <td>0.167502</td>\n",
              "      <td>0.167502</td>\n",
              "      <td>0.167502</td>\n",
              "      <td>0.212537</td>\n",
              "      <td>0.319162</td>\n",
              "      <td>0.029690</td>\n",
              "      <td>0.096898</td>\n",
              "      <td>0.168412</td>\n",
              "      <td>0.022096</td>\n",
              "      <td>0.848258</td>\n",
              "      <td>0.689697</td>\n",
              "      <td>0.689697</td>\n",
              "      <td>0.217626</td>\n",
              "      <td>5.510000e+09</td>\n",
              "      <td>0.000439</td>\n",
              "      <td>0.265218</td>\n",
              "      <td>0.379690</td>\n",
              "      <td>0.006022</td>\n",
              "      <td>0.003727</td>\n",
              "      <td>0.636055</td>\n",
              "      <td>0.005150</td>\n",
              "      <td>0.106509</td>\n",
              "      <td>0.893491</td>\n",
              "      <td>0.005303</td>\n",
              "      <td>0.375025</td>\n",
              "      <td>0.006624</td>\n",
              "      <td>0.096927</td>\n",
              "      <td>0.167461</td>\n",
              "      <td>0.400079</td>\n",
              "      <td>0.175412</td>\n",
              "      <td>0.001449</td>\n",
              "      <td>0.004367</td>\n",
              "      <td>1.633674e-04</td>\n",
              "      <td>2.935211e-04</td>\n",
              "      <td>0.040161</td>\n",
              "      <td>0.058111</td>\n",
              "      <td>0.394371</td>\n",
              "      <td>0.023988</td>\n",
              "      <td>0.751822</td>\n",
              "      <td>0.260330</td>\n",
              "      <td>0.358380</td>\n",
              "      <td>0.014161</td>\n",
              "      <td>0.004275</td>\n",
              "      <td>6.804636e-04</td>\n",
              "      <td>0.110195</td>\n",
              "      <td>0.344639</td>\n",
              "      <td>0.287913</td>\n",
              "      <td>0.004869</td>\n",
              "      <td>0.975007</td>\n",
              "      <td>0.732000</td>\n",
              "      <td>0.330726</td>\n",
              "      <td>0.000000</td>\n",
              "      <td>0.913850</td>\n",
              "      <td>0.002224</td>\n",
              "      <td>0.026385</td>\n",
              "      <td>6.680000e+09</td>\n",
              "      <td>5.050000e+09</td>\n",
              "      <td>0.593915</td>\n",
              "      <td>8.240000e+08</td>\n",
              "      <td>0.671563</td>\n",
              "      <td>0.309555</td>\n",
              "      <td>0.975007</td>\n",
              "      <td>0.330726</td>\n",
              "      <td>0.110933</td>\n",
              "      <td>0.622374</td>\n",
              "      <td>0.454411</td>\n",
              "      <td>0.578469</td>\n",
              "      <td>0.311567</td>\n",
              "      <td>0.047725</td>\n",
              "      <td>0</td>\n",
              "      <td>0.795016</td>\n",
              "      <td>0.003878</td>\n",
              "      <td>0.623521</td>\n",
              "      <td>0.598782</td>\n",
              "      <td>0.839973</td>\n",
              "      <td>0.278514</td>\n",
              "      <td>0.024752</td>\n",
              "      <td>0.575617</td>\n",
              "      <td>1</td>\n",
              "      <td>0.035490</td>\n",
              "    </tr>\n",
              "  </tbody>\n",
              "</table>\n",
              "</div>"
            ],
            "text/plain": [
              "   Bankrupt?   ROA(C) before interest and depreciation before interest  \\\n",
              "0          1                                           0.370594          \n",
              "1          1                                           0.464291          \n",
              "2          1                                           0.426071          \n",
              "3          1                                           0.399844          \n",
              "4          1                                           0.465022          \n",
              "\n",
              "    ROA(A) before interest and % after tax  \\\n",
              "0                                 0.424389   \n",
              "1                                 0.538214   \n",
              "2                                 0.499019   \n",
              "3                                 0.451265   \n",
              "4                                 0.538432   \n",
              "\n",
              "    ROA(B) before interest and depreciation after tax  \\\n",
              "0                                           0.405750    \n",
              "1                                           0.516730    \n",
              "2                                           0.472295    \n",
              "3                                           0.457733    \n",
              "4                                           0.522298    \n",
              "\n",
              "    Operating Gross Margin   Realized Sales Gross Margin  \\\n",
              "0                 0.601457                      0.601457   \n",
              "1                 0.610235                      0.610235   \n",
              "2                 0.601450                      0.601364   \n",
              "3                 0.583541                      0.583541   \n",
              "4                 0.598783                      0.598783   \n",
              "\n",
              "    Operating Profit Rate   Pre-tax net Interest Rate  \\\n",
              "0                0.998969                    0.796887   \n",
              "1                0.998946                    0.797380   \n",
              "2                0.998857                    0.796403   \n",
              "3                0.998700                    0.796967   \n",
              "4                0.998973                    0.797366   \n",
              "\n",
              "    After-tax net Interest Rate   Non-industry income and expenditure/revenue  \\\n",
              "0                      0.808809                                      0.302646   \n",
              "1                      0.809301                                      0.303556   \n",
              "2                      0.808388                                      0.302035   \n",
              "3                      0.808966                                      0.303350   \n",
              "4                      0.809304                                      0.303475   \n",
              "\n",
              "    Continuous interest rate (after tax)   Operating Expense Rate  \\\n",
              "0                               0.780985             1.256969e-04   \n",
              "1                               0.781506             2.897851e-04   \n",
              "2                               0.780284             2.361297e-04   \n",
              "3                               0.781241             1.078888e-04   \n",
              "4                               0.781550             7.890000e+09   \n",
              "\n",
              "    Research and development expense rate   Cash flow rate  \\\n",
              "0                                     0.0         0.458143   \n",
              "1                                     0.0         0.461867   \n",
              "2                              25500000.0         0.458521   \n",
              "3                                     0.0         0.465705   \n",
              "4                                     0.0         0.462746   \n",
              "\n",
              "    Interest-bearing debt interest rate   Tax rate (A)  \\\n",
              "0                              0.000725            0.0   \n",
              "1                              0.000647            0.0   \n",
              "2                              0.000790            0.0   \n",
              "3                              0.000449            0.0   \n",
              "4                              0.000686            0.0   \n",
              "\n",
              "    Net Value Per Share (B)   Net Value Per Share (A)  \\\n",
              "0                  0.147950                  0.147950   \n",
              "1                  0.182251                  0.182251   \n",
              "2                  0.177911                  0.177911   \n",
              "3                  0.154187                  0.154187   \n",
              "4                  0.167502                  0.167502   \n",
              "\n",
              "    Net Value Per Share (C)   Persistent EPS in the Last Four Seasons  \\\n",
              "0                  0.147950                                  0.169141   \n",
              "1                  0.182251                                  0.208944   \n",
              "2                  0.193713                                  0.180581   \n",
              "3                  0.154187                                  0.193722   \n",
              "4                  0.167502                                  0.212537   \n",
              "\n",
              "    Cash Flow Per Share   Revenue Per Share (Yuan ¥)  \\\n",
              "0              0.311664                     0.017560   \n",
              "1              0.318137                     0.021144   \n",
              "2              0.307102                     0.005944   \n",
              "3              0.321674                     0.014368   \n",
              "4              0.319162                     0.029690   \n",
              "\n",
              "    Operating Profit Per Share (Yuan ¥)  \\\n",
              "0                              0.095921   \n",
              "1                              0.093722   \n",
              "2                              0.092338   \n",
              "3                              0.077762   \n",
              "4                              0.096898   \n",
              "\n",
              "    Per Share Net profit before tax (Yuan ¥)  \\\n",
              "0                                   0.138736   \n",
              "1                                   0.169918   \n",
              "2                                   0.142803   \n",
              "3                                   0.148603   \n",
              "4                                   0.168412   \n",
              "\n",
              "    Realized Sales Gross Profit Growth Rate   Operating Profit Growth Rate  \\\n",
              "0                                  0.022102                       0.848195   \n",
              "1                                  0.022080                       0.848088   \n",
              "2                                  0.022760                       0.848094   \n",
              "3                                  0.022046                       0.848005   \n",
              "4                                  0.022096                       0.848258   \n",
              "\n",
              "    After-tax Net Profit Growth Rate   Regular Net Profit Growth Rate  \\\n",
              "0                           0.688979                         0.688979   \n",
              "1                           0.689693                         0.689702   \n",
              "2                           0.689463                         0.689470   \n",
              "3                           0.689110                         0.689110   \n",
              "4                           0.689697                         0.689697   \n",
              "\n",
              "    Continuous Net Profit Growth Rate   Total Asset Growth Rate  \\\n",
              "0                            0.217535              4.980000e+09   \n",
              "1                            0.217620              6.110000e+09   \n",
              "2                            0.217601              7.280000e+09   \n",
              "3                            0.217568              4.880000e+09   \n",
              "4                            0.217626              5.510000e+09   \n",
              "\n",
              "    Net Value Growth Rate   Total Asset Return Growth Rate Ratio  \\\n",
              "0                0.000327                               0.263100   \n",
              "1                0.000443                               0.264516   \n",
              "2                0.000396                               0.264184   \n",
              "3                0.000382                               0.263371   \n",
              "4                0.000439                               0.265218   \n",
              "\n",
              "    Cash Reinvestment %   Current Ratio   Quick Ratio  \\\n",
              "0              0.363725        0.002259      0.001208   \n",
              "1              0.376709        0.006016      0.004039   \n",
              "2              0.368913        0.011543      0.005348   \n",
              "3              0.384077        0.004194      0.002896   \n",
              "4              0.379690        0.006022      0.003727   \n",
              "\n",
              "    Interest Expense Ratio   Total debt/Total net worth   Debt ratio %  \\\n",
              "0                 0.629951                     0.021266       0.207576   \n",
              "1                 0.635172                     0.012502       0.171176   \n",
              "2                 0.629631                     0.021248       0.207516   \n",
              "3                 0.630228                     0.009572       0.151465   \n",
              "4                 0.636055                     0.005150       0.106509   \n",
              "\n",
              "    Net worth/Assets   Long-term fund suitability ratio (A)  \\\n",
              "0           0.792424                               0.005024   \n",
              "1           0.828824                               0.005059   \n",
              "2           0.792484                               0.005100   \n",
              "3           0.848535                               0.005047   \n",
              "4           0.893491                               0.005303   \n",
              "\n",
              "    Borrowing dependency   Contingent liabilities/Net worth  \\\n",
              "0               0.390284                           0.006479   \n",
              "1               0.376760                           0.005835   \n",
              "2               0.379093                           0.006562   \n",
              "3               0.379743                           0.005366   \n",
              "4               0.375025                           0.006624   \n",
              "\n",
              "    Operating profit/Paid-in capital   Net profit before tax/Paid-in capital  \\\n",
              "0                           0.095885                                0.137757   \n",
              "1                           0.093743                                0.168962   \n",
              "2                           0.092318                                0.148036   \n",
              "3                           0.077727                                0.147561   \n",
              "4                           0.096927                                0.167461   \n",
              "\n",
              "    Inventory and accounts receivable/Net value   Total Asset Turnover  \\\n",
              "0                                      0.398036               0.086957   \n",
              "1                                      0.397725               0.064468   \n",
              "2                                      0.406580               0.014993   \n",
              "3                                      0.397925               0.089955   \n",
              "4                                      0.400079               0.175412   \n",
              "\n",
              "    Accounts Receivable Turnover   Average Collection Days  \\\n",
              "0                       0.001814                  0.003487   \n",
              "1                       0.001286                  0.004917   \n",
              "2                       0.001495                  0.004227   \n",
              "3                       0.001966                  0.003215   \n",
              "4                       0.001449                  0.004367   \n",
              "\n",
              "    Inventory Turnover Rate (times)   Fixed Assets Turnover Frequency  \\\n",
              "0                      1.820926e-04                      1.165007e-04   \n",
              "1                      9.360000e+09                      7.190000e+08   \n",
              "2                      6.500000e+07                      2.650000e+09   \n",
              "3                      7.130000e+09                      9.150000e+09   \n",
              "4                      1.633674e-04                      2.935211e-04   \n",
              "\n",
              "    Net Worth Turnover Rate (times)   Revenue per person  \\\n",
              "0                          0.032903             0.034164   \n",
              "1                          0.025484             0.006889   \n",
              "2                          0.013387             0.028997   \n",
              "3                          0.028065             0.015463   \n",
              "4                          0.040161             0.058111   \n",
              "\n",
              "    Operating profit per person   Allocation rate per person  \\\n",
              "0                      0.392913                     0.037135   \n",
              "1                      0.391590                     0.012335   \n",
              "2                      0.381968                     0.141016   \n",
              "3                      0.378497                     0.021320   \n",
              "4                      0.394371                     0.023988   \n",
              "\n",
              "    Working Capital to Total Assets   Quick Assets/Total Assets  \\\n",
              "0                          0.672775                    0.166673   \n",
              "1                          0.751111                    0.127236   \n",
              "2                          0.829502                    0.340201   \n",
              "3                          0.725754                    0.161575   \n",
              "4                          0.751822                    0.260330   \n",
              "\n",
              "    Current Assets/Total Assets   Cash/Total Assets  \\\n",
              "0                      0.190643            0.004094   \n",
              "1                      0.182419            0.014948   \n",
              "2                      0.602806            0.000991   \n",
              "3                      0.225815            0.018851   \n",
              "4                      0.358380            0.014161   \n",
              "\n",
              "    Quick Assets/Current Liability   Cash/Current Liability  \\\n",
              "0                         0.001997             1.473360e-04   \n",
              "1                         0.004136             1.383910e-03   \n",
              "2                         0.006302             5.340000e+09   \n",
              "3                         0.002961             1.010646e-03   \n",
              "4                         0.004275             6.804636e-04   \n",
              "\n",
              "    Current Liability to Assets   Operating Funds to Liability  \\\n",
              "0                      0.147308                       0.334015   \n",
              "1                      0.056963                       0.341106   \n",
              "2                      0.098162                       0.336731   \n",
              "3                      0.098715                       0.348716   \n",
              "4                      0.110195                       0.344639   \n",
              "\n",
              "    Inventory/Working Capital   Inventory/Current Liability  \\\n",
              "0                    0.276920                      0.001036   \n",
              "1                    0.289642                      0.005210   \n",
              "2                    0.277456                      0.013879   \n",
              "3                    0.276580                      0.003540   \n",
              "4                    0.287913                      0.004869   \n",
              "\n",
              "    Current Liabilities/Liability   Working Capital/Equity  \\\n",
              "0                        0.676269                 0.721275   \n",
              "1                        0.308589                 0.731975   \n",
              "2                        0.446027                 0.742729   \n",
              "3                        0.615848                 0.729825   \n",
              "4                        0.975007                 0.732000   \n",
              "\n",
              "    Current Liabilities/Equity   Long-term Liability to Current Assets  \\\n",
              "0                     0.339077                                0.025592   \n",
              "1                     0.329740                                0.023947   \n",
              "2                     0.334777                                0.003715   \n",
              "3                     0.331509                                0.022165   \n",
              "4                     0.330726                                0.000000   \n",
              "\n",
              "    Retained Earnings to Total Assets   Total income/Total expense  \\\n",
              "0                            0.903225                     0.002022   \n",
              "1                            0.931065                     0.002226   \n",
              "2                            0.909903                     0.002060   \n",
              "3                            0.906902                     0.001831   \n",
              "4                            0.913850                     0.002224   \n",
              "\n",
              "    Total expense/Assets   Current Asset Turnover Rate  \\\n",
              "0               0.064856                  7.010000e+08   \n",
              "1               0.025516                  1.065198e-04   \n",
              "2               0.021387                  1.791094e-03   \n",
              "3               0.024161                  8.140000e+09   \n",
              "4               0.026385                  6.680000e+09   \n",
              "\n",
              "    Quick Asset Turnover Rate   Working capitcal Turnover Rate  \\\n",
              "0                6.550000e+09                         0.593831   \n",
              "1                7.700000e+09                         0.593916   \n",
              "2                1.022676e-03                         0.594502   \n",
              "3                6.050000e+09                         0.593889   \n",
              "4                5.050000e+09                         0.593915   \n",
              "\n",
              "    Cash Turnover Rate   Cash Flow to Sales   Fixed Assets to Assets  \\\n",
              "0         4.580000e+08             0.671568                 0.424206   \n",
              "1         2.490000e+09             0.671570                 0.468828   \n",
              "2         7.610000e+08             0.671571                 0.276179   \n",
              "3         2.030000e+09             0.671519                 0.559144   \n",
              "4         8.240000e+08             0.671563                 0.309555   \n",
              "\n",
              "    Current Liability to Liability   Current Liability to Equity  \\\n",
              "0                         0.676269                      0.339077   \n",
              "1                         0.308589                      0.329740   \n",
              "2                         0.446027                      0.334777   \n",
              "3                         0.615848                      0.331509   \n",
              "4                         0.975007                      0.330726   \n",
              "\n",
              "    Equity to Long-term Liability   Cash Flow to Total Assets  \\\n",
              "0                        0.126549                    0.637555   \n",
              "1                        0.120916                    0.641100   \n",
              "2                        0.117922                    0.642765   \n",
              "3                        0.120760                    0.579039   \n",
              "4                        0.110933                    0.622374   \n",
              "\n",
              "    Cash Flow to Liability   CFO to Assets   Cash Flow to Equity  \\\n",
              "0                 0.458609        0.520382              0.312905   \n",
              "1                 0.459001        0.567101              0.314163   \n",
              "2                 0.459254        0.538491              0.314515   \n",
              "3                 0.448518        0.604105              0.302382   \n",
              "4                 0.454411        0.578469              0.311567   \n",
              "\n",
              "    Current Liability to Current Assets   Liability-Assets Flag  \\\n",
              "0                              0.118250                       0   \n",
              "1                              0.047775                       0   \n",
              "2                              0.025346                       0   \n",
              "3                              0.067250                       0   \n",
              "4                              0.047725                       0   \n",
              "\n",
              "    Net Income to Total Assets   Total assets to GNP price  \\\n",
              "0                     0.716845                    0.009219   \n",
              "1                     0.795297                    0.008323   \n",
              "2                     0.774670                    0.040003   \n",
              "3                     0.739555                    0.003252   \n",
              "4                     0.795016                    0.003878   \n",
              "\n",
              "    No-credit Interval   Gross Profit to Sales  \\\n",
              "0             0.622879                0.601453   \n",
              "1             0.623652                0.610237   \n",
              "2             0.623841                0.601449   \n",
              "3             0.622929                0.583538   \n",
              "4             0.623521                0.598782   \n",
              "\n",
              "    Net Income to Stockholder's Equity   Liability to Equity  \\\n",
              "0                             0.827890              0.290202   \n",
              "1                             0.839969              0.283846   \n",
              "2                             0.836774              0.290189   \n",
              "3                             0.834697              0.281721   \n",
              "4                             0.839973              0.278514   \n",
              "\n",
              "    Degree of Financial Leverage (DFL)  \\\n",
              "0                             0.026601   \n",
              "1                             0.264577   \n",
              "2                             0.026555   \n",
              "3                             0.026697   \n",
              "4                             0.024752   \n",
              "\n",
              "    Interest Coverage Ratio (Interest expense to EBIT)   Net Income Flag  \\\n",
              "0                                           0.564050                   1   \n",
              "1                                           0.570175                   1   \n",
              "2                                           0.563706                   1   \n",
              "3                                           0.564663                   1   \n",
              "4                                           0.575617                   1   \n",
              "\n",
              "    Equity to Liability  \n",
              "0              0.016469  \n",
              "1              0.020794  \n",
              "2              0.016474  \n",
              "3              0.023982  \n",
              "4              0.035490  "
            ]
          },
          "metadata": {
            "tags": []
          },
          "execution_count": 172
        }
      ]
    },
    {
      "cell_type": "code",
      "metadata": {
        "id": "tLmtk2wzWj07"
      },
      "source": [
        "# Reset option to display all columns.\n",
        "pd.reset_option('max_columns')"
      ],
      "execution_count": null,
      "outputs": []
    },
    {
      "cell_type": "markdown",
      "metadata": {
        "id": "Xhixzw8Oo8rd"
      },
      "source": [
        "Taking a quick look at our DataFrame above we can see that the first column contains our target variable of bankruptcy. The rest of our data is numerical in nature and contains indicator variables for financial instruments such as the 'Net Income Flag' column, in addition to various financial metrics. Most of these entries have been normalized, or display a percentage, with some non-normalized entries that should be closely looked at for any outliers that may affect predictive modeling."
      ]
    },
    {
      "cell_type": "code",
      "metadata": {
        "colab": {
          "base_uri": "https://localhost:8080/"
        },
        "id": "Q005BqjmhSKG",
        "outputId": "141d7633-e20e-4b50-ca9f-c267ba9f40bf"
      },
      "source": [
        "# Let's confirm that all of our features are the correct data type by calling Pandas info function.\n",
        "df.info()"
      ],
      "execution_count": null,
      "outputs": [
        {
          "output_type": "stream",
          "text": [
            "<class 'pandas.core.frame.DataFrame'>\n",
            "RangeIndex: 6819 entries, 0 to 6818\n",
            "Data columns (total 96 columns):\n",
            " #   Column                                                    Non-Null Count  Dtype  \n",
            "---  ------                                                    --------------  -----  \n",
            " 0   Bankrupt?                                                 6819 non-null   int64  \n",
            " 1    ROA(C) before interest and depreciation before interest  6819 non-null   float64\n",
            " 2    ROA(A) before interest and % after tax                   6819 non-null   float64\n",
            " 3    ROA(B) before interest and depreciation after tax        6819 non-null   float64\n",
            " 4    Operating Gross Margin                                   6819 non-null   float64\n",
            " 5    Realized Sales Gross Margin                              6819 non-null   float64\n",
            " 6    Operating Profit Rate                                    6819 non-null   float64\n",
            " 7    Pre-tax net Interest Rate                                6819 non-null   float64\n",
            " 8    After-tax net Interest Rate                              6819 non-null   float64\n",
            " 9    Non-industry income and expenditure/revenue              6819 non-null   float64\n",
            " 10   Continuous interest rate (after tax)                     6819 non-null   float64\n",
            " 11   Operating Expense Rate                                   6819 non-null   float64\n",
            " 12   Research and development expense rate                    6819 non-null   float64\n",
            " 13   Cash flow rate                                           6819 non-null   float64\n",
            " 14   Interest-bearing debt interest rate                      6819 non-null   float64\n",
            " 15   Tax rate (A)                                             6819 non-null   float64\n",
            " 16   Net Value Per Share (B)                                  6819 non-null   float64\n",
            " 17   Net Value Per Share (A)                                  6819 non-null   float64\n",
            " 18   Net Value Per Share (C)                                  6819 non-null   float64\n",
            " 19   Persistent EPS in the Last Four Seasons                  6819 non-null   float64\n",
            " 20   Cash Flow Per Share                                      6819 non-null   float64\n",
            " 21   Revenue Per Share (Yuan ¥)                               6819 non-null   float64\n",
            " 22   Operating Profit Per Share (Yuan ¥)                      6819 non-null   float64\n",
            " 23   Per Share Net profit before tax (Yuan ¥)                 6819 non-null   float64\n",
            " 24   Realized Sales Gross Profit Growth Rate                  6819 non-null   float64\n",
            " 25   Operating Profit Growth Rate                             6819 non-null   float64\n",
            " 26   After-tax Net Profit Growth Rate                         6819 non-null   float64\n",
            " 27   Regular Net Profit Growth Rate                           6819 non-null   float64\n",
            " 28   Continuous Net Profit Growth Rate                        6819 non-null   float64\n",
            " 29   Total Asset Growth Rate                                  6819 non-null   float64\n",
            " 30   Net Value Growth Rate                                    6819 non-null   float64\n",
            " 31   Total Asset Return Growth Rate Ratio                     6819 non-null   float64\n",
            " 32   Cash Reinvestment %                                      6819 non-null   float64\n",
            " 33   Current Ratio                                            6819 non-null   float64\n",
            " 34   Quick Ratio                                              6819 non-null   float64\n",
            " 35   Interest Expense Ratio                                   6819 non-null   float64\n",
            " 36   Total debt/Total net worth                               6819 non-null   float64\n",
            " 37   Debt ratio %                                             6819 non-null   float64\n",
            " 38   Net worth/Assets                                         6819 non-null   float64\n",
            " 39   Long-term fund suitability ratio (A)                     6819 non-null   float64\n",
            " 40   Borrowing dependency                                     6819 non-null   float64\n",
            " 41   Contingent liabilities/Net worth                         6819 non-null   float64\n",
            " 42   Operating profit/Paid-in capital                         6819 non-null   float64\n",
            " 43   Net profit before tax/Paid-in capital                    6819 non-null   float64\n",
            " 44   Inventory and accounts receivable/Net value              6819 non-null   float64\n",
            " 45   Total Asset Turnover                                     6819 non-null   float64\n",
            " 46   Accounts Receivable Turnover                             6819 non-null   float64\n",
            " 47   Average Collection Days                                  6819 non-null   float64\n",
            " 48   Inventory Turnover Rate (times)                          6819 non-null   float64\n",
            " 49   Fixed Assets Turnover Frequency                          6819 non-null   float64\n",
            " 50   Net Worth Turnover Rate (times)                          6819 non-null   float64\n",
            " 51   Revenue per person                                       6819 non-null   float64\n",
            " 52   Operating profit per person                              6819 non-null   float64\n",
            " 53   Allocation rate per person                               6819 non-null   float64\n",
            " 54   Working Capital to Total Assets                          6819 non-null   float64\n",
            " 55   Quick Assets/Total Assets                                6819 non-null   float64\n",
            " 56   Current Assets/Total Assets                              6819 non-null   float64\n",
            " 57   Cash/Total Assets                                        6819 non-null   float64\n",
            " 58   Quick Assets/Current Liability                           6819 non-null   float64\n",
            " 59   Cash/Current Liability                                   6819 non-null   float64\n",
            " 60   Current Liability to Assets                              6819 non-null   float64\n",
            " 61   Operating Funds to Liability                             6819 non-null   float64\n",
            " 62   Inventory/Working Capital                                6819 non-null   float64\n",
            " 63   Inventory/Current Liability                              6819 non-null   float64\n",
            " 64   Current Liabilities/Liability                            6819 non-null   float64\n",
            " 65   Working Capital/Equity                                   6819 non-null   float64\n",
            " 66   Current Liabilities/Equity                               6819 non-null   float64\n",
            " 67   Long-term Liability to Current Assets                    6819 non-null   float64\n",
            " 68   Retained Earnings to Total Assets                        6819 non-null   float64\n",
            " 69   Total income/Total expense                               6819 non-null   float64\n",
            " 70   Total expense/Assets                                     6819 non-null   float64\n",
            " 71   Current Asset Turnover Rate                              6819 non-null   float64\n",
            " 72   Quick Asset Turnover Rate                                6819 non-null   float64\n",
            " 73   Working capitcal Turnover Rate                           6819 non-null   float64\n",
            " 74   Cash Turnover Rate                                       6819 non-null   float64\n",
            " 75   Cash Flow to Sales                                       6819 non-null   float64\n",
            " 76   Fixed Assets to Assets                                   6819 non-null   float64\n",
            " 77   Current Liability to Liability                           6819 non-null   float64\n",
            " 78   Current Liability to Equity                              6819 non-null   float64\n",
            " 79   Equity to Long-term Liability                            6819 non-null   float64\n",
            " 80   Cash Flow to Total Assets                                6819 non-null   float64\n",
            " 81   Cash Flow to Liability                                   6819 non-null   float64\n",
            " 82   CFO to Assets                                            6819 non-null   float64\n",
            " 83   Cash Flow to Equity                                      6819 non-null   float64\n",
            " 84   Current Liability to Current Assets                      6819 non-null   float64\n",
            " 85   Liability-Assets Flag                                    6819 non-null   int64  \n",
            " 86   Net Income to Total Assets                               6819 non-null   float64\n",
            " 87   Total assets to GNP price                                6819 non-null   float64\n",
            " 88   No-credit Interval                                       6819 non-null   float64\n",
            " 89   Gross Profit to Sales                                    6819 non-null   float64\n",
            " 90   Net Income to Stockholder's Equity                       6819 non-null   float64\n",
            " 91   Liability to Equity                                      6819 non-null   float64\n",
            " 92   Degree of Financial Leverage (DFL)                       6819 non-null   float64\n",
            " 93   Interest Coverage Ratio (Interest expense to EBIT)       6819 non-null   float64\n",
            " 94   Net Income Flag                                          6819 non-null   int64  \n",
            " 95   Equity to Liability                                      6819 non-null   float64\n",
            "dtypes: float64(93), int64(3)\n",
            "memory usage: 5.0 MB\n"
          ],
          "name": "stdout"
        }
      ]
    },
    {
      "cell_type": "markdown",
      "metadata": {
        "id": "Eba0OC0Os-5O"
      },
      "source": [
        "All features are stored in their respective data type, with 93 columns displaying the float data type, and 3 displaying integer data types. The integer data types are representing indicator variables, such as our target variable bankruptcy, with either the presence of 0 or 1. We have 6819 entries in our dataset overall, or 6861 rows."
      ]
    },
    {
      "cell_type": "code",
      "metadata": {
        "colab": {
          "base_uri": "https://localhost:8080/",
          "height": 350
        },
        "id": "gBI5KpfXy39G",
        "outputId": "e289c685-809e-4047-f269-4bbf06bbda3c"
      },
      "source": [
        "# Generating a histplot with seaborn to visualize the distribution of Gross Profit to Sales.\n",
        "sns.distplot(df[' Gross Profit to Sales'])"
      ],
      "execution_count": null,
      "outputs": [
        {
          "output_type": "stream",
          "text": [
            "/usr/local/lib/python3.7/dist-packages/seaborn/distributions.py:2557: FutureWarning: `distplot` is a deprecated function and will be removed in a future version. Please adapt your code to use either `displot` (a figure-level function with similar flexibility) or `histplot` (an axes-level function for histograms).\n",
            "  warnings.warn(msg, FutureWarning)\n"
          ],
          "name": "stderr"
        },
        {
          "output_type": "execute_result",
          "data": {
            "text/plain": [
              "<matplotlib.axes._subplots.AxesSubplot at 0x7fa305742bd0>"
            ]
          },
          "metadata": {
            "tags": []
          },
          "execution_count": 4
        },
        {
          "output_type": "display_data",
          "data": {
            "image/png": "[encoded data removed]",
            "text/plain": [
              "<Figure size 432x288 with 1 Axes>"
            ]
          },
          "metadata": {
            "tags": [],
            "needs_background": "light"
          }
        }
      ]
    },
    {
      "cell_type": "markdown",
      "metadata": {
        "id": "Xb609q-Xz_HZ"
      },
      "source": [
        "We can see that the majority of entries are floating around the 0.6 mark, or 60% gross profit to sales. Gross Profit to Sales ratio understandably may be an important feature for use in the building of our predictive model. Let's examine the distributions of some other features, notably those related to our target variable, by first building a heatmap of all features and selecting those displaying a higher correlation value to our target. "
      ]
    },
    {
      "cell_type": "code",
      "metadata": {
        "colab": {
          "base_uri": "https://localhost:8080/"
        },
        "id": "G9i2Z5uuza5F",
        "outputId": "c50249ee-07de-414a-8b41-2b1cab10b547"
      },
      "source": [
        "# Plotting a correlation heatmap to give us a visual representation of our correlation matrix. \n",
        "plt.figure(figsize=(20, 20))\n",
        "corr = df.apply(lambda x: pd.factorize(x)[0]).corr()\n",
        "ax = sns.heatmap(corr, xticklabels=corr.columns, yticklabels=corr.columns, \n",
        "                 linewidths=.2, cmap=\"YlGnBu\")"
      ],
      "execution_count": null,
      "outputs": [
        {
          "output_type": "display_data",
          "data": {
            "image/png": "[encoded data removed]",
            "text/plain": [
              "<Figure size 1440x1440 with 2 Axes>"
            ]
          },
          "metadata": {
            "tags": [],
            "needs_background": "light"
          }
        }
      ]
    },
    {
      "cell_type": "markdown",
      "metadata": {
        "id": "Pkkg3RObzt-a"
      },
      "source": [
        "Looking at the above heatmap we see some input features of interest such as the feature 'Tax Rate (A)' which is displaying a higher correlation value on the correlation matrix than most of the other features with a darker shading. Let's visualize the distribution of this feature next to learn more about it."
      ]
    },
    {
      "cell_type": "code",
      "metadata": {
        "colab": {
          "base_uri": "https://localhost:8080/"
        },
        "id": "AFMZcL1IztaJ",
        "outputId": "24c5ad09-66e3-4ce3-9c32-a252ddb44f95"
      },
      "source": [
        "# Generating a histplot with seaborn to visualize the distribution of Tax Rates.\n",
        "sns.histplot(df[' Tax rate (A)'])"
      ],
      "execution_count": null,
      "outputs": [
        {
          "output_type": "execute_result",
          "data": {
            "text/plain": [
              "<matplotlib.axes._subplots.AxesSubplot at 0x7fd29ee75990>"
            ]
          },
          "metadata": {
            "tags": []
          },
          "execution_count": 177
        },
        {
          "output_type": "display_data",
          "data": {
            "image/png": "[encoded data removed]",
            "text/plain": [
              "<Figure size 432x288 with 1 Axes>"
            ]
          },
          "metadata": {
            "tags": [],
            "needs_background": "light"
          }
        }
      ]
    },
    {
      "cell_type": "markdown",
      "metadata": {
        "id": "LGnZ01PO0uK7"
      },
      "source": [
        "Surprisingly a vast majority of entries displayed a tax rate of 0. This could be due to missing data on a large number of the companies filled as 0, or the companies could have low tax rates due to other economic factors. We can also see some definite outliers in the distribution notably at the upper end with some values displaying 100 percent tax rates. Notably, the distribution is not normal. We will still process the outliers and gain what we can from the data instead of discarding it, through winsorization, during the next data cleaning phase."
      ]
    },
    {
      "cell_type": "code",
      "metadata": {
        "colab": {
          "base_uri": "https://localhost:8080/"
        },
        "id": "EgtCEsetTsOY",
        "outputId": "6edc1a89-4c7a-417f-9f60-47db04d6545e"
      },
      "source": [
        "# Generating a histogram with seaborn to visualize the distribution of Net Income to Total Assets.\n",
        "sns.histplot(df[' Net Income to Total Assets'])"
      ],
      "execution_count": null,
      "outputs": [
        {
          "output_type": "execute_result",
          "data": {
            "text/plain": [
              "<matplotlib.axes._subplots.AxesSubplot at 0x7fd2c3036cd0>"
            ]
          },
          "metadata": {
            "tags": []
          },
          "execution_count": 178
        },
        {
          "output_type": "display_data",
          "data": {
            "image/png": "[encoded data removed]",
            "text/plain": [
              "<Figure size 432x288 with 1 Axes>"
            ]
          },
          "metadata": {
            "tags": [],
            "needs_background": "light"
          }
        }
      ]
    },
    {
      "cell_type": "markdown",
      "metadata": {
        "id": "gF8sZbvdT50F"
      },
      "source": [
        "Looking at the heatmaps other features of interest in regards to our target variable of bankruptcy, we can see that the Net Income to Total Assets is showing roughly a normal distribution. This is also known as Return on Assets (ROA) and is a financial ratio that shows the percentage of profit a company earns in relation to its overall resources. Most companies listed have a net income to total asset ratio of 0.8. Notably this financial ratio shows strong correlation to our target variable as one would expect when considering the factors involved in declaring bankruptcy."
      ]
    },
    {
      "cell_type": "code",
      "metadata": {
        "colab": {
          "base_uri": "https://localhost:8080/"
        },
        "id": "jg_GfckhSroY",
        "outputId": "6a68bbf8-7a53-4941-cd2b-0b48225312ba"
      },
      "source": [
        "# Descriptive statistics for all variables.\n",
        "df.describe(include= 'all')"
      ],
      "execution_count": null,
      "outputs": [
        {
          "output_type": "execute_result",
          "data": {
            "text/html": [
              "<div>\n",
              "<style scoped>\n",
              "    .dataframe tbody tr th:only-of-type {\n",
              "        vertical-align: middle;\n",
              "    }\n",
              "\n",
              "    .dataframe tbody tr th {\n",
              "        vertical-align: top;\n",
              "    }\n",
              "\n",
              "    .dataframe thead th {\n",
              "        text-align: right;\n",
              "    }\n",
              "</style>\n",
              "<table border=\"1\" class=\"dataframe\">\n",
              "  <thead>\n",
              "    <tr style=\"text-align: right;\">\n",
              "      <th></th>\n",
              "      <th>Bankrupt?</th>\n",
              "      <th>ROA(C) before interest and depreciation before interest</th>\n",
              "      <th>ROA(A) before interest and % after tax</th>\n",
              "      <th>ROA(B) before interest and depreciation after tax</th>\n",
              "      <th>Operating Gross Margin</th>\n",
              "      <th>Realized Sales Gross Margin</th>\n",
              "      <th>Operating Profit Rate</th>\n",
              "      <th>Pre-tax net Interest Rate</th>\n",
              "      <th>After-tax net Interest Rate</th>\n",
              "      <th>Non-industry income and expenditure/revenue</th>\n",
              "      <th>Continuous interest rate (after tax)</th>\n",
              "      <th>Operating Expense Rate</th>\n",
              "      <th>Research and development expense rate</th>\n",
              "      <th>Cash flow rate</th>\n",
              "      <th>Interest-bearing debt interest rate</th>\n",
              "      <th>Tax rate (A)</th>\n",
              "      <th>Net Value Per Share (B)</th>\n",
              "      <th>Net Value Per Share (A)</th>\n",
              "      <th>Net Value Per Share (C)</th>\n",
              "      <th>Persistent EPS in the Last Four Seasons</th>\n",
              "      <th>Cash Flow Per Share</th>\n",
              "      <th>Revenue Per Share (Yuan ¥)</th>\n",
              "      <th>Operating Profit Per Share (Yuan ¥)</th>\n",
              "      <th>Per Share Net profit before tax (Yuan ¥)</th>\n",
              "      <th>Realized Sales Gross Profit Growth Rate</th>\n",
              "      <th>Operating Profit Growth Rate</th>\n",
              "      <th>After-tax Net Profit Growth Rate</th>\n",
              "      <th>Regular Net Profit Growth Rate</th>\n",
              "      <th>Continuous Net Profit Growth Rate</th>\n",
              "      <th>Total Asset Growth Rate</th>\n",
              "      <th>Net Value Growth Rate</th>\n",
              "      <th>Total Asset Return Growth Rate Ratio</th>\n",
              "      <th>Cash Reinvestment %</th>\n",
              "      <th>Current Ratio</th>\n",
              "      <th>Quick Ratio</th>\n",
              "      <th>Interest Expense Ratio</th>\n",
              "      <th>Total debt/Total net worth</th>\n",
              "      <th>Debt ratio %</th>\n",
              "      <th>Net worth/Assets</th>\n",
              "      <th>Long-term fund suitability ratio (A)</th>\n",
              "      <th>...</th>\n",
              "      <th>Current Assets/Total Assets</th>\n",
              "      <th>Cash/Total Assets</th>\n",
              "      <th>Quick Assets/Current Liability</th>\n",
              "      <th>Cash/Current Liability</th>\n",
              "      <th>Current Liability to Assets</th>\n",
              "      <th>Operating Funds to Liability</th>\n",
              "      <th>Inventory/Working Capital</th>\n",
              "      <th>Inventory/Current Liability</th>\n",
              "      <th>Current Liabilities/Liability</th>\n",
              "      <th>Working Capital/Equity</th>\n",
              "      <th>Current Liabilities/Equity</th>\n",
              "      <th>Long-term Liability to Current Assets</th>\n",
              "      <th>Retained Earnings to Total Assets</th>\n",
              "      <th>Total income/Total expense</th>\n",
              "      <th>Total expense/Assets</th>\n",
              "      <th>Current Asset Turnover Rate</th>\n",
              "      <th>Quick Asset Turnover Rate</th>\n",
              "      <th>Working capitcal Turnover Rate</th>\n",
              "      <th>Cash Turnover Rate</th>\n",
              "      <th>Cash Flow to Sales</th>\n",
              "      <th>Fixed Assets to Assets</th>\n",
              "      <th>Current Liability to Liability</th>\n",
              "      <th>Current Liability to Equity</th>\n",
              "      <th>Equity to Long-term Liability</th>\n",
              "      <th>Cash Flow to Total Assets</th>\n",
              "      <th>Cash Flow to Liability</th>\n",
              "      <th>CFO to Assets</th>\n",
              "      <th>Cash Flow to Equity</th>\n",
              "      <th>Current Liability to Current Assets</th>\n",
              "      <th>Liability-Assets Flag</th>\n",
              "      <th>Net Income to Total Assets</th>\n",
              "      <th>Total assets to GNP price</th>\n",
              "      <th>No-credit Interval</th>\n",
              "      <th>Gross Profit to Sales</th>\n",
              "      <th>Net Income to Stockholder's Equity</th>\n",
              "      <th>Liability to Equity</th>\n",
              "      <th>Degree of Financial Leverage (DFL)</th>\n",
              "      <th>Interest Coverage Ratio (Interest expense to EBIT)</th>\n",
              "      <th>Net Income Flag</th>\n",
              "      <th>Equity to Liability</th>\n",
              "    </tr>\n",
              "  </thead>\n",
              "  <tbody>\n",
              "    <tr>\n",
              "      <th>count</th>\n",
              "      <td>6819.000000</td>\n",
              "      <td>6819.000000</td>\n",
              "      <td>6819.000000</td>\n",
              "      <td>6819.000000</td>\n",
              "      <td>6819.000000</td>\n",
              "      <td>6819.000000</td>\n",
              "      <td>6819.000000</td>\n",
              "      <td>6819.000000</td>\n",
              "      <td>6819.000000</td>\n",
              "      <td>6819.000000</td>\n",
              "      <td>6819.000000</td>\n",
              "      <td>6.819000e+03</td>\n",
              "      <td>6.819000e+03</td>\n",
              "      <td>6819.000000</td>\n",
              "      <td>6.819000e+03</td>\n",
              "      <td>6819.000000</td>\n",
              "      <td>6819.000000</td>\n",
              "      <td>6819.000000</td>\n",
              "      <td>6819.000000</td>\n",
              "      <td>6819.000000</td>\n",
              "      <td>6819.000000</td>\n",
              "      <td>6.819000e+03</td>\n",
              "      <td>6819.000000</td>\n",
              "      <td>6819.000000</td>\n",
              "      <td>6819.000000</td>\n",
              "      <td>6819.000000</td>\n",
              "      <td>6819.000000</td>\n",
              "      <td>6819.000000</td>\n",
              "      <td>6819.000000</td>\n",
              "      <td>6.819000e+03</td>\n",
              "      <td>6.819000e+03</td>\n",
              "      <td>6819.000000</td>\n",
              "      <td>6819.000000</td>\n",
              "      <td>6.819000e+03</td>\n",
              "      <td>6.819000e+03</td>\n",
              "      <td>6819.000000</td>\n",
              "      <td>6.819000e+03</td>\n",
              "      <td>6819.000000</td>\n",
              "      <td>6819.000000</td>\n",
              "      <td>6819.000000</td>\n",
              "      <td>...</td>\n",
              "      <td>6819.000000</td>\n",
              "      <td>6819.000000</td>\n",
              "      <td>6.819000e+03</td>\n",
              "      <td>6.819000e+03</td>\n",
              "      <td>6819.000000</td>\n",
              "      <td>6819.000000</td>\n",
              "      <td>6819.000000</td>\n",
              "      <td>6.819000e+03</td>\n",
              "      <td>6819.000000</td>\n",
              "      <td>6819.000000</td>\n",
              "      <td>6819.000000</td>\n",
              "      <td>6.819000e+03</td>\n",
              "      <td>6819.000000</td>\n",
              "      <td>6819.000000</td>\n",
              "      <td>6819.000000</td>\n",
              "      <td>6.819000e+03</td>\n",
              "      <td>6.819000e+03</td>\n",
              "      <td>6819.000000</td>\n",
              "      <td>6.819000e+03</td>\n",
              "      <td>6819.000000</td>\n",
              "      <td>6.819000e+03</td>\n",
              "      <td>6819.000000</td>\n",
              "      <td>6819.000000</td>\n",
              "      <td>6819.000000</td>\n",
              "      <td>6819.000000</td>\n",
              "      <td>6819.000000</td>\n",
              "      <td>6819.000000</td>\n",
              "      <td>6819.000000</td>\n",
              "      <td>6819.000000</td>\n",
              "      <td>6819.000000</td>\n",
              "      <td>6819.000000</td>\n",
              "      <td>6.819000e+03</td>\n",
              "      <td>6819.000000</td>\n",
              "      <td>6819.000000</td>\n",
              "      <td>6819.000000</td>\n",
              "      <td>6819.000000</td>\n",
              "      <td>6819.000000</td>\n",
              "      <td>6819.000000</td>\n",
              "      <td>6819.0</td>\n",
              "      <td>6819.000000</td>\n",
              "    </tr>\n",
              "    <tr>\n",
              "      <th>mean</th>\n",
              "      <td>0.032263</td>\n",
              "      <td>0.505180</td>\n",
              "      <td>0.558625</td>\n",
              "      <td>0.553589</td>\n",
              "      <td>0.607948</td>\n",
              "      <td>0.607929</td>\n",
              "      <td>0.998755</td>\n",
              "      <td>0.797190</td>\n",
              "      <td>0.809084</td>\n",
              "      <td>0.303623</td>\n",
              "      <td>0.781381</td>\n",
              "      <td>1.995347e+09</td>\n",
              "      <td>1.950427e+09</td>\n",
              "      <td>0.467431</td>\n",
              "      <td>1.644801e+07</td>\n",
              "      <td>0.115001</td>\n",
              "      <td>0.190661</td>\n",
              "      <td>0.190633</td>\n",
              "      <td>0.190672</td>\n",
              "      <td>0.228813</td>\n",
              "      <td>0.323482</td>\n",
              "      <td>1.328641e+06</td>\n",
              "      <td>0.109091</td>\n",
              "      <td>0.184361</td>\n",
              "      <td>0.022408</td>\n",
              "      <td>0.847980</td>\n",
              "      <td>0.689146</td>\n",
              "      <td>0.689150</td>\n",
              "      <td>0.217639</td>\n",
              "      <td>5.508097e+09</td>\n",
              "      <td>1.566212e+06</td>\n",
              "      <td>0.264248</td>\n",
              "      <td>0.379677</td>\n",
              "      <td>4.032850e+05</td>\n",
              "      <td>8.376595e+06</td>\n",
              "      <td>0.630991</td>\n",
              "      <td>4.416337e+06</td>\n",
              "      <td>0.113177</td>\n",
              "      <td>0.886823</td>\n",
              "      <td>0.008783</td>\n",
              "      <td>...</td>\n",
              "      <td>0.522273</td>\n",
              "      <td>0.124095</td>\n",
              "      <td>3.592902e+06</td>\n",
              "      <td>3.715999e+07</td>\n",
              "      <td>0.090673</td>\n",
              "      <td>0.353828</td>\n",
              "      <td>0.277395</td>\n",
              "      <td>5.580680e+07</td>\n",
              "      <td>0.761599</td>\n",
              "      <td>0.735817</td>\n",
              "      <td>0.331410</td>\n",
              "      <td>5.416004e+07</td>\n",
              "      <td>0.934733</td>\n",
              "      <td>0.002549</td>\n",
              "      <td>0.029184</td>\n",
              "      <td>1.195856e+09</td>\n",
              "      <td>2.163735e+09</td>\n",
              "      <td>0.594006</td>\n",
              "      <td>2.471977e+09</td>\n",
              "      <td>0.671531</td>\n",
              "      <td>1.220121e+06</td>\n",
              "      <td>0.761599</td>\n",
              "      <td>0.331410</td>\n",
              "      <td>0.115645</td>\n",
              "      <td>0.649731</td>\n",
              "      <td>0.461849</td>\n",
              "      <td>0.593415</td>\n",
              "      <td>0.315582</td>\n",
              "      <td>0.031506</td>\n",
              "      <td>0.001173</td>\n",
              "      <td>0.807760</td>\n",
              "      <td>1.862942e+07</td>\n",
              "      <td>0.623915</td>\n",
              "      <td>0.607946</td>\n",
              "      <td>0.840402</td>\n",
              "      <td>0.280365</td>\n",
              "      <td>0.027541</td>\n",
              "      <td>0.565358</td>\n",
              "      <td>1.0</td>\n",
              "      <td>0.047578</td>\n",
              "    </tr>\n",
              "    <tr>\n",
              "      <th>std</th>\n",
              "      <td>0.176710</td>\n",
              "      <td>0.060686</td>\n",
              "      <td>0.065620</td>\n",
              "      <td>0.061595</td>\n",
              "      <td>0.016934</td>\n",
              "      <td>0.016916</td>\n",
              "      <td>0.013010</td>\n",
              "      <td>0.012869</td>\n",
              "      <td>0.013601</td>\n",
              "      <td>0.011163</td>\n",
              "      <td>0.012679</td>\n",
              "      <td>3.237684e+09</td>\n",
              "      <td>2.598292e+09</td>\n",
              "      <td>0.017036</td>\n",
              "      <td>1.082750e+08</td>\n",
              "      <td>0.138667</td>\n",
              "      <td>0.033390</td>\n",
              "      <td>0.033474</td>\n",
              "      <td>0.033480</td>\n",
              "      <td>0.033263</td>\n",
              "      <td>0.017611</td>\n",
              "      <td>5.170709e+07</td>\n",
              "      <td>0.027942</td>\n",
              "      <td>0.033180</td>\n",
              "      <td>0.012079</td>\n",
              "      <td>0.010752</td>\n",
              "      <td>0.013853</td>\n",
              "      <td>0.013910</td>\n",
              "      <td>0.010063</td>\n",
              "      <td>2.897718e+09</td>\n",
              "      <td>1.141594e+08</td>\n",
              "      <td>0.009634</td>\n",
              "      <td>0.020737</td>\n",
              "      <td>3.330216e+07</td>\n",
              "      <td>2.446847e+08</td>\n",
              "      <td>0.011238</td>\n",
              "      <td>1.684069e+08</td>\n",
              "      <td>0.053920</td>\n",
              "      <td>0.053920</td>\n",
              "      <td>0.028153</td>\n",
              "      <td>...</td>\n",
              "      <td>0.218112</td>\n",
              "      <td>0.139251</td>\n",
              "      <td>1.716209e+08</td>\n",
              "      <td>5.103509e+08</td>\n",
              "      <td>0.050290</td>\n",
              "      <td>0.035147</td>\n",
              "      <td>0.010469</td>\n",
              "      <td>5.820516e+08</td>\n",
              "      <td>0.206677</td>\n",
              "      <td>0.011678</td>\n",
              "      <td>0.013488</td>\n",
              "      <td>5.702706e+08</td>\n",
              "      <td>0.025564</td>\n",
              "      <td>0.012093</td>\n",
              "      <td>0.027149</td>\n",
              "      <td>2.821161e+09</td>\n",
              "      <td>3.374944e+09</td>\n",
              "      <td>0.008959</td>\n",
              "      <td>2.938623e+09</td>\n",
              "      <td>0.009341</td>\n",
              "      <td>1.007542e+08</td>\n",
              "      <td>0.206677</td>\n",
              "      <td>0.013488</td>\n",
              "      <td>0.019529</td>\n",
              "      <td>0.047372</td>\n",
              "      <td>0.029943</td>\n",
              "      <td>0.058561</td>\n",
              "      <td>0.012961</td>\n",
              "      <td>0.030845</td>\n",
              "      <td>0.034234</td>\n",
              "      <td>0.040332</td>\n",
              "      <td>3.764501e+08</td>\n",
              "      <td>0.012290</td>\n",
              "      <td>0.016934</td>\n",
              "      <td>0.014523</td>\n",
              "      <td>0.014463</td>\n",
              "      <td>0.015668</td>\n",
              "      <td>0.013214</td>\n",
              "      <td>0.0</td>\n",
              "      <td>0.050014</td>\n",
              "    </tr>\n",
              "    <tr>\n",
              "      <th>min</th>\n",
              "      <td>0.000000</td>\n",
              "      <td>0.000000</td>\n",
              "      <td>0.000000</td>\n",
              "      <td>0.000000</td>\n",
              "      <td>0.000000</td>\n",
              "      <td>0.000000</td>\n",
              "      <td>0.000000</td>\n",
              "      <td>0.000000</td>\n",
              "      <td>0.000000</td>\n",
              "      <td>0.000000</td>\n",
              "      <td>0.000000</td>\n",
              "      <td>0.000000e+00</td>\n",
              "      <td>0.000000e+00</td>\n",
              "      <td>0.000000</td>\n",
              "      <td>0.000000e+00</td>\n",
              "      <td>0.000000</td>\n",
              "      <td>0.000000</td>\n",
              "      <td>0.000000</td>\n",
              "      <td>0.000000</td>\n",
              "      <td>0.000000</td>\n",
              "      <td>0.000000</td>\n",
              "      <td>0.000000e+00</td>\n",
              "      <td>0.000000</td>\n",
              "      <td>0.000000</td>\n",
              "      <td>0.000000</td>\n",
              "      <td>0.000000</td>\n",
              "      <td>0.000000</td>\n",
              "      <td>0.000000</td>\n",
              "      <td>0.000000</td>\n",
              "      <td>0.000000e+00</td>\n",
              "      <td>0.000000e+00</td>\n",
              "      <td>0.000000</td>\n",
              "      <td>0.000000</td>\n",
              "      <td>0.000000e+00</td>\n",
              "      <td>0.000000e+00</td>\n",
              "      <td>0.000000</td>\n",
              "      <td>0.000000e+00</td>\n",
              "      <td>0.000000</td>\n",
              "      <td>0.000000</td>\n",
              "      <td>0.000000</td>\n",
              "      <td>...</td>\n",
              "      <td>0.000000</td>\n",
              "      <td>0.000000</td>\n",
              "      <td>0.000000e+00</td>\n",
              "      <td>0.000000e+00</td>\n",
              "      <td>0.000000</td>\n",
              "      <td>0.000000</td>\n",
              "      <td>0.000000</td>\n",
              "      <td>0.000000e+00</td>\n",
              "      <td>0.000000</td>\n",
              "      <td>0.000000</td>\n",
              "      <td>0.000000</td>\n",
              "      <td>0.000000e+00</td>\n",
              "      <td>0.000000</td>\n",
              "      <td>0.000000</td>\n",
              "      <td>0.000000</td>\n",
              "      <td>0.000000e+00</td>\n",
              "      <td>0.000000e+00</td>\n",
              "      <td>0.000000</td>\n",
              "      <td>0.000000e+00</td>\n",
              "      <td>0.000000</td>\n",
              "      <td>0.000000e+00</td>\n",
              "      <td>0.000000</td>\n",
              "      <td>0.000000</td>\n",
              "      <td>0.000000</td>\n",
              "      <td>0.000000</td>\n",
              "      <td>0.000000</td>\n",
              "      <td>0.000000</td>\n",
              "      <td>0.000000</td>\n",
              "      <td>0.000000</td>\n",
              "      <td>0.000000</td>\n",
              "      <td>0.000000</td>\n",
              "      <td>0.000000e+00</td>\n",
              "      <td>0.000000</td>\n",
              "      <td>0.000000</td>\n",
              "      <td>0.000000</td>\n",
              "      <td>0.000000</td>\n",
              "      <td>0.000000</td>\n",
              "      <td>0.000000</td>\n",
              "      <td>1.0</td>\n",
              "      <td>0.000000</td>\n",
              "    </tr>\n",
              "    <tr>\n",
              "      <th>25%</th>\n",
              "      <td>0.000000</td>\n",
              "      <td>0.476527</td>\n",
              "      <td>0.535543</td>\n",
              "      <td>0.527277</td>\n",
              "      <td>0.600445</td>\n",
              "      <td>0.600434</td>\n",
              "      <td>0.998969</td>\n",
              "      <td>0.797386</td>\n",
              "      <td>0.809312</td>\n",
              "      <td>0.303466</td>\n",
              "      <td>0.781567</td>\n",
              "      <td>1.566874e-04</td>\n",
              "      <td>1.281880e-04</td>\n",
              "      <td>0.461558</td>\n",
              "      <td>2.030203e-04</td>\n",
              "      <td>0.000000</td>\n",
              "      <td>0.173613</td>\n",
              "      <td>0.173613</td>\n",
              "      <td>0.173676</td>\n",
              "      <td>0.214711</td>\n",
              "      <td>0.317748</td>\n",
              "      <td>1.563138e-02</td>\n",
              "      <td>0.096083</td>\n",
              "      <td>0.170370</td>\n",
              "      <td>0.022065</td>\n",
              "      <td>0.847984</td>\n",
              "      <td>0.689270</td>\n",
              "      <td>0.689270</td>\n",
              "      <td>0.217580</td>\n",
              "      <td>4.860000e+09</td>\n",
              "      <td>4.409689e-04</td>\n",
              "      <td>0.263759</td>\n",
              "      <td>0.374749</td>\n",
              "      <td>7.555047e-03</td>\n",
              "      <td>4.725903e-03</td>\n",
              "      <td>0.630612</td>\n",
              "      <td>3.007049e-03</td>\n",
              "      <td>0.072891</td>\n",
              "      <td>0.851196</td>\n",
              "      <td>0.005244</td>\n",
              "      <td>...</td>\n",
              "      <td>0.352845</td>\n",
              "      <td>0.033543</td>\n",
              "      <td>5.239776e-03</td>\n",
              "      <td>1.973008e-03</td>\n",
              "      <td>0.053301</td>\n",
              "      <td>0.341023</td>\n",
              "      <td>0.277034</td>\n",
              "      <td>3.163148e-03</td>\n",
              "      <td>0.626981</td>\n",
              "      <td>0.733612</td>\n",
              "      <td>0.328096</td>\n",
              "      <td>0.000000e+00</td>\n",
              "      <td>0.931097</td>\n",
              "      <td>0.002236</td>\n",
              "      <td>0.014567</td>\n",
              "      <td>1.456236e-04</td>\n",
              "      <td>1.417149e-04</td>\n",
              "      <td>0.593934</td>\n",
              "      <td>2.735337e-04</td>\n",
              "      <td>0.671565</td>\n",
              "      <td>8.536037e-02</td>\n",
              "      <td>0.626981</td>\n",
              "      <td>0.328096</td>\n",
              "      <td>0.110933</td>\n",
              "      <td>0.633265</td>\n",
              "      <td>0.457116</td>\n",
              "      <td>0.565987</td>\n",
              "      <td>0.312995</td>\n",
              "      <td>0.018034</td>\n",
              "      <td>0.000000</td>\n",
              "      <td>0.796750</td>\n",
              "      <td>9.036205e-04</td>\n",
              "      <td>0.623636</td>\n",
              "      <td>0.600443</td>\n",
              "      <td>0.840115</td>\n",
              "      <td>0.276944</td>\n",
              "      <td>0.026791</td>\n",
              "      <td>0.565158</td>\n",
              "      <td>1.0</td>\n",
              "      <td>0.024477</td>\n",
              "    </tr>\n",
              "    <tr>\n",
              "      <th>50%</th>\n",
              "      <td>0.000000</td>\n",
              "      <td>0.502706</td>\n",
              "      <td>0.559802</td>\n",
              "      <td>0.552278</td>\n",
              "      <td>0.605997</td>\n",
              "      <td>0.605976</td>\n",
              "      <td>0.999022</td>\n",
              "      <td>0.797464</td>\n",
              "      <td>0.809375</td>\n",
              "      <td>0.303525</td>\n",
              "      <td>0.781635</td>\n",
              "      <td>2.777589e-04</td>\n",
              "      <td>5.090000e+08</td>\n",
              "      <td>0.465080</td>\n",
              "      <td>3.210321e-04</td>\n",
              "      <td>0.073489</td>\n",
              "      <td>0.184400</td>\n",
              "      <td>0.184400</td>\n",
              "      <td>0.184400</td>\n",
              "      <td>0.224544</td>\n",
              "      <td>0.322487</td>\n",
              "      <td>2.737571e-02</td>\n",
              "      <td>0.104226</td>\n",
              "      <td>0.179709</td>\n",
              "      <td>0.022102</td>\n",
              "      <td>0.848044</td>\n",
              "      <td>0.689439</td>\n",
              "      <td>0.689439</td>\n",
              "      <td>0.217598</td>\n",
              "      <td>6.400000e+09</td>\n",
              "      <td>4.619555e-04</td>\n",
              "      <td>0.264050</td>\n",
              "      <td>0.380425</td>\n",
              "      <td>1.058717e-02</td>\n",
              "      <td>7.412472e-03</td>\n",
              "      <td>0.630698</td>\n",
              "      <td>5.546284e-03</td>\n",
              "      <td>0.111407</td>\n",
              "      <td>0.888593</td>\n",
              "      <td>0.005665</td>\n",
              "      <td>...</td>\n",
              "      <td>0.514830</td>\n",
              "      <td>0.074887</td>\n",
              "      <td>7.908898e-03</td>\n",
              "      <td>4.903886e-03</td>\n",
              "      <td>0.082705</td>\n",
              "      <td>0.348597</td>\n",
              "      <td>0.277178</td>\n",
              "      <td>6.497335e-03</td>\n",
              "      <td>0.806881</td>\n",
              "      <td>0.736013</td>\n",
              "      <td>0.329685</td>\n",
              "      <td>1.974619e-03</td>\n",
              "      <td>0.937672</td>\n",
              "      <td>0.002336</td>\n",
              "      <td>0.022674</td>\n",
              "      <td>1.987816e-04</td>\n",
              "      <td>2.247728e-04</td>\n",
              "      <td>0.593963</td>\n",
              "      <td>1.080000e+09</td>\n",
              "      <td>0.671574</td>\n",
              "      <td>1.968810e-01</td>\n",
              "      <td>0.806881</td>\n",
              "      <td>0.329685</td>\n",
              "      <td>0.112340</td>\n",
              "      <td>0.645366</td>\n",
              "      <td>0.459750</td>\n",
              "      <td>0.593266</td>\n",
              "      <td>0.314953</td>\n",
              "      <td>0.027597</td>\n",
              "      <td>0.000000</td>\n",
              "      <td>0.810619</td>\n",
              "      <td>2.085213e-03</td>\n",
              "      <td>0.623879</td>\n",
              "      <td>0.605998</td>\n",
              "      <td>0.841179</td>\n",
              "      <td>0.278778</td>\n",
              "      <td>0.026808</td>\n",
              "      <td>0.565252</td>\n",
              "      <td>1.0</td>\n",
              "      <td>0.033798</td>\n",
              "    </tr>\n",
              "    <tr>\n",
              "      <th>75%</th>\n",
              "      <td>0.000000</td>\n",
              "      <td>0.535563</td>\n",
              "      <td>0.589157</td>\n",
              "      <td>0.584105</td>\n",
              "      <td>0.613914</td>\n",
              "      <td>0.613842</td>\n",
              "      <td>0.999095</td>\n",
              "      <td>0.797579</td>\n",
              "      <td>0.809469</td>\n",
              "      <td>0.303585</td>\n",
              "      <td>0.781735</td>\n",
              "      <td>4.145000e+09</td>\n",
              "      <td>3.450000e+09</td>\n",
              "      <td>0.471004</td>\n",
              "      <td>5.325533e-04</td>\n",
              "      <td>0.205841</td>\n",
              "      <td>0.199570</td>\n",
              "      <td>0.199570</td>\n",
              "      <td>0.199612</td>\n",
              "      <td>0.238820</td>\n",
              "      <td>0.328623</td>\n",
              "      <td>4.635722e-02</td>\n",
              "      <td>0.116155</td>\n",
              "      <td>0.193493</td>\n",
              "      <td>0.022153</td>\n",
              "      <td>0.848123</td>\n",
              "      <td>0.689647</td>\n",
              "      <td>0.689647</td>\n",
              "      <td>0.217622</td>\n",
              "      <td>7.390000e+09</td>\n",
              "      <td>4.993621e-04</td>\n",
              "      <td>0.264388</td>\n",
              "      <td>0.386731</td>\n",
              "      <td>1.626953e-02</td>\n",
              "      <td>1.224911e-02</td>\n",
              "      <td>0.631125</td>\n",
              "      <td>9.273293e-03</td>\n",
              "      <td>0.148804</td>\n",
              "      <td>0.927109</td>\n",
              "      <td>0.006847</td>\n",
              "      <td>...</td>\n",
              "      <td>0.689051</td>\n",
              "      <td>0.161073</td>\n",
              "      <td>1.295091e-02</td>\n",
              "      <td>1.280557e-02</td>\n",
              "      <td>0.119523</td>\n",
              "      <td>0.360915</td>\n",
              "      <td>0.277429</td>\n",
              "      <td>1.114677e-02</td>\n",
              "      <td>0.942027</td>\n",
              "      <td>0.738560</td>\n",
              "      <td>0.332322</td>\n",
              "      <td>9.005946e-03</td>\n",
              "      <td>0.944811</td>\n",
              "      <td>0.002492</td>\n",
              "      <td>0.035930</td>\n",
              "      <td>4.525945e-04</td>\n",
              "      <td>4.900000e+09</td>\n",
              "      <td>0.594002</td>\n",
              "      <td>4.510000e+09</td>\n",
              "      <td>0.671587</td>\n",
              "      <td>3.722000e-01</td>\n",
              "      <td>0.942027</td>\n",
              "      <td>0.332322</td>\n",
              "      <td>0.117106</td>\n",
              "      <td>0.663062</td>\n",
              "      <td>0.464236</td>\n",
              "      <td>0.624769</td>\n",
              "      <td>0.317707</td>\n",
              "      <td>0.038375</td>\n",
              "      <td>0.000000</td>\n",
              "      <td>0.826455</td>\n",
              "      <td>5.269777e-03</td>\n",
              "      <td>0.624168</td>\n",
              "      <td>0.613913</td>\n",
              "      <td>0.842357</td>\n",
              "      <td>0.281449</td>\n",
              "      <td>0.026913</td>\n",
              "      <td>0.565725</td>\n",
              "      <td>1.0</td>\n",
              "      <td>0.052838</td>\n",
              "    </tr>\n",
              "    <tr>\n",
              "      <th>max</th>\n",
              "      <td>1.000000</td>\n",
              "      <td>1.000000</td>\n",
              "      <td>1.000000</td>\n",
              "      <td>1.000000</td>\n",
              "      <td>1.000000</td>\n",
              "      <td>1.000000</td>\n",
              "      <td>1.000000</td>\n",
              "      <td>1.000000</td>\n",
              "      <td>1.000000</td>\n",
              "      <td>1.000000</td>\n",
              "      <td>1.000000</td>\n",
              "      <td>9.990000e+09</td>\n",
              "      <td>9.980000e+09</td>\n",
              "      <td>1.000000</td>\n",
              "      <td>9.900000e+08</td>\n",
              "      <td>1.000000</td>\n",
              "      <td>1.000000</td>\n",
              "      <td>1.000000</td>\n",
              "      <td>1.000000</td>\n",
              "      <td>1.000000</td>\n",
              "      <td>1.000000</td>\n",
              "      <td>3.020000e+09</td>\n",
              "      <td>1.000000</td>\n",
              "      <td>1.000000</td>\n",
              "      <td>1.000000</td>\n",
              "      <td>1.000000</td>\n",
              "      <td>1.000000</td>\n",
              "      <td>1.000000</td>\n",
              "      <td>1.000000</td>\n",
              "      <td>9.990000e+09</td>\n",
              "      <td>9.330000e+09</td>\n",
              "      <td>1.000000</td>\n",
              "      <td>1.000000</td>\n",
              "      <td>2.750000e+09</td>\n",
              "      <td>9.230000e+09</td>\n",
              "      <td>1.000000</td>\n",
              "      <td>9.940000e+09</td>\n",
              "      <td>1.000000</td>\n",
              "      <td>1.000000</td>\n",
              "      <td>1.000000</td>\n",
              "      <td>...</td>\n",
              "      <td>1.000000</td>\n",
              "      <td>1.000000</td>\n",
              "      <td>8.820000e+09</td>\n",
              "      <td>9.650000e+09</td>\n",
              "      <td>1.000000</td>\n",
              "      <td>1.000000</td>\n",
              "      <td>1.000000</td>\n",
              "      <td>9.910000e+09</td>\n",
              "      <td>1.000000</td>\n",
              "      <td>1.000000</td>\n",
              "      <td>1.000000</td>\n",
              "      <td>9.540000e+09</td>\n",
              "      <td>1.000000</td>\n",
              "      <td>1.000000</td>\n",
              "      <td>1.000000</td>\n",
              "      <td>1.000000e+10</td>\n",
              "      <td>1.000000e+10</td>\n",
              "      <td>1.000000</td>\n",
              "      <td>1.000000e+10</td>\n",
              "      <td>1.000000</td>\n",
              "      <td>8.320000e+09</td>\n",
              "      <td>1.000000</td>\n",
              "      <td>1.000000</td>\n",
              "      <td>1.000000</td>\n",
              "      <td>1.000000</td>\n",
              "      <td>1.000000</td>\n",
              "      <td>1.000000</td>\n",
              "      <td>1.000000</td>\n",
              "      <td>1.000000</td>\n",
              "      <td>1.000000</td>\n",
              "      <td>1.000000</td>\n",
              "      <td>9.820000e+09</td>\n",
              "      <td>1.000000</td>\n",
              "      <td>1.000000</td>\n",
              "      <td>1.000000</td>\n",
              "      <td>1.000000</td>\n",
              "      <td>1.000000</td>\n",
              "      <td>1.000000</td>\n",
              "      <td>1.0</td>\n",
              "      <td>1.000000</td>\n",
              "    </tr>\n",
              "  </tbody>\n",
              "</table>\n",
              "<p>8 rows × 96 columns</p>\n",
              "</div>"
            ],
            "text/plain": [
              "         Bankrupt?  ...   Equity to Liability\n",
              "count  6819.000000  ...           6819.000000\n",
              "mean      0.032263  ...              0.047578\n",
              "std       0.176710  ...              0.050014\n",
              "min       0.000000  ...              0.000000\n",
              "25%       0.000000  ...              0.024477\n",
              "50%       0.000000  ...              0.033798\n",
              "75%       0.000000  ...              0.052838\n",
              "max       1.000000  ...              1.000000\n",
              "\n",
              "[8 rows x 96 columns]"
            ]
          },
          "metadata": {
            "tags": []
          },
          "execution_count": 179
        }
      ]
    },
    {
      "cell_type": "markdown",
      "metadata": {
        "id": "ZO6ylfPQY2a3"
      },
      "source": [
        "Descriptive statistics are useful to get another feel for all features at a \n",
        "glance. We can look at minimum and maximum values for features of interest, as well as the mean and standard deviation. This can give us additional insights into features that might have outliers, such as the operating expense rate where we can see there is a maximum value far greater than the mean and minimum values, which is most certainly an outlier. We will explore outliers and their transformation during model preparation next as outliers can pose a potential problem for our machine learning algorithms, ultimately affecting the performance of our algorithm. These should be processed to gain the most predictive accuracy from our data. "
      ]
    },
    {
      "cell_type": "markdown",
      "metadata": {
        "id": "8jgmsWFTc7Yj"
      },
      "source": [
        "# Model Preparation"
      ]
    },
    {
      "cell_type": "markdown",
      "metadata": {
        "id": "yW-M08w8XZmc"
      },
      "source": [
        "After Exploratory Data Analysis, the next crucial phase involves model preparation. This involves handling missing data, processing outliers as mentioned previously, class-balancing the target variable, as well as splitting the data into training and testing sets. Adequate model preparation is fundamental to attaining the best results from any predictive machine learning algorithm."
      ]
    },
    {
      "cell_type": "markdown",
      "metadata": {
        "id": "pnuqEVf9dlQB"
      },
      "source": [
        "## Missing Values"
      ]
    },
    {
      "cell_type": "markdown",
      "metadata": {
        "id": "lVZFljUyXQin"
      },
      "source": [
        "Missing values can cause a wide range of problems when not processed correctly and can prevent necessary code from running altogether. First we need to examine our financial data for any missing values by using Pandas isnull function."
      ]
    },
    {
      "cell_type": "code",
      "metadata": {
        "id": "Kb_TRD4jr71z"
      },
      "source": [
        "# Creating a DataFrame to show the percentage of missing data from each individual feature.\n",
        "missing_values = pd.DataFrame(df.isnull().mean() * 100)"
      ],
      "execution_count": null,
      "outputs": []
    },
    {
      "cell_type": "code",
      "metadata": {
        "id": "D8TQcrM5at8P"
      },
      "source": [
        "# Setting max rows to show all percent missing values in the dataframe we are creating next.\n",
        "pd.set_option(\"max_rows\", None)"
      ],
      "execution_count": null,
      "outputs": []
    },
    {
      "cell_type": "code",
      "metadata": {
        "colab": {
          "base_uri": "https://localhost:8080/"
        },
        "id": "0wM4ZOwQtXS4",
        "outputId": "85146bd8-12c9-4b00-d4c0-cfd23a8a02dc"
      },
      "source": [
        "# Displaying percentage of all missing values.\n",
        "missing_values"
      ],
      "execution_count": null,
      "outputs": [
        {
          "output_type": "execute_result",
          "data": {
            "text/html": [
              "<div>\n",
              "<style scoped>\n",
              "    .dataframe tbody tr th:only-of-type {\n",
              "        vertical-align: middle;\n",
              "    }\n",
              "\n",
              "    .dataframe tbody tr th {\n",
              "        vertical-align: top;\n",
              "    }\n",
              "\n",
              "    .dataframe thead th {\n",
              "        text-align: right;\n",
              "    }\n",
              "</style>\n",
              "<table border=\"1\" class=\"dataframe\">\n",
              "  <thead>\n",
              "    <tr style=\"text-align: right;\">\n",
              "      <th></th>\n",
              "      <th>0</th>\n",
              "    </tr>\n",
              "  </thead>\n",
              "  <tbody>\n",
              "    <tr>\n",
              "      <th>Bankrupt?</th>\n",
              "      <td>0.0</td>\n",
              "    </tr>\n",
              "    <tr>\n",
              "      <th>ROA(C) before interest and depreciation before interest</th>\n",
              "      <td>0.0</td>\n",
              "    </tr>\n",
              "    <tr>\n",
              "      <th>ROA(A) before interest and % after tax</th>\n",
              "      <td>0.0</td>\n",
              "    </tr>\n",
              "    <tr>\n",
              "      <th>ROA(B) before interest and depreciation after tax</th>\n",
              "      <td>0.0</td>\n",
              "    </tr>\n",
              "    <tr>\n",
              "      <th>Operating Gross Margin</th>\n",
              "      <td>0.0</td>\n",
              "    </tr>\n",
              "    <tr>\n",
              "      <th>Realized Sales Gross Margin</th>\n",
              "      <td>0.0</td>\n",
              "    </tr>\n",
              "    <tr>\n",
              "      <th>Operating Profit Rate</th>\n",
              "      <td>0.0</td>\n",
              "    </tr>\n",
              "    <tr>\n",
              "      <th>Pre-tax net Interest Rate</th>\n",
              "      <td>0.0</td>\n",
              "    </tr>\n",
              "    <tr>\n",
              "      <th>After-tax net Interest Rate</th>\n",
              "      <td>0.0</td>\n",
              "    </tr>\n",
              "    <tr>\n",
              "      <th>Non-industry income and expenditure/revenue</th>\n",
              "      <td>0.0</td>\n",
              "    </tr>\n",
              "    <tr>\n",
              "      <th>Continuous interest rate (after tax)</th>\n",
              "      <td>0.0</td>\n",
              "    </tr>\n",
              "    <tr>\n",
              "      <th>Operating Expense Rate</th>\n",
              "      <td>0.0</td>\n",
              "    </tr>\n",
              "    <tr>\n",
              "      <th>Research and development expense rate</th>\n",
              "      <td>0.0</td>\n",
              "    </tr>\n",
              "    <tr>\n",
              "      <th>Cash flow rate</th>\n",
              "      <td>0.0</td>\n",
              "    </tr>\n",
              "    <tr>\n",
              "      <th>Interest-bearing debt interest rate</th>\n",
              "      <td>0.0</td>\n",
              "    </tr>\n",
              "    <tr>\n",
              "      <th>Tax rate (A)</th>\n",
              "      <td>0.0</td>\n",
              "    </tr>\n",
              "    <tr>\n",
              "      <th>Net Value Per Share (B)</th>\n",
              "      <td>0.0</td>\n",
              "    </tr>\n",
              "    <tr>\n",
              "      <th>Net Value Per Share (A)</th>\n",
              "      <td>0.0</td>\n",
              "    </tr>\n",
              "    <tr>\n",
              "      <th>Net Value Per Share (C)</th>\n",
              "      <td>0.0</td>\n",
              "    </tr>\n",
              "    <tr>\n",
              "      <th>Persistent EPS in the Last Four Seasons</th>\n",
              "      <td>0.0</td>\n",
              "    </tr>\n",
              "    <tr>\n",
              "      <th>Cash Flow Per Share</th>\n",
              "      <td>0.0</td>\n",
              "    </tr>\n",
              "    <tr>\n",
              "      <th>Revenue Per Share (Yuan ¥)</th>\n",
              "      <td>0.0</td>\n",
              "    </tr>\n",
              "    <tr>\n",
              "      <th>Operating Profit Per Share (Yuan ¥)</th>\n",
              "      <td>0.0</td>\n",
              "    </tr>\n",
              "    <tr>\n",
              "      <th>Per Share Net profit before tax (Yuan ¥)</th>\n",
              "      <td>0.0</td>\n",
              "    </tr>\n",
              "    <tr>\n",
              "      <th>Realized Sales Gross Profit Growth Rate</th>\n",
              "      <td>0.0</td>\n",
              "    </tr>\n",
              "    <tr>\n",
              "      <th>Operating Profit Growth Rate</th>\n",
              "      <td>0.0</td>\n",
              "    </tr>\n",
              "    <tr>\n",
              "      <th>After-tax Net Profit Growth Rate</th>\n",
              "      <td>0.0</td>\n",
              "    </tr>\n",
              "    <tr>\n",
              "      <th>Regular Net Profit Growth Rate</th>\n",
              "      <td>0.0</td>\n",
              "    </tr>\n",
              "    <tr>\n",
              "      <th>Continuous Net Profit Growth Rate</th>\n",
              "      <td>0.0</td>\n",
              "    </tr>\n",
              "    <tr>\n",
              "      <th>Total Asset Growth Rate</th>\n",
              "      <td>0.0</td>\n",
              "    </tr>\n",
              "    <tr>\n",
              "      <th>Net Value Growth Rate</th>\n",
              "      <td>0.0</td>\n",
              "    </tr>\n",
              "    <tr>\n",
              "      <th>Total Asset Return Growth Rate Ratio</th>\n",
              "      <td>0.0</td>\n",
              "    </tr>\n",
              "    <tr>\n",
              "      <th>Cash Reinvestment %</th>\n",
              "      <td>0.0</td>\n",
              "    </tr>\n",
              "    <tr>\n",
              "      <th>Current Ratio</th>\n",
              "      <td>0.0</td>\n",
              "    </tr>\n",
              "    <tr>\n",
              "      <th>Quick Ratio</th>\n",
              "      <td>0.0</td>\n",
              "    </tr>\n",
              "    <tr>\n",
              "      <th>Interest Expense Ratio</th>\n",
              "      <td>0.0</td>\n",
              "    </tr>\n",
              "    <tr>\n",
              "      <th>Total debt/Total net worth</th>\n",
              "      <td>0.0</td>\n",
              "    </tr>\n",
              "    <tr>\n",
              "      <th>Debt ratio %</th>\n",
              "      <td>0.0</td>\n",
              "    </tr>\n",
              "    <tr>\n",
              "      <th>Net worth/Assets</th>\n",
              "      <td>0.0</td>\n",
              "    </tr>\n",
              "    <tr>\n",
              "      <th>Long-term fund suitability ratio (A)</th>\n",
              "      <td>0.0</td>\n",
              "    </tr>\n",
              "    <tr>\n",
              "      <th>Borrowing dependency</th>\n",
              "      <td>0.0</td>\n",
              "    </tr>\n",
              "    <tr>\n",
              "      <th>Contingent liabilities/Net worth</th>\n",
              "      <td>0.0</td>\n",
              "    </tr>\n",
              "    <tr>\n",
              "      <th>Operating profit/Paid-in capital</th>\n",
              "      <td>0.0</td>\n",
              "    </tr>\n",
              "    <tr>\n",
              "      <th>Net profit before tax/Paid-in capital</th>\n",
              "      <td>0.0</td>\n",
              "    </tr>\n",
              "    <tr>\n",
              "      <th>Inventory and accounts receivable/Net value</th>\n",
              "      <td>0.0</td>\n",
              "    </tr>\n",
              "    <tr>\n",
              "      <th>Total Asset Turnover</th>\n",
              "      <td>0.0</td>\n",
              "    </tr>\n",
              "    <tr>\n",
              "      <th>Accounts Receivable Turnover</th>\n",
              "      <td>0.0</td>\n",
              "    </tr>\n",
              "    <tr>\n",
              "      <th>Average Collection Days</th>\n",
              "      <td>0.0</td>\n",
              "    </tr>\n",
              "    <tr>\n",
              "      <th>Inventory Turnover Rate (times)</th>\n",
              "      <td>0.0</td>\n",
              "    </tr>\n",
              "    <tr>\n",
              "      <th>Fixed Assets Turnover Frequency</th>\n",
              "      <td>0.0</td>\n",
              "    </tr>\n",
              "    <tr>\n",
              "      <th>Net Worth Turnover Rate (times)</th>\n",
              "      <td>0.0</td>\n",
              "    </tr>\n",
              "    <tr>\n",
              "      <th>Revenue per person</th>\n",
              "      <td>0.0</td>\n",
              "    </tr>\n",
              "    <tr>\n",
              "      <th>Operating profit per person</th>\n",
              "      <td>0.0</td>\n",
              "    </tr>\n",
              "    <tr>\n",
              "      <th>Allocation rate per person</th>\n",
              "      <td>0.0</td>\n",
              "    </tr>\n",
              "    <tr>\n",
              "      <th>Working Capital to Total Assets</th>\n",
              "      <td>0.0</td>\n",
              "    </tr>\n",
              "    <tr>\n",
              "      <th>Quick Assets/Total Assets</th>\n",
              "      <td>0.0</td>\n",
              "    </tr>\n",
              "    <tr>\n",
              "      <th>Current Assets/Total Assets</th>\n",
              "      <td>0.0</td>\n",
              "    </tr>\n",
              "    <tr>\n",
              "      <th>Cash/Total Assets</th>\n",
              "      <td>0.0</td>\n",
              "    </tr>\n",
              "    <tr>\n",
              "      <th>Quick Assets/Current Liability</th>\n",
              "      <td>0.0</td>\n",
              "    </tr>\n",
              "    <tr>\n",
              "      <th>Cash/Current Liability</th>\n",
              "      <td>0.0</td>\n",
              "    </tr>\n",
              "    <tr>\n",
              "      <th>Current Liability to Assets</th>\n",
              "      <td>0.0</td>\n",
              "    </tr>\n",
              "    <tr>\n",
              "      <th>Operating Funds to Liability</th>\n",
              "      <td>0.0</td>\n",
              "    </tr>\n",
              "    <tr>\n",
              "      <th>Inventory/Working Capital</th>\n",
              "      <td>0.0</td>\n",
              "    </tr>\n",
              "    <tr>\n",
              "      <th>Inventory/Current Liability</th>\n",
              "      <td>0.0</td>\n",
              "    </tr>\n",
              "    <tr>\n",
              "      <th>Current Liabilities/Liability</th>\n",
              "      <td>0.0</td>\n",
              "    </tr>\n",
              "    <tr>\n",
              "      <th>Working Capital/Equity</th>\n",
              "      <td>0.0</td>\n",
              "    </tr>\n",
              "    <tr>\n",
              "      <th>Current Liabilities/Equity</th>\n",
              "      <td>0.0</td>\n",
              "    </tr>\n",
              "    <tr>\n",
              "      <th>Long-term Liability to Current Assets</th>\n",
              "      <td>0.0</td>\n",
              "    </tr>\n",
              "    <tr>\n",
              "      <th>Retained Earnings to Total Assets</th>\n",
              "      <td>0.0</td>\n",
              "    </tr>\n",
              "    <tr>\n",
              "      <th>Total income/Total expense</th>\n",
              "      <td>0.0</td>\n",
              "    </tr>\n",
              "    <tr>\n",
              "      <th>Total expense/Assets</th>\n",
              "      <td>0.0</td>\n",
              "    </tr>\n",
              "    <tr>\n",
              "      <th>Current Asset Turnover Rate</th>\n",
              "      <td>0.0</td>\n",
              "    </tr>\n",
              "    <tr>\n",
              "      <th>Quick Asset Turnover Rate</th>\n",
              "      <td>0.0</td>\n",
              "    </tr>\n",
              "    <tr>\n",
              "      <th>Working capitcal Turnover Rate</th>\n",
              "      <td>0.0</td>\n",
              "    </tr>\n",
              "    <tr>\n",
              "      <th>Cash Turnover Rate</th>\n",
              "      <td>0.0</td>\n",
              "    </tr>\n",
              "    <tr>\n",
              "      <th>Cash Flow to Sales</th>\n",
              "      <td>0.0</td>\n",
              "    </tr>\n",
              "    <tr>\n",
              "      <th>Fixed Assets to Assets</th>\n",
              "      <td>0.0</td>\n",
              "    </tr>\n",
              "    <tr>\n",
              "      <th>Current Liability to Liability</th>\n",
              "      <td>0.0</td>\n",
              "    </tr>\n",
              "    <tr>\n",
              "      <th>Current Liability to Equity</th>\n",
              "      <td>0.0</td>\n",
              "    </tr>\n",
              "    <tr>\n",
              "      <th>Equity to Long-term Liability</th>\n",
              "      <td>0.0</td>\n",
              "    </tr>\n",
              "    <tr>\n",
              "      <th>Cash Flow to Total Assets</th>\n",
              "      <td>0.0</td>\n",
              "    </tr>\n",
              "    <tr>\n",
              "      <th>Cash Flow to Liability</th>\n",
              "      <td>0.0</td>\n",
              "    </tr>\n",
              "    <tr>\n",
              "      <th>CFO to Assets</th>\n",
              "      <td>0.0</td>\n",
              "    </tr>\n",
              "    <tr>\n",
              "      <th>Cash Flow to Equity</th>\n",
              "      <td>0.0</td>\n",
              "    </tr>\n",
              "    <tr>\n",
              "      <th>Current Liability to Current Assets</th>\n",
              "      <td>0.0</td>\n",
              "    </tr>\n",
              "    <tr>\n",
              "      <th>Liability-Assets Flag</th>\n",
              "      <td>0.0</td>\n",
              "    </tr>\n",
              "    <tr>\n",
              "      <th>Net Income to Total Assets</th>\n",
              "      <td>0.0</td>\n",
              "    </tr>\n",
              "    <tr>\n",
              "      <th>Total assets to GNP price</th>\n",
              "      <td>0.0</td>\n",
              "    </tr>\n",
              "    <tr>\n",
              "      <th>No-credit Interval</th>\n",
              "      <td>0.0</td>\n",
              "    </tr>\n",
              "    <tr>\n",
              "      <th>Gross Profit to Sales</th>\n",
              "      <td>0.0</td>\n",
              "    </tr>\n",
              "    <tr>\n",
              "      <th>Net Income to Stockholder's Equity</th>\n",
              "      <td>0.0</td>\n",
              "    </tr>\n",
              "    <tr>\n",
              "      <th>Liability to Equity</th>\n",
              "      <td>0.0</td>\n",
              "    </tr>\n",
              "    <tr>\n",
              "      <th>Degree of Financial Leverage (DFL)</th>\n",
              "      <td>0.0</td>\n",
              "    </tr>\n",
              "    <tr>\n",
              "      <th>Interest Coverage Ratio (Interest expense to EBIT)</th>\n",
              "      <td>0.0</td>\n",
              "    </tr>\n",
              "    <tr>\n",
              "      <th>Net Income Flag</th>\n",
              "      <td>0.0</td>\n",
              "    </tr>\n",
              "    <tr>\n",
              "      <th>Equity to Liability</th>\n",
              "      <td>0.0</td>\n",
              "    </tr>\n",
              "  </tbody>\n",
              "</table>\n",
              "</div>"
            ],
            "text/plain": [
              "                                                      0\n",
              "Bankrupt?                                           0.0\n",
              " ROA(C) before interest and depreciation before...  0.0\n",
              " ROA(A) before interest and % after tax             0.0\n",
              " ROA(B) before interest and depreciation after tax  0.0\n",
              " Operating Gross Margin                             0.0\n",
              " Realized Sales Gross Margin                        0.0\n",
              " Operating Profit Rate                              0.0\n",
              " Pre-tax net Interest Rate                          0.0\n",
              " After-tax net Interest Rate                        0.0\n",
              " Non-industry income and expenditure/revenue        0.0\n",
              " Continuous interest rate (after tax)               0.0\n",
              " Operating Expense Rate                             0.0\n",
              " Research and development expense rate              0.0\n",
              " Cash flow rate                                     0.0\n",
              " Interest-bearing debt interest rate                0.0\n",
              " Tax rate (A)                                       0.0\n",
              " Net Value Per Share (B)                            0.0\n",
              " Net Value Per Share (A)                            0.0\n",
              " Net Value Per Share (C)                            0.0\n",
              " Persistent EPS in the Last Four Seasons            0.0\n",
              " Cash Flow Per Share                                0.0\n",
              " Revenue Per Share (Yuan ¥)                         0.0\n",
              " Operating Profit Per Share (Yuan ¥)                0.0\n",
              " Per Share Net profit before tax (Yuan ¥)           0.0\n",
              " Realized Sales Gross Profit Growth Rate            0.0\n",
              " Operating Profit Growth Rate                       0.0\n",
              " After-tax Net Profit Growth Rate                   0.0\n",
              " Regular Net Profit Growth Rate                     0.0\n",
              " Continuous Net Profit Growth Rate                  0.0\n",
              " Total Asset Growth Rate                            0.0\n",
              " Net Value Growth Rate                              0.0\n",
              " Total Asset Return Growth Rate Ratio               0.0\n",
              " Cash Reinvestment %                                0.0\n",
              " Current Ratio                                      0.0\n",
              " Quick Ratio                                        0.0\n",
              " Interest Expense Ratio                             0.0\n",
              " Total debt/Total net worth                         0.0\n",
              " Debt ratio %                                       0.0\n",
              " Net worth/Assets                                   0.0\n",
              " Long-term fund suitability ratio (A)               0.0\n",
              " Borrowing dependency                               0.0\n",
              " Contingent liabilities/Net worth                   0.0\n",
              " Operating profit/Paid-in capital                   0.0\n",
              " Net profit before tax/Paid-in capital              0.0\n",
              " Inventory and accounts receivable/Net value        0.0\n",
              " Total Asset Turnover                               0.0\n",
              " Accounts Receivable Turnover                       0.0\n",
              " Average Collection Days                            0.0\n",
              " Inventory Turnover Rate (times)                    0.0\n",
              " Fixed Assets Turnover Frequency                    0.0\n",
              " Net Worth Turnover Rate (times)                    0.0\n",
              " Revenue per person                                 0.0\n",
              " Operating profit per person                        0.0\n",
              " Allocation rate per person                         0.0\n",
              " Working Capital to Total Assets                    0.0\n",
              " Quick Assets/Total Assets                          0.0\n",
              " Current Assets/Total Assets                        0.0\n",
              " Cash/Total Assets                                  0.0\n",
              " Quick Assets/Current Liability                     0.0\n",
              " Cash/Current Liability                             0.0\n",
              " Current Liability to Assets                        0.0\n",
              " Operating Funds to Liability                       0.0\n",
              " Inventory/Working Capital                          0.0\n",
              " Inventory/Current Liability                        0.0\n",
              " Current Liabilities/Liability                      0.0\n",
              " Working Capital/Equity                             0.0\n",
              " Current Liabilities/Equity                         0.0\n",
              " Long-term Liability to Current Assets              0.0\n",
              " Retained Earnings to Total Assets                  0.0\n",
              " Total income/Total expense                         0.0\n",
              " Total expense/Assets                               0.0\n",
              " Current Asset Turnover Rate                        0.0\n",
              " Quick Asset Turnover Rate                          0.0\n",
              " Working capitcal Turnover Rate                     0.0\n",
              " Cash Turnover Rate                                 0.0\n",
              " Cash Flow to Sales                                 0.0\n",
              " Fixed Assets to Assets                             0.0\n",
              " Current Liability to Liability                     0.0\n",
              " Current Liability to Equity                        0.0\n",
              " Equity to Long-term Liability                      0.0\n",
              " Cash Flow to Total Assets                          0.0\n",
              " Cash Flow to Liability                             0.0\n",
              " CFO to Assets                                      0.0\n",
              " Cash Flow to Equity                                0.0\n",
              " Current Liability to Current Assets                0.0\n",
              " Liability-Assets Flag                              0.0\n",
              " Net Income to Total Assets                         0.0\n",
              " Total assets to GNP price                          0.0\n",
              " No-credit Interval                                 0.0\n",
              " Gross Profit to Sales                              0.0\n",
              " Net Income to Stockholder's Equity                 0.0\n",
              " Liability to Equity                                0.0\n",
              " Degree of Financial Leverage (DFL)                 0.0\n",
              " Interest Coverage Ratio (Interest expense to E...  0.0\n",
              " Net Income Flag                                    0.0\n",
              " Equity to Liability                                0.0"
            ]
          },
          "metadata": {
            "tags": []
          },
          "execution_count": 182
        }
      ]
    },
    {
      "cell_type": "code",
      "metadata": {
        "id": "07Qkmci7bHyN"
      },
      "source": [
        "# Reset option to display all rows.\n",
        "pd.reset_option('max_rows')"
      ],
      "execution_count": null,
      "outputs": []
    },
    {
      "cell_type": "markdown",
      "metadata": {
        "id": "qI3JT2wRBFMp"
      },
      "source": [
        "There are no missing values in this dataset, making it a little easier to work with. As shown above in our exploratory data analysis, we do have features of interest with a large presence of 0s recorded such as 'Tax Rate (A)' meaning these missing values have already been filled with 0 and require no further processing."
      ]
    },
    {
      "cell_type": "markdown",
      "metadata": {
        "id": "hxoeXC-F0_oA"
      },
      "source": [
        "## Outlier Detection"
      ]
    },
    {
      "cell_type": "markdown",
      "metadata": {
        "id": "g1ksu3uSCcN2"
      },
      "source": [
        "An outlier is a data point that lies outside the overall pattern in a distribution. The presence of outliers can severely effect the performance of our machine learning models, so it is best to process them before feeding the data into your algorithm.\n",
        "\n",
        "We will first examine normalized features for outliers by examining them visually with a generated boxplot, and then verifying their presence statistically. Normalized features consist of normalized data, meaning it has been rescaled to a range of 0 and 1. Data normalization is used in machine learning to make model training less sensitive to the scale of features. "
      ]
    },
    {
      "cell_type": "code",
      "metadata": {
        "colab": {
          "base_uri": "https://localhost:8080/"
        },
        "id": "-77n-AQQn3TN",
        "outputId": "70ad1e7c-aae2-48b5-db14-7ce898469cfc"
      },
      "source": [
        "# Creating a simple boxplot to detect the presence of outliers for non-normalized data features, such as Operating Expense Rate below. \n",
        "plt.boxplot(df[\" Operating Expense Rate\"])\n",
        "plt.title(\"Operating Expense Rate (whis=1.5)\")\n",
        "plt.show()"
      ],
      "execution_count": null,
      "outputs": [
        {
          "output_type": "display_data",
          "data": {
            "image/png": "[encoded data removed]",
            "text/plain": [
              "<Figure size 432x288 with 1 Axes>"
            ]
          },
          "metadata": {
            "tags": [],
            "needs_background": "light"
          }
        }
      ]
    },
    {
      "cell_type": "markdown",
      "metadata": {
        "id": "LuEmWyiHhSHT"
      },
      "source": [
        "The Operating Expense Rate feature is not showing any outliers outside of the interquartile range displayed on the boxplot. We would see points outside of the whiskers displayed as outliers if that were the case, meaning this feature requires no further processing and does not display any outliers. Let's look at the other variables that are displaying non-normalized data and see if they contain any outliers. "
      ]
    },
    {
      "cell_type": "code",
      "metadata": {
        "colab": {
          "base_uri": "https://localhost:8080/"
        },
        "id": "TuEv3X4sfIGG",
        "outputId": "ebcfb832-ef78-4539-8be7-e8f1f48a96a9"
      },
      "source": [
        "# Creating a simple boxplot to detect the presence of outliers for non-normalized data features. \n",
        "plt.boxplot(df[\" Research and development expense rate\"])\n",
        "plt.title(\"Research and Development Expense Rate (whis=1.5)\")\n",
        "plt.show()"
      ],
      "execution_count": null,
      "outputs": [
        {
          "output_type": "display_data",
          "data": {
            "image/png": "[encoded data removed]",
            "text/plain": [
              "<Figure size 432x288 with 1 Axes>"
            ]
          },
          "metadata": {
            "tags": [],
            "needs_background": "light"
          }
        }
      ]
    },
    {
      "cell_type": "markdown",
      "metadata": {
        "id": "AbgnQDPNrEd4"
      },
      "source": [
        "We can see the presence of some outliers displayed here in the top whisker of the boxplot for the 'research and development expense rate' feature. This indicates that there are values outside of the upper interquartile range. Let's verify this statistically next. "
      ]
    },
    {
      "cell_type": "code",
      "metadata": {
        "colab": {
          "base_uri": "https://localhost:8080/"
        },
        "id": "1ORlNQeaq5ta",
        "outputId": "0c97704b-e663-4b17-e3f3-d9b6779d64b1"
      },
      "source": [
        "# Calculating the IQR using NumPy's percentile function, which returns the q-th percentile(s) of the array elements.\n",
        "q75, q25 = np.percentile(df[\" Research and development expense rate\"], [75 ,25])\n",
        "iqr = q75 - q25\n",
        "\n",
        "# Creating a range of threshold values to test using NumPy in intervals of 0.5.\n",
        "for threshold in np.arange(1,5,0.5):\n",
        "# Creating minimum outlier threshold value.\n",
        "    min_val = q25 - (iqr*threshold)\n",
        "# Creating maximum outlier threshold value.\n",
        "    max_val = q75 + (iqr*threshold)\n",
        "# Printing score threshold and resulting number of outliers detected.\n",
        "    print(\"The score threshold is: {}\".format(threshold))\n",
        "    print(\"Number of outliers is: {}\".format(\n",
        "        len((np.where((df[\" Research and development expense rate\"] > max_val) \n",
        "                      | (df[\" Research and development expense rate\"] < min_val))[0]))\n",
        "    ))"
      ],
      "execution_count": null,
      "outputs": [
        {
          "output_type": "stream",
          "text": [
            "The score threshold is: 1.0\n",
            "Number of outliers is: 494\n",
            "The score threshold is: 1.5\n",
            "Number of outliers is: 182\n",
            "The score threshold is: 2.0\n",
            "Number of outliers is: 0\n",
            "The score threshold is: 2.5\n",
            "Number of outliers is: 0\n",
            "The score threshold is: 3.0\n",
            "Number of outliers is: 0\n",
            "The score threshold is: 3.5\n",
            "Number of outliers is: 0\n",
            "The score threshold is: 4.0\n",
            "Number of outliers is: 0\n",
            "The score threshold is: 4.5\n",
            "Number of outliers is: 0\n"
          ],
          "name": "stdout"
        }
      ]
    },
    {
      "cell_type": "markdown",
      "metadata": {
        "id": "brnryS5ksXDq"
      },
      "source": [
        "With a score threshold of 1.5 using the standard 1.5x(Interquartile Range) method for identifying outliers, we have 182 data entries that are recorded as outliers. Let's remove these to assist in the performance of our machine learning model by using SciPy's winsorize function. This limits the outliers to a defined threshold instead of completely removing them, allowing for the preservation of some data. This is a much better practice than removing outliers entirely. "
      ]
    },
    {
      "cell_type": "code",
      "metadata": {
        "id": "JiWnmbAcsu6r"
      },
      "source": [
        "# Importing SciPy's winsorize function to transform problematic outliers.\n",
        "from scipy.stats.mstats import winsorize\n",
        "\n",
        "df[\" Research and development expense rate\"] = winsorize(df[\" Research and development expense rate\"], (0, 0.10))"
      ],
      "execution_count": null,
      "outputs": []
    },
    {
      "cell_type": "markdown",
      "metadata": {
        "id": "zz6lKiykU8z8"
      },
      "source": [
        "Now that we have effectively limited problematic outliers using SciPy's winsorize function, we will once again create a boxplot to confirm outlier removal. "
      ]
    },
    {
      "cell_type": "code",
      "metadata": {
        "colab": {
          "base_uri": "https://localhost:8080/"
        },
        "id": "BAVHfj8TUs0w",
        "outputId": "2d819d80-57c2-4cad-dd7e-9a0ccf726069"
      },
      "source": [
        "# Creating another boxplot of Research and Development Expense Rate to confirm outlier removal.\n",
        "plt.boxplot(df[\" Research and development expense rate\"])\n",
        "plt.title(\"Research and Development Expense Rate (whis=1.5)\")\n",
        "plt.show()"
      ],
      "execution_count": null,
      "outputs": [
        {
          "output_type": "display_data",
          "data": {
            "image/png": "[encoded data removed]",
            "text/plain": [
              "<Figure size 432x288 with 1 Axes>"
            ]
          },
          "metadata": {
            "tags": [],
            "needs_background": "light"
          }
        }
      ]
    },
    {
      "cell_type": "markdown",
      "metadata": {
        "id": "FR0c6BCvVT7t"
      },
      "source": [
        "As we can see in our second boxplot the outliers have been effectively transformed into less extreme values that allow for the retaining of some information from them. This is better for data preservation than just removing outlier entries entirely, ultimately increasing the performance of our machine learning algorithm."
      ]
    },
    {
      "cell_type": "markdown",
      "metadata": {
        "id": "B0mMGRgBYD7j"
      },
      "source": [
        "Next, we will continue the same steps for all non-normalized data features by creating a simple boxplot to detect outliers via the Interquartile Range (IQR) and then removing them using SciPy's winsorize function where detected."
      ]
    },
    {
      "cell_type": "code",
      "metadata": {
        "colab": {
          "base_uri": "https://localhost:8080/"
        },
        "id": "8dTJGxGhViYV",
        "outputId": "6552fdcb-82b3-4cda-b4b7-08429c7354e1"
      },
      "source": [
        "# Creating a simple boxplot to detect the presence of outliers for non-normalized data features. \n",
        "plt.boxplot(df[\" Total Asset Growth Rate\"])\n",
        "plt.title(\" Total Asset Growth Rate (whis=1.5)\")\n",
        "plt.show()"
      ],
      "execution_count": null,
      "outputs": [
        {
          "output_type": "display_data",
          "data": {
            "image/png": "[encoded data removed]",
            "text/plain": [
              "<Figure size 432x288 with 1 Axes>"
            ]
          },
          "metadata": {
            "tags": [],
            "needs_background": "light"
          }
        }
      ]
    },
    {
      "cell_type": "markdown",
      "metadata": {
        "id": "-22zwhk5YQ-X"
      },
      "source": [
        "We have detected some outliers in the lower whisker of the boxplot, we'll winsorize all the features in need of outlier transformation that are displaying point outside of the whiskers of the boxplot."
      ]
    },
    {
      "cell_type": "code",
      "metadata": {
        "id": "mxCr4g2ZYvqI"
      },
      "source": [
        "# Using SciPy's winsorize function to transform problematic outliers, we have adjusted the range of the winsorize function to completely elimate outliers on the lower end of the whisker.\n",
        "df[\" Total Asset Growth Rate\"] = winsorize(df[\" Total Asset Growth Rate\"], (0.10, 0.30))"
      ],
      "execution_count": null,
      "outputs": []
    },
    {
      "cell_type": "code",
      "metadata": {
        "colab": {
          "base_uri": "https://localhost:8080/"
        },
        "id": "pU_HK_wEY25j",
        "outputId": "9bdb2656-2615-45fc-9428-cd249c1f5a3e"
      },
      "source": [
        "# Creating a simple boxplot to detect the presence of outliers for non-normalized data features. \n",
        "plt.boxplot(df[\" Total Asset Growth Rate\"])\n",
        "plt.title(\" Total Asset Growth Rate (whis=1.5)\")\n",
        "plt.show()"
      ],
      "execution_count": null,
      "outputs": [
        {
          "output_type": "display_data",
          "data": {
            "image/png": "[encoded data removed]",
            "text/plain": [
              "<Figure size 432x288 with 1 Axes>"
            ]
          },
          "metadata": {
            "tags": [],
            "needs_background": "light"
          }
        }
      ]
    },
    {
      "cell_type": "markdown",
      "metadata": {
        "id": "iw6g24u4aJ9v"
      },
      "source": [
        "Great, we have effectively limited the outliers via transformation using SciPy's winsorize function once again."
      ]
    },
    {
      "cell_type": "code",
      "metadata": {
        "colab": {
          "base_uri": "https://localhost:8080/"
        },
        "id": "QgpozFLsWHUR",
        "outputId": "3639e089-2cb7-4f6e-a6c1-f781803dd786"
      },
      "source": [
        "# Creating a simple boxplot to detect the presence of outliers for non-normalized data features. \n",
        "plt.boxplot(df[\" Inventory Turnover Rate (times)\"])\n",
        "plt.title(\" Inventory Turnover Rate (times) (whis=1.5)\")\n",
        "plt.show()"
      ],
      "execution_count": null,
      "outputs": [
        {
          "output_type": "display_data",
          "data": {
            "image/png": "[encoded data removed]",
            "text/plain": [
              "<Figure size 432x288 with 1 Axes>"
            ]
          },
          "metadata": {
            "tags": [],
            "needs_background": "light"
          }
        }
      ]
    },
    {
      "cell_type": "markdown",
      "metadata": {
        "id": "aWpsy1PlaSAd"
      },
      "source": [
        "The inventory turnover rate is not displaying any outliers so we can choose to leave this feature alone."
      ]
    },
    {
      "cell_type": "code",
      "metadata": {
        "colab": {
          "base_uri": "https://localhost:8080/"
        },
        "id": "pugBtUGjW696",
        "outputId": "3a56d074-2ab3-431b-fce2-7f28393dce5e"
      },
      "source": [
        "# Creating a simple boxplot to detect the presence of outliers for non-normalized data features. \n",
        "plt.boxplot(df[\" Fixed Assets Turnover Frequency\"])\n",
        "plt.title(\" Fixed Assets Turnover Frequency (whis=1.5)\")\n",
        "plt.show()"
      ],
      "execution_count": null,
      "outputs": [
        {
          "output_type": "display_data",
          "data": {
            "image/png": "[encoded data removed]",
            "text/plain": [
              "<Figure size 432x288 with 1 Axes>"
            ]
          },
          "metadata": {
            "tags": [],
            "needs_background": "light"
          }
        }
      ]
    },
    {
      "cell_type": "code",
      "metadata": {
        "id": "FmMHgMXVZlMM"
      },
      "source": [
        "# Using SciPy's winsorize function to transform problematic outliers, we have adjusted the range of the winsorize function to completely elimate outliers on the lower end of the whisker.\n",
        "df[\" Fixed Assets Turnover Frequency\"] = winsorize(df[\" Fixed Assets Turnover Frequency\"], (0.10, 0.30))"
      ],
      "execution_count": null,
      "outputs": []
    },
    {
      "cell_type": "code",
      "metadata": {
        "colab": {
          "base_uri": "https://localhost:8080/"
        },
        "id": "lic46_PTZqXi",
        "outputId": "ef16f164-0ae9-4b0c-9686-4716da3a511a"
      },
      "source": [
        "# Confirming removal of outliers for non-normalized data features. \n",
        "plt.boxplot(df[\" Fixed Assets Turnover Frequency\"])\n",
        "plt.title(\" Fixed Assets Turnover Frequency (whis=1.5)\")\n",
        "plt.show()"
      ],
      "execution_count": null,
      "outputs": [
        {
          "output_type": "display_data",
          "data": {
            "image/png": "[encoded data removed]",
            "text/plain": [
              "<Figure size 432x288 with 1 Axes>"
            ]
          },
          "metadata": {
            "tags": [],
            "needs_background": "light"
          }
        }
      ]
    },
    {
      "cell_type": "markdown",
      "metadata": {
        "id": "Q-usMDwzaYqB"
      },
      "source": [
        "Once again, we have eliminated problematic outliers from the fixed assets turnover frequency feature."
      ]
    },
    {
      "cell_type": "code",
      "metadata": {
        "colab": {
          "base_uri": "https://localhost:8080/"
        },
        "id": "pMKaxrSGXOGU",
        "outputId": "a2d918e7-c116-424c-a99e-d6afaa1217f3"
      },
      "source": [
        "# Creating a simple boxplot to detect the presence of outliers for non-normalized data features. \n",
        "plt.boxplot(df[\" Cash/Current Liability\"])\n",
        "plt.title(\" Cash/Current Liability (whis=1.5)\")\n",
        "plt.show()"
      ],
      "execution_count": null,
      "outputs": [
        {
          "output_type": "display_data",
          "data": {
            "image/png": "[encoded data removed]",
            "text/plain": [
              "<Figure size 432x288 with 1 Axes>"
            ]
          },
          "metadata": {
            "tags": [],
            "needs_background": "light"
          }
        }
      ]
    },
    {
      "cell_type": "code",
      "metadata": {
        "id": "WfZYuFgFaikD"
      },
      "source": [
        "# Using SciPy's winsorize function to transform problematic outliers, we have adjusted the range of the winsorize function to completely elimate outliers on the upper end of the whisker.\n",
        "df[\" Cash/Current Liability\"] = winsorize(df[\" Cash/Current Liability\"], (0.10, 0.20))"
      ],
      "execution_count": null,
      "outputs": []
    },
    {
      "cell_type": "code",
      "metadata": {
        "colab": {
          "base_uri": "https://localhost:8080/"
        },
        "id": "7Ayo2jdeatlt",
        "outputId": "f3bfcdea-ff75-47c3-f964-533362234cf7"
      },
      "source": [
        "# Creating a simple boxplot to confirm the transformation of outliers for non-normalized data features. \n",
        "plt.boxplot(df[\" Cash/Current Liability\"])\n",
        "plt.title(\" Cash/Current Liability (whis=1.5)\")\n",
        "plt.show()"
      ],
      "execution_count": null,
      "outputs": [
        {
          "output_type": "display_data",
          "data": {
            "image/png": "[encoded data removed]",
            "text/plain": [
              "<Figure size 432x288 with 1 Axes>"
            ]
          },
          "metadata": {
            "tags": [],
            "needs_background": "light"
          }
        }
      ]
    },
    {
      "cell_type": "code",
      "metadata": {
        "colab": {
          "base_uri": "https://localhost:8080/"
        },
        "id": "jAYo5u4IXjZP",
        "outputId": "07a2fd40-3a32-4489-8458-1508aac35365"
      },
      "source": [
        "# Creating a simple boxplot to detect the presence of outliers for non-normalized data features. \n",
        "plt.boxplot(df[\" Current Asset Turnover Rate\"])\n",
        "plt.title(\" Current Asset Turnover Rate (whis=1.5)\")\n",
        "plt.show()"
      ],
      "execution_count": null,
      "outputs": [
        {
          "output_type": "display_data",
          "data": {
            "image/png": "[encoded data removed]",
            "text/plain": [
              "<Figure size 432x288 with 1 Axes>"
            ]
          },
          "metadata": {
            "tags": [],
            "needs_background": "light"
          }
        }
      ]
    },
    {
      "cell_type": "code",
      "metadata": {
        "id": "ORd5Nn1Qa-lc"
      },
      "source": [
        "# Using SciPy's winsorize function to transform problematic outliers, we have adjusted the range of the winsorize function to completely elimate outliers on the upper end of the whisker.\n",
        "df[\" Current Asset Turnover Rate\"] = winsorize(df[\" Current Asset Turnover Rate\"], (0.10, 0.30))"
      ],
      "execution_count": null,
      "outputs": []
    },
    {
      "cell_type": "code",
      "metadata": {
        "colab": {
          "base_uri": "https://localhost:8080/"
        },
        "id": "ImC2zNQLbElK",
        "outputId": "06a00e48-0cec-4c74-a1c2-59dcfcdb678a"
      },
      "source": [
        "# Creating a simple boxplot to detect the presence of outliers for non-normalized data features. \n",
        "plt.boxplot(df[\" Current Asset Turnover Rate\"])\n",
        "plt.title(\" Current Asset Turnover Rate (whis=1.5)\")\n",
        "plt.show()"
      ],
      "execution_count": null,
      "outputs": [
        {
          "output_type": "display_data",
          "data": {
            "image/png": "[encoded data removed]",
            "text/plain": [
              "<Figure size 432x288 with 1 Axes>"
            ]
          },
          "metadata": {
            "tags": [],
            "needs_background": "light"
          }
        }
      ]
    },
    {
      "cell_type": "markdown",
      "metadata": {
        "id": "YyeYYrY2bKjm"
      },
      "source": [
        "We have effectively transformed outliers for the Current Asset Turnover Rate."
      ]
    },
    {
      "cell_type": "code",
      "metadata": {
        "colab": {
          "base_uri": "https://localhost:8080/"
        },
        "id": "gV_6rYSBXo_1",
        "outputId": "9d1d783d-b694-41e4-9ab0-01e66805cd02"
      },
      "source": [
        "# Creating a simple boxplot to detect the presence of outliers for non-normalized data features. \n",
        "plt.boxplot(df[\" Quick Asset Turnover Rate\"])\n",
        "plt.title(\" Quick Asset Turnover Rate (whis=1.5)\")\n",
        "plt.show()"
      ],
      "execution_count": null,
      "outputs": [
        {
          "output_type": "display_data",
          "data": {
            "image/png": "[encoded data removed]",
            "text/plain": [
              "<Figure size 432x288 with 1 Axes>"
            ]
          },
          "metadata": {
            "tags": [],
            "needs_background": "light"
          }
        }
      ]
    },
    {
      "cell_type": "markdown",
      "metadata": {
        "id": "PuOHF694bPNy"
      },
      "source": [
        "No outliers detected."
      ]
    },
    {
      "cell_type": "code",
      "metadata": {
        "colab": {
          "base_uri": "https://localhost:8080/"
        },
        "id": "kahMX_7ZXyQa",
        "outputId": "46b43eab-b74e-4bb5-94ef-d32bd15279b2"
      },
      "source": [
        "# Creating a simple boxplot to detect the presence of outliers for non-normalized data features. \n",
        "plt.boxplot(df[\" Cash Turnover Rate\"])\n",
        "plt.title(\" Cash Turnover Rate (whis=1.5)\")\n",
        "plt.show()"
      ],
      "execution_count": null,
      "outputs": [
        {
          "output_type": "display_data",
          "data": {
            "image/png": "[encoded data removed]",
            "text/plain": [
              "<Figure size 432x288 with 1 Axes>"
            ]
          },
          "metadata": {
            "tags": [],
            "needs_background": "light"
          }
        }
      ]
    },
    {
      "cell_type": "markdown",
      "metadata": {
        "id": "GMW3yW6pbSML"
      },
      "source": [
        "No outliers detected."
      ]
    },
    {
      "cell_type": "markdown",
      "metadata": {
        "id": "1cM89kkphANw"
      },
      "source": [
        "Great, we have effectively processed outliers using NumPys winsorize function. Next, we will take a closer look at our target variable."
      ]
    },
    {
      "cell_type": "markdown",
      "metadata": {
        "id": "Gl4bRwPMdp-9"
      },
      "source": [
        "## Target Variable Class Balance"
      ]
    },
    {
      "cell_type": "markdown",
      "metadata": {
        "id": "6SkAVGAriKDw"
      },
      "source": [
        "Imbalanced classification sets create a challenge for predictive modeling as most of the machine learning algorithms used for classification were designed around the assumption of an equal number of examples for each class. \n",
        "\n",
        "This results in models that have poor predictive performance, specifically for the minority class. This is bad because the minority class is usually more important and what we are trying to predict, causing the algorithm to be more sensitive to classification errors for the minority class than the majority class."
      ]
    },
    {
      "cell_type": "code",
      "metadata": {
        "colab": {
          "base_uri": "https://localhost:8080/"
        },
        "id": "GM6i8gmqdR-s",
        "outputId": "1606eb0e-e937-4e37-ed9a-f9029b22fb08"
      },
      "source": [
        "# Creating a simple countplot with Seaborn to visualize the target variable of presence of bankruptcy.\n",
        "sns.countplot(x ='Bankrupt?', data = df)"
      ],
      "execution_count": null,
      "outputs": [
        {
          "output_type": "execute_result",
          "data": {
            "text/plain": [
              "<matplotlib.axes._subplots.AxesSubplot at 0x7fd29da4b450>"
            ]
          },
          "metadata": {
            "tags": []
          },
          "execution_count": 204
        },
        {
          "output_type": "display_data",
          "data": {
            "image/png": "[encoded data removed]",
            "text/plain": [
              "<Figure size 432x288 with 1 Axes>"
            ]
          },
          "metadata": {
            "tags": [],
            "needs_background": "light"
          }
        }
      ]
    },
    {
      "cell_type": "markdown",
      "metadata": {
        "id": "OKs-yAN40dTg"
      },
      "source": [
        "We can see that there is a heavy class imbalance as expected with this data. This is due to the amount of bankruptcy cases obviously being lower when compared to the overall population. \n",
        "\n",
        "Since in this case we are trying to predict the minority class, we will address this by class balancing using a synthetic minority approach, also known as synthetic minority oversampling technique (SMOTE).\n",
        "\n"
      ]
    },
    {
      "cell_type": "code",
      "metadata": {
        "colab": {
          "base_uri": "https://localhost:8080/"
        },
        "id": "Htfg5irMbnPU",
        "outputId": "f42c6ccd-5327-47ec-b0c4-3d5a173334d7"
      },
      "source": [
        "# y is our target variable employee churn. We drop our target from X.\n",
        "y = df['Bankrupt?']\n",
        "X = df.drop(columns=['Bankrupt?'])\n",
        "\n",
        "# Class balancing the target using SMOTE, we will use the minority sampling class strategy since we want to oversample our smaller target variable class.\n",
        "sm = SMOTE(sampling_strategy='minority', random_state=42)\n",
        "\n",
        "# Fit SMOTE to our X and y variables.\n",
        "X, y = sm.fit_resample(X, y)"
      ],
      "execution_count": null,
      "outputs": [
        {
          "output_type": "stream",
          "text": [
            "/usr/local/lib/python3.7/dist-packages/sklearn/utils/deprecation.py:87: FutureWarning: Function safe_indexing is deprecated; safe_indexing is deprecated in version 0.22 and will be removed in version 0.24.\n",
            "  warnings.warn(msg, category=FutureWarning)\n"
          ],
          "name": "stderr"
        }
      ]
    },
    {
      "cell_type": "code",
      "metadata": {
        "colab": {
          "base_uri": "https://localhost:8080/"
        },
        "id": "JhyZ4MBOcGc_",
        "outputId": "0ba03699-24cb-47eb-87aa-3c5a72b68ac1"
      },
      "source": [
        "# Creating a simple countplot with Seaborn to visualize the target variable of presence of bankruptcy after class balancing.\n",
        "sns.countplot(y)"
      ],
      "execution_count": null,
      "outputs": [
        {
          "output_type": "stream",
          "text": [
            "/usr/local/lib/python3.7/dist-packages/seaborn/_decorators.py:43: FutureWarning: Pass the following variable as a keyword arg: x. From version 0.12, the only valid positional argument will be `data`, and passing other arguments without an explicit keyword will result in an error or misinterpretation.\n",
            "  FutureWarning\n"
          ],
          "name": "stderr"
        },
        {
          "output_type": "execute_result",
          "data": {
            "text/plain": [
              "<matplotlib.axes._subplots.AxesSubplot at 0x7fd29d9be190>"
            ]
          },
          "metadata": {
            "tags": []
          },
          "execution_count": 206
        },
        {
          "output_type": "display_data",
          "data": {
            "image/png": "[encoded data removed]",
            "text/plain": [
              "<Figure size 432x288 with 1 Axes>"
            ]
          },
          "metadata": {
            "tags": [],
            "needs_background": "light"
          }
        }
      ]
    },
    {
      "cell_type": "markdown",
      "metadata": {
        "id": "ietUagtIcSuN"
      },
      "source": [
        "Great, we can see in the subsequent visualization of the target variable of bankruptcy that SMOTE has effectively eliminated our class balancing issue using synthetically created data from our minority class. Our data is now cleaned, prepared, and ready to be split into training and test sets to be used in our machine learning models."
      ]
    },
    {
      "cell_type": "markdown",
      "metadata": {
        "id": "LCE6kKRrb74t"
      },
      "source": [
        "## Train-Test-Split"
      ]
    },
    {
      "cell_type": "code",
      "metadata": {
        "id": "69ndBTBXb5-D"
      },
      "source": [
        "# Splitting dataset into a training set and test set using a test size of 20%.\n",
        "X_train, X_test, y_train, y_test = train_test_split(X, y, test_size=0.20, random_state=42)"
      ],
      "execution_count": null,
      "outputs": []
    },
    {
      "cell_type": "markdown",
      "metadata": {
        "id": "Z_dbZEI_wr-m"
      },
      "source": [
        "Now that we have split our dataset into training and test sets, we are ready to develop machine learning models that will use these newly created sets to score the performance of our machine learning models. We will compare many different models and see which runs the best in regards to runtime and classification report scoring."
      ]
    },
    {
      "cell_type": "markdown",
      "metadata": {
        "id": "DeetkcO0clmD"
      },
      "source": [
        "# Machine Learning Model Development"
      ]
    },
    {
      "cell_type": "markdown",
      "metadata": {
        "id": "vOvqIbGtld87"
      },
      "source": [
        "## Machine Learning Models without Feature Selection"
      ]
    },
    {
      "cell_type": "markdown",
      "metadata": {
        "id": "g5PskkIbazzD"
      },
      "source": [
        "### Logistic Regression Classifier"
      ]
    },
    {
      "cell_type": "markdown",
      "metadata": {
        "id": "YQB-WKdTbAnm"
      },
      "source": [
        "Logistic Regression has a long history of use in the financial industry and is one of the classical machine learning models. The use of logistic regression for bankruptcy prediction can be traced back to almost 50 years ago when use began in the 1970's. It is still useful in some cases, but has seen less use in recent years as machine learning models grow in complexity and performance capabilities such as the advent of decision trees, neural networks, and SVM in the 1990's. Logistic Regression Classification is also known as a linear classifier."
      ]
    },
    {
      "cell_type": "code",
      "metadata": {
        "colab": {
          "base_uri": "https://localhost:8080/"
        },
        "id": "zVJ5mi3Ma6B3",
        "outputId": "607f9e3e-87d2-4c10-d186-656f28c724c5"
      },
      "source": [
        "# Timing our model.\n",
        "start_time = time.time()\n",
        "\n",
        "# Adjust our max iteration value, 100 is too low and gives errors.\n",
        "clf = LogisticRegression(max_iter=1000).fit(X_train, y_train)\n",
        "\n",
        "print(\"--- %s seconds ---\" % round(time.time() - start_time, 3))"
      ],
      "execution_count": null,
      "outputs": [
        {
          "output_type": "stream",
          "text": [
            "--- 1.153 seconds ---\n"
          ],
          "name": "stdout"
        }
      ]
    },
    {
      "cell_type": "code",
      "metadata": {
        "colab": {
          "base_uri": "https://localhost:8080/"
        },
        "id": "VRXosX4llsgK",
        "outputId": "c2b76dfc-9e54-4a3e-970d-ba489a32407e"
      },
      "source": [
        "# Cross validation score for Logistic Regression Classifier.\n",
        "cross_val_score(clf, X_train, y_train, cv=10)"
      ],
      "execution_count": null,
      "outputs": [
        {
          "output_type": "execute_result",
          "data": {
            "text/plain": [
              "array([0.55492424, 0.5217803 , 0.53977273, 0.55871212, 0.55681818,\n",
              "       0.53693182, 0.54640152, 0.55397727, 0.55165877, 0.56492891])"
            ]
          },
          "metadata": {
            "tags": []
          },
          "execution_count": 44
        }
      ]
    },
    {
      "cell_type": "code",
      "metadata": {
        "colab": {
          "base_uri": "https://localhost:8080/"
        },
        "id": "pVAARBEsmWL9",
        "outputId": "5dd03449-7303-40fd-bc51-957554b84ef9"
      },
      "source": [
        "# Building classification report for our logistic regression classifier.\n",
        "y_pred = clf.predict(X_test)\n",
        "accuracy = accuracy_score(y_test,y_pred)\n",
        "report = classification_report(y_test, y_pred)\n",
        "cm = confusion_matrix(y_test, y_pred)\n",
        "\n",
        "print(\"Accuracy: \", accuracy)\n",
        "print(\"Classification report:\")\n",
        "print(report)\n",
        "print(\"Confusion matrix:\")\n",
        "print(cm)"
      ],
      "execution_count": null,
      "outputs": [
        {
          "output_type": "stream",
          "text": [
            "Accuracy:  0.5329545454545455\n",
            "Classification report:\n",
            "              precision    recall  f1-score   support\n",
            "\n",
            "           0       0.53      0.69      0.60      1334\n",
            "           1       0.54      0.37      0.44      1306\n",
            "\n",
            "    accuracy                           0.53      2640\n",
            "   macro avg       0.53      0.53      0.52      2640\n",
            "weighted avg       0.53      0.53      0.52      2640\n",
            "\n",
            "Confusion matrix:\n",
            "[[920 414]\n",
            " [819 487]]\n"
          ],
          "name": "stdout"
        }
      ]
    },
    {
      "cell_type": "markdown",
      "metadata": {
        "id": "Nr7KIKCJCyAG"
      },
      "source": [
        "The logistic regression classification model without any feature selection is having a difficult time predicting bankruptcy in this case, with low levels of recall and accuracy notably. \n",
        "\n",
        "This is due to the noise in the data without feature selection, and as logistic regression classification is a linear classifier, it is having a hard time linearly separating the data for classification. Let's continue to see if our other models have any better results."
      ]
    },
    {
      "cell_type": "markdown",
      "metadata": {
        "id": "jZ46IokZs_Fs"
      },
      "source": [
        "### Gradient Boosting Classifier"
      ]
    },
    {
      "cell_type": "markdown",
      "metadata": {
        "id": "JWG3j7PFhe2q"
      },
      "source": [
        "Gradient boosting is an ensemble learning method. Nanni and Lumini (2009) conducted a series of experiments on financial datasets\n",
        "including Australian credit data, German credit data and Japanese credit data, and finally found that ensemble methods\n",
        "led to a better classification performance than stand-alone models in bankruptcy prediction. \n",
        "\n",
        "Boosting is a technique that first obtains a\n",
        "base classifier from the initial dataset, then adjusts the distribution of the training dataset based on the performance\n",
        "of the base classifier, and then trains the next base classifier with the adjusted sample distribution. \n",
        "\n",
        "It assigns a weight\n",
        "to each set of training, which can be used to design a set of bootstrap samples from the original data."
      ]
    },
    {
      "cell_type": "code",
      "metadata": {
        "colab": {
          "base_uri": "https://localhost:8080/"
        },
        "id": "Rw_XNCWQtJe_",
        "outputId": "b756e600-9044-4a61-c9f8-007f16919ae4"
      },
      "source": [
        "# Timing our model.\n",
        "start_time = time.time()\n",
        "\n",
        "# Creating gradient boost classifier.\n",
        "clf = GradientBoostingClassifier()\n",
        "\n",
        "# Fitting model to our data.\n",
        "clf.fit(X_train, y_train)\n",
        "\n",
        "# Print model time. \n",
        "print(\"--- %s seconds ---\" % round(time.time() - start_time, 3))"
      ],
      "execution_count": null,
      "outputs": [
        {
          "output_type": "stream",
          "text": [
            "--- 36.032 seconds ---\n"
          ],
          "name": "stdout"
        }
      ]
    },
    {
      "cell_type": "code",
      "metadata": {
        "colab": {
          "base_uri": "https://localhost:8080/"
        },
        "id": "48w5-yFztKCL",
        "outputId": "1bc80f3a-abb5-49e0-853e-dd9e8024448c"
      },
      "source": [
        "# Cross validation score for Gradient Boosting Classifier.\n",
        "cross_val_score(clf, X_train, y_train, cv=10)"
      ],
      "execution_count": null,
      "outputs": [
        {
          "output_type": "execute_result",
          "data": {
            "text/plain": [
              "array([0.9782197 , 0.9592803 , 0.97443182, 0.97064394, 0.96969697,\n",
              "       0.96685606, 0.95359848, 0.97537879, 0.96398104, 0.97440758])"
            ]
          },
          "metadata": {
            "tags": []
          },
          "execution_count": 47
        }
      ]
    },
    {
      "cell_type": "code",
      "metadata": {
        "colab": {
          "base_uri": "https://localhost:8080/"
        },
        "id": "kJ0hRz93tKer",
        "outputId": "f4258e89-bed8-48e1-b8eb-062f6598b31e"
      },
      "source": [
        "# Classification report for our Gradient Boosting classifier.\n",
        "y_pred = clf.predict(X_test)\n",
        "accuracy = accuracy_score(y_test,y_pred)\n",
        "report = classification_report(y_test, y_pred)\n",
        "cm = confusion_matrix(y_test, y_pred)\n",
        "\n",
        "print(\"Accuracy: \", accuracy)\n",
        "print(\"Classification report:\")\n",
        "print(report)\n",
        "print(\"Confusion matrix:\")\n",
        "print(cm)"
      ],
      "execution_count": null,
      "outputs": [
        {
          "output_type": "stream",
          "text": [
            "Accuracy:  0.968560606060606\n",
            "Classification report:\n",
            "              precision    recall  f1-score   support\n",
            "\n",
            "           0       0.99      0.95      0.97      1334\n",
            "           1       0.95      0.99      0.97      1306\n",
            "\n",
            "    accuracy                           0.97      2640\n",
            "   macro avg       0.97      0.97      0.97      2640\n",
            "weighted avg       0.97      0.97      0.97      2640\n",
            "\n",
            "Confusion matrix:\n",
            "[[1267   67]\n",
            " [  16 1290]]\n"
          ],
          "name": "stdout"
        }
      ]
    },
    {
      "cell_type": "markdown",
      "metadata": {
        "id": "IN5-iad0jlID"
      },
      "source": [
        "As expected based on research detailed in the literature on machine learning models and financial data, the gradient boosting classifier performed well on the financial data at hand, although with a rather long runtime of over 30 seconds. This is still a well performing model, although other machine learning models will likely demonstrate the same or similar performance metrics with a vastly shorter longtime in comparison."
      ]
    },
    {
      "cell_type": "markdown",
      "metadata": {
        "id": "cAeYcY1itTji"
      },
      "source": [
        "### KNN Classifier"
      ]
    },
    {
      "cell_type": "markdown",
      "metadata": {
        "id": "uqg8yqqmaEfB"
      },
      "source": [
        "KNN or K-Nearest Neighbors classification does not traditionally have much use in the financial industry, there are some implementations of KNN which are better suited but still do not demonstrate the performance capabilities of other models, such as fuzzy KNN which have been researched more extensively. \n",
        "\n",
        "These variations still do not improve performance scoring extensively and instead serve to improve cross-validation scoring performance and increase performance in terms of handling new incoming data better. We will demonstrate the performance of KNN classication next.\n",
        "\n",
        "KNN is highly dependent on the number of neighbors used, or the K-value. We will use GridSearchCV to find the best k-value.\n"
      ]
    },
    {
      "cell_type": "code",
      "metadata": {
        "colab": {
          "base_uri": "https://localhost:8080/"
        },
        "id": "5rlHsA2PmTps",
        "outputId": "ac870612-8647-46e1-af1d-44ec304eb4bd"
      },
      "source": [
        "# Creating KNN classifier for GridSearchCV to run.\n",
        "knn = KNeighborsClassifier()\n",
        "\n",
        "# We are looking at the n_neighbors paramater which defines the K value to see what works best with our model.\n",
        "knn_para = {'n_neighbors':[1,2,3,5,7,9,11,13,15,17,19]}\n",
        "\n",
        "# Creating GridSearchCV with KNN parameters and a cross-validation number of 5. \n",
        "clf = GridSearchCV(knn, knn_para, cv=5)\n",
        "\n",
        "# Fitting GridSearchCV to training set.\n",
        "clf.fit(X_train, y_train)"
      ],
      "execution_count": null,
      "outputs": [
        {
          "output_type": "execute_result",
          "data": {
            "text/plain": [
              "GridSearchCV(cv=5, error_score=nan,\n",
              "             estimator=KNeighborsClassifier(algorithm='auto', leaf_size=30,\n",
              "                                            metric='minkowski',\n",
              "                                            metric_params=None, n_jobs=None,\n",
              "                                            n_neighbors=5, p=2,\n",
              "                                            weights='uniform'),\n",
              "             iid='deprecated', n_jobs=None,\n",
              "             param_grid={'n_neighbors': [1, 2, 3, 5, 7, 9, 11, 13, 15, 17, 19]},\n",
              "             pre_dispatch='2*n_jobs', refit=True, return_train_score=False,\n",
              "             scoring=None, verbose=0)"
            ]
          },
          "metadata": {
            "tags": []
          },
          "execution_count": 50
        }
      ]
    },
    {
      "cell_type": "code",
      "metadata": {
        "colab": {
          "base_uri": "https://localhost:8080/"
        },
        "id": "qBjKrK_yoWqi",
        "outputId": "adfea09d-4bb4-43b7-e5ea-350e3e168d2d"
      },
      "source": [
        "# Calling GridSearchCV best_params_ function to determine the best parameters gathered.\n",
        "clf.best_params_"
      ],
      "execution_count": null,
      "outputs": [
        {
          "output_type": "execute_result",
          "data": {
            "text/plain": [
              "{'n_neighbors': 1}"
            ]
          },
          "metadata": {
            "tags": []
          },
          "execution_count": 51
        }
      ]
    },
    {
      "cell_type": "markdown",
      "metadata": {
        "id": "e1cXxB8-pnop"
      },
      "source": [
        "The best K value for our K-Nearest Neighbors classifier in this case is going to be 1. GridSearchCV determines this by finding the best mean test scoring in the number of cross-validations specified, in this case 5. "
      ]
    },
    {
      "cell_type": "code",
      "metadata": {
        "colab": {
          "base_uri": "https://localhost:8080/"
        },
        "id": "USPV_UsMtZCf",
        "outputId": "4fbc4452-b87a-4f5b-c7dd-8df753f30511"
      },
      "source": [
        "# Timing our model.\n",
        "start_time = time.time()\n",
        "\n",
        "# Create the KNN Classifier with parameters from GridSearchCV.\n",
        "knn = KNeighborsClassifier(n_neighbors=1)\n",
        "\n",
        "#Train our model.\n",
        "knn.fit(X_train, y_train)\n",
        "\n",
        "# Print model time. \n",
        "print(\"--- %s seconds ---\" % round(time.time() - start_time, 3))"
      ],
      "execution_count": null,
      "outputs": [
        {
          "output_type": "stream",
          "text": [
            "--- 0.152 seconds ---\n"
          ],
          "name": "stdout"
        }
      ]
    },
    {
      "cell_type": "code",
      "metadata": {
        "colab": {
          "base_uri": "https://localhost:8080/"
        },
        "id": "HPBS4ztQthO3",
        "outputId": "bccd8754-8426-48fe-c012-6234ab884332"
      },
      "source": [
        "# Cross validation score for KNN.\n",
        "cross_val_score(knn, X_train, y_train, cv=10)"
      ],
      "execution_count": null,
      "outputs": [
        {
          "output_type": "execute_result",
          "data": {
            "text/plain": [
              "array([0.92424242, 0.9280303 , 0.94318182, 0.93465909, 0.91666667,\n",
              "       0.92518939, 0.92424242, 0.94507576, 0.93649289, 0.93649289])"
            ]
          },
          "metadata": {
            "tags": []
          },
          "execution_count": 53
        }
      ]
    },
    {
      "cell_type": "markdown",
      "metadata": {
        "id": "MyyLOZ59rXZg"
      },
      "source": [
        "Cross-validation scoring for KNN classification is consistent and demonstrates similar performance in the classification report. Fuzzy KNN may have elimiated the range of cross-validation scoring to about 1% instead of 3%. If this initial KNN model proved to be of oustanding performance, futher research could involve developing a fuzzy KNN classifier for this data. However, the performance metrics are not showing strong enough results to continue."
      ]
    },
    {
      "cell_type": "code",
      "metadata": {
        "colab": {
          "base_uri": "https://localhost:8080/"
        },
        "id": "E7jaJnMnthp7",
        "outputId": "d705a1b0-35c3-4df4-9dfa-eefed8a39041"
      },
      "source": [
        "# Classification report for our KNN classifier.\n",
        "y_pred = knn.predict(X_test)\n",
        "accuracy = accuracy_score(y_test,y_pred)\n",
        "report = classification_report(y_test, y_pred)\n",
        "cm = confusion_matrix(y_test, y_pred)\n",
        "\n",
        "print(\"Accuracy: \", accuracy)\n",
        "print(\"Classification report:\")\n",
        "print(report)\n",
        "print(\"Confusion matrix:\")\n",
        "print(cm)"
      ],
      "execution_count": null,
      "outputs": [
        {
          "output_type": "stream",
          "text": [
            "Accuracy:  0.9397727272727273\n",
            "Classification report:\n",
            "              precision    recall  f1-score   support\n",
            "\n",
            "           0       0.98      0.90      0.94      1334\n",
            "           1       0.91      0.98      0.94      1306\n",
            "\n",
            "    accuracy                           0.94      2640\n",
            "   macro avg       0.94      0.94      0.94      2640\n",
            "weighted avg       0.94      0.94      0.94      2640\n",
            "\n",
            "Confusion matrix:\n",
            "[[1202  132]\n",
            " [  27 1279]]\n"
          ],
          "name": "stdout"
        }
      ]
    },
    {
      "cell_type": "markdown",
      "metadata": {
        "id": "37Vy5rJjlmKa"
      },
      "source": [
        "Model performance for KNN classifier is moderate with a classification report just under the top performing model so far of 94%. It also demonstrates a remarkably fast runtime, and consistent cross-validation scoring in it's performance range of about 3%. \n",
        "\n",
        "However, in this application, runtime is not as important as predictive accuracy, so it isn't likely that we would use this model in production."
      ]
    },
    {
      "cell_type": "markdown",
      "metadata": {
        "id": "g7mnMzLRt1nW"
      },
      "source": [
        "### Decision Tree Classifier"
      ]
    },
    {
      "cell_type": "markdown",
      "metadata": {
        "id": "EeXYlUDEl1-y"
      },
      "source": [
        "The decision tree classifier is not an ensemble method and uses a single decision tree to generate it's predictions. This decision tree can differentiate with each iteration. \n",
        "\n",
        "While this proves great performance in some cases, it often makes the Decision Tree a last choice for a final machine learning model due to the belief that an ensemble of trees will always perform better than a single decision tree. \n",
        "\n",
        "It is always best to test this hypothesis by building both models and comparing them both with GridSearchCV implementations. This eliminates any guesswork and gives concrete metrics to base a decision between either of the two models. "
      ]
    },
    {
      "cell_type": "code",
      "metadata": {
        "colab": {
          "base_uri": "https://localhost:8080/"
        },
        "id": "dF6DjOlWt8v7",
        "outputId": "397603bd-ce71-44e3-9956-d6ae0989ec1b"
      },
      "source": [
        "# Creating initial tree for GridSearchCV to run.\n",
        "decision_tree = tree.DecisionTreeClassifier()\n",
        "\n",
        "# We are looking at a few parameters to see what works best with our model.\n",
        "tree_para = {'criterion':['gini','entropy'],\n",
        "             'max_depth':[10,50,250,500],\n",
        "             'max_features':[10,50,90]}\n",
        "clf = GridSearchCV(decision_tree, tree_para, cv=5)\n",
        "clf.fit(X_train, y_train)"
      ],
      "execution_count": null,
      "outputs": [
        {
          "output_type": "execute_result",
          "data": {
            "text/plain": [
              "GridSearchCV(cv=5, error_score=nan,\n",
              "             estimator=DecisionTreeClassifier(ccp_alpha=0.0, class_weight=None,\n",
              "                                              criterion='gini', max_depth=None,\n",
              "                                              max_features=None,\n",
              "                                              max_leaf_nodes=None,\n",
              "                                              min_impurity_decrease=0.0,\n",
              "                                              min_impurity_split=None,\n",
              "                                              min_samples_leaf=1,\n",
              "                                              min_samples_split=2,\n",
              "                                              min_weight_fraction_leaf=0.0,\n",
              "                                              presort='deprecated',\n",
              "                                              random_state=None,\n",
              "                                              splitter='best'),\n",
              "             iid='deprecated', n_jobs=None,\n",
              "             param_grid={'criterion': ['gini', 'entropy'],\n",
              "                         'max_depth': [10, 50, 250, 500],\n",
              "                         'max_features': [10, 50, 90]},\n",
              "             pre_dispatch='2*n_jobs', refit=True, return_train_score=False,\n",
              "             scoring=None, verbose=0)"
            ]
          },
          "metadata": {
            "tags": []
          },
          "execution_count": 43
        }
      ]
    },
    {
      "cell_type": "code",
      "metadata": {
        "colab": {
          "base_uri": "https://localhost:8080/"
        },
        "id": "epwU7A7fX6Gz",
        "outputId": "73619027-6edf-4ccd-acac-f046dc59413a"
      },
      "source": [
        "# Calling best_params_ to find best parameters from GridSearchCV.\n",
        "clf.best_params_"
      ],
      "execution_count": null,
      "outputs": [
        {
          "output_type": "execute_result",
          "data": {
            "text/plain": [
              "{'criterion': 'entropy', 'max_depth': 500, 'max_features': 50}"
            ]
          },
          "metadata": {
            "tags": []
          },
          "execution_count": 44
        }
      ]
    },
    {
      "cell_type": "code",
      "metadata": {
        "colab": {
          "base_uri": "https://localhost:8080/"
        },
        "id": "phKhChMQt9NZ",
        "outputId": "64ce37c4-1fcd-47c9-8ff6-7b0d7a964c6b"
      },
      "source": [
        "# Timing our model.\n",
        "start_time = time.time()\n",
        "\n",
        "# Initialize and train our tree using best parameters from GridSearchCV.\n",
        "decision_tree = tree.DecisionTreeClassifier(\n",
        "    criterion='entropy',\n",
        "    max_depth=500,\n",
        "    max_features=50,\n",
        ")\n",
        "decision_tree.fit(X_train, y_train)\n",
        "\n",
        "# Print model runtime. \n",
        "print(\"--- %s seconds ---\" % round(time.time() - start_time, 3))"
      ],
      "execution_count": null,
      "outputs": [
        {
          "output_type": "stream",
          "text": [
            "--- 0.912 seconds ---\n"
          ],
          "name": "stdout"
        }
      ]
    },
    {
      "cell_type": "code",
      "metadata": {
        "colab": {
          "base_uri": "https://localhost:8080/"
        },
        "id": "zTf-jCpBt9mL",
        "outputId": "13d648aa-246f-45af-d90c-bf2843baef9d"
      },
      "source": [
        "cross_val_score(decision_tree, X_train, y_train, cv=10)"
      ],
      "execution_count": null,
      "outputs": [
        {
          "output_type": "execute_result",
          "data": {
            "text/plain": [
              "array([0.96685606, 0.95170455, 0.96117424, 0.96022727, 0.95265152,\n",
              "       0.95643939, 0.96496212, 0.96022727, 0.94028436, 0.96018957])"
            ]
          },
          "metadata": {
            "tags": []
          },
          "execution_count": 42
        }
      ]
    },
    {
      "cell_type": "code",
      "metadata": {
        "colab": {
          "base_uri": "https://localhost:8080/"
        },
        "id": "oOIYGUW1uKOo",
        "outputId": "d01d7f13-b78b-422a-ba6b-3c68654f990a"
      },
      "source": [
        "# Print accuracy score, confusion matrix, and classification report metrics for our Decision Tree.\n",
        "y_pred = decision_tree.predict(X_test)\n",
        "dt_accuracy = accuracy_score(y_test,y_pred)\n",
        "decision_tree_report = classification_report(y_test, y_pred)\n",
        "cm = confusion_matrix(y_test, y_pred)\n",
        "\n",
        "print(\"Accuracy: \", dt_accuracy)\n",
        "print(\"Classification report:\")\n",
        "print(decision_tree_report)\n",
        "print(\"Confusion matrix:\")\n",
        "print(cm)"
      ],
      "execution_count": null,
      "outputs": [
        {
          "output_type": "stream",
          "text": [
            "Accuracy:  0.9564393939393939\n",
            "Classification report:\n",
            "              precision    recall  f1-score   support\n",
            "\n",
            "           0       0.97      0.94      0.96      1334\n",
            "           1       0.94      0.97      0.96      1306\n",
            "\n",
            "    accuracy                           0.96      2640\n",
            "   macro avg       0.96      0.96      0.96      2640\n",
            "weighted avg       0.96      0.96      0.96      2640\n",
            "\n",
            "Confusion matrix:\n",
            "[[1255   79]\n",
            " [  36 1270]]\n"
          ],
          "name": "stdout"
        }
      ]
    },
    {
      "cell_type": "markdown",
      "metadata": {
        "id": "mQrtsRY2hTpz"
      },
      "source": [
        "In this case our Decision Tree model is performing very well with excellent runtimes, consisten cross-validation scoring, and a classification report that is not showing any signs of overfitting. It has a slightly longer runtime than the previous KNN classifier but higher accuracy."
      ]
    },
    {
      "cell_type": "markdown",
      "metadata": {
        "id": "8Zf4G8BGuL9X"
      },
      "source": [
        "### RandomForest Classifier"
      ]
    },
    {
      "cell_type": "markdown",
      "metadata": {
        "id": "LK0FceD0sZD_"
      },
      "source": [
        "Random Forest is an ensemble model in this case an emsemble of Decision Trees. Random Forest models use Bagging to resample the dataset using a random subsample to generate many different decision tree models. Without this feature of bagging, the Random Forest generated would be a forest of similar decision trees and not provide any useful data.\n",
        "\n",
        "The performance of Random Forest Classification is highly dependent on the hyperparameters specified when building the model. There are roughly 15 hyperparameters that can be tested in all their configurations with GridSearchCV if you have time to run such an exhaustive search. This allows you to find the best combination of hyperparameters in a more efficient manner than simply trying different hyperparameters to see which works best. We will create a moderately demanding parameter grid demonstrating the capabilities of GridSearchCV when designing a random forest classifier. "
      ]
    },
    {
      "cell_type": "code",
      "metadata": {
        "colab": {
          "background_save": true
        },
        "id": "6lby_lYPuO9f",
        "outputId": "bdcc1a7b-8aba-4344-f189-cf66a29d70db"
      },
      "source": [
        "# Creating a Random Forest Classifier to use with GridSearchCV.\n",
        "rfc = ensemble.RandomForestClassifier()\n",
        "\n",
        "# Creating a parameter grid to find best combination of hyperparameters. \n",
        "param_grid = { \n",
        "    'n_estimators': [10,100,500],\n",
        "    'max_features': ['auto', 'sqrt', 'log2'],\n",
        "    'max_depth' : [10,50,90],\n",
        "    'criterion' :['gini', 'entropy']\n",
        "}\n",
        "\n",
        "# Using GridSearchCV to find best hyperparamater combination.\n",
        "CV_rfc = GridSearchCV(estimator=rfc, param_grid=param_grid, cv= 5)\n",
        "\n",
        "# Fitting GridSearchCV to our newly decomposed data.\n",
        "CV_rfc.fit(X_train, y_train)"
      ],
      "execution_count": null,
      "outputs": [
        {
          "output_type": "execute_result",
          "data": {
            "text/plain": [
              "GridSearchCV(cv=5, error_score=nan,\n",
              "             estimator=RandomForestClassifier(bootstrap=True, ccp_alpha=0.0,\n",
              "                                              class_weight=None,\n",
              "                                              criterion='gini', max_depth=None,\n",
              "                                              max_features='auto',\n",
              "                                              max_leaf_nodes=None,\n",
              "                                              max_samples=None,\n",
              "                                              min_impurity_decrease=0.0,\n",
              "                                              min_impurity_split=None,\n",
              "                                              min_samples_leaf=1,\n",
              "                                              min_samples_split=2,\n",
              "                                              min_weight_fraction_leaf=0.0,\n",
              "                                              n_estimators=100, n_jobs=None,\n",
              "                                              oob_score=False,\n",
              "                                              random_state=None, verbose=0,\n",
              "                                              warm_start=False),\n",
              "             iid='deprecated', n_jobs=None,\n",
              "             param_grid={'criterion': ['gini', 'entropy'],\n",
              "                         'max_depth': [10, 50, 90],\n",
              "                         'max_features': ['auto', 'sqrt', 'log2'],\n",
              "                         'n_estimators': [10, 100, 500]},\n",
              "             pre_dispatch='2*n_jobs', refit=True, return_train_score=False,\n",
              "             scoring=None, verbose=0)"
            ]
          },
          "metadata": {
            "tags": []
          },
          "execution_count": 0
        }
      ]
    },
    {
      "cell_type": "code",
      "metadata": {
        "colab": {
          "background_save": true
        },
        "id": "OTTSkeubuPkN",
        "outputId": "636d4708-1b33-4bd9-af81-b4b65d809162"
      },
      "source": [
        "# Calling best_params_ to find best parameters from GridSearchCV.\n",
        "CV_rfc.best_params_"
      ],
      "execution_count": null,
      "outputs": [
        {
          "output_type": "execute_result",
          "data": {
            "text/plain": [
              "{'criterion': 'gini',\n",
              " 'max_depth': 50,\n",
              " 'max_features': 'auto',\n",
              " 'n_estimators': 500}"
            ]
          },
          "metadata": {
            "tags": []
          },
          "execution_count": 0
        }
      ]
    },
    {
      "cell_type": "markdown",
      "metadata": {
        "id": "1e4Rq3tgOLFt"
      },
      "source": [
        "Now that we have the most optimized hyperparameters from GridSearchCV we can use these to build our model and score the performance."
      ]
    },
    {
      "cell_type": "code",
      "metadata": {
        "colab": {
          "base_uri": "https://localhost:8080/"
        },
        "id": "Fk94s78ouPTh",
        "outputId": "a15a4234-671e-4fdd-bc32-9d1d92fee437"
      },
      "source": [
        "# Timing our model.\n",
        "start_time = time.time()\n",
        "\n",
        "# Creating our model using optimized hyperparameters from GridSearchCV.\n",
        "rfc = ensemble.RandomForestClassifier(criterion='gini', \n",
        "                                      max_depth=50,\n",
        "                                      max_features='auto',\n",
        "                                      n_estimators=500, random_state=42)\n",
        "\n",
        "# Fit our newly decomposed data to our model.\n",
        "rfc.fit(X_train, y_train)\n",
        "\n",
        "# Print model time. \n",
        "print(\"--- %s seconds ---\" % round(time.time() - start_time, 3))"
      ],
      "execution_count": null,
      "outputs": [
        {
          "output_type": "stream",
          "text": [
            "--- 46.7 seconds ---\n"
          ],
          "name": "stdout"
        }
      ]
    },
    {
      "cell_type": "markdown",
      "metadata": {
        "id": "171TF6zeOSts"
      },
      "source": [
        "Model runtime is much longer in comparison to our Decision Tree model. This is due to the Random Forest modeling being more computationally intensive as it has to generate a multitude of Decision Trees instead of just one."
      ]
    },
    {
      "cell_type": "code",
      "metadata": {
        "colab": {
          "base_uri": "https://localhost:8080/"
        },
        "id": "4YJBIryXutzu",
        "outputId": "6057469c-7a07-47e6-db75-a4bc1fc0bbcc"
      },
      "source": [
        "# Cross-valdiation score for our Random Forest Classifier.\n",
        "cross_val_score(rfc, X_train, y_train, cv=10)"
      ],
      "execution_count": null,
      "outputs": [
        {
          "output_type": "execute_result",
          "data": {
            "text/plain": [
              "array([0.98674242, 0.97537879, 0.98200758, 0.98295455, 0.97443182,\n",
              "       0.9782197 , 0.96780303, 0.98390152, 0.98293839, 0.98578199])"
            ]
          },
          "metadata": {
            "tags": []
          },
          "execution_count": 84
        }
      ]
    },
    {
      "cell_type": "markdown",
      "metadata": {
        "id": "WIYioD1qOgSR"
      },
      "source": [
        "The cross-validation scoring is very consistent and shows that our model is performing well on the training set when split into ten cross-validation cycles. This model will be able to handle incoming new data well accorind to this scoring report."
      ]
    },
    {
      "cell_type": "code",
      "metadata": {
        "colab": {
          "base_uri": "https://localhost:8080/"
        },
        "id": "8WVSNQZfuvxa",
        "outputId": "e0e0d0fc-efae-426a-cdac-51091390ea0e"
      },
      "source": [
        "# Print classification report for Random Forest Classifier.\n",
        "y_pred = rfc.predict(X_test) \n",
        "rfc_accuracy = accuracy_score(y_test,y_pred)\n",
        "rfc_report = classification_report(y_test, y_pred)\n",
        "rfc_cm = confusion_matrix(y_test, y_pred)\n",
        "\n",
        "print(\"Classification report:\")\n",
        "print(\"Accuracy: \", rfc_accuracy)\n",
        "print(rfc_report)\n",
        "print(\"Confusion matrix:\")\n",
        "print(rfc_cm)"
      ],
      "execution_count": null,
      "outputs": [
        {
          "output_type": "stream",
          "text": [
            "Classification report:\n",
            "Accuracy:  0.9821969696969697\n",
            "              precision    recall  f1-score   support\n",
            "\n",
            "           0       1.00      0.97      0.98      1334\n",
            "           1       0.97      1.00      0.98      1306\n",
            "\n",
            "    accuracy                           0.98      2640\n",
            "   macro avg       0.98      0.98      0.98      2640\n",
            "weighted avg       0.98      0.98      0.98      2640\n",
            "\n",
            "Confusion matrix:\n",
            "[[1291   43]\n",
            " [   4 1302]]\n"
          ],
          "name": "stdout"
        }
      ]
    },
    {
      "cell_type": "markdown",
      "metadata": {
        "id": "a2mQC8CgOulm"
      },
      "source": [
        "Great, we have boosted model performance significantly in comparison to our Decision Tree model with an overall boost in weighted average scoring and accuracy scoring of about 3%. This demonstrates that Random Forest modeling can perform better than Decision Trees but at the cost of a longer runtime and increased computational costs. In this case, as a financial instrument and tool to detect bankruptcy, this increased performance is well worth the increased runtime. Although it might seem like a minor improvement in performance for increased computational costs, the money that could be saved from detecting just one additional bankruptcy would easily outset the cost of running the model continuously. This is why hyperparameter tuning is a must for running a computationally complex model such as Random Forest."
      ]
    },
    {
      "cell_type": "markdown",
      "metadata": {
        "id": "A3qj5JGFVple"
      },
      "source": [
        "## XGBoost Classifer"
      ]
    },
    {
      "cell_type": "markdown",
      "metadata": {
        "id": "OuOhwIigWWoK"
      },
      "source": [
        "XGBoost stands for \"Extreme Gradient Boosting\" and is one of the newer supervised machine learning models which has seen a surge in popularity. This is due to XGBoost usually performing very well on complex datasets and scales easily.\n",
        "\n",
        "XGBoost uses an ensemble of decision trees and a regularization term to create models that perform well in the wild. The regularization is one part most tree packages treat less carefully, or simply ignore, which is what makes XGBoost unique.\n",
        "\n",
        "XGBoost, like Decision Tree and Random Forest models, are highly dependent on the hyperparameters specified when building the model. We will first build a model without hyperparameter tuning to see what results we get and then implement a RandomizedSearchCV function to find the best combination of parameters."
      ]
    },
    {
      "cell_type": "code",
      "metadata": {
        "colab": {
          "base_uri": "https://localhost:8080/"
        },
        "id": "UNTZ8oivVwzO",
        "outputId": "d04c4b8e-346d-4f39-9734-8791340a04e6"
      },
      "source": [
        "# Building XGBoost classifier.\n",
        "clf = xgb.XGBClassifier()\n",
        "\n",
        "# Timing our model.\n",
        "start_time = time.time()\n",
        "\n",
        "# Creating our XGBoost model.\n",
        "clf = xgb.XGBClassifier()\n",
        "\n",
        "# Fit our newly decomposed data to our model.\n",
        "clf.fit(X_train, y_train)\n",
        "\n",
        "# Print model time. \n",
        "print(\"--- %s seconds ---\" % round(time.time() - start_time, 3))"
      ],
      "execution_count": null,
      "outputs": [
        {
          "output_type": "stream",
          "text": [
            "--- 6.403 seconds ---\n"
          ],
          "name": "stdout"
        }
      ]
    },
    {
      "cell_type": "code",
      "metadata": {
        "colab": {
          "base_uri": "https://localhost:8080/"
        },
        "id": "IV10kZh21uZ4",
        "outputId": "68ad89d9-4ef4-480e-aae6-1c1d3013835d"
      },
      "source": [
        "# Cross-valdiation score for our XGBoost Classifier.\n",
        "cross_val_score(clf, X_train, y_train, cv=10)"
      ],
      "execution_count": null,
      "outputs": [
        {
          "output_type": "execute_result",
          "data": {
            "text/plain": [
              "array([0.9782197 , 0.96212121, 0.97632576, 0.96969697, 0.96685606,\n",
              "       0.96969697, 0.95359848, 0.97253788, 0.96777251, 0.97251185])"
            ]
          },
          "metadata": {
            "tags": []
          },
          "execution_count": 151
        }
      ]
    },
    {
      "cell_type": "code",
      "metadata": {
        "colab": {
          "base_uri": "https://localhost:8080/"
        },
        "id": "v3ufHi1-WQ6a",
        "outputId": "8ee992e1-66b2-474f-f7a6-6f7986540fb0"
      },
      "source": [
        "# Print classification report for our XGBoost classifier.\n",
        "y_pred = clf.predict(X_test)\n",
        "accuracy = accuracy_score(y_test,y_pred)\n",
        "report = classification_report(y_test, y_pred)\n",
        "cm = confusion_matrix(y_test, y_pred)\n",
        "\n",
        "print(\"Accuracy: \", accuracy)\n",
        "print(\"Classification report:\")\n",
        "print(report)\n",
        "print(\"Confusion matrix:\")\n",
        "print(cm)"
      ],
      "execution_count": null,
      "outputs": [
        {
          "output_type": "stream",
          "text": [
            "Accuracy:  0.9678030303030303\n",
            "Classification report:\n",
            "              precision    recall  f1-score   support\n",
            "\n",
            "           0       0.99      0.95      0.97      1334\n",
            "           1       0.95      0.99      0.97      1306\n",
            "\n",
            "    accuracy                           0.97      2640\n",
            "   macro avg       0.97      0.97      0.97      2640\n",
            "weighted avg       0.97      0.97      0.97      2640\n",
            "\n",
            "Confusion matrix:\n",
            "[[1264   70]\n",
            " [  15 1291]]\n"
          ],
          "name": "stdout"
        }
      ]
    },
    {
      "cell_type": "markdown",
      "metadata": {
        "id": "H_P6XsUabFJk"
      },
      "source": [
        "### XGBoost with RandomizedSearchCV"
      ]
    },
    {
      "cell_type": "code",
      "metadata": {
        "colab": {
          "background_save": true
        },
        "id": "XpDPOX-9bKvN",
        "outputId": "08f94333-9e64-4df2-8c59-414e9253c9c4"
      },
      "source": [
        "# Create parameter grid for RandomizedSearchCV.\n",
        "parameters = {'n_estimators':[250,500,1000],\n",
        "              'max_depth':[10,25,50,91],\n",
        "              'learning_rate':[0.01,0.1],\n",
        "              'subsample':[0.5,1],\n",
        "              'colsample_bytree':[1,0.5],\n",
        "              'gamma':[0.5,1],\n",
        "              'min_child_weight':[1,2]\n",
        "              }\n",
        "\n",
        "# Create decision tree classifier with RandomizedSearchCV.\n",
        "CV_clf = RandomizedSearchCV(clf, parameters, random_state=0)\n",
        "\n",
        "# Fitting decision tree classifier to training data.\n",
        "CV_clf.fit(X_train, y_train)"
      ],
      "execution_count": null,
      "outputs": [
        {
          "output_type": "execute_result",
          "data": {
            "text/plain": [
              "RandomizedSearchCV(cv=None, error_score=nan,\n",
              "                   estimator=XGBClassifier(base_score=0.5, booster='gbtree',\n",
              "                                           colsample_bylevel=1,\n",
              "                                           colsample_bynode=1,\n",
              "                                           colsample_bytree=1, gamma=0,\n",
              "                                           learning_rate=0.1, max_delta_step=0,\n",
              "                                           max_depth=3, min_child_weight=1,\n",
              "                                           missing=None, n_estimators=100,\n",
              "                                           n_jobs=1, nthread=None,\n",
              "                                           objective='binary:logistic',\n",
              "                                           random_state=0, reg_alpha=0,\n",
              "                                           reg_lambda=1...\n",
              "                                           seed=None, silent=None, subsample=1,\n",
              "                                           verbosity=1),\n",
              "                   iid='deprecated', n_iter=10, n_jobs=None,\n",
              "                   param_distributions={'colsample_bytree': [1, 0.5],\n",
              "                                        'gamma': [0.5, 1],\n",
              "                                        'learning_rate': [0.01, 0.1],\n",
              "                                        'max_depth': [10, 25, 50, 91],\n",
              "                                        'min_child_weight': [1, 2],\n",
              "                                        'n_estimators': [250, 500, 1000],\n",
              "                                        'subsample': [0.5, 1]},\n",
              "                   pre_dispatch='2*n_jobs', random_state=0, refit=True,\n",
              "                   return_train_score=False, scoring=None, verbose=0)"
            ]
          },
          "metadata": {
            "tags": []
          },
          "execution_count": 0
        }
      ]
    },
    {
      "cell_type": "code",
      "metadata": {
        "colab": {
          "background_save": true
        },
        "id": "j1LU74atbvXw",
        "outputId": "152814ad-39fa-412b-b9ba-f3694e7eca5a"
      },
      "source": [
        "# Calling .best_params_ to pull best parameters from RandomizedSearchCV.\n",
        "CV_clf.best_params_"
      ],
      "execution_count": null,
      "outputs": [
        {
          "output_type": "execute_result",
          "data": {
            "text/plain": [
              "{'colsample_bytree': 0.5,\n",
              " 'gamma': 0.5,\n",
              " 'learning_rate': 0.1,\n",
              " 'max_depth': 10,\n",
              " 'min_child_weight': 2,\n",
              " 'n_estimators': 1000,\n",
              " 'subsample': 0.5}"
            ]
          },
          "metadata": {
            "tags": []
          },
          "execution_count": 0
        }
      ]
    },
    {
      "cell_type": "code",
      "metadata": {
        "colab": {
          "base_uri": "https://localhost:8080/"
        },
        "id": "QdSt-7FgckMO",
        "outputId": "3c7f20b3-91be-49d5-d0d5-4ff151e10aec"
      },
      "source": [
        "# Timing our model.\n",
        "start_time = time.time()\n",
        "\n",
        "# Building XGBoost classifier.\n",
        "clf = xgb.XGBClassifier(\n",
        "    colsample_bytree=0.5,\n",
        "    gamma=0.5,\n",
        "    learning_rate=0.1,\n",
        "    max_depth=10,\n",
        "    min_child_weight=2,\n",
        "    n_estimators=1000,\n",
        "    subsample=0.5,)\n",
        "\n",
        "# Fit our newly decomposed data to our model.\n",
        "clf.fit(X_train, y_train)\n",
        "\n",
        "# Print model time. \n",
        "print(\"--- %s seconds ---\" % round(time.time() - start_time, 3))"
      ],
      "execution_count": null,
      "outputs": [
        {
          "output_type": "stream",
          "text": [
            "--- 43.673 seconds ---\n"
          ],
          "name": "stdout"
        }
      ]
    },
    {
      "cell_type": "code",
      "metadata": {
        "colab": {
          "base_uri": "https://localhost:8080/"
        },
        "id": "IKiFfcVH2dxs",
        "outputId": "ad83e3b5-e231-4749-97f9-db433116f920"
      },
      "source": [
        "# Cross-valdiation score for our XGBoost Classifier.\n",
        "cross_val_score(clf, X_train, y_train, cv=10)"
      ],
      "execution_count": null,
      "outputs": [
        {
          "output_type": "execute_result",
          "data": {
            "text/plain": [
              "array([0.99242424, 0.98579545, 0.98863636, 0.98863636, 0.98484848,\n",
              "       0.98579545, 0.98011364, 0.98484848, 0.99146919, 0.98672986])"
            ]
          },
          "metadata": {
            "tags": []
          },
          "execution_count": 153
        }
      ]
    },
    {
      "cell_type": "markdown",
      "metadata": {
        "id": "1ydbZwmJ4A0j"
      },
      "source": [
        "Cross-validation scoring is excellent, XGBoost is displaying consistent CV scoring across all cycles with no signs of overfitting such as displaying 1.0 CV score."
      ]
    },
    {
      "cell_type": "code",
      "metadata": {
        "colab": {
          "base_uri": "https://localhost:8080/"
        },
        "id": "LgJVtHtlco1d",
        "outputId": "f2749254-1097-491d-a6c7-5a57638a34aa"
      },
      "source": [
        "# Print classification report for our XGBoost classifier.\n",
        "y_pred = clf.predict(X_test)\n",
        "accuracy = accuracy_score(y_test,y_pred)\n",
        "report = classification_report(y_test, y_pred)\n",
        "cm = confusion_matrix(y_test, y_pred)\n",
        "\n",
        "print(\"Accuracy: \", accuracy)\n",
        "print(\"Classification report:\")\n",
        "print(report)\n",
        "print(\"Confusion matrix:\")\n",
        "print(cm)"
      ],
      "execution_count": null,
      "outputs": [
        {
          "output_type": "stream",
          "text": [
            "Accuracy:  0.9875\n",
            "Classification report:\n",
            "              precision    recall  f1-score   support\n",
            "\n",
            "           0       1.00      0.98      0.99      1334\n",
            "           1       0.98      1.00      0.99      1306\n",
            "\n",
            "    accuracy                           0.99      2640\n",
            "   macro avg       0.99      0.99      0.99      2640\n",
            "weighted avg       0.99      0.99      0.99      2640\n",
            "\n",
            "Confusion matrix:\n",
            "[[1304   30]\n",
            " [   3 1303]]\n"
          ],
          "name": "stdout"
        }
      ]
    },
    {
      "cell_type": "markdown",
      "metadata": {
        "id": "4vNoh3uXtVoz"
      },
      "source": [
        "The results offered by this dataset and XGBoost ensemble method are very similar to the random forest models performance, but XGBoost offers a stronger result and performance. Notably we increased performance by 2% with our hyperparameter search when we were already at 96% accuracy which is great performance in this business use case. Our model performance is almost perfect at roughly 99% accuracy using XGBoost. The only downside is the increased runtime but this is a worthy tradeoff. This showcases the abilities of XGBoost to predict accurately using complex datasets and why it is considered to be a top performing machine learning algorithm."
      ]
    },
    {
      "cell_type": "markdown",
      "metadata": {
        "id": "IdEK9-43vAEs"
      },
      "source": [
        "# SelectKBest Feature Selection"
      ]
    },
    {
      "cell_type": "markdown",
      "metadata": {
        "id": "pJ_-0YdAvPQ4"
      },
      "source": [
        "Reducing feature dimensions by choosing the most relevant features based on K value with sklearn's SelectKBest function can improve model runtime and increase performance in some areas of performance metrics. This can be especially useful for large datasets and functions where runtime is an essential component to the success of the model. "
      ]
    },
    {
      "cell_type": "code",
      "metadata": {
        "colab": {
          "base_uri": "https://localhost:8080/"
        },
        "id": "ZDgXFyyrJ1Mg",
        "outputId": "b19182f2-ecd1-4405-9280-2d5451f0318a"
      },
      "source": [
        "# Examining initial X DataFrame shape.\n",
        "X.shape "
      ],
      "execution_count": null,
      "outputs": [
        {
          "output_type": "execute_result",
          "data": {
            "text/plain": [
              "(13198, 95)"
            ]
          },
          "metadata": {
            "tags": []
          },
          "execution_count": 41
        }
      ]
    },
    {
      "cell_type": "code",
      "metadata": {
        "colab": {
          "base_uri": "https://localhost:8080/"
        },
        "id": "2Q56DRQ3vMNh",
        "outputId": "d216fd07-ae5e-47aa-a434-3ddf1c37033b"
      },
      "source": [
        "# y is our target variable of bankruptcy. We drop our target from X.\n",
        "y = df['Bankrupt?']\n",
        "X = df.drop(columns=['Bankrupt?'])\n",
        "\n",
        "# Run our selector using f_classif for our classification task. We will use the default K value of 10 in this case which will reduce features to that number.\n",
        "selector = SelectKBest(f_classif).fit(X, y)\n",
        "\n",
        "# Create boolean values to select features from original feature set using get_support.\n",
        "boolean = selector.get_support()\n",
        "\n",
        "# Our new X variable now consists of our selected best features based on K value.\n",
        "X_skb = X[X.columns[boolean]]\n",
        "\n",
        "# Class balancing using SMOTE.\n",
        "sm = SMOTE(sampling_strategy='minority', random_state=42)\n",
        "\n",
        "# Fitting SMOTE to resample our target class.\n",
        "X_skb, y = sm.fit_resample(X_skb, y)"
      ],
      "execution_count": null,
      "outputs": [
        {
          "output_type": "stream",
          "text": [
            "/usr/local/lib/python3.7/dist-packages/sklearn/feature_selection/_univariate_selection.py:114: UserWarning: Features [93] are constant.\n",
            "  UserWarning)\n",
            "/usr/local/lib/python3.7/dist-packages/sklearn/feature_selection/_univariate_selection.py:115: RuntimeWarning: invalid value encountered in true_divide\n",
            "  f = msb / msw\n",
            "/usr/local/lib/python3.7/dist-packages/sklearn/utils/deprecation.py:87: FutureWarning: Function safe_indexing is deprecated; safe_indexing is deprecated in version 0.22 and will be removed in version 0.24.\n",
            "  warnings.warn(msg, category=FutureWarning)\n"
          ],
          "name": "stderr"
        }
      ]
    },
    {
      "cell_type": "code",
      "metadata": {
        "colab": {
          "base_uri": "https://localhost:8080/"
        },
        "id": "YflIuKKvJ0Qu",
        "outputId": "b86776f7-296f-44c6-87de-915dbab6b020"
      },
      "source": [
        "# Examining new X DataFrame shape.\n",
        "X_skb.shape"
      ],
      "execution_count": null,
      "outputs": [
        {
          "output_type": "execute_result",
          "data": {
            "text/plain": [
              "(13198, 10)"
            ]
          },
          "metadata": {
            "tags": []
          },
          "execution_count": 98
        }
      ]
    },
    {
      "cell_type": "markdown",
      "metadata": {
        "id": "F13YCcPvJrgQ"
      },
      "source": [
        "We have effectively created a new X variable set with SelectKBest and we are showing a new X feature set with 10 features instead of 95 like previous models. "
      ]
    },
    {
      "cell_type": "markdown",
      "metadata": {
        "id": "SLHYRBZ2v-4c"
      },
      "source": [
        "### Train-Test-Split"
      ]
    },
    {
      "cell_type": "code",
      "metadata": {
        "id": "w0MU8fAcv-Mf"
      },
      "source": [
        "# Let's split our data, this time using our newly selected features.\n",
        "X_train, X_test, y_train, y_test = train_test_split(X_skb, y, test_size=0.20, random_state=42)"
      ],
      "execution_count": null,
      "outputs": []
    },
    {
      "cell_type": "markdown",
      "metadata": {
        "id": "sNyWLTk2uSpl"
      },
      "source": [
        "# Machine Learning Models with Select K Best Feature Selection"
      ]
    },
    {
      "cell_type": "markdown",
      "metadata": {
        "id": "XNyxwV0Rwkdi"
      },
      "source": [
        "## Logistic Regression Classifier"
      ]
    },
    {
      "cell_type": "code",
      "metadata": {
        "colab": {
          "base_uri": "https://localhost:8080/"
        },
        "id": "39aoT-UGwkdl",
        "outputId": "c768370a-8523-4aa0-8794-4c3fd6dd52c4"
      },
      "source": [
        "# Timing our model.\n",
        "start_time = time.time()\n",
        "\n",
        "# Adjust our max iteration value, 100 is too low and gives errors.\n",
        "clf = LogisticRegression(max_iter=1000).fit(X_train, y_train)\n",
        "\n",
        "print(\"--- %s seconds ---\" % round(time.time() - start_time, 3))"
      ],
      "execution_count": null,
      "outputs": [
        {
          "output_type": "stream",
          "text": [
            "--- 0.063 seconds ---\n"
          ],
          "name": "stdout"
        }
      ]
    },
    {
      "cell_type": "code",
      "metadata": {
        "colab": {
          "base_uri": "https://localhost:8080/"
        },
        "id": "5kHwkFOQwkdl",
        "outputId": "37c8681c-6884-4c03-d682-427e1f9207e0"
      },
      "source": [
        "# Cross validation score for Logistic Regression Classifier.\n",
        "cross_val_score(clf, X_train, y_train, cv=10)"
      ],
      "execution_count": null,
      "outputs": [
        {
          "output_type": "execute_result",
          "data": {
            "text/plain": [
              "array([0.86268939, 0.85890152, 0.85511364, 0.87121212, 0.85984848,\n",
              "       0.83522727, 0.85227273, 0.86363636, 0.86729858, 0.87014218])"
            ]
          },
          "metadata": {
            "tags": []
          },
          "execution_count": 93
        }
      ]
    },
    {
      "cell_type": "code",
      "metadata": {
        "colab": {
          "base_uri": "https://localhost:8080/"
        },
        "id": "P4W6kqfowkdm",
        "outputId": "03fe73f8-a003-40c4-9b8d-83f05483b416"
      },
      "source": [
        "# Building classification report for our logistic regression classifier.\n",
        "y_pred = clf.predict(X_test)\n",
        "accuracy = accuracy_score(y_test,y_pred)\n",
        "report = classification_report(y_test, y_pred)\n",
        "cm = confusion_matrix(y_test, y_pred)\n",
        "\n",
        "print(\"Accuracy: \", accuracy)\n",
        "print(\"Classification report:\")\n",
        "print(report)\n",
        "print(\"Confusion matrix:\")\n",
        "print(cm)"
      ],
      "execution_count": null,
      "outputs": [
        {
          "output_type": "stream",
          "text": [
            "Accuracy:  0.8571969696969697\n",
            "Classification report:\n",
            "              precision    recall  f1-score   support\n",
            "\n",
            "           0       0.87      0.84      0.86      1334\n",
            "           1       0.84      0.88      0.86      1306\n",
            "\n",
            "    accuracy                           0.86      2640\n",
            "   macro avg       0.86      0.86      0.86      2640\n",
            "weighted avg       0.86      0.86      0.86      2640\n",
            "\n",
            "Confusion matrix:\n",
            "[[1119  215]\n",
            " [ 162 1144]]\n"
          ],
          "name": "stdout"
        }
      ]
    },
    {
      "cell_type": "markdown",
      "metadata": {
        "id": "I7ZZ_5pSwkdm"
      },
      "source": [
        "The logistic regression classification model without any feature selection was having a difficult time predicting bankruptcy, with low levels of recall and accuracy notably of about 53%. This is a significant performance increase, with an accuracy scoring of roughly 86% and consistent cross-validation scoring. Runtime is also significantly reduced from a previous runtime without feature selection of 1.1 seconds, to 0.063 seconds with SelectKBest feature selection. This is a runtime decrease of around 94% while signficantly increasing performance. This demonstrates that the most computationally intensive option will not always provide the best results and data preparation is key for some models performance.\n",
        "\n",
        "By refining the data with SelectKBest feature selection, we have shown the importance of eliminating noise from the dataset for some models such as logistic regression. Since logistic regression looks for a linearly separable decision boundary, it makes since that our initial model was having a difficult time finding a linear boundary within so many data points without feature selection.\n",
        "\n",
        "Still performance leaves much to be desired especially in comparison to other methods outlined previously."
      ]
    },
    {
      "cell_type": "markdown",
      "metadata": {
        "id": "63N8nerxVdik"
      },
      "source": [
        "## Gradient Boosting Classifier"
      ]
    },
    {
      "cell_type": "code",
      "metadata": {
        "colab": {
          "base_uri": "https://localhost:8080/"
        },
        "id": "ekTEtQARVdiv",
        "outputId": "1b996cf6-0d27-42e5-a85f-e4a4566a413b"
      },
      "source": [
        "# Timing our model.\n",
        "start_time = time.time()\n",
        "\n",
        "# Creating gradient boost classifier.\n",
        "clf = GradientBoostingClassifier()\n",
        "\n",
        "# Fitting model to our data.\n",
        "clf.fit(X_train, y_train)\n",
        "\n",
        "# Print model time. \n",
        "print(\"--- %s seconds ---\" % round(time.time() - start_time, 3))"
      ],
      "execution_count": null,
      "outputs": [
        {
          "output_type": "stream",
          "text": [
            "--- 3.958 seconds ---\n"
          ],
          "name": "stdout"
        }
      ]
    },
    {
      "cell_type": "code",
      "metadata": {
        "colab": {
          "base_uri": "https://localhost:8080/"
        },
        "id": "Pvl_6zDMVdiw",
        "outputId": "1b33662c-4b05-4065-ed82-6da2f5cb0a79"
      },
      "source": [
        "# Cross validation score for Gradient Boosting Classifier.\n",
        "cross_val_score(clf, X_train, y_train, cv=10)"
      ],
      "execution_count": null,
      "outputs": [
        {
          "output_type": "execute_result",
          "data": {
            "text/plain": [
              "array([0.90719697, 0.89772727, 0.90719697, 0.91098485, 0.89867424,\n",
              "       0.89583333, 0.90435606, 0.91098485, 0.91090047, 0.92417062])"
            ]
          },
          "metadata": {
            "tags": []
          },
          "execution_count": 97
        }
      ]
    },
    {
      "cell_type": "code",
      "metadata": {
        "colab": {
          "base_uri": "https://localhost:8080/"
        },
        "id": "Xs5NxaV4Vdiw",
        "outputId": "32692764-bca9-4024-dc19-3bb03a5bc723"
      },
      "source": [
        "# Classification report for our Gradient Boosting classifier.\n",
        "y_pred = clf.predict(X_test)\n",
        "accuracy = accuracy_score(y_test,y_pred)\n",
        "report = classification_report(y_test, y_pred)\n",
        "cm = confusion_matrix(y_test, y_pred)\n",
        "\n",
        "print(\"Accuracy: \", accuracy)\n",
        "print(\"Classification report:\")\n",
        "print(report)\n",
        "print(\"Confusion matrix:\")\n",
        "print(cm)"
      ],
      "execution_count": null,
      "outputs": [
        {
          "output_type": "stream",
          "text": [
            "Accuracy:  0.9034090909090909\n",
            "Classification report:\n",
            "              precision    recall  f1-score   support\n",
            "\n",
            "           0       0.92      0.88      0.90      1334\n",
            "           1       0.88      0.93      0.90      1306\n",
            "\n",
            "    accuracy                           0.90      2640\n",
            "   macro avg       0.90      0.90      0.90      2640\n",
            "weighted avg       0.90      0.90      0.90      2640\n",
            "\n",
            "Confusion matrix:\n",
            "[[1175  159]\n",
            " [  96 1210]]\n"
          ],
          "name": "stdout"
        }
      ]
    },
    {
      "cell_type": "markdown",
      "metadata": {
        "id": "rAc6d_BBVdiw"
      },
      "source": [
        "Compared to our initial Gradient Boosting classification model, this model is showing a reduction in runtime but with a decrease in performance metrics. This model will likely not be used in production as the models advantage of reduced runtime is not worth the loss in accuracy and various other performance metrics overall. "
      ]
    },
    {
      "cell_type": "markdown",
      "metadata": {
        "id": "xcPvtDqt1jif"
      },
      "source": [
        "## KNN Classifier"
      ]
    },
    {
      "cell_type": "markdown",
      "metadata": {
        "id": "yyPy6Z8i1jip"
      },
      "source": [
        "KNN is highly dependent on the number of neighbors used, or the K-value. We will use GridSearchCV again to find the best k-value.\n"
      ]
    },
    {
      "cell_type": "code",
      "metadata": {
        "colab": {
          "base_uri": "https://localhost:8080/"
        },
        "id": "bU7QxJkE1jip",
        "outputId": "6bb778ec-ec40-42d2-b1cd-83ab7812a197"
      },
      "source": [
        "# Creating KNN classifier for GridSearchCV to run.\n",
        "knn = KNeighborsClassifier()\n",
        "\n",
        "# We are looking at the n_neighbors paramater which defines the K value to see what works best with our model.\n",
        "knn_para = {'n_neighbors':[1,2,3,5,7,9,11,13,15,17,19]}\n",
        "\n",
        "# Creating GridSearchCV with KNN parameters and a cross-validation number of 5. \n",
        "clf = GridSearchCV(knn, knn_para, cv=5)\n",
        "\n",
        "# Fitting GridSearchCV to training set.\n",
        "clf.fit(X_train, y_train)"
      ],
      "execution_count": null,
      "outputs": [
        {
          "output_type": "execute_result",
          "data": {
            "text/plain": [
              "GridSearchCV(cv=5, error_score=nan,\n",
              "             estimator=KNeighborsClassifier(algorithm='auto', leaf_size=30,\n",
              "                                            metric='minkowski',\n",
              "                                            metric_params=None, n_jobs=None,\n",
              "                                            n_neighbors=5, p=2,\n",
              "                                            weights='uniform'),\n",
              "             iid='deprecated', n_jobs=None,\n",
              "             param_grid={'n_neighbors': [1, 2, 3, 5, 7, 9, 11, 13, 15, 17, 19]},\n",
              "             pre_dispatch='2*n_jobs', refit=True, return_train_score=False,\n",
              "             scoring=None, verbose=0)"
            ]
          },
          "metadata": {
            "tags": []
          },
          "execution_count": 99
        }
      ]
    },
    {
      "cell_type": "code",
      "metadata": {
        "colab": {
          "base_uri": "https://localhost:8080/"
        },
        "id": "SqkmmB__1jiq",
        "outputId": "ed3ea96f-daca-43f0-f761-2dc639fb8346"
      },
      "source": [
        "# Calling GridSearchCV best_params_ function to determine the best parameters gathered.\n",
        "clf.best_params_"
      ],
      "execution_count": null,
      "outputs": [
        {
          "output_type": "execute_result",
          "data": {
            "text/plain": [
              "{'n_neighbors': 2}"
            ]
          },
          "metadata": {
            "tags": []
          },
          "execution_count": 100
        }
      ]
    },
    {
      "cell_type": "markdown",
      "metadata": {
        "id": "doyNwDvc1jir"
      },
      "source": [
        "The best K value for our K-Nearest Neighbors classifier in this case is going to be 2. GridSearchCV determines this by finding the best mean test scoring in the number of cross-validations specified, in this case 5. "
      ]
    },
    {
      "cell_type": "code",
      "metadata": {
        "colab": {
          "base_uri": "https://localhost:8080/"
        },
        "id": "jn3lxyj_1jir",
        "outputId": "30af4512-e841-41b0-f3d9-ff6fd3ac9114"
      },
      "source": [
        "# Timing our model.\n",
        "start_time = time.time()\n",
        "\n",
        "# Create the KNN Classifier with parameters from GridSearchCV.\n",
        "knn = KNeighborsClassifier(n_neighbors=2)\n",
        "\n",
        "#Train our model.\n",
        "knn.fit(X_train, y_train)\n",
        "\n",
        "# Print model time. \n",
        "print(\"--- %s seconds ---\" % round(time.time() - start_time, 3))"
      ],
      "execution_count": null,
      "outputs": [
        {
          "output_type": "stream",
          "text": [
            "--- 0.021 seconds ---\n"
          ],
          "name": "stdout"
        }
      ]
    },
    {
      "cell_type": "code",
      "metadata": {
        "colab": {
          "base_uri": "https://localhost:8080/"
        },
        "id": "0WpOMW-x1jir",
        "outputId": "73b9c3db-af0b-4f70-e019-5edbbd98381d"
      },
      "source": [
        "# Cross validation score for KNN.\n",
        "cross_val_score(knn, X_train, y_train, cv=10)"
      ],
      "execution_count": null,
      "outputs": [
        {
          "output_type": "execute_result",
          "data": {
            "text/plain": [
              "array([0.95170455, 0.95833333, 0.95454545, 0.96117424, 0.95075758,\n",
              "       0.95643939, 0.95075758, 0.96401515, 0.9478673 , 0.96398104])"
            ]
          },
          "metadata": {
            "tags": []
          },
          "execution_count": 102
        }
      ]
    },
    {
      "cell_type": "markdown",
      "metadata": {
        "id": "AB8Rti5J1jir"
      },
      "source": [
        "Cross-validation scoring for KNN classification is consistent and demonstrates similar performance in the classification report. We've improved performance metrics by about 3%, a marked increase than our KNN model before feature selection. "
      ]
    },
    {
      "cell_type": "code",
      "metadata": {
        "colab": {
          "base_uri": "https://localhost:8080/"
        },
        "id": "-cnyGWyR1jir",
        "outputId": "d705a1b0-35c3-4df4-9dfa-eefed8a39041"
      },
      "source": [
        "# Classification report for our KNN classifier.\n",
        "y_pred = knn.predict(X_test)\n",
        "accuracy = accuracy_score(y_test,y_pred)\n",
        "report = classification_report(y_test, y_pred)\n",
        "cm = confusion_matrix(y_test, y_pred)\n",
        "\n",
        "print(\"Accuracy: \", accuracy)\n",
        "print(\"Classification report:\")\n",
        "print(report)\n",
        "print(\"Confusion matrix:\")\n",
        "print(cm)"
      ],
      "execution_count": null,
      "outputs": [
        {
          "output_type": "stream",
          "text": [
            "Accuracy:  0.9397727272727273\n",
            "Classification report:\n",
            "              precision    recall  f1-score   support\n",
            "\n",
            "           0       0.98      0.90      0.94      1334\n",
            "           1       0.91      0.98      0.94      1306\n",
            "\n",
            "    accuracy                           0.94      2640\n",
            "   macro avg       0.94      0.94      0.94      2640\n",
            "weighted avg       0.94      0.94      0.94      2640\n",
            "\n",
            "Confusion matrix:\n",
            "[[1202  132]\n",
            " [  27 1279]]\n"
          ],
          "name": "stdout"
        }
      ]
    },
    {
      "cell_type": "markdown",
      "metadata": {
        "id": "sU_jNrQN1jis"
      },
      "source": [
        "Model performance for KNN classifier is moderate with a classification report just under the top performing models of 94%. It also demonstrates a fast runtime, and more consistent cross-validation scoring when compared to the previous model without feature selection. SelectKBest in this case was able to improve the cross-validation scoring performance and improve the runtime dramatically, but the classification report performance stayed the same."
      ]
    },
    {
      "cell_type": "markdown",
      "metadata": {
        "id": "rwpizZ047vlZ"
      },
      "source": [
        "## Decision Tree Classifier"
      ]
    },
    {
      "cell_type": "code",
      "metadata": {
        "colab": {
          "base_uri": "https://localhost:8080/"
        },
        "id": "OdO9oHkP7vlk",
        "outputId": "58a0cfcf-d6a0-4112-ee0a-0c95f7a23f54"
      },
      "source": [
        "# Creating initial tree for GridSearchCV to run.\n",
        "decision_tree = tree.DecisionTreeClassifier()\n",
        "\n",
        "# We are looking at a few parameters to see what works best with our model.\n",
        "tree_para = {'criterion':['gini','entropy'],\n",
        "             'max_depth':[10,50,250,500],\n",
        "             'max_features':[3,5,7,9,10]}\n",
        "clf = GridSearchCV(decision_tree, tree_para, cv=5)\n",
        "clf.fit(X_train, y_train)"
      ],
      "execution_count": null,
      "outputs": [
        {
          "output_type": "execute_result",
          "data": {
            "text/plain": [
              "GridSearchCV(cv=5, error_score=nan,\n",
              "             estimator=DecisionTreeClassifier(ccp_alpha=0.0, class_weight=None,\n",
              "                                              criterion='gini', max_depth=None,\n",
              "                                              max_features=None,\n",
              "                                              max_leaf_nodes=None,\n",
              "                                              min_impurity_decrease=0.0,\n",
              "                                              min_impurity_split=None,\n",
              "                                              min_samples_leaf=1,\n",
              "                                              min_samples_split=2,\n",
              "                                              min_weight_fraction_leaf=0.0,\n",
              "                                              presort='deprecated',\n",
              "                                              random_state=None,\n",
              "                                              splitter='best'),\n",
              "             iid='deprecated', n_jobs=None,\n",
              "             param_grid={'criterion': ['gini', 'entropy'],\n",
              "                         'max_depth': [10, 50, 250, 500],\n",
              "                         'max_features': [3, 5, 7, 9, 10]},\n",
              "             pre_dispatch='2*n_jobs', refit=True, return_train_score=False,\n",
              "             scoring=None, verbose=0)"
            ]
          },
          "metadata": {
            "tags": []
          },
          "execution_count": 47
        }
      ]
    },
    {
      "cell_type": "code",
      "metadata": {
        "colab": {
          "base_uri": "https://localhost:8080/"
        },
        "id": "ku61Lhkl7vll",
        "outputId": "6b094325-5b4a-42d9-d4e9-d34873dd4f4a"
      },
      "source": [
        "# Calling best_params_ to find best parameters from GridSearchCV.\n",
        "clf.best_params_"
      ],
      "execution_count": null,
      "outputs": [
        {
          "output_type": "execute_result",
          "data": {
            "text/plain": [
              "{'criterion': 'entropy', 'max_depth': 50, 'max_features': 7}"
            ]
          },
          "metadata": {
            "tags": []
          },
          "execution_count": 48
        }
      ]
    },
    {
      "cell_type": "code",
      "metadata": {
        "colab": {
          "base_uri": "https://localhost:8080/"
        },
        "id": "Lyuqdaou7vll",
        "outputId": "320cf183-08ed-4329-bfb9-bdee86e6211b"
      },
      "source": [
        "# Timing our model.\n",
        "start_time = time.time()\n",
        "\n",
        "# Initialize and train our tree using best parameters from GridSearchCV.\n",
        "decision_tree = tree.DecisionTreeClassifier(\n",
        "    criterion='entropy',\n",
        "    max_depth=50,\n",
        "    max_features=7,\n",
        ")\n",
        "decision_tree.fit(X_train, y_train)\n",
        "\n",
        "# Print model runtime. \n",
        "print(\"--- %s seconds ---\" % round(time.time() - start_time, 3))"
      ],
      "execution_count": null,
      "outputs": [
        {
          "output_type": "stream",
          "text": [
            "--- 0.194 seconds ---\n"
          ],
          "name": "stdout"
        }
      ]
    },
    {
      "cell_type": "code",
      "metadata": {
        "colab": {
          "base_uri": "https://localhost:8080/"
        },
        "id": "aijCwBVN7vlm",
        "outputId": "f0e705ef-5cc6-47bf-f90b-4fbf1503744c"
      },
      "source": [
        "cross_val_score(decision_tree, X_train, y_train, cv=10)"
      ],
      "execution_count": null,
      "outputs": [
        {
          "output_type": "execute_result",
          "data": {
            "text/plain": [
              "array([0.93939394, 0.92329545, 0.94507576, 0.93560606, 0.93560606,\n",
              "       0.93371212, 0.93465909, 0.94223485, 0.94123223, 0.94123223])"
            ]
          },
          "metadata": {
            "tags": []
          },
          "execution_count": 50
        }
      ]
    },
    {
      "cell_type": "code",
      "metadata": {
        "colab": {
          "base_uri": "https://localhost:8080/"
        },
        "id": "dn_Wofv87vlm",
        "outputId": "21aa4f24-15fc-48b5-d7f2-cb20d0fdd614"
      },
      "source": [
        "# Print accuracy score, confusion matrix, and classification report metrics for our Decision Tree.\n",
        "y_pred = decision_tree.predict(X_test)\n",
        "dt_accuracy = accuracy_score(y_test,y_pred)\n",
        "decision_tree_report = classification_report(y_test, y_pred)\n",
        "cm = confusion_matrix(y_test, y_pred)\n",
        "\n",
        "print(\"Accuracy: \", dt_accuracy)\n",
        "print(\"Classification report:\")\n",
        "print(decision_tree_report)\n",
        "print(\"Confusion matrix:\")\n",
        "print(cm)"
      ],
      "execution_count": null,
      "outputs": [
        {
          "output_type": "stream",
          "text": [
            "Accuracy:  0.9359848484848485\n",
            "Classification report:\n",
            "              precision    recall  f1-score   support\n",
            "\n",
            "           0       0.95      0.92      0.94      1334\n",
            "           1       0.92      0.95      0.94      1306\n",
            "\n",
            "    accuracy                           0.94      2640\n",
            "   macro avg       0.94      0.94      0.94      2640\n",
            "weighted avg       0.94      0.94      0.94      2640\n",
            "\n",
            "Confusion matrix:\n",
            "[[1227  107]\n",
            " [  62 1244]]\n"
          ],
          "name": "stdout"
        }
      ]
    },
    {
      "cell_type": "markdown",
      "metadata": {
        "id": "jOsFgVpR7vlm"
      },
      "source": [
        "In this case our Decision Tree model is performing very well with excellent runtimes, consisten cross-validation scoring, and a classification report that is not showing any signs of overfitting. There is some reduction in performance due to data lost during feature selection."
      ]
    },
    {
      "cell_type": "markdown",
      "metadata": {
        "id": "y9nZcXwF8AwI"
      },
      "source": [
        "## RandomForest Classifier"
      ]
    },
    {
      "cell_type": "code",
      "metadata": {
        "colab": {
          "background_save": true
        },
        "id": "7YWyk4B98AwM",
        "outputId": "6f0fed5c-f2e5-412d-e680-18327811854e"
      },
      "source": [
        "# Creating a Random Forest Classifier to use with GridSearchCV.\n",
        "rfc = ensemble.RandomForestClassifier()\n",
        "\n",
        "# Creating a parameter grid to find best combination of hyperparameters. \n",
        "param_grid = { \n",
        "    'n_estimators': [10,100,500],\n",
        "    'max_features': ['auto', 'sqrt', 'log2'],\n",
        "    'max_depth' : [3,6,9,10],\n",
        "    'criterion' :['gini', 'entropy']\n",
        "}\n",
        "\n",
        "# Using GridSearchCV to find best hyperparamater combination.\n",
        "CV_rfc = GridSearchCV(estimator=rfc, param_grid=param_grid, cv= 5)\n",
        "\n",
        "# Fitting GridSearchCV to our newly decomposed data.\n",
        "CV_rfc.fit(X_train, y_train)"
      ],
      "execution_count": null,
      "outputs": [
        {
          "output_type": "execute_result",
          "data": {
            "text/plain": [
              "GridSearchCV(cv=5, error_score=nan,\n",
              "             estimator=RandomForestClassifier(bootstrap=True, ccp_alpha=0.0,\n",
              "                                              class_weight=None,\n",
              "                                              criterion='gini', max_depth=None,\n",
              "                                              max_features='auto',\n",
              "                                              max_leaf_nodes=None,\n",
              "                                              max_samples=None,\n",
              "                                              min_impurity_decrease=0.0,\n",
              "                                              min_impurity_split=None,\n",
              "                                              min_samples_leaf=1,\n",
              "                                              min_samples_split=2,\n",
              "                                              min_weight_fraction_leaf=0.0,\n",
              "                                              n_estimators=100, n_jobs=None,\n",
              "                                              oob_score=False,\n",
              "                                              random_state=None, verbose=0,\n",
              "                                              warm_start=False),\n",
              "             iid='deprecated', n_jobs=None,\n",
              "             param_grid={'criterion': ['gini', 'entropy'],\n",
              "                         'max_depth': [3, 6, 9, 10],\n",
              "                         'max_features': ['auto', 'sqrt', 'log2'],\n",
              "                         'n_estimators': [10, 100, 500]},\n",
              "             pre_dispatch='2*n_jobs', refit=True, return_train_score=False,\n",
              "             scoring=None, verbose=0)"
            ]
          },
          "metadata": {
            "tags": []
          },
          "execution_count": 0
        }
      ]
    },
    {
      "cell_type": "code",
      "metadata": {
        "colab": {
          "base_uri": "https://localhost:8080/"
        },
        "id": "32NvZQQC8AwN",
        "outputId": "ae49d206-e2a8-46a1-cbb6-93a0cb22851b"
      },
      "source": [
        "# Calling best_params_ to find best parameters from GridSearchCV.\n",
        "CV_rfc.best_params_"
      ],
      "execution_count": null,
      "outputs": [
        {
          "output_type": "execute_result",
          "data": {
            "text/plain": [
              "{'criterion': 'gini',\n",
              " 'max_depth': 10,\n",
              " 'max_features': 'log2',\n",
              " 'n_estimators': 500}"
            ]
          },
          "metadata": {
            "tags": []
          },
          "execution_count": 54
        }
      ]
    },
    {
      "cell_type": "markdown",
      "metadata": {
        "id": "kpD0n4VN8AwN"
      },
      "source": [
        "Now that we have the most optimized hyperparameters from GridSearchCV we can use these to build our model and score the performance."
      ]
    },
    {
      "cell_type": "code",
      "metadata": {
        "colab": {
          "base_uri": "https://localhost:8080/"
        },
        "id": "FDep_pnd8AwO",
        "outputId": "1a2df144-278a-4790-9194-6b6fcab8cb34"
      },
      "source": [
        "# Timing our model.\n",
        "start_time = time.time()\n",
        "\n",
        "# Creating our model using optimized hyperparameters from GridSearchCV.\n",
        "rfc = ensemble.RandomForestClassifier(criterion='gini', \n",
        "                                      max_depth=10,\n",
        "                                      max_features='log2',\n",
        "                                      n_estimators=500, random_state=42)\n",
        "\n",
        "# Fit our newly decomposed data to our model.\n",
        "rfc.fit(X_train, y_train)\n",
        "\n",
        "# Print model time. \n",
        "print(\"--- %s seconds ---\" % round(time.time() - start_time, 3))"
      ],
      "execution_count": null,
      "outputs": [
        {
          "output_type": "stream",
          "text": [
            "--- 13.464 seconds ---\n"
          ],
          "name": "stdout"
        }
      ]
    },
    {
      "cell_type": "markdown",
      "metadata": {
        "id": "A6VoHx-z8AwO"
      },
      "source": [
        "Model runtime is much longer in comparison to our Decision Tree model. This is due to the Random Forest modeling being more computationally intensive as it has to generate a multitude of Decision Trees instead of just one."
      ]
    },
    {
      "cell_type": "code",
      "metadata": {
        "colab": {
          "base_uri": "https://localhost:8080/"
        },
        "id": "vMhtU0W98AwP",
        "outputId": "271b3188-e942-43ab-9748-39d005a92a3a"
      },
      "source": [
        "# Cross-valdiation score for our Random Forest Classifier.\n",
        "cross_val_score(rfc, X_train, y_train, cv=10)"
      ],
      "execution_count": null,
      "outputs": [
        {
          "output_type": "execute_result",
          "data": {
            "text/plain": [
              "array([0.95265152, 0.93844697, 0.94981061, 0.94791667, 0.93276515,\n",
              "       0.94034091, 0.94507576, 0.95170455, 0.94691943, 0.95545024])"
            ]
          },
          "metadata": {
            "tags": []
          },
          "execution_count": 56
        }
      ]
    },
    {
      "cell_type": "markdown",
      "metadata": {
        "id": "YYdU77ey8AwP"
      },
      "source": [
        "The cross-validation scoring is very consistent and shows that our model is performing well on the training set when split into ten cross-validation cycles. This model will be able to handle incoming new data well accorind to this scoring report."
      ]
    },
    {
      "cell_type": "code",
      "metadata": {
        "colab": {
          "base_uri": "https://localhost:8080/"
        },
        "id": "NQTBWIv48AwP",
        "outputId": "edeed559-21d0-4a6a-92da-37480f0aace3"
      },
      "source": [
        "# Print classification report for Random Forest Classifier.\n",
        "y_pred = rfc.predict(X_test) \n",
        "rfc_accuracy = accuracy_score(y_test,y_pred)\n",
        "rfc_report = classification_report(y_test, y_pred)\n",
        "rfc_cm = confusion_matrix(y_test, y_pred)\n",
        "\n",
        "print(\"Classification report:\")\n",
        "print(\"Accuracy: \", rfc_accuracy)\n",
        "print(rfc_report)\n",
        "print(\"Confusion matrix:\")\n",
        "print(rfc_cm)"
      ],
      "execution_count": null,
      "outputs": [
        {
          "output_type": "stream",
          "text": [
            "Classification report:\n",
            "Accuracy:  0.9454545454545454\n",
            "              precision    recall  f1-score   support\n",
            "\n",
            "           0       0.97      0.92      0.94      1334\n",
            "           1       0.92      0.97      0.95      1306\n",
            "\n",
            "    accuracy                           0.95      2640\n",
            "   macro avg       0.95      0.95      0.95      2640\n",
            "weighted avg       0.95      0.95      0.95      2640\n",
            "\n",
            "Confusion matrix:\n",
            "[[1227  107]\n",
            " [  37 1269]]\n"
          ],
          "name": "stdout"
        }
      ]
    },
    {
      "cell_type": "markdown",
      "metadata": {
        "id": "9kwbqeIN8AwP"
      },
      "source": [
        "Great, we have boosted model performance in comparison to our Decision Tree model with an overall boost in weighted average scoring and accuracy scoring of about 1%. The increase in performance is not as major as we saw without feature selection especially in comparison to the still signficantly increased runtime of the Random Forest classifier with SelectKBest."
      ]
    },
    {
      "cell_type": "markdown",
      "metadata": {
        "id": "wQY7RuSrcKZw"
      },
      "source": [
        "## XGBoost Classifer"
      ]
    },
    {
      "cell_type": "markdown",
      "metadata": {
        "id": "LIr7bH-2cKZ5"
      },
      "source": [
        "XGBoost stands for \"Extreme Gradient Boosting\" and is one of the newer supervised machine learning models which has seen a surge in popularity. This is due to XGBoost usually performing very well on complex datasets such as the financial data at hand.\n",
        "\n",
        "XGBoost uses an ensemble of decision trees and a regularization term to create models that perform well in the wild. The regularization is one part most tree packages treat less carefully, or simply ignore, which is what makes XGBoost unique.\n",
        "\n",
        "XGBoost, like Decision Tree and Random Forest models, are highly dependent on the hyperparameters specified when building the model. We will first build a model without hyperparameter tuning to see what results we get and then implement a RandomizedSearchCV function to find the best combination of parameters."
      ]
    },
    {
      "cell_type": "code",
      "metadata": {
        "colab": {
          "base_uri": "https://localhost:8080/"
        },
        "id": "GRV1AyGzcKZ6",
        "outputId": "b4b3d4c2-cdc5-4409-aa1d-0da5a98bc4b9"
      },
      "source": [
        "# Building XGBoost classifier.\n",
        "clf = xgb.XGBClassifier()\n",
        "\n",
        "# Timing our model.\n",
        "start_time = time.time()\n",
        "\n",
        "# Creating our XGBoost model.\n",
        "clf = xgb.XGBClassifier()\n",
        "\n",
        "# Fit our newly decomposed data to our model.\n",
        "clf.fit(X_train, y_train)\n",
        "\n",
        "# Print model time. \n",
        "print(\"--- %s seconds ---\" % round(time.time() - start_time, 3))"
      ],
      "execution_count": null,
      "outputs": [
        {
          "output_type": "stream",
          "text": [
            "--- 0.944 seconds ---\n"
          ],
          "name": "stdout"
        }
      ]
    },
    {
      "cell_type": "code",
      "metadata": {
        "colab": {
          "base_uri": "https://localhost:8080/"
        },
        "id": "FjqgHzdn3qzd",
        "outputId": "5f9336ac-f3fb-454f-c283-383934ee52e5"
      },
      "source": [
        "# Cross-valdiation score for our XGBoost Classifier.\n",
        "cross_val_score(clf, X_train, y_train, cv=10)"
      ],
      "execution_count": null,
      "outputs": [
        {
          "output_type": "execute_result",
          "data": {
            "text/plain": [
              "array([0.89962121, 0.89772727, 0.89299242, 0.89867424, 0.88541667,\n",
              "       0.88636364, 0.8967803 , 0.89299242, 0.9042654 , 0.92037915])"
            ]
          },
          "metadata": {
            "tags": []
          },
          "execution_count": 157
        }
      ]
    },
    {
      "cell_type": "code",
      "metadata": {
        "colab": {
          "base_uri": "https://localhost:8080/"
        },
        "id": "NpmaXZvCcKZ6",
        "outputId": "1d4f4481-8e49-40d8-d78f-c6f6a5ff0816"
      },
      "source": [
        "# Print classification report for our XGBoost classifier.\n",
        "y_pred = clf.predict(X_test)\n",
        "accuracy = accuracy_score(y_test,y_pred)\n",
        "report = classification_report(y_test, y_pred)\n",
        "cm = confusion_matrix(y_test, y_pred)\n",
        "\n",
        "print(\"Accuracy: \", accuracy)\n",
        "print(\"Classification report:\")\n",
        "print(report)\n",
        "print(\"Confusion matrix:\")\n",
        "print(cm)"
      ],
      "execution_count": null,
      "outputs": [
        {
          "output_type": "stream",
          "text": [
            "Accuracy:  0.8943181818181818\n",
            "Classification report:\n",
            "              precision    recall  f1-score   support\n",
            "\n",
            "           0       0.92      0.87      0.89      1334\n",
            "           1       0.87      0.92      0.90      1306\n",
            "\n",
            "    accuracy                           0.89      2640\n",
            "   macro avg       0.90      0.89      0.89      2640\n",
            "weighted avg       0.90      0.89      0.89      2640\n",
            "\n",
            "Confusion matrix:\n",
            "[[1155  179]\n",
            " [ 100 1206]]\n"
          ],
          "name": "stdout"
        }
      ]
    },
    {
      "cell_type": "markdown",
      "metadata": {
        "id": "sPV5CZqFcKZ7"
      },
      "source": [
        "### XGBoost with RandomizedSearchCV"
      ]
    },
    {
      "cell_type": "code",
      "metadata": {
        "id": "ELkazlW4cKZ7",
        "colab": {
          "base_uri": "https://localhost:8080/"
        },
        "outputId": "6bff4430-909b-4b37-81a6-8806be29415b"
      },
      "source": [
        "# Create parameter grid for RandomizedSearchCV.\n",
        "parameters = {'n_estimators':[250,500,1000],\n",
        "              'max_depth':[2,3,5,7,9,10],\n",
        "              'learning_rate':[0.01,0.1],\n",
        "              'subsample':[0.5,1],\n",
        "              'colsample_bytree':[1,0.5],\n",
        "              'gamma':[0.5,1],\n",
        "              'min_child_weight':[1,2]\n",
        "              }\n",
        "\n",
        "# Create decision tree classifier with RandomizedSearchCV.\n",
        "CV_clf = RandomizedSearchCV(clf, parameters, random_state=0)\n",
        "\n",
        "# Fitting decision tree classifier to training data.\n",
        "CV_clf.fit(X_train, y_train)"
      ],
      "execution_count": null,
      "outputs": [
        {
          "output_type": "execute_result",
          "data": {
            "text/plain": [
              "RandomizedSearchCV(cv=None, error_score=nan,\n",
              "                   estimator=XGBClassifier(base_score=0.5, booster='gbtree',\n",
              "                                           colsample_bylevel=1,\n",
              "                                           colsample_bynode=1,\n",
              "                                           colsample_bytree=1, gamma=0,\n",
              "                                           learning_rate=0.1, max_delta_step=0,\n",
              "                                           max_depth=3, min_child_weight=1,\n",
              "                                           missing=None, n_estimators=100,\n",
              "                                           n_jobs=1, nthread=None,\n",
              "                                           objective='binary:logistic',\n",
              "                                           random_state=0, reg_alpha=0,\n",
              "                                           reg_lambda=1...\n",
              "                                           seed=None, silent=None, subsample=1,\n",
              "                                           verbosity=1),\n",
              "                   iid='deprecated', n_iter=10, n_jobs=None,\n",
              "                   param_distributions={'colsample_bytree': [1, 0.5],\n",
              "                                        'gamma': [0.5, 1],\n",
              "                                        'learning_rate': [0.01, 0.1],\n",
              "                                        'max_depth': [2, 3, 5, 7, 9, 10],\n",
              "                                        'min_child_weight': [1, 2],\n",
              "                                        'n_estimators': [250, 500, 1000],\n",
              "                                        'subsample': [0.5, 1]},\n",
              "                   pre_dispatch='2*n_jobs', random_state=0, refit=True,\n",
              "                   return_train_score=False, scoring=None, verbose=0)"
            ]
          },
          "metadata": {
            "tags": []
          },
          "execution_count": 103
        }
      ]
    },
    {
      "cell_type": "code",
      "metadata": {
        "id": "kJr7tfIXcKZ7",
        "colab": {
          "base_uri": "https://localhost:8080/"
        },
        "outputId": "e8596843-3b78-42cf-8db0-9753f0c5a77d"
      },
      "source": [
        "# Calling .best_params_ to pull best parameters from RandomizedSearchCV.\n",
        "CV_clf.best_params_"
      ],
      "execution_count": null,
      "outputs": [
        {
          "output_type": "execute_result",
          "data": {
            "text/plain": [
              "{'colsample_bytree': 0.5,\n",
              " 'gamma': 1,\n",
              " 'learning_rate': 0.1,\n",
              " 'max_depth': 10,\n",
              " 'min_child_weight': 1,\n",
              " 'n_estimators': 500,\n",
              " 'subsample': 0.5}"
            ]
          },
          "metadata": {
            "tags": []
          },
          "execution_count": 104
        }
      ]
    },
    {
      "cell_type": "code",
      "metadata": {
        "colab": {
          "base_uri": "https://localhost:8080/"
        },
        "id": "bK-7-hczc5n2",
        "outputId": "f26fcca3-5cb8-4968-a149-23921283334c"
      },
      "source": [
        "# Timing our model.\n",
        "start_time = time.time()\n",
        "\n",
        "# Building XGBoost classifier.\n",
        "clf = xgb.XGBClassifier(\n",
        "    colsample_bytree=0.5,\n",
        "    gamma=1,\n",
        "    learning_rate=0.1,\n",
        "    max_depth=10,\n",
        "    min_child_weight=1,\n",
        "    n_estimators=500,\n",
        "    subsample=0.5,)\n",
        "\n",
        "# Fit our newly decomposed data to our model.\n",
        "clf.fit(X_train, y_train)\n",
        "\n",
        "# Print model time. \n",
        "print(\"--- %s seconds ---\" % round(time.time() - start_time, 3))"
      ],
      "execution_count": null,
      "outputs": [
        {
          "output_type": "stream",
          "text": [
            "--- 7.646 seconds ---\n"
          ],
          "name": "stdout"
        }
      ]
    },
    {
      "cell_type": "code",
      "metadata": {
        "colab": {
          "base_uri": "https://localhost:8080/"
        },
        "id": "lcBU7P_T3xVo",
        "outputId": "68ad89d9-4ef4-480e-aae6-1c1d3013835d"
      },
      "source": [
        "# Cross-valdiation score for our XGBoost Classifier.\n",
        "cross_val_score(clf, X_train, y_train, cv=10)"
      ],
      "execution_count": null,
      "outputs": [
        {
          "output_type": "execute_result",
          "data": {
            "text/plain": [
              "array([0.9782197 , 0.96212121, 0.97632576, 0.96969697, 0.96685606,\n",
              "       0.96969697, 0.95359848, 0.97253788, 0.96777251, 0.97251185])"
            ]
          },
          "metadata": {
            "tags": []
          },
          "execution_count": 151
        }
      ]
    },
    {
      "cell_type": "code",
      "metadata": {
        "colab": {
          "base_uri": "https://localhost:8080/"
        },
        "id": "51WVPeljc86q",
        "outputId": "900129ea-c843-4913-937c-272c8286eaa0"
      },
      "source": [
        "# Print classification report for our XGBoost classifier.\n",
        "y_pred = clf.predict(X_test)\n",
        "accuracy = accuracy_score(y_test,y_pred)\n",
        "report = classification_report(y_test, y_pred)\n",
        "cm = confusion_matrix(y_test, y_pred)\n",
        "\n",
        "print(\"Accuracy: \", accuracy)\n",
        "print(\"Classification report:\")\n",
        "print(report)\n",
        "print(\"Confusion matrix:\")\n",
        "print(cm)"
      ],
      "execution_count": null,
      "outputs": [
        {
          "output_type": "stream",
          "text": [
            "Accuracy:  0.9625\n",
            "Classification report:\n",
            "              precision    recall  f1-score   support\n",
            "\n",
            "           0       0.98      0.94      0.96      1334\n",
            "           1       0.94      0.98      0.96      1306\n",
            "\n",
            "    accuracy                           0.96      2640\n",
            "   macro avg       0.96      0.96      0.96      2640\n",
            "weighted avg       0.96      0.96      0.96      2640\n",
            "\n",
            "Confusion matrix:\n",
            "[[1257   77]\n",
            " [  22 1284]]\n"
          ],
          "name": "stdout"
        }
      ]
    },
    {
      "cell_type": "markdown",
      "metadata": {
        "id": "0zD9bSymkFgx"
      },
      "source": [
        "# PCA Feature Decomposition"
      ]
    },
    {
      "cell_type": "code",
      "metadata": {
        "colab": {
          "base_uri": "https://localhost:8080/"
        },
        "id": "D8uZR-jSBjv9",
        "outputId": "b19182f2-ecd1-4405-9280-2d5451f0318a"
      },
      "source": [
        "# Examining initial X DataFrame shape.\n",
        "X.shape "
      ],
      "execution_count": null,
      "outputs": [
        {
          "output_type": "execute_result",
          "data": {
            "text/plain": [
              "(13198, 95)"
            ]
          },
          "metadata": {
            "tags": []
          },
          "execution_count": 41
        }
      ]
    },
    {
      "cell_type": "code",
      "metadata": {
        "colab": {
          "base_uri": "https://localhost:8080/"
        },
        "id": "KB_Jrw0Do6E9",
        "outputId": "c88ad406-0790-420b-b041-159b1c318af4"
      },
      "source": [
        "# y is our target variable of bankruptcy. We drop our target from X.\n",
        "y = df['Bankrupt?']\n",
        "X = df.drop(columns=['Bankrupt?'])\n",
        "\n",
        "# Apply SMOTE to fix class imbalance.\n",
        "sm = SMOTE(sampling_strategy='minority', random_state=42)\n",
        "\n",
        "X, y = sm.fit_resample(X, y)\n",
        "\n",
        "# First we must scale our data so that it can be fit into our PCA model.\n",
        "scaler = StandardScaler()\n",
        "scaled_data = scaler.fit_transform(X)\n",
        "\n",
        "# Apply PCA to our scaled data.\n",
        "sklearn_pca = PCA(n_components = 0.95)\n",
        "X_pca = sklearn_pca.fit_transform(scaled_data)"
      ],
      "execution_count": null,
      "outputs": [
        {
          "output_type": "stream",
          "text": [
            "/usr/local/lib/python3.7/dist-packages/sklearn/utils/deprecation.py:87: FutureWarning: Function safe_indexing is deprecated; safe_indexing is deprecated in version 0.22 and will be removed in version 0.24.\n",
            "  warnings.warn(msg, category=FutureWarning)\n"
          ],
          "name": "stderr"
        }
      ]
    },
    {
      "cell_type": "code",
      "metadata": {
        "colab": {
          "base_uri": "https://localhost:8080/"
        },
        "id": "Twvyw-hY37Jp",
        "outputId": "4321e5d3-1368-4006-a6f4-d763cc57f351"
      },
      "source": [
        "# PCA has reduced our number of features to 51 to explain 95% of variance.\n",
        "X_pca.shape"
      ],
      "execution_count": null,
      "outputs": [
        {
          "output_type": "execute_result",
          "data": {
            "text/plain": [
              "(13198, 51)"
            ]
          },
          "metadata": {
            "tags": []
          },
          "execution_count": 60
        }
      ]
    },
    {
      "cell_type": "code",
      "metadata": {
        "id": "FeeJ_TwTCweJ"
      },
      "source": [
        "# Split PCA data.\n",
        "\n",
        "X_train, X_test, y_train, y_test = train_test_split(X_pca, y, test_size=0.20, random_state=42)"
      ],
      "execution_count": null,
      "outputs": []
    },
    {
      "cell_type": "markdown",
      "metadata": {
        "id": "Hk_9ChgRBx0a"
      },
      "source": [
        "## Machine Learning Models with PCA Feature Decomposition"
      ]
    },
    {
      "cell_type": "markdown",
      "metadata": {
        "id": "lsdeC8wYBx0a"
      },
      "source": [
        "### Logistic Regression Classifier"
      ]
    },
    {
      "cell_type": "code",
      "metadata": {
        "colab": {
          "base_uri": "https://localhost:8080/"
        },
        "id": "UZL6tsJzBx0b",
        "outputId": "bd312652-779a-40ad-fb82-ad79668ed424"
      },
      "source": [
        "# Timing our model.\n",
        "start_time = time.time()\n",
        "\n",
        "# Adjust our max iteration value, 100 is too low and gives errors.\n",
        "clf = LogisticRegression(max_iter=1000).fit(X_train, y_train)\n",
        "\n",
        "print(\"--- %s seconds ---\" % round(time.time() - start_time, 3))"
      ],
      "execution_count": null,
      "outputs": [
        {
          "output_type": "stream",
          "text": [
            "--- 0.419 seconds ---\n"
          ],
          "name": "stdout"
        }
      ]
    },
    {
      "cell_type": "code",
      "metadata": {
        "colab": {
          "base_uri": "https://localhost:8080/"
        },
        "id": "GxrzCOckBx0b",
        "outputId": "0c4dab1c-0cb2-4707-af31-25f1795c596c"
      },
      "source": [
        "# Cross validation score for Logistic Regression Classifier.\n",
        "cross_val_score(clf, X_train, y_train, cv=10)"
      ],
      "execution_count": null,
      "outputs": [
        {
          "output_type": "execute_result",
          "data": {
            "text/plain": [
              "array([0.90151515, 0.90151515, 0.90246212, 0.90814394, 0.89393939,\n",
              "       0.89583333, 0.89393939, 0.90909091, 0.89099526, 0.92132701])"
            ]
          },
          "metadata": {
            "tags": []
          },
          "execution_count": 64
        }
      ]
    },
    {
      "cell_type": "code",
      "metadata": {
        "colab": {
          "base_uri": "https://localhost:8080/"
        },
        "id": "OL1S05GfBx0b",
        "outputId": "e023d39c-e8d7-4582-b757-995807477552"
      },
      "source": [
        "# Building classification report for our logistic regression classifier.\n",
        "y_pred = clf.predict(X_test)\n",
        "accuracy = accuracy_score(y_test,y_pred)\n",
        "report = classification_report(y_test, y_pred)\n",
        "cm = confusion_matrix(y_test, y_pred)\n",
        "\n",
        "print(\"Accuracy: \", accuracy)\n",
        "print(\"Classification report:\")\n",
        "print(report)\n",
        "print(\"Confusion matrix:\")\n",
        "print(cm)"
      ],
      "execution_count": null,
      "outputs": [
        {
          "output_type": "stream",
          "text": [
            "Accuracy:  0.9045454545454545\n",
            "Classification report:\n",
            "              precision    recall  f1-score   support\n",
            "\n",
            "           0       0.93      0.88      0.90      1334\n",
            "           1       0.89      0.93      0.91      1306\n",
            "\n",
            "    accuracy                           0.90      2640\n",
            "   macro avg       0.91      0.90      0.90      2640\n",
            "weighted avg       0.91      0.90      0.90      2640\n",
            "\n",
            "Confusion matrix:\n",
            "[[1177  157]\n",
            " [  95 1211]]\n"
          ],
          "name": "stdout"
        }
      ]
    },
    {
      "cell_type": "markdown",
      "metadata": {
        "id": "iNv_Hb6FBx0c"
      },
      "source": [
        "The logistic regression classification model without any feature selection was having a difficult time predicting bankruptcy, with low levels of recall and accuracy notably of about 53%. This is a significant performance increase, with an accuracy scoring of roughly 86% and consistent cross-validation scoring. Runtime is also significantly reduced from a previous runtime without feature selection of 1.1 seconds, to 0.063 seconds with SelectKBest feature selection. This is a runtime decrease of around 94% while signficantly increasing performance. This demonstrates that the most computationally intensive option will not always provide the best results and data preparation is key for some models performance.\n",
        "\n",
        "By refining the data with SelectKBest feature selection, we have shown the importance of eliminating noise from the dataset for some models such as logistic regression. Since logistic regression looks for a linearly separable decision boundary, it makes since that our initial model was having a difficult time finding a linear boundary within so many data points without feature selection.\n",
        "\n",
        "Still performance leaves much to be desired especially in comparison to other methods outlined previously."
      ]
    },
    {
      "cell_type": "markdown",
      "metadata": {
        "id": "SvLU_qOdBx0c"
      },
      "source": [
        "### Gradient Boosting Classifier"
      ]
    },
    {
      "cell_type": "code",
      "metadata": {
        "colab": {
          "base_uri": "https://localhost:8080/"
        },
        "id": "Obh8HsQPBx0c",
        "outputId": "4a90f760-769d-4476-c2b7-dc3726948cfb"
      },
      "source": [
        "# Timing our model.\n",
        "start_time = time.time()\n",
        "\n",
        "# Creating gradient boost classifier.\n",
        "clf = GradientBoostingClassifier()\n",
        "\n",
        "# Fitting model to our data.\n",
        "clf.fit(X_train, y_train)\n",
        "\n",
        "# Print model time. \n",
        "print(\"--- %s seconds ---\" % round(time.time() - start_time, 3))"
      ],
      "execution_count": null,
      "outputs": [
        {
          "output_type": "stream",
          "text": [
            "--- 28.011 seconds ---\n"
          ],
          "name": "stdout"
        }
      ]
    },
    {
      "cell_type": "code",
      "metadata": {
        "colab": {
          "base_uri": "https://localhost:8080/"
        },
        "id": "5LbMiCSWBx0c",
        "outputId": "bd1a4a96-725d-4c28-f337-015b236f00df"
      },
      "source": [
        "# Cross validation score for Gradient Boosting Classifier.\n",
        "cross_val_score(clf, X_train, y_train, cv=10)"
      ],
      "execution_count": null,
      "outputs": [
        {
          "output_type": "execute_result",
          "data": {
            "text/plain": [
              "array([0.95170455, 0.95170455, 0.95454545, 0.95359848, 0.93655303,\n",
              "       0.93939394, 0.93844697, 0.9469697 , 0.93744076, 0.95545024])"
            ]
          },
          "metadata": {
            "tags": []
          },
          "execution_count": 67
        }
      ]
    },
    {
      "cell_type": "code",
      "metadata": {
        "colab": {
          "base_uri": "https://localhost:8080/"
        },
        "id": "I0fxUdFABx0c",
        "outputId": "0a5127ff-36d4-4650-ae2d-74c2dc74d94d"
      },
      "source": [
        "# Classification report for our Gradient Boosting classifier.\n",
        "y_pred = clf.predict(X_test)\n",
        "accuracy = accuracy_score(y_test,y_pred)\n",
        "report = classification_report(y_test, y_pred)\n",
        "cm = confusion_matrix(y_test, y_pred)\n",
        "\n",
        "print(\"Accuracy: \", accuracy)\n",
        "print(\"Classification report:\")\n",
        "print(report)\n",
        "print(\"Confusion matrix:\")\n",
        "print(cm)"
      ],
      "execution_count": null,
      "outputs": [
        {
          "output_type": "stream",
          "text": [
            "Accuracy:  0.9492424242424242\n",
            "Classification report:\n",
            "              precision    recall  f1-score   support\n",
            "\n",
            "           0       0.98      0.92      0.95      1334\n",
            "           1       0.92      0.98      0.95      1306\n",
            "\n",
            "    accuracy                           0.95      2640\n",
            "   macro avg       0.95      0.95      0.95      2640\n",
            "weighted avg       0.95      0.95      0.95      2640\n",
            "\n",
            "Confusion matrix:\n",
            "[[1222  112]\n",
            " [  22 1284]]\n"
          ],
          "name": "stdout"
        }
      ]
    },
    {
      "cell_type": "markdown",
      "metadata": {
        "id": "SIIBMI5LBx0d"
      },
      "source": [
        "Compared to our initial Gradient Boosting classification model, this model is showing a reduction in runtime but with a decrease in performance metrics. This model will likely not be used in production as the models advantage of reduced runtime is not worth the loss in accuracy and various other performance metrics overall. "
      ]
    },
    {
      "cell_type": "markdown",
      "metadata": {
        "id": "JI-esWToBx0d"
      },
      "source": [
        "### KNN Classifier"
      ]
    },
    {
      "cell_type": "markdown",
      "metadata": {
        "id": "BGZgQiMpBx0d"
      },
      "source": [
        "KNN is highly dependent on the number of neighbors used, or the K-value. We will use GridSearchCV again to find the best k-value.\n"
      ]
    },
    {
      "cell_type": "code",
      "metadata": {
        "colab": {
          "base_uri": "https://localhost:8080/"
        },
        "id": "zw5HNizaBx0d",
        "outputId": "45cfed51-9b66-47d2-845e-9eaceba93b77"
      },
      "source": [
        "# Creating KNN classifier for GridSearchCV to run.\n",
        "knn = KNeighborsClassifier()\n",
        "\n",
        "# We are looking at the n_neighbors paramater which defines the K value to see what works best with our model.\n",
        "knn_para = {'n_neighbors':[1,2,3,5,7,9,11,13,15,17,19]}\n",
        "\n",
        "# Creating GridSearchCV with KNN parameters and a cross-validation number of 5. \n",
        "clf = GridSearchCV(knn, knn_para, cv=5)\n",
        "\n",
        "# Fitting GridSearchCV to training set.\n",
        "clf.fit(X_train, y_train)"
      ],
      "execution_count": null,
      "outputs": [
        {
          "output_type": "execute_result",
          "data": {
            "text/plain": [
              "GridSearchCV(cv=5, error_score=nan,\n",
              "             estimator=KNeighborsClassifier(algorithm='auto', leaf_size=30,\n",
              "                                            metric='minkowski',\n",
              "                                            metric_params=None, n_jobs=None,\n",
              "                                            n_neighbors=5, p=2,\n",
              "                                            weights='uniform'),\n",
              "             iid='deprecated', n_jobs=None,\n",
              "             param_grid={'n_neighbors': [1, 2, 3, 5, 7, 9, 11, 13, 15, 17, 19]},\n",
              "             pre_dispatch='2*n_jobs', refit=True, return_train_score=False,\n",
              "             scoring=None, verbose=0)"
            ]
          },
          "metadata": {
            "tags": []
          },
          "execution_count": 69
        }
      ]
    },
    {
      "cell_type": "code",
      "metadata": {
        "colab": {
          "base_uri": "https://localhost:8080/"
        },
        "id": "A1gZizKcBx0d",
        "outputId": "59e8223f-17be-4be8-e561-c87ae402e833"
      },
      "source": [
        "# Calling GridSearchCV best_params_ function to determine the best parameters gathered.\n",
        "clf.best_params_"
      ],
      "execution_count": null,
      "outputs": [
        {
          "output_type": "execute_result",
          "data": {
            "text/plain": [
              "{'n_neighbors': 2}"
            ]
          },
          "metadata": {
            "tags": []
          },
          "execution_count": 70
        }
      ]
    },
    {
      "cell_type": "markdown",
      "metadata": {
        "id": "_2nT-w_IBx0d"
      },
      "source": [
        "The best K value for our K-Nearest Neighbors classifier in this case is going to be 2. GridSearchCV determines this by finding the best mean test scoring in the number of cross-validations specified, in this case 5. "
      ]
    },
    {
      "cell_type": "code",
      "metadata": {
        "colab": {
          "base_uri": "https://localhost:8080/"
        },
        "id": "2pjwxxtvBx0e",
        "outputId": "ada3e643-13ee-4eed-9064-3a2fd565faf2"
      },
      "source": [
        "# Timing our model.\n",
        "start_time = time.time()\n",
        "\n",
        "# Create the KNN Classifier with parameters from GridSearchCV.\n",
        "knn = KNeighborsClassifier(n_neighbors=2)\n",
        "\n",
        "#Train our model.\n",
        "knn.fit(X_train, y_train)\n",
        "\n",
        "# Print model time. \n",
        "print(\"--- %s seconds ---\" % round(time.time() - start_time, 3))"
      ],
      "execution_count": null,
      "outputs": [
        {
          "output_type": "stream",
          "text": [
            "--- 0.075 seconds ---\n"
          ],
          "name": "stdout"
        }
      ]
    },
    {
      "cell_type": "code",
      "metadata": {
        "colab": {
          "base_uri": "https://localhost:8080/"
        },
        "id": "SBMmxdWJBx0e",
        "outputId": "f57ab213-bc0b-414e-9053-856c2eae5902"
      },
      "source": [
        "# Cross validation score for KNN.\n",
        "cross_val_score(knn, X_train, y_train, cv=10)"
      ],
      "execution_count": null,
      "outputs": [
        {
          "output_type": "execute_result",
          "data": {
            "text/plain": [
              "array([0.97916667, 0.97727273, 0.96306818, 0.97253788, 0.96401515,\n",
              "       0.96496212, 0.96496212, 0.9782197 , 0.97725118, 0.98104265])"
            ]
          },
          "metadata": {
            "tags": []
          },
          "execution_count": 72
        }
      ]
    },
    {
      "cell_type": "markdown",
      "metadata": {
        "id": "MOVjGOfPBx0e"
      },
      "source": [
        "Cross-validation scoring for KNN classification is consistent and demonstrates similar performance in the classification report. We've improved performance metrics by about 3%, a marked increase than our KNN model before feature selection. "
      ]
    },
    {
      "cell_type": "code",
      "metadata": {
        "colab": {
          "base_uri": "https://localhost:8080/"
        },
        "id": "kUSOtbNuBx0e",
        "outputId": "377b5924-9769-4995-d6a0-87f53fc16834"
      },
      "source": [
        "# Classification report for our KNN classifier.\n",
        "y_pred = knn.predict(X_test)\n",
        "accuracy = accuracy_score(y_test,y_pred)\n",
        "report = classification_report(y_test, y_pred)\n",
        "cm = confusion_matrix(y_test, y_pred)\n",
        "\n",
        "print(\"Accuracy: \", accuracy)\n",
        "print(\"Classification report:\")\n",
        "print(report)\n",
        "print(\"Confusion matrix:\")\n",
        "print(cm)"
      ],
      "execution_count": null,
      "outputs": [
        {
          "output_type": "stream",
          "text": [
            "Accuracy:  0.9727272727272728\n",
            "Classification report:\n",
            "              precision    recall  f1-score   support\n",
            "\n",
            "           0       1.00      0.95      0.97      1334\n",
            "           1       0.95      1.00      0.97      1306\n",
            "\n",
            "    accuracy                           0.97      2640\n",
            "   macro avg       0.97      0.97      0.97      2640\n",
            "weighted avg       0.97      0.97      0.97      2640\n",
            "\n",
            "Confusion matrix:\n",
            "[[1263   71]\n",
            " [   1 1305]]\n"
          ],
          "name": "stdout"
        }
      ]
    },
    {
      "cell_type": "markdown",
      "metadata": {
        "id": "YlwoZlOlBx0f"
      },
      "source": [
        "Model performance for KNN classifier is moderate with a classification report just under the top performing models of 94%. It also demonstrates a fast runtime, and more consistent cross-validation scoring when compared to the previous model without feature selection. SelectKBest in this case was able to improve the cross-validation scoring performance and improve the runtime dramatically, but the classification report performance stayed the same."
      ]
    },
    {
      "cell_type": "markdown",
      "metadata": {
        "id": "4AsGWFs_Bx0f"
      },
      "source": [
        "### Decision Tree Classifier"
      ]
    },
    {
      "cell_type": "code",
      "metadata": {
        "colab": {
          "base_uri": "https://localhost:8080/"
        },
        "id": "FHmjyYSrBx0f",
        "outputId": "34ae5082-aa94-42e3-885b-44b57081e179"
      },
      "source": [
        "# Creating initial tree for GridSearchCV to run.\n",
        "decision_tree = tree.DecisionTreeClassifier()\n",
        "\n",
        "# We are looking at a few parameters to see what works best with our model.\n",
        "tree_para = {'criterion':['gini','entropy'],\n",
        "             'max_depth':[10,50,250,500],\n",
        "             'max_features':[10,25,51]}\n",
        "clf = GridSearchCV(decision_tree, tree_para, cv=5)\n",
        "clf.fit(X_train, y_train)"
      ],
      "execution_count": null,
      "outputs": [
        {
          "output_type": "execute_result",
          "data": {
            "text/plain": [
              "GridSearchCV(cv=5, error_score=nan,\n",
              "             estimator=DecisionTreeClassifier(ccp_alpha=0.0, class_weight=None,\n",
              "                                              criterion='gini', max_depth=None,\n",
              "                                              max_features=None,\n",
              "                                              max_leaf_nodes=None,\n",
              "                                              min_impurity_decrease=0.0,\n",
              "                                              min_impurity_split=None,\n",
              "                                              min_samples_leaf=1,\n",
              "                                              min_samples_split=2,\n",
              "                                              min_weight_fraction_leaf=0.0,\n",
              "                                              presort='deprecated',\n",
              "                                              random_state=None,\n",
              "                                              splitter='best'),\n",
              "             iid='deprecated', n_jobs=None,\n",
              "             param_grid={'criterion': ['gini', 'entropy'],\n",
              "                         'max_depth': [10, 50, 250, 500],\n",
              "                         'max_features': [10, 25, 51]},\n",
              "             pre_dispatch='2*n_jobs', refit=True, return_train_score=False,\n",
              "             scoring=None, verbose=0)"
            ]
          },
          "metadata": {
            "tags": []
          },
          "execution_count": 80
        }
      ]
    },
    {
      "cell_type": "code",
      "metadata": {
        "colab": {
          "base_uri": "https://localhost:8080/"
        },
        "id": "wKtjWHurBx0f",
        "outputId": "ab21d0c5-334d-4a9b-d6ad-ffe1a9196d99"
      },
      "source": [
        "# Calling best_params_ to find best parameters from GridSearchCV.\n",
        "clf.best_params_"
      ],
      "execution_count": null,
      "outputs": [
        {
          "output_type": "execute_result",
          "data": {
            "text/plain": [
              "{'criterion': 'entropy', 'max_depth': 500, 'max_features': 10}"
            ]
          },
          "metadata": {
            "tags": []
          },
          "execution_count": 75
        }
      ]
    },
    {
      "cell_type": "code",
      "metadata": {
        "colab": {
          "base_uri": "https://localhost:8080/"
        },
        "id": "uoUXfXSFBx0f",
        "outputId": "29eaf763-fc3e-44c8-daaa-5ef9769928fe"
      },
      "source": [
        "# Timing our model.\n",
        "start_time = time.time()\n",
        "\n",
        "# Initialize and train our tree using best parameters from GridSearchCV.\n",
        "decision_tree = tree.DecisionTreeClassifier(\n",
        "    criterion='entropy',\n",
        "    max_depth=500,\n",
        "    max_features=10,\n",
        ")\n",
        "decision_tree.fit(X_train, y_train)\n",
        "\n",
        "# Print model runtime. \n",
        "print(\"--- %s seconds ---\" % round(time.time() - start_time, 3))"
      ],
      "execution_count": null,
      "outputs": [
        {
          "output_type": "stream",
          "text": [
            "--- 0.352 seconds ---\n"
          ],
          "name": "stdout"
        }
      ]
    },
    {
      "cell_type": "code",
      "metadata": {
        "colab": {
          "base_uri": "https://localhost:8080/"
        },
        "id": "ZCcCQA5FBx0g",
        "outputId": "e403c7a1-4d7c-48fc-cf05-34ad9f2f3775"
      },
      "source": [
        "cross_val_score(decision_tree, X_train, y_train, cv=10)"
      ],
      "execution_count": null,
      "outputs": [
        {
          "output_type": "execute_result",
          "data": {
            "text/plain": [
              "array([0.92329545, 0.92424242, 0.94981061, 0.93371212, 0.9375    ,\n",
              "       0.91761364, 0.93087121, 0.93655303, 0.93838863, 0.94976303])"
            ]
          },
          "metadata": {
            "tags": []
          },
          "execution_count": 82
        }
      ]
    },
    {
      "cell_type": "code",
      "metadata": {
        "colab": {
          "base_uri": "https://localhost:8080/"
        },
        "id": "p10rGIM9Bx0g",
        "outputId": "77a7bad4-f648-4642-fa2b-f71c21008815"
      },
      "source": [
        "# Print accuracy score, confusion matrix, and classification report metrics for our Decision Tree.\n",
        "y_pred = decision_tree.predict(X_test)\n",
        "dt_accuracy = accuracy_score(y_test,y_pred)\n",
        "decision_tree_report = classification_report(y_test, y_pred)\n",
        "cm = confusion_matrix(y_test, y_pred)\n",
        "\n",
        "print(\"Accuracy: \", dt_accuracy)\n",
        "print(\"Classification report:\")\n",
        "print(decision_tree_report)\n",
        "print(\"Confusion matrix:\")\n",
        "print(cm)"
      ],
      "execution_count": null,
      "outputs": [
        {
          "output_type": "stream",
          "text": [
            "Accuracy:  0.9409090909090909\n",
            "Classification report:\n",
            "              precision    recall  f1-score   support\n",
            "\n",
            "           0       0.95      0.93      0.94      1334\n",
            "           1       0.93      0.95      0.94      1306\n",
            "\n",
            "    accuracy                           0.94      2640\n",
            "   macro avg       0.94      0.94      0.94      2640\n",
            "weighted avg       0.94      0.94      0.94      2640\n",
            "\n",
            "Confusion matrix:\n",
            "[[1238   96]\n",
            " [  60 1246]]\n"
          ],
          "name": "stdout"
        }
      ]
    },
    {
      "cell_type": "markdown",
      "metadata": {
        "id": "QOQSY8ewBx0g"
      },
      "source": [
        "In this case our Decision Tree model is performing very well with excellent runtimes, consistent cross-validation scoring, and a classification report that is not showing any signs of overfitting. There is some reduction in performance due to data lost during feature selection."
      ]
    },
    {
      "cell_type": "markdown",
      "metadata": {
        "id": "z26V5TMYBx0g"
      },
      "source": [
        "### RandomForest Classifier"
      ]
    },
    {
      "cell_type": "code",
      "metadata": {
        "colab": {
          "background_save": true
        },
        "id": "MaUcfS0UBx0g",
        "outputId": "acf78863-4fe5-4c55-e321-16d6ed653a66"
      },
      "source": [
        "# Creating a Random Forest Classifier to use with GridSearchCV.\n",
        "rfc = ensemble.RandomForestClassifier()\n",
        "\n",
        "# Creating a parameter grid to find best combination of hyperparameters. \n",
        "param_grid = { \n",
        "    'n_estimators': [10,100,500],\n",
        "    'max_features': ['auto', 'sqrt', 'log2'],\n",
        "    'max_depth' : [10,20,30,40,51],\n",
        "    'criterion' :['gini', 'entropy']\n",
        "}\n",
        "\n",
        "# Using GridSearchCV to find best hyperparamater combination.\n",
        "CV_rfc = GridSearchCV(estimator=rfc, param_grid=param_grid, cv= 5)\n",
        "\n",
        "# Fitting GridSearchCV to our newly decomposed data.\n",
        "CV_rfc.fit(X_train, y_train)"
      ],
      "execution_count": null,
      "outputs": [
        {
          "output_type": "execute_result",
          "data": {
            "text/plain": [
              "GridSearchCV(cv=5, error_score=nan,\n",
              "             estimator=RandomForestClassifier(bootstrap=True, ccp_alpha=0.0,\n",
              "                                              class_weight=None,\n",
              "                                              criterion='gini', max_depth=None,\n",
              "                                              max_features='auto',\n",
              "                                              max_leaf_nodes=None,\n",
              "                                              max_samples=None,\n",
              "                                              min_impurity_decrease=0.0,\n",
              "                                              min_impurity_split=None,\n",
              "                                              min_samples_leaf=1,\n",
              "                                              min_samples_split=2,\n",
              "                                              min_weight_fraction_leaf=0.0,\n",
              "                                              n_estimators=100, n_jobs=None,\n",
              "                                              oob_score=False,\n",
              "                                              random_state=None, verbose=0,\n",
              "                                              warm_start=False),\n",
              "             iid='deprecated', n_jobs=None,\n",
              "             param_grid={'criterion': ['gini', 'entropy'],\n",
              "                         'max_depth': [10, 20, 30, 40, 51],\n",
              "                         'max_features': ['auto', 'sqrt', 'log2'],\n",
              "                         'n_estimators': [10, 100, 500]},\n",
              "             pre_dispatch='2*n_jobs', refit=True, return_train_score=False,\n",
              "             scoring=None, verbose=0)"
            ]
          },
          "metadata": {
            "tags": []
          },
          "execution_count": 0
        }
      ]
    },
    {
      "cell_type": "code",
      "metadata": {
        "colab": {
          "background_save": true
        },
        "id": "ghxxBIrvBx0h",
        "outputId": "7ee59429-8d94-42c5-ed4f-7008337a06c1"
      },
      "source": [
        "# Calling best_params_ to find best parameters from GridSearchCV.\n",
        "CV_rfc.best_params_"
      ],
      "execution_count": null,
      "outputs": [
        {
          "output_type": "execute_result",
          "data": {
            "text/plain": [
              "{'criterion': 'gini',\n",
              " 'max_depth': 40,\n",
              " 'max_features': 'log2',\n",
              " 'n_estimators': 500}"
            ]
          },
          "metadata": {
            "tags": []
          },
          "execution_count": 0
        }
      ]
    },
    {
      "cell_type": "markdown",
      "metadata": {
        "id": "OqlBkOciBx0h"
      },
      "source": [
        "Now that we have the most optimized hyperparameters from GridSearchCV we can use these to build our model and score the performance."
      ]
    },
    {
      "cell_type": "code",
      "metadata": {
        "colab": {
          "base_uri": "https://localhost:8080/"
        },
        "id": "hAgLnnvPBx0h",
        "outputId": "3ba0c9cd-3463-41f1-981f-77393cfc9ac0"
      },
      "source": [
        "# Timing our model.\n",
        "start_time = time.time()\n",
        "\n",
        "# Creating our model using optimized hyperparameters from GridSearchCV.\n",
        "rfc = ensemble.RandomForestClassifier(criterion='gini', \n",
        "                                      max_depth=40,\n",
        "                                      max_features='log2',\n",
        "                                      n_estimators=500, random_state=42)\n",
        "\n",
        "# Fit our newly decomposed data to our model.\n",
        "rfc.fit(X_train, y_train)\n",
        "\n",
        "# Print model time. \n",
        "print(\"--- %s seconds ---\" % round(time.time() - start_time, 3))"
      ],
      "execution_count": null,
      "outputs": [
        {
          "output_type": "stream",
          "text": [
            "--- 27.558 seconds ---\n"
          ],
          "name": "stdout"
        }
      ]
    },
    {
      "cell_type": "markdown",
      "metadata": {
        "id": "q-ZaG182Bx0h"
      },
      "source": [
        "Model runtime is much longer in comparison to our Decision Tree model. This is due to the Random Forest modeling being more computationally intensive as it has to generate a multitude of Decision Trees instead of just one."
      ]
    },
    {
      "cell_type": "code",
      "metadata": {
        "colab": {
          "base_uri": "https://localhost:8080/"
        },
        "id": "cz3xyLKpBx0i",
        "outputId": "a08ad894-af0a-423d-86f0-6ac6a9b3ba27"
      },
      "source": [
        "# Cross-valdiation score for our Random Forest Classifier.\n",
        "cross_val_score(rfc, X_train, y_train, cv=10)"
      ],
      "execution_count": null,
      "outputs": [
        {
          "output_type": "execute_result",
          "data": {
            "text/plain": [
              "array([0.98390152, 0.97916667, 0.98200758, 0.98011364, 0.97632576,\n",
              "       0.97916667, 0.97443182, 0.98484848, 0.97725118, 0.98293839])"
            ]
          },
          "metadata": {
            "tags": []
          },
          "execution_count": 45
        }
      ]
    },
    {
      "cell_type": "markdown",
      "metadata": {
        "id": "N-_jYv6sBx0i"
      },
      "source": [
        "The cross-validation scoring is very consistent and shows that our model is performing well on the training set when split into ten cross-validation cycles. This model will be able to handle incoming new data well accorind to this scoring report."
      ]
    },
    {
      "cell_type": "code",
      "metadata": {
        "colab": {
          "base_uri": "https://localhost:8080/"
        },
        "id": "P5f0icHhBx0i",
        "outputId": "cf57bdad-7a81-44cc-f6f6-79d7162dcf37"
      },
      "source": [
        "# Print classification report for Random Forest Classifier.\n",
        "y_pred = rfc.predict(X_test) \n",
        "rfc_accuracy = accuracy_score(y_test,y_pred)\n",
        "rfc_report = classification_report(y_test, y_pred)\n",
        "rfc_cm = confusion_matrix(y_test, y_pred)\n",
        "\n",
        "print(\"Classification report:\")\n",
        "print(\"Accuracy: \", rfc_accuracy)\n",
        "print(rfc_report)\n",
        "print(\"Confusion matrix:\")\n",
        "print(rfc_cm)"
      ],
      "execution_count": null,
      "outputs": [
        {
          "output_type": "stream",
          "text": [
            "Classification report:\n",
            "Accuracy:  0.9829545454545454\n",
            "              precision    recall  f1-score   support\n",
            "\n",
            "           0       1.00      0.97      0.98      1334\n",
            "           1       0.97      1.00      0.98      1306\n",
            "\n",
            "    accuracy                           0.98      2640\n",
            "   macro avg       0.98      0.98      0.98      2640\n",
            "weighted avg       0.98      0.98      0.98      2640\n",
            "\n",
            "Confusion matrix:\n",
            "[[1295   39]\n",
            " [   6 1300]]\n"
          ],
          "name": "stdout"
        }
      ]
    },
    {
      "cell_type": "markdown",
      "metadata": {
        "id": "2bvu8aapBx0i"
      },
      "source": [
        "Great, we have boosted model performance in comparison to our Decision Tree model with an overall boost in weighted average scoring and accuracy scoring of about 4%. Model runtime has increased but this is manageable and worth the result."
      ]
    },
    {
      "cell_type": "markdown",
      "metadata": {
        "id": "kyEE066AcPUd"
      },
      "source": [
        "## XGBoost Classifer"
      ]
    },
    {
      "cell_type": "markdown",
      "metadata": {
        "id": "rC3GCZ7BcPUe"
      },
      "source": [
        "XGBoost stands for \"Extreme Gradient Boosting\" and is one of the newer supervised machine learning models which has seen a surge in popularity. This is due to XGBoost usually performing very well on complex datasets such as the financial data at hand.\n",
        "\n",
        "XGBoost uses an ensemble of decision trees and a regularization term to create models that perform well in the wild. The regularization is one part most tree packages treat less carefully, or simply ignore, which is what makes XGBoost unique.\n",
        "\n",
        "XGBoost, like Decision Tree and Random Forest models, are highly dependent on the hyperparameters specified when building the model. We will first build a model without hyperparameter tuning to see what results we get and then implement a RandomizedSearchCV function to find the best combination of parameters."
      ]
    },
    {
      "cell_type": "code",
      "metadata": {
        "colab": {
          "base_uri": "https://localhost:8080/"
        },
        "id": "GDqQa2FqcPUe",
        "outputId": "0913f41b-0878-4a0c-b91c-bde43b90e9fa"
      },
      "source": [
        "# Building XGBoost classifier.\n",
        "clf = xgb.XGBClassifier()\n",
        "\n",
        "# Timing our model.\n",
        "start_time = time.time()\n",
        "\n",
        "# Creating our XGBoost model.\n",
        "clf = xgb.XGBClassifier()\n",
        "\n",
        "# Fit our newly decomposed data to our model.\n",
        "clf.fit(X_train, y_train)\n",
        "\n",
        "# Print model time. \n",
        "print(\"--- %s seconds ---\" % round(time.time() - start_time, 3))"
      ],
      "execution_count": null,
      "outputs": [
        {
          "output_type": "stream",
          "text": [
            "--- 3.827 seconds ---\n"
          ],
          "name": "stdout"
        }
      ]
    },
    {
      "cell_type": "code",
      "metadata": {
        "colab": {
          "base_uri": "https://localhost:8080/"
        },
        "id": "ooO1AOoO31Pc",
        "outputId": "b72426d7-0911-44e4-8859-71b11bc4edd2"
      },
      "source": [
        "# Cross-valdiation score for our XGBoost Classifier.\n",
        "cross_val_score(clf, X_train, y_train, cv=10)"
      ],
      "execution_count": null,
      "outputs": [
        {
          "output_type": "execute_result",
          "data": {
            "text/plain": [
              "array([0.95359848, 0.94318182, 0.95170455, 0.95454545, 0.94223485,\n",
              "       0.94318182, 0.93560606, 0.9469697 , 0.93459716, 0.9535545 ])"
            ]
          },
          "metadata": {
            "tags": []
          },
          "execution_count": 161
        }
      ]
    },
    {
      "cell_type": "code",
      "metadata": {
        "colab": {
          "base_uri": "https://localhost:8080/"
        },
        "id": "sq6NHwt_cPUe",
        "outputId": "12897b40-4cc5-45ac-b537-730c37d5b2b4"
      },
      "source": [
        "# Print classification report for our XGBoost classifier.\n",
        "y_pred = clf.predict(X_test)\n",
        "accuracy = accuracy_score(y_test,y_pred)\n",
        "report = classification_report(y_test, y_pred)\n",
        "cm = confusion_matrix(y_test, y_pred)\n",
        "\n",
        "print(\"Accuracy: \", accuracy)\n",
        "print(\"Classification report:\")\n",
        "print(report)\n",
        "print(\"Confusion matrix:\")\n",
        "print(cm)"
      ],
      "execution_count": null,
      "outputs": [
        {
          "output_type": "stream",
          "text": [
            "Accuracy:  0.946969696969697\n",
            "Classification report:\n",
            "              precision    recall  f1-score   support\n",
            "\n",
            "           0       0.98      0.91      0.95      1334\n",
            "           1       0.92      0.98      0.95      1306\n",
            "\n",
            "    accuracy                           0.95      2640\n",
            "   macro avg       0.95      0.95      0.95      2640\n",
            "weighted avg       0.95      0.95      0.95      2640\n",
            "\n",
            "Confusion matrix:\n",
            "[[1215  119]\n",
            " [  21 1285]]\n"
          ],
          "name": "stdout"
        }
      ]
    },
    {
      "cell_type": "markdown",
      "metadata": {
        "id": "vIs2xChZcPUf"
      },
      "source": [
        "### XGBoost with RandomizedSearchCV"
      ]
    },
    {
      "cell_type": "code",
      "metadata": {
        "id": "t9x7lKDgcPUf",
        "colab": {
          "base_uri": "https://localhost:8080/"
        },
        "outputId": "d41dacf5-152f-4a15-d066-2ba73fe91bcc"
      },
      "source": [
        "# Create parameter grid for RandomizedSearchCV.\n",
        "parameters = {'n_estimators':[250,500,1000],\n",
        "              'max_depth':[10,25,51],\n",
        "              'learning_rate':[0.01,0.1],\n",
        "              'subsample':[0.5,1],\n",
        "              'colsample_bytree':[1,0.5],\n",
        "              'gamma':[0.5,1],\n",
        "              'min_child_weight':[1,2]\n",
        "              }\n",
        "\n",
        "# Create decision tree classifier with RandomizedSearchCV.\n",
        "CV_clf = RandomizedSearchCV(clf, parameters, random_state=0)\n",
        "\n",
        "# Fitting decision tree classifier to training data.\n",
        "CV_clf.fit(X_train, y_train)"
      ],
      "execution_count": null,
      "outputs": [
        {
          "output_type": "execute_result",
          "data": {
            "text/plain": [
              "RandomizedSearchCV(cv=None, error_score=nan,\n",
              "                   estimator=XGBClassifier(base_score=0.5, booster='gbtree',\n",
              "                                           colsample_bylevel=1,\n",
              "                                           colsample_bynode=1,\n",
              "                                           colsample_bytree=1, gamma=0,\n",
              "                                           learning_rate=0.1, max_delta_step=0,\n",
              "                                           max_depth=3, min_child_weight=1,\n",
              "                                           missing=None, n_estimators=100,\n",
              "                                           n_jobs=1, nthread=None,\n",
              "                                           objective='binary:logistic',\n",
              "                                           random_state=0, reg_alpha=0,\n",
              "                                           reg_lambda=1...\n",
              "                                           seed=None, silent=None, subsample=1,\n",
              "                                           verbosity=1),\n",
              "                   iid='deprecated', n_iter=10, n_jobs=None,\n",
              "                   param_distributions={'colsample_bytree': [1, 0.5],\n",
              "                                        'gamma': [0.5, 1],\n",
              "                                        'learning_rate': [0.01, 0.1],\n",
              "                                        'max_depth': [10, 25, 51],\n",
              "                                        'min_child_weight': [1, 2],\n",
              "                                        'n_estimators': [250, 500, 1000],\n",
              "                                        'subsample': [0.5, 1]},\n",
              "                   pre_dispatch='2*n_jobs', random_state=0, refit=True,\n",
              "                   return_train_score=False, scoring=None, verbose=0)"
            ]
          },
          "metadata": {
            "tags": []
          },
          "execution_count": 164
        }
      ]
    },
    {
      "cell_type": "code",
      "metadata": {
        "id": "dSKktG7ucPUf",
        "colab": {
          "base_uri": "https://localhost:8080/"
        },
        "outputId": "c5f1d618-a8da-4786-8279-00d82806ada4"
      },
      "source": [
        "# Calling .best_params_ to pull best parameters from RandomizedSearchCV.\n",
        "CV_clf.best_params_"
      ],
      "execution_count": null,
      "outputs": [
        {
          "output_type": "execute_result",
          "data": {
            "text/plain": [
              "{'colsample_bytree': 0.5,\n",
              " 'gamma': 0.5,\n",
              " 'learning_rate': 0.1,\n",
              " 'max_depth': 51,\n",
              " 'min_child_weight': 1,\n",
              " 'n_estimators': 1000,\n",
              " 'subsample': 0.5}"
            ]
          },
          "metadata": {
            "tags": []
          },
          "execution_count": 165
        }
      ]
    },
    {
      "cell_type": "code",
      "metadata": {
        "colab": {
          "base_uri": "https://localhost:8080/"
        },
        "id": "uWizN6N-5M3_",
        "outputId": "58d82879-05cc-447c-e3b3-0495ea32157c"
      },
      "source": [
        "# Timing our model.\n",
        "start_time = time.time()\n",
        "\n",
        "# Building XGBoost classifier.\n",
        "clf = xgb.XGBClassifier(\n",
        "    colsample_bytree=0.5,\n",
        "    gamma=0.5,\n",
        "    learning_rate=0.1,\n",
        "    max_depth=51,\n",
        "    min_child_weight=1,\n",
        "    n_estimators=1000,\n",
        "    subsample=0.5,)\n",
        "\n",
        "# Fit our newly decomposed data to our model.\n",
        "clf.fit(X_train, y_train)\n",
        "\n",
        "# Print model time. \n",
        "print(\"--- %s seconds ---\" % round(time.time() - start_time, 3))"
      ],
      "execution_count": null,
      "outputs": [
        {
          "output_type": "stream",
          "text": [
            "--- 38.15 seconds ---\n"
          ],
          "name": "stdout"
        }
      ]
    },
    {
      "cell_type": "code",
      "metadata": {
        "colab": {
          "base_uri": "https://localhost:8080/"
        },
        "id": "Rt0MNGLa3zin",
        "outputId": "7a2cd91e-26ea-41af-98a0-0ea8bee03197"
      },
      "source": [
        "# Cross-valdiation score for our XGBoost Classifier.\n",
        "cross_val_score(clf, X_train, y_train, cv=10)"
      ],
      "execution_count": null,
      "outputs": [
        {
          "output_type": "execute_result",
          "data": {
            "text/plain": [
              "array([0.98674242, 0.97727273, 0.97727273, 0.98484848, 0.97348485,\n",
              "       0.97916667, 0.97159091, 0.9782197 , 0.98104265, 0.98578199])"
            ]
          },
          "metadata": {
            "tags": []
          },
          "execution_count": 167
        }
      ]
    },
    {
      "cell_type": "code",
      "metadata": {
        "colab": {
          "base_uri": "https://localhost:8080/"
        },
        "id": "45Q09AiNcteA",
        "outputId": "371ae834-02f4-40dc-d9b8-83d093ebffc0"
      },
      "source": [
        "# Print classification report for our XGBoost classifier.\n",
        "y_pred = clf.predict(X_test)\n",
        "accuracy = accuracy_score(y_test,y_pred)\n",
        "report = classification_report(y_test, y_pred)\n",
        "cm = confusion_matrix(y_test, y_pred)\n",
        "\n",
        "print(\"Accuracy: \", accuracy)\n",
        "print(\"Classification report:\")\n",
        "print(report)\n",
        "print(\"Confusion matrix:\")\n",
        "print(cm)"
      ],
      "execution_count": null,
      "outputs": [
        {
          "output_type": "stream",
          "text": [
            "Accuracy:  0.9848484848484849\n",
            "Classification report:\n",
            "              precision    recall  f1-score   support\n",
            "\n",
            "           0       1.00      0.97      0.98      1334\n",
            "           1       0.97      1.00      0.98      1306\n",
            "\n",
            "    accuracy                           0.98      2640\n",
            "   macro avg       0.99      0.98      0.98      2640\n",
            "weighted avg       0.99      0.98      0.98      2640\n",
            "\n",
            "Confusion matrix:\n",
            "[[1297   37]\n",
            " [   3 1303]]\n"
          ],
          "name": "stdout"
        }
      ]
    },
    {
      "cell_type": "markdown",
      "metadata": {
        "id": "X_wVfZRiBp4H"
      },
      "source": [
        "# Conclusion"
      ]
    },
    {
      "cell_type": "markdown",
      "metadata": {
        "id": "L48HIYT3BseE"
      },
      "source": [
        "In conclusion I was able to create an accurate and inexpensive model that performed with 99% accuracy using XGBoost, showing the importance of adopting new technologies and new modeling capabilities to tackle real world business and financial problems like bankruptcy prediction.\n",
        "\n",
        "While our random forest also saw similar success, it was not able to reach the levels of performance that XGBoost gave us on the feature selected datasets and non-selected dataset. XGBoost had little reduction in performance in comparison to other models when feature selection was done on the input variables. It allowed us to save about 5 seconds of runtime but at the loss of about.02% accuracy, but in comparison to our other models performance it preserved the predictive capabilites very well when dealing with lost or transformed data.\n",
        "\n",
        "The XGBoost model performed exceptionally well with a consistent cross-validation scoring, meaning the model should be able to handle incoming new data well and perform within the same range in the wild. Without feature selection we had the most predictive capabilites but at the longest run time. With this business use case it makes most sense to not worry about minute runtimes such as 40 seconds. That is not a long time at all to run the model and detect companies at risk of bankruptcy within nearly 99% accuracy and will save a lot of money in the long run with such a high degree of predictive accuracy. As the model continues to evolve and collect more data in production we should expect to see predictive capabilities increase as well. "
      ]
    },
    {
      "cell_type": "markdown",
      "metadata": {
        "id": "Rm5SzHWEQfZb"
      },
      "source": [
        "# Sources\n",
        "\n",
        "Qu, Y., Quan, P., Lei, M., &amp; Shi, Y. (2019). Review of bankruptcy prediction using machine learning and deep learning techniques. Procedia Computer Science, 62, 895-899.\n",
        "\n",
        "Nanni L, Lumini A. An experimental comparison of ensemble of classifiers for bankruptcy prediction and credit scoring[J]. Expert\n",
        "systems with applications, 2009, 36(2): 3028-3033."
      ]
    },
    {
      "cell_type": "markdown",
      "metadata": {
        "id": "zii4qWn7cXKY"
      },
      "source": [
        "Link to dataset: https://www.kaggle.com/fedesoriano/company-bankruptcy-prediction"
      ]
    }
  ]
}